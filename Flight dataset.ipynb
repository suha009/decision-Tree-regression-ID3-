{
 "cells": [
  {
   "cell_type": "markdown",
   "id": "0d5827ed",
   "metadata": {},
   "source": [
    "# Importing Libraries"
   ]
  },
  {
   "cell_type": "code",
   "execution_count": 1,
   "id": "c2c9910f",
   "metadata": {},
   "outputs": [],
   "source": [
    "import numpy as np # linear algebra\n",
    "import pandas as pd # data processing, CSV file I/O (e.g. pd.read_csv)\n",
    "import warnings\n",
    "warnings.filterwarnings(\"ignore\")\n",
    "import time, datetime\n",
    "import seaborn as sns\n",
    "import matplotlib.pyplot as plt\n",
    "import plotly.express as px\n",
    "import time, datetime"
   ]
  },
  {
   "cell_type": "markdown",
   "id": "beeece2d",
   "metadata": {},
   "source": [
    "# 1. Problem Statement"
   ]
  },
  {
   "cell_type": "markdown",
   "id": "5c2bb497",
   "metadata": {},
   "source": [
    "**Client had a problem in predicting the price of ticket for a flight**"
   ]
  },
  {
   "cell_type": "markdown",
   "id": "ac163646",
   "metadata": {},
   "source": [
    "# 2. Data Gathering and validation"
   ]
  },
  {
   "cell_type": "markdown",
   "id": "22881625",
   "metadata": {},
   "source": [
    "The objective of the case study is to analyse the flight booking dataset obtained from “Ease My Trip” website and to conduct various statistical hypothesis tests in order to get meaningful information from it. 'Easemytrip' is an internet platform for booking flight tickets. A thorough study of the data will aid in the discovery of valuable insights that will be of enormous value to passengers. Overall, I have to build a model that can precisely predict the ticket price."
   ]
  },
  {
   "cell_type": "markdown",
   "id": "0e14a082",
   "metadata": {},
   "source": [
    "###### Brain Storming\n",
    "*By getting problem of the client, i have some questions in my mind, which are follow*\n",
    "\n",
    "*a) Does price vary with Airlines?*\n",
    "\n",
    "*b) How is the price affected when tickets are bought in just 1 or 2 days before departure?*\n",
    "\n",
    "*c) Does ticket price change based on the departure time and arrival time?*\n",
    "\n",
    "*d) How the price changes with change in Source and Destination?*\n",
    "\n",
    "*e) How does the ticket price vary between Economy and Business class?, etc*"
   ]
  },
  {
   "cell_type": "markdown",
   "id": "fbd55270",
   "metadata": {},
   "source": [
    "###### Data is seperated in to two parts:\n",
    "*one for **economy class** tickets and another for **business class** tickets.*\n",
    "\n",
    "*A total of 300261 distinct flight booking options are available. And these are for 50 days, from February 11th to March 31st, 2022.*"
   ]
  },
  {
   "cell_type": "markdown",
   "id": "83f95409",
   "metadata": {},
   "source": [
    "### Loading the files in data frames"
   ]
  },
  {
   "cell_type": "code",
   "execution_count": 2,
   "id": "57b7bbba",
   "metadata": {},
   "outputs": [
    {
     "data": {
      "text/html": [
       "<div>\n",
       "<style scoped>\n",
       "    .dataframe tbody tr th:only-of-type {\n",
       "        vertical-align: middle;\n",
       "    }\n",
       "\n",
       "    .dataframe tbody tr th {\n",
       "        vertical-align: top;\n",
       "    }\n",
       "\n",
       "    .dataframe thead th {\n",
       "        text-align: right;\n",
       "    }\n",
       "</style>\n",
       "<table border=\"1\" class=\"dataframe\">\n",
       "  <thead>\n",
       "    <tr style=\"text-align: right;\">\n",
       "      <th></th>\n",
       "      <th>date</th>\n",
       "      <th>airline</th>\n",
       "      <th>ch_code</th>\n",
       "      <th>num_code</th>\n",
       "      <th>dep_time</th>\n",
       "      <th>from</th>\n",
       "      <th>time_taken</th>\n",
       "      <th>stop</th>\n",
       "      <th>arr_time</th>\n",
       "      <th>to</th>\n",
       "      <th>price</th>\n",
       "    </tr>\n",
       "  </thead>\n",
       "  <tbody>\n",
       "    <tr>\n",
       "      <th>0</th>\n",
       "      <td>11-02-2022</td>\n",
       "      <td>Air India</td>\n",
       "      <td>AI</td>\n",
       "      <td>868</td>\n",
       "      <td>18:00</td>\n",
       "      <td>Delhi</td>\n",
       "      <td>02h 00m</td>\n",
       "      <td>non-stop</td>\n",
       "      <td>20:00</td>\n",
       "      <td>Mumbai</td>\n",
       "      <td>25,612</td>\n",
       "    </tr>\n",
       "    <tr>\n",
       "      <th>1</th>\n",
       "      <td>11-02-2022</td>\n",
       "      <td>Air India</td>\n",
       "      <td>AI</td>\n",
       "      <td>624</td>\n",
       "      <td>19:00</td>\n",
       "      <td>Delhi</td>\n",
       "      <td>02h 15m</td>\n",
       "      <td>non-stop</td>\n",
       "      <td>21:15</td>\n",
       "      <td>Mumbai</td>\n",
       "      <td>25,612</td>\n",
       "    </tr>\n",
       "    <tr>\n",
       "      <th>2</th>\n",
       "      <td>11-02-2022</td>\n",
       "      <td>Air India</td>\n",
       "      <td>AI</td>\n",
       "      <td>531</td>\n",
       "      <td>20:00</td>\n",
       "      <td>Delhi</td>\n",
       "      <td>24h 45m</td>\n",
       "      <td>1-stop\\n\\t\\t\\t\\t\\t\\t\\t\\t\\t\\t\\t\\t\\n\\t\\t\\t\\t\\t\\t...</td>\n",
       "      <td>20:45</td>\n",
       "      <td>Mumbai</td>\n",
       "      <td>42,220</td>\n",
       "    </tr>\n",
       "    <tr>\n",
       "      <th>3</th>\n",
       "      <td>11-02-2022</td>\n",
       "      <td>Air India</td>\n",
       "      <td>AI</td>\n",
       "      <td>839</td>\n",
       "      <td>21:25</td>\n",
       "      <td>Delhi</td>\n",
       "      <td>26h 30m</td>\n",
       "      <td>1-stop\\n\\t\\t\\t\\t\\t\\t\\t\\t\\t\\t\\t\\t\\n\\t\\t\\t\\t\\t\\t...</td>\n",
       "      <td>23:55</td>\n",
       "      <td>Mumbai</td>\n",
       "      <td>44,450</td>\n",
       "    </tr>\n",
       "    <tr>\n",
       "      <th>4</th>\n",
       "      <td>11-02-2022</td>\n",
       "      <td>Air India</td>\n",
       "      <td>AI</td>\n",
       "      <td>544</td>\n",
       "      <td>17:15</td>\n",
       "      <td>Delhi</td>\n",
       "      <td>06h 40m</td>\n",
       "      <td>1-stop\\n\\t\\t\\t\\t\\t\\t\\t\\t\\t\\t\\t\\t\\n\\t\\t\\t\\t\\t\\t...</td>\n",
       "      <td>23:55</td>\n",
       "      <td>Mumbai</td>\n",
       "      <td>46,690</td>\n",
       "    </tr>\n",
       "  </tbody>\n",
       "</table>\n",
       "</div>"
      ],
      "text/plain": [
       "         date    airline ch_code  num_code dep_time   from time_taken  \\\n",
       "0  11-02-2022  Air India      AI       868    18:00  Delhi    02h 00m   \n",
       "1  11-02-2022  Air India      AI       624    19:00  Delhi    02h 15m   \n",
       "2  11-02-2022  Air India      AI       531    20:00  Delhi    24h 45m   \n",
       "3  11-02-2022  Air India      AI       839    21:25  Delhi    26h 30m   \n",
       "4  11-02-2022  Air India      AI       544    17:15  Delhi    06h 40m   \n",
       "\n",
       "                                                stop arr_time      to   price  \n",
       "0                                          non-stop     20:00  Mumbai  25,612  \n",
       "1                                          non-stop     21:15  Mumbai  25,612  \n",
       "2  1-stop\\n\\t\\t\\t\\t\\t\\t\\t\\t\\t\\t\\t\\t\\n\\t\\t\\t\\t\\t\\t...    20:45  Mumbai  42,220  \n",
       "3  1-stop\\n\\t\\t\\t\\t\\t\\t\\t\\t\\t\\t\\t\\t\\n\\t\\t\\t\\t\\t\\t...    23:55  Mumbai  44,450  \n",
       "4  1-stop\\n\\t\\t\\t\\t\\t\\t\\t\\t\\t\\t\\t\\t\\n\\t\\t\\t\\t\\t\\t...    23:55  Mumbai  46,690  "
      ]
     },
     "execution_count": 2,
     "metadata": {},
     "output_type": "execute_result"
    }
   ],
   "source": [
    "a = pd.read_csv(\"business.csv\")\n",
    "a.head(5)"
   ]
  },
  {
   "cell_type": "code",
   "execution_count": 3,
   "id": "47fb0ff3",
   "metadata": {},
   "outputs": [
    {
     "data": {
      "text/html": [
       "<div>\n",
       "<style scoped>\n",
       "    .dataframe tbody tr th:only-of-type {\n",
       "        vertical-align: middle;\n",
       "    }\n",
       "\n",
       "    .dataframe tbody tr th {\n",
       "        vertical-align: top;\n",
       "    }\n",
       "\n",
       "    .dataframe thead th {\n",
       "        text-align: right;\n",
       "    }\n",
       "</style>\n",
       "<table border=\"1\" class=\"dataframe\">\n",
       "  <thead>\n",
       "    <tr style=\"text-align: right;\">\n",
       "      <th></th>\n",
       "      <th>date</th>\n",
       "      <th>airline</th>\n",
       "      <th>ch_code</th>\n",
       "      <th>num_code</th>\n",
       "      <th>dep_time</th>\n",
       "      <th>from</th>\n",
       "      <th>time_taken</th>\n",
       "      <th>stop</th>\n",
       "      <th>arr_time</th>\n",
       "      <th>to</th>\n",
       "      <th>price</th>\n",
       "    </tr>\n",
       "  </thead>\n",
       "  <tbody>\n",
       "    <tr>\n",
       "      <th>0</th>\n",
       "      <td>11-02-2022</td>\n",
       "      <td>SpiceJet</td>\n",
       "      <td>SG</td>\n",
       "      <td>8709</td>\n",
       "      <td>18:55</td>\n",
       "      <td>Delhi</td>\n",
       "      <td>02h 10m</td>\n",
       "      <td>non-stop</td>\n",
       "      <td>21:05</td>\n",
       "      <td>Mumbai</td>\n",
       "      <td>5,953</td>\n",
       "    </tr>\n",
       "    <tr>\n",
       "      <th>1</th>\n",
       "      <td>11-02-2022</td>\n",
       "      <td>SpiceJet</td>\n",
       "      <td>SG</td>\n",
       "      <td>8157</td>\n",
       "      <td>06:20</td>\n",
       "      <td>Delhi</td>\n",
       "      <td>02h 20m</td>\n",
       "      <td>non-stop</td>\n",
       "      <td>08:40</td>\n",
       "      <td>Mumbai</td>\n",
       "      <td>5,953</td>\n",
       "    </tr>\n",
       "    <tr>\n",
       "      <th>2</th>\n",
       "      <td>11-02-2022</td>\n",
       "      <td>AirAsia</td>\n",
       "      <td>I5</td>\n",
       "      <td>764</td>\n",
       "      <td>04:25</td>\n",
       "      <td>Delhi</td>\n",
       "      <td>02h 10m</td>\n",
       "      <td>non-stop</td>\n",
       "      <td>06:35</td>\n",
       "      <td>Mumbai</td>\n",
       "      <td>5,956</td>\n",
       "    </tr>\n",
       "    <tr>\n",
       "      <th>3</th>\n",
       "      <td>11-02-2022</td>\n",
       "      <td>Vistara</td>\n",
       "      <td>UK</td>\n",
       "      <td>995</td>\n",
       "      <td>10:20</td>\n",
       "      <td>Delhi</td>\n",
       "      <td>02h 15m</td>\n",
       "      <td>non-stop</td>\n",
       "      <td>12:35</td>\n",
       "      <td>Mumbai</td>\n",
       "      <td>5,955</td>\n",
       "    </tr>\n",
       "    <tr>\n",
       "      <th>4</th>\n",
       "      <td>11-02-2022</td>\n",
       "      <td>Vistara</td>\n",
       "      <td>UK</td>\n",
       "      <td>963</td>\n",
       "      <td>08:50</td>\n",
       "      <td>Delhi</td>\n",
       "      <td>02h 20m</td>\n",
       "      <td>non-stop</td>\n",
       "      <td>11:10</td>\n",
       "      <td>Mumbai</td>\n",
       "      <td>5,955</td>\n",
       "    </tr>\n",
       "  </tbody>\n",
       "</table>\n",
       "</div>"
      ],
      "text/plain": [
       "         date   airline ch_code  num_code dep_time   from time_taken  \\\n",
       "0  11-02-2022  SpiceJet      SG      8709    18:55  Delhi    02h 10m   \n",
       "1  11-02-2022  SpiceJet      SG      8157    06:20  Delhi    02h 20m   \n",
       "2  11-02-2022   AirAsia      I5       764    04:25  Delhi    02h 10m   \n",
       "3  11-02-2022   Vistara      UK       995    10:20  Delhi    02h 15m   \n",
       "4  11-02-2022   Vistara      UK       963    08:50  Delhi    02h 20m   \n",
       "\n",
       "        stop arr_time      to  price  \n",
       "0  non-stop     21:05  Mumbai  5,953  \n",
       "1  non-stop     08:40  Mumbai  5,953  \n",
       "2  non-stop     06:35  Mumbai  5,956  \n",
       "3  non-stop     12:35  Mumbai  5,955  \n",
       "4  non-stop     11:10  Mumbai  5,955  "
      ]
     },
     "execution_count": 3,
     "metadata": {},
     "output_type": "execute_result"
    }
   ],
   "source": [
    "b = pd.read_csv(\"economy.csv\")\n",
    "b.head(5)"
   ]
  },
  {
   "cell_type": "markdown",
   "id": "4817d718",
   "metadata": {},
   "source": [
    "##### Initial Preprocessing\n",
    "*as we can see the there is highly noise in the data. So, we will do some cleaning and also drive some relevent featues from the given data*\n",
    "\n",
    "*we will drive new featue named class to specify in which class the ticket is booked*\n",
    "\n",
    "*we wil drive new featute named flight by adding ch_code and num_code of the flight*\n",
    "\n",
    "*we will drive new feature days left by subtracting the booking date from journey date*"
   ]
  },
  {
   "cell_type": "code",
   "execution_count": 4,
   "id": "6986e504",
   "metadata": {},
   "outputs": [],
   "source": [
    "#adding  the new feature named class\n",
    "a[\"class\"] = \"business\"\n",
    "b[\"class\"] = \"economy\""
   ]
  },
  {
   "cell_type": "code",
   "execution_count": 5,
   "id": "c55a8aa9",
   "metadata": {},
   "outputs": [
    {
     "data": {
      "text/html": [
       "<div>\n",
       "<style scoped>\n",
       "    .dataframe tbody tr th:only-of-type {\n",
       "        vertical-align: middle;\n",
       "    }\n",
       "\n",
       "    .dataframe tbody tr th {\n",
       "        vertical-align: top;\n",
       "    }\n",
       "\n",
       "    .dataframe thead th {\n",
       "        text-align: right;\n",
       "    }\n",
       "</style>\n",
       "<table border=\"1\" class=\"dataframe\">\n",
       "  <thead>\n",
       "    <tr style=\"text-align: right;\">\n",
       "      <th></th>\n",
       "      <th>date</th>\n",
       "      <th>airline</th>\n",
       "      <th>ch_code</th>\n",
       "      <th>num_code</th>\n",
       "      <th>dep_time</th>\n",
       "      <th>from</th>\n",
       "      <th>time_taken</th>\n",
       "      <th>stop</th>\n",
       "      <th>arr_time</th>\n",
       "      <th>to</th>\n",
       "      <th>price</th>\n",
       "      <th>class</th>\n",
       "    </tr>\n",
       "  </thead>\n",
       "  <tbody>\n",
       "    <tr>\n",
       "      <th>0</th>\n",
       "      <td>11-02-2022</td>\n",
       "      <td>SpiceJet</td>\n",
       "      <td>SG</td>\n",
       "      <td>8709</td>\n",
       "      <td>18:55</td>\n",
       "      <td>Delhi</td>\n",
       "      <td>02h 10m</td>\n",
       "      <td>non-stop</td>\n",
       "      <td>21:05</td>\n",
       "      <td>Mumbai</td>\n",
       "      <td>5,953</td>\n",
       "      <td>economy</td>\n",
       "    </tr>\n",
       "    <tr>\n",
       "      <th>1</th>\n",
       "      <td>11-02-2022</td>\n",
       "      <td>SpiceJet</td>\n",
       "      <td>SG</td>\n",
       "      <td>8157</td>\n",
       "      <td>06:20</td>\n",
       "      <td>Delhi</td>\n",
       "      <td>02h 20m</td>\n",
       "      <td>non-stop</td>\n",
       "      <td>08:40</td>\n",
       "      <td>Mumbai</td>\n",
       "      <td>5,953</td>\n",
       "      <td>economy</td>\n",
       "    </tr>\n",
       "    <tr>\n",
       "      <th>2</th>\n",
       "      <td>11-02-2022</td>\n",
       "      <td>AirAsia</td>\n",
       "      <td>I5</td>\n",
       "      <td>764</td>\n",
       "      <td>04:25</td>\n",
       "      <td>Delhi</td>\n",
       "      <td>02h 10m</td>\n",
       "      <td>non-stop</td>\n",
       "      <td>06:35</td>\n",
       "      <td>Mumbai</td>\n",
       "      <td>5,956</td>\n",
       "      <td>economy</td>\n",
       "    </tr>\n",
       "  </tbody>\n",
       "</table>\n",
       "</div>"
      ],
      "text/plain": [
       "         date   airline ch_code  num_code dep_time   from time_taken  \\\n",
       "0  11-02-2022  SpiceJet      SG      8709    18:55  Delhi    02h 10m   \n",
       "1  11-02-2022  SpiceJet      SG      8157    06:20  Delhi    02h 20m   \n",
       "2  11-02-2022   AirAsia      I5       764    04:25  Delhi    02h 10m   \n",
       "\n",
       "        stop arr_time      to  price    class  \n",
       "0  non-stop     21:05  Mumbai  5,953  economy  \n",
       "1  non-stop     08:40  Mumbai  5,953  economy  \n",
       "2  non-stop     06:35  Mumbai  5,956  economy  "
      ]
     },
     "execution_count": 5,
     "metadata": {},
     "output_type": "execute_result"
    }
   ],
   "source": [
    "# appending two data sets and storing in the new data frame\n",
    "new = b.append(a,ignore_index = True)\n",
    "new.head(3)"
   ]
  },
  {
   "cell_type": "code",
   "execution_count": 6,
   "id": "9c9e148e",
   "metadata": {},
   "outputs": [
    {
     "data": {
      "text/html": [
       "<div>\n",
       "<style scoped>\n",
       "    .dataframe tbody tr th:only-of-type {\n",
       "        vertical-align: middle;\n",
       "    }\n",
       "\n",
       "    .dataframe tbody tr th {\n",
       "        vertical-align: top;\n",
       "    }\n",
       "\n",
       "    .dataframe thead th {\n",
       "        text-align: right;\n",
       "    }\n",
       "</style>\n",
       "<table border=\"1\" class=\"dataframe\">\n",
       "  <thead>\n",
       "    <tr style=\"text-align: right;\">\n",
       "      <th></th>\n",
       "      <th>date</th>\n",
       "      <th>airline</th>\n",
       "      <th>ch_code</th>\n",
       "      <th>num_code</th>\n",
       "      <th>dep_time</th>\n",
       "      <th>from</th>\n",
       "      <th>time_taken</th>\n",
       "      <th>stop</th>\n",
       "      <th>arr_time</th>\n",
       "      <th>to</th>\n",
       "      <th>price</th>\n",
       "      <th>class</th>\n",
       "    </tr>\n",
       "  </thead>\n",
       "  <tbody>\n",
       "    <tr>\n",
       "      <th>300258</th>\n",
       "      <td>31-03-2022</td>\n",
       "      <td>Vistara</td>\n",
       "      <td>UK</td>\n",
       "      <td>832</td>\n",
       "      <td>07:05</td>\n",
       "      <td>Chennai</td>\n",
       "      <td>13h 50m</td>\n",
       "      <td>1-stop\\n\\t\\t\\t\\t\\t\\t\\t\\t\\t\\t\\t\\t\\n\\t\\t\\t\\t\\t\\t...</td>\n",
       "      <td>20:55</td>\n",
       "      <td>Hyderabad</td>\n",
       "      <td>79,099</td>\n",
       "      <td>business</td>\n",
       "    </tr>\n",
       "    <tr>\n",
       "      <th>300259</th>\n",
       "      <td>31-03-2022</td>\n",
       "      <td>Vistara</td>\n",
       "      <td>UK</td>\n",
       "      <td>828</td>\n",
       "      <td>07:00</td>\n",
       "      <td>Chennai</td>\n",
       "      <td>10h 00m</td>\n",
       "      <td>1-stop\\n\\t\\t\\t\\t\\t\\t\\t\\t\\t\\t\\t\\t\\n\\t\\t\\t\\t\\t\\t...</td>\n",
       "      <td>17:00</td>\n",
       "      <td>Hyderabad</td>\n",
       "      <td>81,585</td>\n",
       "      <td>business</td>\n",
       "    </tr>\n",
       "    <tr>\n",
       "      <th>300260</th>\n",
       "      <td>31-03-2022</td>\n",
       "      <td>Vistara</td>\n",
       "      <td>UK</td>\n",
       "      <td>822</td>\n",
       "      <td>09:45</td>\n",
       "      <td>Chennai</td>\n",
       "      <td>10h 05m</td>\n",
       "      <td>1-stop\\n\\t\\t\\t\\t\\t\\t\\t\\t\\t\\t\\t\\t\\n\\t\\t\\t\\t\\t\\t...</td>\n",
       "      <td>19:50</td>\n",
       "      <td>Hyderabad</td>\n",
       "      <td>81,585</td>\n",
       "      <td>business</td>\n",
       "    </tr>\n",
       "  </tbody>\n",
       "</table>\n",
       "</div>"
      ],
      "text/plain": [
       "              date  airline ch_code  num_code dep_time     from time_taken  \\\n",
       "300258  31-03-2022  Vistara      UK       832    07:05  Chennai    13h 50m   \n",
       "300259  31-03-2022  Vistara      UK       828    07:00  Chennai    10h 00m   \n",
       "300260  31-03-2022  Vistara      UK       822    09:45  Chennai    10h 05m   \n",
       "\n",
       "                                                     stop arr_time         to  \\\n",
       "300258  1-stop\\n\\t\\t\\t\\t\\t\\t\\t\\t\\t\\t\\t\\t\\n\\t\\t\\t\\t\\t\\t...    20:55  Hyderabad   \n",
       "300259  1-stop\\n\\t\\t\\t\\t\\t\\t\\t\\t\\t\\t\\t\\t\\n\\t\\t\\t\\t\\t\\t...    17:00  Hyderabad   \n",
       "300260  1-stop\\n\\t\\t\\t\\t\\t\\t\\t\\t\\t\\t\\t\\t\\n\\t\\t\\t\\t\\t\\t...    19:50  Hyderabad   \n",
       "\n",
       "         price     class  \n",
       "300258  79,099  business  \n",
       "300259  81,585  business  \n",
       "300260  81,585  business  "
      ]
     },
     "execution_count": 6,
     "metadata": {},
     "output_type": "execute_result"
    }
   ],
   "source": [
    "new.tail(3)"
   ]
  },
  {
   "cell_type": "code",
   "execution_count": 7,
   "id": "0403f790",
   "metadata": {},
   "outputs": [],
   "source": [
    "# merging two columns (ch_code and \"num_code\") and making new feature flight\n",
    "new.num_code = new.num_code.astype(\"str\")\n",
    "new[\"flight\"] = new[\"ch_code\"] +\"-\"+ new[\"num_code\"]\n",
    "new.drop([\"ch_code\",\"num_code\"],axis = 1,inplace = True)"
   ]
  },
  {
   "cell_type": "code",
   "execution_count": 8,
   "id": "7bcb13c8",
   "metadata": {},
   "outputs": [
    {
     "data": {
      "text/html": [
       "<div>\n",
       "<style scoped>\n",
       "    .dataframe tbody tr th:only-of-type {\n",
       "        vertical-align: middle;\n",
       "    }\n",
       "\n",
       "    .dataframe tbody tr th {\n",
       "        vertical-align: top;\n",
       "    }\n",
       "\n",
       "    .dataframe thead th {\n",
       "        text-align: right;\n",
       "    }\n",
       "</style>\n",
       "<table border=\"1\" class=\"dataframe\">\n",
       "  <thead>\n",
       "    <tr style=\"text-align: right;\">\n",
       "      <th></th>\n",
       "      <th>date</th>\n",
       "      <th>airline</th>\n",
       "      <th>dep_time</th>\n",
       "      <th>from</th>\n",
       "      <th>time_taken</th>\n",
       "      <th>stop</th>\n",
       "      <th>arr_time</th>\n",
       "      <th>to</th>\n",
       "      <th>price</th>\n",
       "      <th>class</th>\n",
       "      <th>flight</th>\n",
       "    </tr>\n",
       "  </thead>\n",
       "  <tbody>\n",
       "    <tr>\n",
       "      <th>0</th>\n",
       "      <td>11-02-2022</td>\n",
       "      <td>SpiceJet</td>\n",
       "      <td>18:55</td>\n",
       "      <td>Delhi</td>\n",
       "      <td>02h 10m</td>\n",
       "      <td>non-stop</td>\n",
       "      <td>21:05</td>\n",
       "      <td>Mumbai</td>\n",
       "      <td>5,953</td>\n",
       "      <td>economy</td>\n",
       "      <td>SG-8709</td>\n",
       "    </tr>\n",
       "    <tr>\n",
       "      <th>1</th>\n",
       "      <td>11-02-2022</td>\n",
       "      <td>SpiceJet</td>\n",
       "      <td>06:20</td>\n",
       "      <td>Delhi</td>\n",
       "      <td>02h 20m</td>\n",
       "      <td>non-stop</td>\n",
       "      <td>08:40</td>\n",
       "      <td>Mumbai</td>\n",
       "      <td>5,953</td>\n",
       "      <td>economy</td>\n",
       "      <td>SG-8157</td>\n",
       "    </tr>\n",
       "  </tbody>\n",
       "</table>\n",
       "</div>"
      ],
      "text/plain": [
       "         date   airline dep_time   from time_taken       stop arr_time  \\\n",
       "0  11-02-2022  SpiceJet    18:55  Delhi    02h 10m  non-stop     21:05   \n",
       "1  11-02-2022  SpiceJet    06:20  Delhi    02h 20m  non-stop     08:40   \n",
       "\n",
       "       to  price    class   flight  \n",
       "0  Mumbai  5,953  economy  SG-8709  \n",
       "1  Mumbai  5,953  economy  SG-8157  "
      ]
     },
     "execution_count": 8,
     "metadata": {},
     "output_type": "execute_result"
    }
   ],
   "source": [
    "new.head(2)"
   ]
  },
  {
   "cell_type": "code",
   "execution_count": 9,
   "id": "7ff00874",
   "metadata": {},
   "outputs": [],
   "source": [
    "# renaming the featuers\n",
    "new.rename({\"dep_time\": \"departure_time\", \"from\": \"source_city\", \n",
    "            \"time_taken\": \"duration\", \"stop\": \"stops\", \"arr_time\": \"arrival_time\",\n",
    "           \"to\":\"destination_city\"}, axis = 1, inplace = True)"
   ]
  },
  {
   "cell_type": "code",
   "execution_count": 10,
   "id": "078d05f0",
   "metadata": {},
   "outputs": [
    {
     "data": {
      "text/html": [
       "<div>\n",
       "<style scoped>\n",
       "    .dataframe tbody tr th:only-of-type {\n",
       "        vertical-align: middle;\n",
       "    }\n",
       "\n",
       "    .dataframe tbody tr th {\n",
       "        vertical-align: top;\n",
       "    }\n",
       "\n",
       "    .dataframe thead th {\n",
       "        text-align: right;\n",
       "    }\n",
       "</style>\n",
       "<table border=\"1\" class=\"dataframe\">\n",
       "  <thead>\n",
       "    <tr style=\"text-align: right;\">\n",
       "      <th></th>\n",
       "      <th>date</th>\n",
       "      <th>airline</th>\n",
       "      <th>departure_time</th>\n",
       "      <th>source_city</th>\n",
       "      <th>duration</th>\n",
       "      <th>stops</th>\n",
       "      <th>arrival_time</th>\n",
       "      <th>destination_city</th>\n",
       "      <th>price</th>\n",
       "      <th>class</th>\n",
       "      <th>flight</th>\n",
       "      <th>days_left</th>\n",
       "    </tr>\n",
       "  </thead>\n",
       "  <tbody>\n",
       "    <tr>\n",
       "      <th>0</th>\n",
       "      <td>11-02-2022</td>\n",
       "      <td>SpiceJet</td>\n",
       "      <td>18:55</td>\n",
       "      <td>Delhi</td>\n",
       "      <td>02h 10m</td>\n",
       "      <td>non-stop</td>\n",
       "      <td>21:05</td>\n",
       "      <td>Mumbai</td>\n",
       "      <td>5,953</td>\n",
       "      <td>economy</td>\n",
       "      <td>SG-8709</td>\n",
       "      <td>1</td>\n",
       "    </tr>\n",
       "    <tr>\n",
       "      <th>1</th>\n",
       "      <td>11-02-2022</td>\n",
       "      <td>SpiceJet</td>\n",
       "      <td>06:20</td>\n",
       "      <td>Delhi</td>\n",
       "      <td>02h 20m</td>\n",
       "      <td>non-stop</td>\n",
       "      <td>08:40</td>\n",
       "      <td>Mumbai</td>\n",
       "      <td>5,953</td>\n",
       "      <td>economy</td>\n",
       "      <td>SG-8157</td>\n",
       "      <td>1</td>\n",
       "    </tr>\n",
       "    <tr>\n",
       "      <th>2</th>\n",
       "      <td>11-02-2022</td>\n",
       "      <td>AirAsia</td>\n",
       "      <td>04:25</td>\n",
       "      <td>Delhi</td>\n",
       "      <td>02h 10m</td>\n",
       "      <td>non-stop</td>\n",
       "      <td>06:35</td>\n",
       "      <td>Mumbai</td>\n",
       "      <td>5,956</td>\n",
       "      <td>economy</td>\n",
       "      <td>I5-764</td>\n",
       "      <td>1</td>\n",
       "    </tr>\n",
       "    <tr>\n",
       "      <th>3</th>\n",
       "      <td>11-02-2022</td>\n",
       "      <td>Vistara</td>\n",
       "      <td>10:20</td>\n",
       "      <td>Delhi</td>\n",
       "      <td>02h 15m</td>\n",
       "      <td>non-stop</td>\n",
       "      <td>12:35</td>\n",
       "      <td>Mumbai</td>\n",
       "      <td>5,955</td>\n",
       "      <td>economy</td>\n",
       "      <td>UK-995</td>\n",
       "      <td>1</td>\n",
       "    </tr>\n",
       "    <tr>\n",
       "      <th>4</th>\n",
       "      <td>11-02-2022</td>\n",
       "      <td>Vistara</td>\n",
       "      <td>08:50</td>\n",
       "      <td>Delhi</td>\n",
       "      <td>02h 20m</td>\n",
       "      <td>non-stop</td>\n",
       "      <td>11:10</td>\n",
       "      <td>Mumbai</td>\n",
       "      <td>5,955</td>\n",
       "      <td>economy</td>\n",
       "      <td>UK-963</td>\n",
       "      <td>1</td>\n",
       "    </tr>\n",
       "  </tbody>\n",
       "</table>\n",
       "</div>"
      ],
      "text/plain": [
       "         date   airline departure_time source_city duration      stops  \\\n",
       "0  11-02-2022  SpiceJet          18:55       Delhi  02h 10m  non-stop    \n",
       "1  11-02-2022  SpiceJet          06:20       Delhi  02h 20m  non-stop    \n",
       "2  11-02-2022   AirAsia          04:25       Delhi  02h 10m  non-stop    \n",
       "3  11-02-2022   Vistara          10:20       Delhi  02h 15m  non-stop    \n",
       "4  11-02-2022   Vistara          08:50       Delhi  02h 20m  non-stop    \n",
       "\n",
       "  arrival_time destination_city  price    class   flight  days_left  \n",
       "0        21:05           Mumbai  5,953  economy  SG-8709          1  \n",
       "1        08:40           Mumbai  5,953  economy  SG-8157          1  \n",
       "2        06:35           Mumbai  5,956  economy   I5-764          1  \n",
       "3        12:35           Mumbai  5,955  economy   UK-995          1  \n",
       "4        11:10           Mumbai  5,955  economy   UK-963          1  "
      ]
     },
     "execution_count": 10,
     "metadata": {},
     "output_type": "execute_result"
    }
   ],
   "source": [
    "dd = pd.DataFrame(new[\"date\"].str.split(\"-\",expand = True).to_numpy().astype(int),columns = [\"day\",\"month\",\"year\"])\n",
    "new[\"days_left\"] = np.where(dd[\"month\"] > 2, dd[\"day\"] +18, np.where(dd[\"month\"] == 2, dd[\"day\"] -10, dd[\"day\"]))\n",
    "new.head(5)"
   ]
  },
  {
   "cell_type": "code",
   "execution_count": 11,
   "id": "4e6e1957",
   "metadata": {},
   "outputs": [
    {
     "data": {
      "text/html": [
       "<div>\n",
       "<style scoped>\n",
       "    .dataframe tbody tr th:only-of-type {\n",
       "        vertical-align: middle;\n",
       "    }\n",
       "\n",
       "    .dataframe tbody tr th {\n",
       "        vertical-align: top;\n",
       "    }\n",
       "\n",
       "    .dataframe thead th {\n",
       "        text-align: right;\n",
       "    }\n",
       "</style>\n",
       "<table border=\"1\" class=\"dataframe\">\n",
       "  <thead>\n",
       "    <tr style=\"text-align: right;\">\n",
       "      <th></th>\n",
       "      <th>date</th>\n",
       "      <th>airline</th>\n",
       "      <th>departure_time</th>\n",
       "      <th>source_city</th>\n",
       "      <th>duration</th>\n",
       "      <th>stops</th>\n",
       "      <th>arrival_time</th>\n",
       "      <th>destination_city</th>\n",
       "      <th>price</th>\n",
       "      <th>class</th>\n",
       "      <th>flight</th>\n",
       "      <th>days_left</th>\n",
       "    </tr>\n",
       "  </thead>\n",
       "  <tbody>\n",
       "    <tr>\n",
       "      <th>300256</th>\n",
       "      <td>31-03-2022</td>\n",
       "      <td>Vistara</td>\n",
       "      <td>09:45</td>\n",
       "      <td>Chennai</td>\n",
       "      <td>10h 05m</td>\n",
       "      <td>1-stop\\n\\t\\t\\t\\t\\t\\t\\t\\t\\t\\t\\t\\t\\n\\t\\t\\t\\t\\t\\t...</td>\n",
       "      <td>19:50</td>\n",
       "      <td>Hyderabad</td>\n",
       "      <td>69,265</td>\n",
       "      <td>business</td>\n",
       "      <td>UK-822</td>\n",
       "      <td>49</td>\n",
       "    </tr>\n",
       "    <tr>\n",
       "      <th>300257</th>\n",
       "      <td>31-03-2022</td>\n",
       "      <td>Vistara</td>\n",
       "      <td>12:30</td>\n",
       "      <td>Chennai</td>\n",
       "      <td>10h 25m</td>\n",
       "      <td>1-stop\\n\\t\\t\\t\\t\\t\\t\\t\\t\\t\\t\\t\\t\\n\\t\\t\\t\\t\\t\\t...</td>\n",
       "      <td>22:55</td>\n",
       "      <td>Hyderabad</td>\n",
       "      <td>77,105</td>\n",
       "      <td>business</td>\n",
       "      <td>UK-826</td>\n",
       "      <td>49</td>\n",
       "    </tr>\n",
       "    <tr>\n",
       "      <th>300258</th>\n",
       "      <td>31-03-2022</td>\n",
       "      <td>Vistara</td>\n",
       "      <td>07:05</td>\n",
       "      <td>Chennai</td>\n",
       "      <td>13h 50m</td>\n",
       "      <td>1-stop\\n\\t\\t\\t\\t\\t\\t\\t\\t\\t\\t\\t\\t\\n\\t\\t\\t\\t\\t\\t...</td>\n",
       "      <td>20:55</td>\n",
       "      <td>Hyderabad</td>\n",
       "      <td>79,099</td>\n",
       "      <td>business</td>\n",
       "      <td>UK-832</td>\n",
       "      <td>49</td>\n",
       "    </tr>\n",
       "    <tr>\n",
       "      <th>300259</th>\n",
       "      <td>31-03-2022</td>\n",
       "      <td>Vistara</td>\n",
       "      <td>07:00</td>\n",
       "      <td>Chennai</td>\n",
       "      <td>10h 00m</td>\n",
       "      <td>1-stop\\n\\t\\t\\t\\t\\t\\t\\t\\t\\t\\t\\t\\t\\n\\t\\t\\t\\t\\t\\t...</td>\n",
       "      <td>17:00</td>\n",
       "      <td>Hyderabad</td>\n",
       "      <td>81,585</td>\n",
       "      <td>business</td>\n",
       "      <td>UK-828</td>\n",
       "      <td>49</td>\n",
       "    </tr>\n",
       "    <tr>\n",
       "      <th>300260</th>\n",
       "      <td>31-03-2022</td>\n",
       "      <td>Vistara</td>\n",
       "      <td>09:45</td>\n",
       "      <td>Chennai</td>\n",
       "      <td>10h 05m</td>\n",
       "      <td>1-stop\\n\\t\\t\\t\\t\\t\\t\\t\\t\\t\\t\\t\\t\\n\\t\\t\\t\\t\\t\\t...</td>\n",
       "      <td>19:50</td>\n",
       "      <td>Hyderabad</td>\n",
       "      <td>81,585</td>\n",
       "      <td>business</td>\n",
       "      <td>UK-822</td>\n",
       "      <td>49</td>\n",
       "    </tr>\n",
       "  </tbody>\n",
       "</table>\n",
       "</div>"
      ],
      "text/plain": [
       "              date  airline departure_time source_city duration  \\\n",
       "300256  31-03-2022  Vistara          09:45     Chennai  10h 05m   \n",
       "300257  31-03-2022  Vistara          12:30     Chennai  10h 25m   \n",
       "300258  31-03-2022  Vistara          07:05     Chennai  13h 50m   \n",
       "300259  31-03-2022  Vistara          07:00     Chennai  10h 00m   \n",
       "300260  31-03-2022  Vistara          09:45     Chennai  10h 05m   \n",
       "\n",
       "                                                    stops arrival_time  \\\n",
       "300256  1-stop\\n\\t\\t\\t\\t\\t\\t\\t\\t\\t\\t\\t\\t\\n\\t\\t\\t\\t\\t\\t...        19:50   \n",
       "300257  1-stop\\n\\t\\t\\t\\t\\t\\t\\t\\t\\t\\t\\t\\t\\n\\t\\t\\t\\t\\t\\t...        22:55   \n",
       "300258  1-stop\\n\\t\\t\\t\\t\\t\\t\\t\\t\\t\\t\\t\\t\\n\\t\\t\\t\\t\\t\\t...        20:55   \n",
       "300259  1-stop\\n\\t\\t\\t\\t\\t\\t\\t\\t\\t\\t\\t\\t\\n\\t\\t\\t\\t\\t\\t...        17:00   \n",
       "300260  1-stop\\n\\t\\t\\t\\t\\t\\t\\t\\t\\t\\t\\t\\t\\n\\t\\t\\t\\t\\t\\t...        19:50   \n",
       "\n",
       "       destination_city   price     class  flight  days_left  \n",
       "300256        Hyderabad  69,265  business  UK-822         49  \n",
       "300257        Hyderabad  77,105  business  UK-826         49  \n",
       "300258        Hyderabad  79,099  business  UK-832         49  \n",
       "300259        Hyderabad  81,585  business  UK-828         49  \n",
       "300260        Hyderabad  81,585  business  UK-822         49  "
      ]
     },
     "execution_count": 11,
     "metadata": {},
     "output_type": "execute_result"
    }
   ],
   "source": [
    "new.tail(5)"
   ]
  },
  {
   "cell_type": "code",
   "execution_count": 12,
   "id": "0b281bf8",
   "metadata": {},
   "outputs": [],
   "source": [
    "# as we drived one feature on the basis of date so no need for this featue so we will drop it\n",
    "new.drop(\"date\",axis = 1,inplace = True)"
   ]
  },
  {
   "cell_type": "code",
   "execution_count": 13,
   "id": "9adfa2cf",
   "metadata": {},
   "outputs": [
    {
     "data": {
      "text/html": [
       "<div>\n",
       "<style scoped>\n",
       "    .dataframe tbody tr th:only-of-type {\n",
       "        vertical-align: middle;\n",
       "    }\n",
       "\n",
       "    .dataframe tbody tr th {\n",
       "        vertical-align: top;\n",
       "    }\n",
       "\n",
       "    .dataframe thead th {\n",
       "        text-align: right;\n",
       "    }\n",
       "</style>\n",
       "<table border=\"1\" class=\"dataframe\">\n",
       "  <thead>\n",
       "    <tr style=\"text-align: right;\">\n",
       "      <th></th>\n",
       "      <th>airline</th>\n",
       "      <th>departure_time</th>\n",
       "      <th>source_city</th>\n",
       "      <th>duration</th>\n",
       "      <th>stops</th>\n",
       "      <th>arrival_time</th>\n",
       "      <th>destination_city</th>\n",
       "      <th>price</th>\n",
       "      <th>class</th>\n",
       "      <th>flight</th>\n",
       "      <th>days_left</th>\n",
       "    </tr>\n",
       "  </thead>\n",
       "  <tbody>\n",
       "    <tr>\n",
       "      <th>0</th>\n",
       "      <td>SpiceJet</td>\n",
       "      <td>Evening</td>\n",
       "      <td>Delhi</td>\n",
       "      <td>02h 10m</td>\n",
       "      <td>non-stop</td>\n",
       "      <td>21:05</td>\n",
       "      <td>Mumbai</td>\n",
       "      <td>5,953</td>\n",
       "      <td>economy</td>\n",
       "      <td>SG-8709</td>\n",
       "      <td>1</td>\n",
       "    </tr>\n",
       "    <tr>\n",
       "      <th>1</th>\n",
       "      <td>SpiceJet</td>\n",
       "      <td>Early Morning</td>\n",
       "      <td>Delhi</td>\n",
       "      <td>02h 20m</td>\n",
       "      <td>non-stop</td>\n",
       "      <td>08:40</td>\n",
       "      <td>Mumbai</td>\n",
       "      <td>5,953</td>\n",
       "      <td>economy</td>\n",
       "      <td>SG-8157</td>\n",
       "      <td>1</td>\n",
       "    </tr>\n",
       "    <tr>\n",
       "      <th>2</th>\n",
       "      <td>AirAsia</td>\n",
       "      <td>Early Morning</td>\n",
       "      <td>Delhi</td>\n",
       "      <td>02h 10m</td>\n",
       "      <td>non-stop</td>\n",
       "      <td>06:35</td>\n",
       "      <td>Mumbai</td>\n",
       "      <td>5,956</td>\n",
       "      <td>economy</td>\n",
       "      <td>I5-764</td>\n",
       "      <td>1</td>\n",
       "    </tr>\n",
       "    <tr>\n",
       "      <th>3</th>\n",
       "      <td>Vistara</td>\n",
       "      <td>Morning</td>\n",
       "      <td>Delhi</td>\n",
       "      <td>02h 15m</td>\n",
       "      <td>non-stop</td>\n",
       "      <td>12:35</td>\n",
       "      <td>Mumbai</td>\n",
       "      <td>5,955</td>\n",
       "      <td>economy</td>\n",
       "      <td>UK-995</td>\n",
       "      <td>1</td>\n",
       "    </tr>\n",
       "    <tr>\n",
       "      <th>4</th>\n",
       "      <td>Vistara</td>\n",
       "      <td>Morning</td>\n",
       "      <td>Delhi</td>\n",
       "      <td>02h 20m</td>\n",
       "      <td>non-stop</td>\n",
       "      <td>11:10</td>\n",
       "      <td>Mumbai</td>\n",
       "      <td>5,955</td>\n",
       "      <td>economy</td>\n",
       "      <td>UK-963</td>\n",
       "      <td>1</td>\n",
       "    </tr>\n",
       "  </tbody>\n",
       "</table>\n",
       "</div>"
      ],
      "text/plain": [
       "    airline departure_time source_city duration      stops arrival_time  \\\n",
       "0  SpiceJet        Evening       Delhi  02h 10m  non-stop         21:05   \n",
       "1  SpiceJet  Early Morning       Delhi  02h 20m  non-stop         08:40   \n",
       "2   AirAsia  Early Morning       Delhi  02h 10m  non-stop         06:35   \n",
       "3   Vistara        Morning       Delhi  02h 15m  non-stop         12:35   \n",
       "4   Vistara        Morning       Delhi  02h 20m  non-stop         11:10   \n",
       "\n",
       "  destination_city  price    class   flight  days_left  \n",
       "0           Mumbai  5,953  economy  SG-8709          1  \n",
       "1           Mumbai  5,953  economy  SG-8157          1  \n",
       "2           Mumbai  5,956  economy   I5-764          1  \n",
       "3           Mumbai  5,955  economy   UK-995          1  \n",
       "4           Mumbai  5,955  economy   UK-963          1  "
      ]
     },
     "execution_count": 13,
     "metadata": {},
     "output_type": "execute_result"
    }
   ],
   "source": [
    "# converting time into morning/noon/evening, etc\n",
    "s = (pd.to_datetime(new[\"departure_time\"]).dt.hour % 24 + 4) // 4 #give numbers from 1 to 6 #(return a series)\n",
    "s.replace({1: 'Late Night', 2: 'Early Morning', 3: 'Morning', \n",
    "                      4: 'Afternoon', 5: 'Evening', 6: 'Night'} ,inplace = True) # to replace values 1:latenight to 6: night\n",
    "new[\"departure_time\"] = s \n",
    "new.head(5)"
   ]
  },
  {
   "cell_type": "code",
   "execution_count": 14,
   "id": "972e9f52",
   "metadata": {},
   "outputs": [
    {
     "data": {
      "text/html": [
       "<div>\n",
       "<style scoped>\n",
       "    .dataframe tbody tr th:only-of-type {\n",
       "        vertical-align: middle;\n",
       "    }\n",
       "\n",
       "    .dataframe tbody tr th {\n",
       "        vertical-align: top;\n",
       "    }\n",
       "\n",
       "    .dataframe thead th {\n",
       "        text-align: right;\n",
       "    }\n",
       "</style>\n",
       "<table border=\"1\" class=\"dataframe\">\n",
       "  <thead>\n",
       "    <tr style=\"text-align: right;\">\n",
       "      <th></th>\n",
       "      <th>airline</th>\n",
       "      <th>departure_time</th>\n",
       "      <th>source_city</th>\n",
       "      <th>duration</th>\n",
       "      <th>stops</th>\n",
       "      <th>arrival_time</th>\n",
       "      <th>destination_city</th>\n",
       "      <th>price</th>\n",
       "      <th>class</th>\n",
       "      <th>flight</th>\n",
       "      <th>days_left</th>\n",
       "    </tr>\n",
       "  </thead>\n",
       "  <tbody>\n",
       "    <tr>\n",
       "      <th>0</th>\n",
       "      <td>SpiceJet</td>\n",
       "      <td>Evening</td>\n",
       "      <td>Delhi</td>\n",
       "      <td>02h 10m</td>\n",
       "      <td>non-stop</td>\n",
       "      <td>Night</td>\n",
       "      <td>Mumbai</td>\n",
       "      <td>5,953</td>\n",
       "      <td>economy</td>\n",
       "      <td>SG-8709</td>\n",
       "      <td>1</td>\n",
       "    </tr>\n",
       "    <tr>\n",
       "      <th>1</th>\n",
       "      <td>SpiceJet</td>\n",
       "      <td>Early Morning</td>\n",
       "      <td>Delhi</td>\n",
       "      <td>02h 20m</td>\n",
       "      <td>non-stop</td>\n",
       "      <td>Morning</td>\n",
       "      <td>Mumbai</td>\n",
       "      <td>5,953</td>\n",
       "      <td>economy</td>\n",
       "      <td>SG-8157</td>\n",
       "      <td>1</td>\n",
       "    </tr>\n",
       "    <tr>\n",
       "      <th>2</th>\n",
       "      <td>AirAsia</td>\n",
       "      <td>Early Morning</td>\n",
       "      <td>Delhi</td>\n",
       "      <td>02h 10m</td>\n",
       "      <td>non-stop</td>\n",
       "      <td>Early Morning</td>\n",
       "      <td>Mumbai</td>\n",
       "      <td>5,956</td>\n",
       "      <td>economy</td>\n",
       "      <td>I5-764</td>\n",
       "      <td>1</td>\n",
       "    </tr>\n",
       "    <tr>\n",
       "      <th>3</th>\n",
       "      <td>Vistara</td>\n",
       "      <td>Morning</td>\n",
       "      <td>Delhi</td>\n",
       "      <td>02h 15m</td>\n",
       "      <td>non-stop</td>\n",
       "      <td>Afternoon</td>\n",
       "      <td>Mumbai</td>\n",
       "      <td>5,955</td>\n",
       "      <td>economy</td>\n",
       "      <td>UK-995</td>\n",
       "      <td>1</td>\n",
       "    </tr>\n",
       "    <tr>\n",
       "      <th>4</th>\n",
       "      <td>Vistara</td>\n",
       "      <td>Morning</td>\n",
       "      <td>Delhi</td>\n",
       "      <td>02h 20m</td>\n",
       "      <td>non-stop</td>\n",
       "      <td>Morning</td>\n",
       "      <td>Mumbai</td>\n",
       "      <td>5,955</td>\n",
       "      <td>economy</td>\n",
       "      <td>UK-963</td>\n",
       "      <td>1</td>\n",
       "    </tr>\n",
       "  </tbody>\n",
       "</table>\n",
       "</div>"
      ],
      "text/plain": [
       "    airline departure_time source_city duration      stops   arrival_time  \\\n",
       "0  SpiceJet        Evening       Delhi  02h 10m  non-stop           Night   \n",
       "1  SpiceJet  Early Morning       Delhi  02h 20m  non-stop         Morning   \n",
       "2   AirAsia  Early Morning       Delhi  02h 10m  non-stop   Early Morning   \n",
       "3   Vistara        Morning       Delhi  02h 15m  non-stop       Afternoon   \n",
       "4   Vistara        Morning       Delhi  02h 20m  non-stop         Morning   \n",
       "\n",
       "  destination_city  price    class   flight  days_left  \n",
       "0           Mumbai  5,953  economy  SG-8709          1  \n",
       "1           Mumbai  5,953  economy  SG-8157          1  \n",
       "2           Mumbai  5,956  economy   I5-764          1  \n",
       "3           Mumbai  5,955  economy   UK-995          1  \n",
       "4           Mumbai  5,955  economy   UK-963          1  "
      ]
     },
     "execution_count": 14,
     "metadata": {},
     "output_type": "execute_result"
    }
   ],
   "source": [
    "# we also can get morning eveniing categories by making bins\n",
    "#  our bins are (0,4,8,12,16,20,24) respected labels starts from \"latenight\" to \"night\"\n",
    "temp = pd.DataFrame(new[\"arrival_time\"].str.split(\":\",expand = True).to_numpy().astype(int), \n",
    "                    columns = [\"hour\",\"minute\"])\n",
    "new[\"arrival_time\"] = pd.cut(x = temp[\"hour\"], bins = 6, labels = \n",
    "                             [\"Late Night\",\"Early Morning\",\"Morning\", \"Afternoon\", \"Evening\", \"Night\"])\n",
    "new.head(5)"
   ]
  },
  {
   "cell_type": "code",
   "execution_count": 15,
   "id": "6c6dfa08",
   "metadata": {},
   "outputs": [],
   "source": [
    "import re"
   ]
  },
  {
   "cell_type": "code",
   "execution_count": 16,
   "id": "117d1bdc",
   "metadata": {},
   "outputs": [],
   "source": [
    "# making duration in float values by calculating only hours\n",
    "temp = pd.DataFrame(new[\"duration\"].str.split(expand = True).to_numpy().astype(str), \n",
    "                    columns = [\"hour\",\"minute\"])\n",
    "temp[\"hour\"] = temp[\"hour\"].apply(lambda x: re.sub(\"[^0-9]\",\"\",x)).astype(int)\n",
    "temp[\"minute\"] = temp[\"minute\"].apply(lambda r: re.sub(\"[^0-9]\",\"\",r)) # we has no values in minute colum some where \n",
    "temp[\"minute\"] = np.where(temp[\"minute\"] == \"\", 0, temp[\"minute\"]) # replaceing \"\" with 0\n",
    "temp[\"minute\"] = temp[\"minute\"].astype(int) #converting data type\n",
    "new[\"duration\"] = np.around((temp[\"hour\"] + (temp[\"minute\"]/60)),2) #savin the total hours in duration feature\n"
   ]
  },
  {
   "cell_type": "code",
   "execution_count": 17,
   "id": "0739071d",
   "metadata": {},
   "outputs": [
    {
     "data": {
      "text/html": [
       "<div>\n",
       "<style scoped>\n",
       "    .dataframe tbody tr th:only-of-type {\n",
       "        vertical-align: middle;\n",
       "    }\n",
       "\n",
       "    .dataframe tbody tr th {\n",
       "        vertical-align: top;\n",
       "    }\n",
       "\n",
       "    .dataframe thead th {\n",
       "        text-align: right;\n",
       "    }\n",
       "</style>\n",
       "<table border=\"1\" class=\"dataframe\">\n",
       "  <thead>\n",
       "    <tr style=\"text-align: right;\">\n",
       "      <th></th>\n",
       "      <th>airline</th>\n",
       "      <th>departure_time</th>\n",
       "      <th>source_city</th>\n",
       "      <th>duration</th>\n",
       "      <th>stops</th>\n",
       "      <th>arrival_time</th>\n",
       "      <th>destination_city</th>\n",
       "      <th>price</th>\n",
       "      <th>class</th>\n",
       "      <th>flight</th>\n",
       "      <th>days_left</th>\n",
       "    </tr>\n",
       "  </thead>\n",
       "  <tbody>\n",
       "    <tr>\n",
       "      <th>0</th>\n",
       "      <td>SpiceJet</td>\n",
       "      <td>Evening</td>\n",
       "      <td>Delhi</td>\n",
       "      <td>2.17</td>\n",
       "      <td>non-stop</td>\n",
       "      <td>Night</td>\n",
       "      <td>Mumbai</td>\n",
       "      <td>5,953</td>\n",
       "      <td>economy</td>\n",
       "      <td>SG-8709</td>\n",
       "      <td>1</td>\n",
       "    </tr>\n",
       "    <tr>\n",
       "      <th>1</th>\n",
       "      <td>SpiceJet</td>\n",
       "      <td>Early Morning</td>\n",
       "      <td>Delhi</td>\n",
       "      <td>2.33</td>\n",
       "      <td>non-stop</td>\n",
       "      <td>Morning</td>\n",
       "      <td>Mumbai</td>\n",
       "      <td>5,953</td>\n",
       "      <td>economy</td>\n",
       "      <td>SG-8157</td>\n",
       "      <td>1</td>\n",
       "    </tr>\n",
       "    <tr>\n",
       "      <th>2</th>\n",
       "      <td>AirAsia</td>\n",
       "      <td>Early Morning</td>\n",
       "      <td>Delhi</td>\n",
       "      <td>2.17</td>\n",
       "      <td>non-stop</td>\n",
       "      <td>Early Morning</td>\n",
       "      <td>Mumbai</td>\n",
       "      <td>5,956</td>\n",
       "      <td>economy</td>\n",
       "      <td>I5-764</td>\n",
       "      <td>1</td>\n",
       "    </tr>\n",
       "  </tbody>\n",
       "</table>\n",
       "</div>"
      ],
      "text/plain": [
       "    airline departure_time source_city  duration      stops   arrival_time  \\\n",
       "0  SpiceJet        Evening       Delhi      2.17  non-stop           Night   \n",
       "1  SpiceJet  Early Morning       Delhi      2.33  non-stop         Morning   \n",
       "2   AirAsia  Early Morning       Delhi      2.17  non-stop   Early Morning   \n",
       "\n",
       "  destination_city  price    class   flight  days_left  \n",
       "0           Mumbai  5,953  economy  SG-8709          1  \n",
       "1           Mumbai  5,953  economy  SG-8157          1  \n",
       "2           Mumbai  5,956  economy   I5-764          1  "
      ]
     },
     "execution_count": 17,
     "metadata": {},
     "output_type": "execute_result"
    }
   ],
   "source": [
    "new.head(3)"
   ]
  },
  {
   "cell_type": "code",
   "execution_count": 18,
   "id": "b4d99fc8",
   "metadata": {},
   "outputs": [
    {
     "data": {
      "text/html": [
       "<div>\n",
       "<style scoped>\n",
       "    .dataframe tbody tr th:only-of-type {\n",
       "        vertical-align: middle;\n",
       "    }\n",
       "\n",
       "    .dataframe tbody tr th {\n",
       "        vertical-align: top;\n",
       "    }\n",
       "\n",
       "    .dataframe thead th {\n",
       "        text-align: right;\n",
       "    }\n",
       "</style>\n",
       "<table border=\"1\" class=\"dataframe\">\n",
       "  <thead>\n",
       "    <tr style=\"text-align: right;\">\n",
       "      <th></th>\n",
       "      <th>airline</th>\n",
       "      <th>departure_time</th>\n",
       "      <th>source_city</th>\n",
       "      <th>duration</th>\n",
       "      <th>stops</th>\n",
       "      <th>arrival_time</th>\n",
       "      <th>destination_city</th>\n",
       "      <th>price</th>\n",
       "      <th>class</th>\n",
       "      <th>flight</th>\n",
       "      <th>days_left</th>\n",
       "    </tr>\n",
       "  </thead>\n",
       "  <tbody>\n",
       "    <tr>\n",
       "      <th>0</th>\n",
       "      <td>SpiceJet</td>\n",
       "      <td>Evening</td>\n",
       "      <td>Delhi</td>\n",
       "      <td>2.17</td>\n",
       "      <td>0</td>\n",
       "      <td>Night</td>\n",
       "      <td>Mumbai</td>\n",
       "      <td>5,953</td>\n",
       "      <td>economy</td>\n",
       "      <td>SG-8709</td>\n",
       "      <td>1</td>\n",
       "    </tr>\n",
       "    <tr>\n",
       "      <th>1</th>\n",
       "      <td>SpiceJet</td>\n",
       "      <td>Early Morning</td>\n",
       "      <td>Delhi</td>\n",
       "      <td>2.33</td>\n",
       "      <td>0</td>\n",
       "      <td>Morning</td>\n",
       "      <td>Mumbai</td>\n",
       "      <td>5,953</td>\n",
       "      <td>economy</td>\n",
       "      <td>SG-8157</td>\n",
       "      <td>1</td>\n",
       "    </tr>\n",
       "    <tr>\n",
       "      <th>2</th>\n",
       "      <td>AirAsia</td>\n",
       "      <td>Early Morning</td>\n",
       "      <td>Delhi</td>\n",
       "      <td>2.17</td>\n",
       "      <td>0</td>\n",
       "      <td>Early Morning</td>\n",
       "      <td>Mumbai</td>\n",
       "      <td>5,956</td>\n",
       "      <td>economy</td>\n",
       "      <td>I5-764</td>\n",
       "      <td>1</td>\n",
       "    </tr>\n",
       "    <tr>\n",
       "      <th>3</th>\n",
       "      <td>Vistara</td>\n",
       "      <td>Morning</td>\n",
       "      <td>Delhi</td>\n",
       "      <td>2.25</td>\n",
       "      <td>0</td>\n",
       "      <td>Afternoon</td>\n",
       "      <td>Mumbai</td>\n",
       "      <td>5,955</td>\n",
       "      <td>economy</td>\n",
       "      <td>UK-995</td>\n",
       "      <td>1</td>\n",
       "    </tr>\n",
       "    <tr>\n",
       "      <th>4</th>\n",
       "      <td>Vistara</td>\n",
       "      <td>Morning</td>\n",
       "      <td>Delhi</td>\n",
       "      <td>2.33</td>\n",
       "      <td>0</td>\n",
       "      <td>Morning</td>\n",
       "      <td>Mumbai</td>\n",
       "      <td>5,955</td>\n",
       "      <td>economy</td>\n",
       "      <td>UK-963</td>\n",
       "      <td>1</td>\n",
       "    </tr>\n",
       "  </tbody>\n",
       "</table>\n",
       "</div>"
      ],
      "text/plain": [
       "    airline departure_time source_city  duration  stops   arrival_time  \\\n",
       "0  SpiceJet        Evening       Delhi      2.17      0          Night   \n",
       "1  SpiceJet  Early Morning       Delhi      2.33      0        Morning   \n",
       "2   AirAsia  Early Morning       Delhi      2.17      0  Early Morning   \n",
       "3   Vistara        Morning       Delhi      2.25      0      Afternoon   \n",
       "4   Vistara        Morning       Delhi      2.33      0        Morning   \n",
       "\n",
       "  destination_city  price    class   flight  days_left  \n",
       "0           Mumbai  5,953  economy  SG-8709          1  \n",
       "1           Mumbai  5,953  economy  SG-8157          1  \n",
       "2           Mumbai  5,956  economy   I5-764          1  \n",
       "3           Mumbai  5,955  economy   UK-995          1  \n",
       "4           Mumbai  5,955  economy   UK-963          1  "
      ]
     },
     "execution_count": 18,
     "metadata": {},
     "output_type": "execute_result"
    }
   ],
   "source": [
    "# making the stops in numeric data type by giving stops accordingly\n",
    "new[\"stops\"] = new[\"stops\"].apply(lambda r: re.sub(\"[^0-9]\",\"\",r)) # taking only digits\n",
    "new[\"stops\"] = np.where(new[\"stops\"] == \"\", 0, new[\"stops\"]) # replacign \"\" with 0\n",
    "new[\"stops\"] = new[\"stops\"].astype(int) # changing object to int\n",
    "new.head(5)"
   ]
  },
  {
   "cell_type": "code",
   "execution_count": 19,
   "id": "a26c1936",
   "metadata": {},
   "outputs": [
    {
     "data": {
      "text/html": [
       "<div>\n",
       "<style scoped>\n",
       "    .dataframe tbody tr th:only-of-type {\n",
       "        vertical-align: middle;\n",
       "    }\n",
       "\n",
       "    .dataframe tbody tr th {\n",
       "        vertical-align: top;\n",
       "    }\n",
       "\n",
       "    .dataframe thead th {\n",
       "        text-align: right;\n",
       "    }\n",
       "</style>\n",
       "<table border=\"1\" class=\"dataframe\">\n",
       "  <thead>\n",
       "    <tr style=\"text-align: right;\">\n",
       "      <th></th>\n",
       "      <th>airline</th>\n",
       "      <th>departure_time</th>\n",
       "      <th>source_city</th>\n",
       "      <th>duration</th>\n",
       "      <th>stops</th>\n",
       "      <th>arrival_time</th>\n",
       "      <th>destination_city</th>\n",
       "      <th>price</th>\n",
       "      <th>class</th>\n",
       "      <th>flight</th>\n",
       "      <th>days_left</th>\n",
       "    </tr>\n",
       "  </thead>\n",
       "  <tbody>\n",
       "    <tr>\n",
       "      <th>300256</th>\n",
       "      <td>Vistara</td>\n",
       "      <td>Morning</td>\n",
       "      <td>Chennai</td>\n",
       "      <td>10.08</td>\n",
       "      <td>1</td>\n",
       "      <td>Evening</td>\n",
       "      <td>Hyderabad</td>\n",
       "      <td>69,265</td>\n",
       "      <td>business</td>\n",
       "      <td>UK-822</td>\n",
       "      <td>49</td>\n",
       "    </tr>\n",
       "    <tr>\n",
       "      <th>300257</th>\n",
       "      <td>Vistara</td>\n",
       "      <td>Afternoon</td>\n",
       "      <td>Chennai</td>\n",
       "      <td>10.42</td>\n",
       "      <td>1</td>\n",
       "      <td>Night</td>\n",
       "      <td>Hyderabad</td>\n",
       "      <td>77,105</td>\n",
       "      <td>business</td>\n",
       "      <td>UK-826</td>\n",
       "      <td>49</td>\n",
       "    </tr>\n",
       "    <tr>\n",
       "      <th>300258</th>\n",
       "      <td>Vistara</td>\n",
       "      <td>Early Morning</td>\n",
       "      <td>Chennai</td>\n",
       "      <td>13.83</td>\n",
       "      <td>1</td>\n",
       "      <td>Night</td>\n",
       "      <td>Hyderabad</td>\n",
       "      <td>79,099</td>\n",
       "      <td>business</td>\n",
       "      <td>UK-832</td>\n",
       "      <td>49</td>\n",
       "    </tr>\n",
       "    <tr>\n",
       "      <th>300259</th>\n",
       "      <td>Vistara</td>\n",
       "      <td>Early Morning</td>\n",
       "      <td>Chennai</td>\n",
       "      <td>10.00</td>\n",
       "      <td>1</td>\n",
       "      <td>Evening</td>\n",
       "      <td>Hyderabad</td>\n",
       "      <td>81,585</td>\n",
       "      <td>business</td>\n",
       "      <td>UK-828</td>\n",
       "      <td>49</td>\n",
       "    </tr>\n",
       "    <tr>\n",
       "      <th>300260</th>\n",
       "      <td>Vistara</td>\n",
       "      <td>Morning</td>\n",
       "      <td>Chennai</td>\n",
       "      <td>10.08</td>\n",
       "      <td>1</td>\n",
       "      <td>Evening</td>\n",
       "      <td>Hyderabad</td>\n",
       "      <td>81,585</td>\n",
       "      <td>business</td>\n",
       "      <td>UK-822</td>\n",
       "      <td>49</td>\n",
       "    </tr>\n",
       "  </tbody>\n",
       "</table>\n",
       "</div>"
      ],
      "text/plain": [
       "        airline departure_time source_city  duration  stops arrival_time  \\\n",
       "300256  Vistara        Morning     Chennai     10.08      1      Evening   \n",
       "300257  Vistara      Afternoon     Chennai     10.42      1        Night   \n",
       "300258  Vistara  Early Morning     Chennai     13.83      1        Night   \n",
       "300259  Vistara  Early Morning     Chennai     10.00      1      Evening   \n",
       "300260  Vistara        Morning     Chennai     10.08      1      Evening   \n",
       "\n",
       "       destination_city   price     class  flight  days_left  \n",
       "300256        Hyderabad  69,265  business  UK-822         49  \n",
       "300257        Hyderabad  77,105  business  UK-826         49  \n",
       "300258        Hyderabad  79,099  business  UK-832         49  \n",
       "300259        Hyderabad  81,585  business  UK-828         49  \n",
       "300260        Hyderabad  81,585  business  UK-822         49  "
      ]
     },
     "execution_count": 19,
     "metadata": {},
     "output_type": "execute_result"
    }
   ],
   "source": [
    "new.tail(5)"
   ]
  },
  {
   "cell_type": "code",
   "execution_count": 20,
   "id": "1f02489a",
   "metadata": {},
   "outputs": [
    {
     "data": {
      "text/html": [
       "<div>\n",
       "<style scoped>\n",
       "    .dataframe tbody tr th:only-of-type {\n",
       "        vertical-align: middle;\n",
       "    }\n",
       "\n",
       "    .dataframe tbody tr th {\n",
       "        vertical-align: top;\n",
       "    }\n",
       "\n",
       "    .dataframe thead th {\n",
       "        text-align: right;\n",
       "    }\n",
       "</style>\n",
       "<table border=\"1\" class=\"dataframe\">\n",
       "  <thead>\n",
       "    <tr style=\"text-align: right;\">\n",
       "      <th></th>\n",
       "      <th>airline</th>\n",
       "      <th>departure_time</th>\n",
       "      <th>source_city</th>\n",
       "      <th>duration</th>\n",
       "      <th>stops</th>\n",
       "      <th>arrival_time</th>\n",
       "      <th>destination_city</th>\n",
       "      <th>price</th>\n",
       "      <th>class</th>\n",
       "      <th>flight</th>\n",
       "      <th>days_left</th>\n",
       "    </tr>\n",
       "  </thead>\n",
       "  <tbody>\n",
       "    <tr>\n",
       "      <th>0</th>\n",
       "      <td>SpiceJet</td>\n",
       "      <td>Evening</td>\n",
       "      <td>Delhi</td>\n",
       "      <td>2.17</td>\n",
       "      <td>0</td>\n",
       "      <td>Night</td>\n",
       "      <td>Mumbai</td>\n",
       "      <td>5953</td>\n",
       "      <td>economy</td>\n",
       "      <td>SG-8709</td>\n",
       "      <td>1</td>\n",
       "    </tr>\n",
       "    <tr>\n",
       "      <th>1</th>\n",
       "      <td>SpiceJet</td>\n",
       "      <td>Early Morning</td>\n",
       "      <td>Delhi</td>\n",
       "      <td>2.33</td>\n",
       "      <td>0</td>\n",
       "      <td>Morning</td>\n",
       "      <td>Mumbai</td>\n",
       "      <td>5953</td>\n",
       "      <td>economy</td>\n",
       "      <td>SG-8157</td>\n",
       "      <td>1</td>\n",
       "    </tr>\n",
       "    <tr>\n",
       "      <th>2</th>\n",
       "      <td>AirAsia</td>\n",
       "      <td>Early Morning</td>\n",
       "      <td>Delhi</td>\n",
       "      <td>2.17</td>\n",
       "      <td>0</td>\n",
       "      <td>Early Morning</td>\n",
       "      <td>Mumbai</td>\n",
       "      <td>5956</td>\n",
       "      <td>economy</td>\n",
       "      <td>I5-764</td>\n",
       "      <td>1</td>\n",
       "    </tr>\n",
       "  </tbody>\n",
       "</table>\n",
       "</div>"
      ],
      "text/plain": [
       "    airline departure_time source_city  duration  stops   arrival_time  \\\n",
       "0  SpiceJet        Evening       Delhi      2.17      0          Night   \n",
       "1  SpiceJet  Early Morning       Delhi      2.33      0        Morning   \n",
       "2   AirAsia  Early Morning       Delhi      2.17      0  Early Morning   \n",
       "\n",
       "  destination_city  price    class   flight  days_left  \n",
       "0           Mumbai   5953  economy  SG-8709          1  \n",
       "1           Mumbai   5953  economy  SG-8157          1  \n",
       "2           Mumbai   5956  economy   I5-764          1  "
      ]
     },
     "execution_count": 20,
     "metadata": {},
     "output_type": "execute_result"
    }
   ],
   "source": [
    "# removing noise from price column\n",
    "new[\"price\"] = new[\"price\"].apply(lambda r: re.sub(\"[^0-9]\",\"\",r)) # taking only digits\n",
    "new[\"price\"] = new[\"price\"].astype(int) # changing object to int\n",
    "new.head(3)"
   ]
  },
  {
   "cell_type": "code",
   "execution_count": 21,
   "id": "1726a452",
   "metadata": {},
   "outputs": [],
   "source": [
    "# arranging the features \n",
    "new = new[[\"airline\",\"flight\",\"source_city\",\"departure_time\",\"stops\",\n",
    "     \"arrival_time\",\"destination_city\",\"class\",\"duration\",\"days_left\",\"price\"]]"
   ]
  },
  {
   "cell_type": "code",
   "execution_count": 22,
   "id": "e7e870a1",
   "metadata": {},
   "outputs": [],
   "source": [
    "# exporting the file in csv\n",
    "# new.to_csv(\"Clean_flight_data_shaumil.csv\", index = False)"
   ]
  },
  {
   "cell_type": "markdown",
   "id": "6f9cf4ec",
   "metadata": {},
   "source": [
    "**now we have clean data for our model**\n",
    "\n",
    "The various features of the cleaned dataset are explained below:\n",
    "\n",
    "**1) Airline:** The name of the airline company is stored in the airline column. It is a categorical feature having 6 different airlines.\n",
    "\n",
    "**2) Flight:** Flight stores information regarding the plane's flight code. It is a categorical feature.\n",
    "\n",
    "**3) Source City:** City from which the flight takes off. It is a categorical feature having 6 unique cities.\n",
    "\n",
    "**4) Departure Time:** This is a derived categorical feature obtained created by grouping time periods into bins. It stores information about the departure time and have 6 unique time labels.\n",
    "\n",
    "**5) Stops:** A categorical feature with 3 distinct values that stores the number of stops between the source and destination cities.\n",
    "\n",
    "**6) Arrival Time:** This is a derived categorical feature created by grouping time intervals into bins. It has six distinct time labels and keeps information about the arrival time.\n",
    "\n",
    "**7) Destination City:** City where the flight will land. It is a categorical feature having 6 unique cities.\n",
    "\n",
    "**8) Class:** A categorical feature that contains information on seat class; it has two distinct values: Business and Economy.\n",
    "\n",
    "**9) Duration:** A continuous feature that displays the overall amount of time it takes to travel between cities in hours.\n",
    "\n",
    "**10)Days Left:** This is a derived characteristic that is calculated by subtracting the trip date by the booking date.\n",
    "\n",
    "**11) Price:** Target variable stores information of the ticket price."
   ]
  },
  {
   "cell_type": "markdown",
   "id": "d7b57ed7",
   "metadata": {},
   "source": [
    "# EDA"
   ]
  },
  {
   "cell_type": "code",
   "execution_count": 23,
   "id": "80b92c41",
   "metadata": {},
   "outputs": [
    {
     "data": {
      "text/html": [
       "<div>\n",
       "<style scoped>\n",
       "    .dataframe tbody tr th:only-of-type {\n",
       "        vertical-align: middle;\n",
       "    }\n",
       "\n",
       "    .dataframe tbody tr th {\n",
       "        vertical-align: top;\n",
       "    }\n",
       "\n",
       "    .dataframe thead th {\n",
       "        text-align: right;\n",
       "    }\n",
       "</style>\n",
       "<table border=\"1\" class=\"dataframe\">\n",
       "  <thead>\n",
       "    <tr style=\"text-align: right;\">\n",
       "      <th></th>\n",
       "      <th>airline</th>\n",
       "      <th>flight</th>\n",
       "      <th>source_city</th>\n",
       "      <th>departure_time</th>\n",
       "      <th>stops</th>\n",
       "      <th>arrival_time</th>\n",
       "      <th>destination_city</th>\n",
       "      <th>class</th>\n",
       "      <th>duration</th>\n",
       "      <th>days_left</th>\n",
       "      <th>price</th>\n",
       "    </tr>\n",
       "  </thead>\n",
       "  <tbody>\n",
       "    <tr>\n",
       "      <th>299687</th>\n",
       "      <td>Vistara</td>\n",
       "      <td>UK-834</td>\n",
       "      <td>Chennai</td>\n",
       "      <td>Evening</td>\n",
       "      <td>1</td>\n",
       "      <td>Morning</td>\n",
       "      <td>Hyderabad</td>\n",
       "      <td>business</td>\n",
       "      <td>16.50</td>\n",
       "      <td>37</td>\n",
       "      <td>51457</td>\n",
       "    </tr>\n",
       "    <tr>\n",
       "      <th>18921</th>\n",
       "      <td>GO FIRST</td>\n",
       "      <td>G8-336</td>\n",
       "      <td>Delhi</td>\n",
       "      <td>Afternoon</td>\n",
       "      <td>1</td>\n",
       "      <td>Night</td>\n",
       "      <td>Bangalore</td>\n",
       "      <td>economy</td>\n",
       "      <td>8.42</td>\n",
       "      <td>44</td>\n",
       "      <td>4020</td>\n",
       "    </tr>\n",
       "    <tr>\n",
       "      <th>275368</th>\n",
       "      <td>Vistara</td>\n",
       "      <td>UK-860</td>\n",
       "      <td>Hyderabad</td>\n",
       "      <td>Early Morning</td>\n",
       "      <td>0</td>\n",
       "      <td>Morning</td>\n",
       "      <td>Delhi</td>\n",
       "      <td>business</td>\n",
       "      <td>2.17</td>\n",
       "      <td>12</td>\n",
       "      <td>24234</td>\n",
       "    </tr>\n",
       "    <tr>\n",
       "      <th>127873</th>\n",
       "      <td>Vistara</td>\n",
       "      <td>UK-720</td>\n",
       "      <td>Kolkata</td>\n",
       "      <td>Early Morning</td>\n",
       "      <td>1</td>\n",
       "      <td>Afternoon</td>\n",
       "      <td>Mumbai</td>\n",
       "      <td>economy</td>\n",
       "      <td>6.83</td>\n",
       "      <td>4</td>\n",
       "      <td>12210</td>\n",
       "    </tr>\n",
       "    <tr>\n",
       "      <th>279267</th>\n",
       "      <td>Air India</td>\n",
       "      <td>AI-698</td>\n",
       "      <td>Hyderabad</td>\n",
       "      <td>Night</td>\n",
       "      <td>0</td>\n",
       "      <td>Night</td>\n",
       "      <td>Mumbai</td>\n",
       "      <td>business</td>\n",
       "      <td>1.67</td>\n",
       "      <td>32</td>\n",
       "      <td>17738</td>\n",
       "    </tr>\n",
       "  </tbody>\n",
       "</table>\n",
       "</div>"
      ],
      "text/plain": [
       "          airline  flight source_city departure_time  stops arrival_time  \\\n",
       "299687    Vistara  UK-834     Chennai        Evening      1      Morning   \n",
       "18921    GO FIRST  G8-336       Delhi      Afternoon      1        Night   \n",
       "275368    Vistara  UK-860   Hyderabad  Early Morning      0      Morning   \n",
       "127873    Vistara  UK-720     Kolkata  Early Morning      1    Afternoon   \n",
       "279267  Air India  AI-698   Hyderabad          Night      0        Night   \n",
       "\n",
       "       destination_city     class  duration  days_left  price  \n",
       "299687        Hyderabad  business     16.50         37  51457  \n",
       "18921         Bangalore   economy      8.42         44   4020  \n",
       "275368            Delhi  business      2.17         12  24234  \n",
       "127873           Mumbai   economy      6.83          4  12210  \n",
       "279267           Mumbai  business      1.67         32  17738  "
      ]
     },
     "execution_count": 23,
     "metadata": {},
     "output_type": "execute_result"
    }
   ],
   "source": [
    "#making a new copy\n",
    "df = new\n",
    "df.sample(5)"
   ]
  },
  {
   "cell_type": "code",
   "execution_count": 24,
   "id": "dafc9e04",
   "metadata": {},
   "outputs": [
    {
     "data": {
      "text/plain": [
       "airline             0\n",
       "flight              0\n",
       "source_city         0\n",
       "departure_time      0\n",
       "stops               0\n",
       "arrival_time        0\n",
       "destination_city    0\n",
       "class               0\n",
       "duration            0\n",
       "days_left           0\n",
       "price               0\n",
       "dtype: int64"
      ]
     },
     "execution_count": 24,
     "metadata": {},
     "output_type": "execute_result"
    }
   ],
   "source": [
    "# getting no null values in the data frame\n",
    "df.isna().sum()"
   ]
  },
  {
   "cell_type": "code",
   "execution_count": 25,
   "id": "356ffc30",
   "metadata": {},
   "outputs": [
    {
     "name": "stdout",
     "output_type": "stream",
     "text": [
      "<class 'pandas.core.frame.DataFrame'>\n",
      "RangeIndex: 300261 entries, 0 to 300260\n",
      "Data columns (total 11 columns):\n",
      " #   Column            Non-Null Count   Dtype   \n",
      "---  ------            --------------   -----   \n",
      " 0   airline           300261 non-null  object  \n",
      " 1   flight            300261 non-null  object  \n",
      " 2   source_city       300261 non-null  object  \n",
      " 3   departure_time    300261 non-null  object  \n",
      " 4   stops             300261 non-null  int64   \n",
      " 5   arrival_time      300261 non-null  category\n",
      " 6   destination_city  300261 non-null  object  \n",
      " 7   class             300261 non-null  object  \n",
      " 8   duration          300261 non-null  float64 \n",
      " 9   days_left         300261 non-null  int64   \n",
      " 10  price             300261 non-null  int64   \n",
      "dtypes: category(1), float64(1), int64(3), object(6)\n",
      "memory usage: 23.2+ MB\n",
      "None\n"
     ]
    }
   ],
   "source": [
    "# getting all the details of the data frame\n",
    "print(df.info())"
   ]
  },
  {
   "cell_type": "code",
   "execution_count": 26,
   "id": "651c8f66",
   "metadata": {},
   "outputs": [
    {
     "data": {
      "text/html": [
       "<div>\n",
       "<style scoped>\n",
       "    .dataframe tbody tr th:only-of-type {\n",
       "        vertical-align: middle;\n",
       "    }\n",
       "\n",
       "    .dataframe tbody tr th {\n",
       "        vertical-align: top;\n",
       "    }\n",
       "\n",
       "    .dataframe thead th {\n",
       "        text-align: right;\n",
       "    }\n",
       "</style>\n",
       "<table border=\"1\" class=\"dataframe\">\n",
       "  <thead>\n",
       "    <tr style=\"text-align: right;\">\n",
       "      <th></th>\n",
       "      <th>stops</th>\n",
       "      <th>duration</th>\n",
       "      <th>days_left</th>\n",
       "      <th>price</th>\n",
       "    </tr>\n",
       "  </thead>\n",
       "  <tbody>\n",
       "    <tr>\n",
       "      <th>count</th>\n",
       "      <td>300261.000000</td>\n",
       "      <td>300261.000000</td>\n",
       "      <td>300261.000000</td>\n",
       "      <td>300261.000000</td>\n",
       "    </tr>\n",
       "    <tr>\n",
       "      <th>mean</th>\n",
       "      <td>0.924213</td>\n",
       "      <td>12.219142</td>\n",
       "      <td>26.004473</td>\n",
       "      <td>20883.717666</td>\n",
       "    </tr>\n",
       "    <tr>\n",
       "      <th>std</th>\n",
       "      <td>0.398188</td>\n",
       "      <td>7.200348</td>\n",
       "      <td>13.560985</td>\n",
       "      <td>22695.911266</td>\n",
       "    </tr>\n",
       "    <tr>\n",
       "      <th>min</th>\n",
       "      <td>0.000000</td>\n",
       "      <td>0.830000</td>\n",
       "      <td>1.000000</td>\n",
       "      <td>1105.000000</td>\n",
       "    </tr>\n",
       "    <tr>\n",
       "      <th>25%</th>\n",
       "      <td>1.000000</td>\n",
       "      <td>6.750000</td>\n",
       "      <td>15.000000</td>\n",
       "      <td>4783.000000</td>\n",
       "    </tr>\n",
       "    <tr>\n",
       "      <th>50%</th>\n",
       "      <td>1.000000</td>\n",
       "      <td>11.250000</td>\n",
       "      <td>26.000000</td>\n",
       "      <td>7425.000000</td>\n",
       "    </tr>\n",
       "    <tr>\n",
       "      <th>75%</th>\n",
       "      <td>1.000000</td>\n",
       "      <td>16.170000</td>\n",
       "      <td>38.000000</td>\n",
       "      <td>42521.000000</td>\n",
       "    </tr>\n",
       "    <tr>\n",
       "      <th>max</th>\n",
       "      <td>2.000000</td>\n",
       "      <td>103.000000</td>\n",
       "      <td>49.000000</td>\n",
       "      <td>123071.000000</td>\n",
       "    </tr>\n",
       "  </tbody>\n",
       "</table>\n",
       "</div>"
      ],
      "text/plain": [
       "               stops       duration      days_left          price\n",
       "count  300261.000000  300261.000000  300261.000000  300261.000000\n",
       "mean        0.924213      12.219142      26.004473   20883.717666\n",
       "std         0.398188       7.200348      13.560985   22695.911266\n",
       "min         0.000000       0.830000       1.000000    1105.000000\n",
       "25%         1.000000       6.750000      15.000000    4783.000000\n",
       "50%         1.000000      11.250000      26.000000    7425.000000\n",
       "75%         1.000000      16.170000      38.000000   42521.000000\n",
       "max         2.000000     103.000000      49.000000  123071.000000"
      ]
     },
     "execution_count": 26,
     "metadata": {},
     "output_type": "execute_result"
    }
   ],
   "source": [
    "# getting all statical insights of the numarical features \n",
    "df.describe()"
   ]
  },
  {
   "cell_type": "code",
   "execution_count": 27,
   "id": "ecb59f02",
   "metadata": {},
   "outputs": [
    {
     "data": {
      "text/plain": [
       "2"
      ]
     },
     "execution_count": 27,
     "metadata": {},
     "output_type": "execute_result"
    }
   ],
   "source": [
    "# we has two duplicte rows\n",
    "df.duplicated().sum()"
   ]
  },
  {
   "cell_type": "code",
   "execution_count": 28,
   "id": "be23664e",
   "metadata": {},
   "outputs": [
    {
     "data": {
      "image/png": "[encoded data removed]",
      "text/plain": [
       "<Figure size 640x480 with 1 Axes>"
      ]
     },
     "metadata": {},
     "output_type": "display_data"
    }
   ],
   "source": [
    "# checking what are the values for each category in airline feature\n",
    "df[\"airline\"].value_counts().plot(kind = \"bar\",cmap='flag')\n",
    "plt.title('Airlines',fontsize=15)\n",
    "plt.show()"
   ]
  },
  {
   "cell_type": "code",
   "execution_count": 34,
   "id": "e4eb7027",
   "metadata": {},
   "outputs": [
    {
     "data": {
      "image/png": "[encoded data removed]",
      "text/plain": [
       "<Figure size 500x500 with 1 Axes>"
      ]
     },
     "metadata": {},
     "output_type": "display_data"
    }
   ],
   "source": [
    "# checking what are the percentage values for each category in ticket class feature\n",
    "plt.figure(figsize = (5,5))\n",
    "df['class'].value_counts().plot(kind = \"pie\",autopct = \"%.2f\",cmap = \"summer\" )\n",
    "plt.title('Ticket Class',fontsize=15)\n",
    "plt.show()"
   ]
  },
  {
   "cell_type": "markdown",
   "id": "30935e71",
   "metadata": {},
   "source": [
    "**Q1) Does price vary with Airlines?**\n",
    "\n",
    "Trujet is the cheapest airline and Vistara is the most expansive one"
   ]
  },
  {
   "cell_type": "code",
   "execution_count": 35,
   "id": "922d85f3",
   "metadata": {},
   "outputs": [
    {
     "data": {
      "image/png": "[encoded data removed]",
      "text/plain": [
       "<Figure size 640x480 with 1 Axes>"
      ]
     },
     "metadata": {},
     "output_type": "display_data"
    }
   ],
   "source": [
    "s = df.groupby(\"airline\")[\"price\"].mean().sort_values()\n",
    "s.plot(kind = \"barh\",cmap = \"winter_r\")\n",
    "plt.ylabel(\"AIRLINE\")\n",
    "plt.xlabel(\"AVG PRICE\")\n",
    "plt.title(\"AVERAGE PRICE OF EACH AIRLINE\")\n",
    "plt.show()"
   ]
  },
  {
   "cell_type": "markdown",
   "id": "b9b5a62a",
   "metadata": {},
   "source": [
    "##### Q2. How is the price affected when tickets are bought in just 1 or 2 days before departure?\n",
    "**Ans:** Yes price is affected when tickets are bought in just 1 or 2 days before"
   ]
  },
  {
   "cell_type": "code",
   "execution_count": 36,
   "id": "d03ad4a2",
   "metadata": {},
   "outputs": [
    {
     "data": {
      "image/png": "[encoded data removed]",
      "text/plain": [
       "<Figure size 1500x500 with 1 Axes>"
      ]
     },
     "metadata": {},
     "output_type": "display_data"
    }
   ],
   "source": [
    "plt.figure(figsize = (15,5))\n",
    "s = df.groupby([\"days_left\"])[\"price\"].max().sort_values()\n",
    "s.plot(kind = \"bar\",cmap = \"winter_r\")\n",
    "plt.ylabel(\"AVG PRICE\")\n",
    "plt.xlabel(\"DAYS BEFORE DEPARTURE\")\n",
    "plt.title(\"AVERAGE PRICE ON THE BASIS OF DAYS BEFORE DEPARTURE \")\n",
    "plt.show()"
   ]
  },
  {
   "cell_type": "markdown",
   "id": "0f15c233",
   "metadata": {},
   "source": [
    "##### Q3.  Does ticket price change based on the departure time and arrival time?\n",
    "**Ans:** \n",
    "**1. departure vs ticket price**\n",
    "\n",
    "Ticket Price is More for the Flights when the Departure Time is at Night\n",
    "\n",
    "Ticket Price is almost equal for flights Having Departure time at Early_morning , Morning and Evening\n",
    "\n",
    "Ticket Price is Low for the Flights Having Departure Time at Late_night\n"
   ]
  },
  {
   "cell_type": "code",
   "execution_count": 37,
   "id": "9254e6cb",
   "metadata": {},
   "outputs": [
    {
     "data": {
      "text/plain": [
       "<seaborn.axisgrid.FacetGrid at 0x7fb811f07610>"
      ]
     },
     "execution_count": 37,
     "metadata": {},
     "output_type": "execute_result"
    },
    {
     "data": {
      "image/png": "[encoded data removed]",
      "text/plain": [
       "<Figure size 1000x500 with 1 Axes>"
      ]
     },
     "metadata": {},
     "output_type": "display_data"
    }
   ],
   "source": [
    "sns.catplot(x='departure_time',y='price',kind='strip',data=df,color = \"c\",aspect = 2)"
   ]
  },
  {
   "cell_type": "markdown",
   "id": "e9b6f745",
   "metadata": {},
   "source": [
    "**2. Arrival Time Vs Ticket Price**\n",
    "\n",
    "Ticket Price is More for the Flights when the Arrival Time is at Evening\n",
    "\n",
    "Ticket Price is almost equal for flights Having Arrival time is at Morning and Night\n",
    "\n",
    "Ticket Price is Low for the Flights Having Arrival Time at Late_night as same as Departure Time"
   ]
  },
  {
   "cell_type": "code",
   "execution_count": 38,
   "id": "43ab12d9",
   "metadata": {},
   "outputs": [
    {
     "data": {
      "text/plain": [
       "<seaborn.axisgrid.FacetGrid at 0x7fb8107f3160>"
      ]
     },
     "execution_count": 38,
     "metadata": {},
     "output_type": "execute_result"
    },
    {
     "data": {
      "image/png": "[encoded data removed]",
      "text/plain": [
       "<Figure size 1000x500 with 1 Axes>"
      ]
     },
     "metadata": {},
     "output_type": "display_data"
    }
   ],
   "source": [
    "sns.catplot(x='arrival_time',y='price',kind='strip',data=df,color = \"c\",aspect = 2)"
   ]
  },
  {
   "cell_type": "markdown",
   "id": "791bd874",
   "metadata": {},
   "source": [
    "##### Q4. How the price changes with change in Source and Destination?\n",
    "**Ans:** **1. Source City Vs Ticket Price**\n",
    "\n",
    "Ticket Price is More for the Flights whose Source City is Kolkata\n",
    "\n",
    "Ticket Price is almost equal for flights Having Source Cities as Mumbai and chennai , delhi and Bangalore\n",
    "\n",
    "Ticket Price is Low for the Flights Having Source City as Hydrabad"
   ]
  },
  {
   "cell_type": "code",
   "execution_count": 39,
   "id": "7ffc61e8",
   "metadata": {},
   "outputs": [
    {
     "data": {
      "text/plain": [
       "<seaborn.axisgrid.FacetGrid at 0x7fb7fbfd92e0>"
      ]
     },
     "execution_count": 39,
     "metadata": {},
     "output_type": "execute_result"
    },
    {
     "data": {
      "image/png": "[encoded data removed]",
      "text/plain": [
       "<Figure size 1000x500 with 1 Axes>"
      ]
     },
     "metadata": {},
     "output_type": "display_data"
    }
   ],
   "source": [
    "sns.catplot(x='source_city',y='price',kind='strip',data=df,color = \"y\",aspect = 2)"
   ]
  },
  {
   "cell_type": "markdown",
   "id": "0aa3c93d",
   "metadata": {},
   "source": [
    "**2. Destination City Vs Ticket Price**\n",
    "\n",
    "Ticket Price is More for the Flights whose Destination City is kolkata and Delhi\n",
    "\n",
    "Ticket Price is almost equal for flights Having Destination Cities as Mumbai and Bangalore\n",
    "\n",
    "Ticket Price is Low for the Flights Having Destination City as Chennai"
   ]
  },
  {
   "cell_type": "code",
   "execution_count": 40,
   "id": "159a4e24",
   "metadata": {},
   "outputs": [
    {
     "data": {
      "text/plain": [
       "<seaborn.axisgrid.FacetGrid at 0x7fb7fcb9cbb0>"
      ]
     },
     "execution_count": 40,
     "metadata": {},
     "output_type": "execute_result"
    },
    {
     "data": {
      "image/png": "[encoded data removed]",
      "text/plain": [
       "<Figure size 1000x500 with 1 Axes>"
      ]
     },
     "metadata": {},
     "output_type": "display_data"
    }
   ],
   "source": [
    "sns.catplot(x='destination_city',y='price',kind='strip',data=df,color = \"g\",aspect = 2)"
   ]
  },
  {
   "cell_type": "code",
   "execution_count": 41,
   "id": "e1ad44c7",
   "metadata": {},
   "outputs": [
    {
     "data": {
      "text/html": [
       "<div>\n",
       "<style scoped>\n",
       "    .dataframe tbody tr th:only-of-type {\n",
       "        vertical-align: middle;\n",
       "    }\n",
       "\n",
       "    .dataframe tbody tr th {\n",
       "        vertical-align: top;\n",
       "    }\n",
       "\n",
       "    .dataframe thead th {\n",
       "        text-align: right;\n",
       "    }\n",
       "</style>\n",
       "<table border=\"1\" class=\"dataframe\">\n",
       "  <thead>\n",
       "    <tr style=\"text-align: right;\">\n",
       "      <th></th>\n",
       "      <th>airline</th>\n",
       "      <th>source_city</th>\n",
       "      <th>destination_city</th>\n",
       "      <th>price</th>\n",
       "    </tr>\n",
       "  </thead>\n",
       "  <tbody>\n",
       "    <tr>\n",
       "      <th>0</th>\n",
       "      <td>Air India</td>\n",
       "      <td>Bangalore</td>\n",
       "      <td>Chennai</td>\n",
       "      <td>26765.567702</td>\n",
       "    </tr>\n",
       "    <tr>\n",
       "      <th>1</th>\n",
       "      <td>Air India</td>\n",
       "      <td>Bangalore</td>\n",
       "      <td>Delhi</td>\n",
       "      <td>20699.099886</td>\n",
       "    </tr>\n",
       "    <tr>\n",
       "      <th>2</th>\n",
       "      <td>Air India</td>\n",
       "      <td>Bangalore</td>\n",
       "      <td>Hyderabad</td>\n",
       "      <td>23395.956912</td>\n",
       "    </tr>\n",
       "    <tr>\n",
       "      <th>3</th>\n",
       "      <td>Air India</td>\n",
       "      <td>Bangalore</td>\n",
       "      <td>Kolkata</td>\n",
       "      <td>29105.826259</td>\n",
       "    </tr>\n",
       "    <tr>\n",
       "      <th>4</th>\n",
       "      <td>Air India</td>\n",
       "      <td>Bangalore</td>\n",
       "      <td>Mumbai</td>\n",
       "      <td>25625.530802</td>\n",
       "    </tr>\n",
       "    <tr>\n",
       "      <th>...</th>\n",
       "      <td>...</td>\n",
       "      <td>...</td>\n",
       "      <td>...</td>\n",
       "      <td>...</td>\n",
       "    </tr>\n",
       "    <tr>\n",
       "      <th>178</th>\n",
       "      <td>Vistara</td>\n",
       "      <td>Mumbai</td>\n",
       "      <td>Bangalore</td>\n",
       "      <td>35029.880315</td>\n",
       "    </tr>\n",
       "    <tr>\n",
       "      <th>179</th>\n",
       "      <td>Vistara</td>\n",
       "      <td>Mumbai</td>\n",
       "      <td>Chennai</td>\n",
       "      <td>32181.946251</td>\n",
       "    </tr>\n",
       "    <tr>\n",
       "      <th>180</th>\n",
       "      <td>Vistara</td>\n",
       "      <td>Mumbai</td>\n",
       "      <td>Delhi</td>\n",
       "      <td>26402.695114</td>\n",
       "    </tr>\n",
       "    <tr>\n",
       "      <th>181</th>\n",
       "      <td>Vistara</td>\n",
       "      <td>Mumbai</td>\n",
       "      <td>Hyderabad</td>\n",
       "      <td>29497.578017</td>\n",
       "    </tr>\n",
       "    <tr>\n",
       "      <th>182</th>\n",
       "      <td>Vistara</td>\n",
       "      <td>Mumbai</td>\n",
       "      <td>Kolkata</td>\n",
       "      <td>35223.862417</td>\n",
       "    </tr>\n",
       "  </tbody>\n",
       "</table>\n",
       "<p>183 rows × 4 columns</p>\n",
       "</div>"
      ],
      "text/plain": [
       "       airline source_city destination_city         price\n",
       "0    Air India   Bangalore          Chennai  26765.567702\n",
       "1    Air India   Bangalore            Delhi  20699.099886\n",
       "2    Air India   Bangalore        Hyderabad  23395.956912\n",
       "3    Air India   Bangalore          Kolkata  29105.826259\n",
       "4    Air India   Bangalore           Mumbai  25625.530802\n",
       "..         ...         ...              ...           ...\n",
       "178    Vistara      Mumbai        Bangalore  35029.880315\n",
       "179    Vistara      Mumbai          Chennai  32181.946251\n",
       "180    Vistara      Mumbai            Delhi  26402.695114\n",
       "181    Vistara      Mumbai        Hyderabad  29497.578017\n",
       "182    Vistara      Mumbai          Kolkata  35223.862417\n",
       "\n",
       "[183 rows x 4 columns]"
      ]
     },
     "execution_count": 41,
     "metadata": {},
     "output_type": "execute_result"
    }
   ],
   "source": [
    "# The price variation between source and destination in each airline\n",
    "df.groupby(['airline','source_city','destination_city'],as_index=False)['price'].mean()"
   ]
  },
  {
   "cell_type": "code",
   "execution_count": 42,
   "id": "84921f1d",
   "metadata": {},
   "outputs": [
    {
     "data": {
      "text/html": [
       "<div>\n",
       "<style scoped>\n",
       "    .dataframe tbody tr th:only-of-type {\n",
       "        vertical-align: middle;\n",
       "    }\n",
       "\n",
       "    .dataframe tbody tr th {\n",
       "        vertical-align: top;\n",
       "    }\n",
       "\n",
       "    .dataframe thead th {\n",
       "        text-align: right;\n",
       "    }\n",
       "</style>\n",
       "<table border=\"1\" class=\"dataframe\">\n",
       "  <thead>\n",
       "    <tr style=\"text-align: right;\">\n",
       "      <th>source_city</th>\n",
       "      <th>Bangalore</th>\n",
       "      <th>Chennai</th>\n",
       "      <th>Delhi</th>\n",
       "      <th>Hyderabad</th>\n",
       "      <th>Kolkata</th>\n",
       "      <th>Mumbai</th>\n",
       "    </tr>\n",
       "    <tr>\n",
       "      <th>destination_city</th>\n",
       "      <th></th>\n",
       "      <th></th>\n",
       "      <th></th>\n",
       "      <th></th>\n",
       "      <th></th>\n",
       "      <th></th>\n",
       "    </tr>\n",
       "  </thead>\n",
       "  <tbody>\n",
       "    <tr>\n",
       "      <th>Bangalore</th>\n",
       "      <td>NaN</td>\n",
       "      <td>25081.850454</td>\n",
       "      <td>17880.216315</td>\n",
       "      <td>21245.945429</td>\n",
       "      <td>22744.808428</td>\n",
       "      <td>23147.873807</td>\n",
       "    </tr>\n",
       "    <tr>\n",
       "      <th>Chennai</th>\n",
       "      <td>23321.850078</td>\n",
       "      <td>NaN</td>\n",
       "      <td>19369.881354</td>\n",
       "      <td>21848.065989</td>\n",
       "      <td>23660.361040</td>\n",
       "      <td>22781.899112</td>\n",
       "    </tr>\n",
       "    <tr>\n",
       "      <th>Delhi</th>\n",
       "      <td>17723.313972</td>\n",
       "      <td>18981.863948</td>\n",
       "      <td>NaN</td>\n",
       "      <td>17242.639473</td>\n",
       "      <td>19422.354559</td>\n",
       "      <td>18725.320008</td>\n",
       "    </tr>\n",
       "    <tr>\n",
       "      <th>Hyderabad</th>\n",
       "      <td>21152.051053</td>\n",
       "      <td>21591.345404</td>\n",
       "      <td>17347.288379</td>\n",
       "      <td>NaN</td>\n",
       "      <td>21500.011397</td>\n",
       "      <td>20992.128567</td>\n",
       "    </tr>\n",
       "    <tr>\n",
       "      <th>Kolkata</th>\n",
       "      <td>23498.234221</td>\n",
       "      <td>22669.932407</td>\n",
       "      <td>20566.409418</td>\n",
       "      <td>20823.893201</td>\n",
       "      <td>NaN</td>\n",
       "      <td>22379.146723</td>\n",
       "    </tr>\n",
       "    <tr>\n",
       "      <th>Mumbai</th>\n",
       "      <td>23127.231376</td>\n",
       "      <td>22765.849647</td>\n",
       "      <td>19354.405336</td>\n",
       "      <td>20065.715179</td>\n",
       "      <td>22078.883579</td>\n",
       "      <td>NaN</td>\n",
       "    </tr>\n",
       "  </tbody>\n",
       "</table>\n",
       "</div>"
      ],
      "text/plain": [
       "source_city          Bangalore       Chennai         Delhi     Hyderabad  \\\n",
       "destination_city                                                           \n",
       "Bangalore                  NaN  25081.850454  17880.216315  21245.945429   \n",
       "Chennai           23321.850078           NaN  19369.881354  21848.065989   \n",
       "Delhi             17723.313972  18981.863948           NaN  17242.639473   \n",
       "Hyderabad         21152.051053  21591.345404  17347.288379           NaN   \n",
       "Kolkata           23498.234221  22669.932407  20566.409418  20823.893201   \n",
       "Mumbai            23127.231376  22765.849647  19354.405336  20065.715179   \n",
       "\n",
       "source_city            Kolkata        Mumbai  \n",
       "destination_city                              \n",
       "Bangalore         22744.808428  23147.873807  \n",
       "Chennai           23660.361040  22781.899112  \n",
       "Delhi             19422.354559  18725.320008  \n",
       "Hyderabad         21500.011397  20992.128567  \n",
       "Kolkata                    NaN  22379.146723  \n",
       "Mumbai            22078.883579           NaN  "
      ]
     },
     "execution_count": 42,
     "metadata": {},
     "output_type": "execute_result"
    }
   ],
   "source": [
    "# here is the average price between city \n",
    "pd.pivot_table(data = df,columns = \"source_city\",index = \"destination_city\", values = \"price\")"
   ]
  },
  {
   "cell_type": "code",
   "execution_count": 43,
   "id": "f8c5f61f",
   "metadata": {},
   "outputs": [
    {
     "data": {
      "text/plain": [
       "<AxesSubplot:xlabel='destination_city'>"
      ]
     },
     "execution_count": 43,
     "metadata": {},
     "output_type": "execute_result"
    },
    {
     "data": {
      "image/png": "[encoded data removed]",
      "text/plain": [
       "<Figure size 1500x500 with 1 Axes>"
      ]
     },
     "metadata": {},
     "output_type": "display_data"
    }
   ],
   "source": [
    "# Plotting the information regarding price variance between cities\n",
    "_ = pd.crosstab(columns = df[\"source_city\"],index = df[\"destination_city\"], values = df[\"price\"], aggfunc=\"mean\")\n",
    "_.plot(kind = \"bar\",figsize = (15,5))"
   ]
  },
  {
   "cell_type": "markdown",
   "id": "16fd04d8",
   "metadata": {},
   "source": [
    "##### Q5. How does the ticket price vary between Economy and Business class?\n",
    "**Ans:** The business class price is higher than economy class"
   ]
  },
  {
   "cell_type": "code",
   "execution_count": 44,
   "id": "2a662242",
   "metadata": {},
   "outputs": [
    {
     "data": {
      "text/plain": [
       "<seaborn.axisgrid.FacetGrid at 0x7fb7fc19dca0>"
      ]
     },
     "execution_count": 44,
     "metadata": {},
     "output_type": "execute_result"
    },
    {
     "data": {
      "image/png": "[encoded data removed]",
      "text/plain": [
       "<Figure size 500x500 with 1 Axes>"
      ]
     },
     "metadata": {},
     "output_type": "display_data"
    }
   ],
   "source": [
    "sns.catplot(data = df, x = \"class\", y = \"price\", aspect = 1,height = 5)"
   ]
  },
  {
   "cell_type": "code",
   "execution_count": 45,
   "id": "81bf46c1",
   "metadata": {},
   "outputs": [
    {
     "data": {
      "text/plain": [
       "<seaborn.axisgrid.FacetGrid at 0x7fb7f5511ca0>"
      ]
     },
     "execution_count": 45,
     "metadata": {},
     "output_type": "execute_result"
    },
    {
     "data": {
      "image/png": "[encoded data removed]",
      "text/plain": [
       "<Figure size 1113.62x500 with 1 Axes>"
      ]
     },
     "metadata": {},
     "output_type": "display_data"
    }
   ],
   "source": [
    "sns.catplot(data = df, x = \"airline\", y = \"price\", \n",
    "            hue = \"class\", jitter = 0.2, aspect = 2,height = 5)"
   ]
  },
  {
   "cell_type": "code",
   "execution_count": 46,
   "id": "6e410b3d",
   "metadata": {},
   "outputs": [
    {
     "data": {
      "text/plain": [
       "<AxesSubplot:>"
      ]
     },
     "execution_count": 46,
     "metadata": {},
     "output_type": "execute_result"
    },
    {
     "data": {
      "image/png": "[encoded data removed]",
      "text/plain": [
       "<Figure size 640x480 with 1 Axes>"
      ]
     },
     "metadata": {},
     "output_type": "display_data"
    }
   ],
   "source": [
    "#  We can see that we have outliers in duration feature but we will not replace them\n",
    "#  in place of replacing them we will reduce their effect as it is \n",
    "#  the real time, which is taken by flight from source and destination\n",
    "df.boxplot(column =\"duration\")"
   ]
  },
  {
   "cell_type": "code",
   "execution_count": 47,
   "id": "ef100eba",
   "metadata": {},
   "outputs": [
    {
     "data": {
      "text/plain": [
       "<AxesSubplot:>"
      ]
     },
     "execution_count": 47,
     "metadata": {},
     "output_type": "execute_result"
    },
    {
     "data": {
      "image/png": "[encoded data removed]",
      "text/plain": [
       "<Figure size 640x480 with 1 Axes>"
      ]
     },
     "metadata": {},
     "output_type": "display_data"
    }
   ],
   "source": [
    "df.boxplot(column =\"days_left\") # no outliers are found"
   ]
  },
  {
   "cell_type": "markdown",
   "id": "c324c477",
   "metadata": {},
   "source": [
    "# 4. Feature Engineering"
   ]
  },
  {
   "cell_type": "code",
   "execution_count": 48,
   "id": "fcd290d7",
   "metadata": {},
   "outputs": [],
   "source": [
    "# dropping the duplicate rows\n",
    "df.drop_duplicates(inplace = True)"
   ]
  },
  {
   "cell_type": "code",
   "execution_count": 49,
   "id": "525d3ebb",
   "metadata": {},
   "outputs": [
    {
     "data": {
      "text/html": [
       "<div>\n",
       "<style scoped>\n",
       "    .dataframe tbody tr th:only-of-type {\n",
       "        vertical-align: middle;\n",
       "    }\n",
       "\n",
       "    .dataframe tbody tr th {\n",
       "        vertical-align: top;\n",
       "    }\n",
       "\n",
       "    .dataframe thead th {\n",
       "        text-align: right;\n",
       "    }\n",
       "</style>\n",
       "<table border=\"1\" class=\"dataframe\">\n",
       "  <thead>\n",
       "    <tr style=\"text-align: right;\">\n",
       "      <th></th>\n",
       "      <th>airline</th>\n",
       "      <th>flight</th>\n",
       "      <th>source_city</th>\n",
       "      <th>departure_time</th>\n",
       "      <th>stops</th>\n",
       "      <th>arrival_time</th>\n",
       "      <th>destination_city</th>\n",
       "      <th>class</th>\n",
       "      <th>duration</th>\n",
       "      <th>days_left</th>\n",
       "      <th>price</th>\n",
       "    </tr>\n",
       "  </thead>\n",
       "  <tbody>\n",
       "    <tr>\n",
       "      <th>0</th>\n",
       "      <td>SpiceJet</td>\n",
       "      <td>SG-8709</td>\n",
       "      <td>Delhi</td>\n",
       "      <td>Evening</td>\n",
       "      <td>0</td>\n",
       "      <td>Night</td>\n",
       "      <td>Mumbai</td>\n",
       "      <td>economy</td>\n",
       "      <td>2.17</td>\n",
       "      <td>1</td>\n",
       "      <td>5953</td>\n",
       "    </tr>\n",
       "  </tbody>\n",
       "</table>\n",
       "</div>"
      ],
      "text/plain": [
       "    airline   flight source_city departure_time  stops arrival_time  \\\n",
       "0  SpiceJet  SG-8709       Delhi        Evening      0        Night   \n",
       "\n",
       "  destination_city    class  duration  days_left  price  \n",
       "0           Mumbai  economy      2.17          1   5953  "
      ]
     },
     "execution_count": 49,
     "metadata": {},
     "output_type": "execute_result"
    }
   ],
   "source": [
    "df.head(1)"
   ]
  },
  {
   "cell_type": "code",
   "execution_count": 50,
   "id": "ad60c673",
   "metadata": {},
   "outputs": [
    {
     "data": {
      "text/html": [
       "<div>\n",
       "<style scoped>\n",
       "    .dataframe tbody tr th:only-of-type {\n",
       "        vertical-align: middle;\n",
       "    }\n",
       "\n",
       "    .dataframe tbody tr th {\n",
       "        vertical-align: top;\n",
       "    }\n",
       "\n",
       "    .dataframe thead th {\n",
       "        text-align: right;\n",
       "    }\n",
       "</style>\n",
       "<table border=\"1\" class=\"dataframe\">\n",
       "  <thead>\n",
       "    <tr style=\"text-align: right;\">\n",
       "      <th></th>\n",
       "      <th>airline</th>\n",
       "      <th>source_city</th>\n",
       "      <th>departure_time</th>\n",
       "      <th>stops</th>\n",
       "      <th>arrival_time</th>\n",
       "      <th>destination_city</th>\n",
       "      <th>class</th>\n",
       "      <th>duration</th>\n",
       "      <th>days_left</th>\n",
       "      <th>price</th>\n",
       "    </tr>\n",
       "  </thead>\n",
       "  <tbody>\n",
       "    <tr>\n",
       "      <th>0</th>\n",
       "      <td>SpiceJet</td>\n",
       "      <td>Delhi</td>\n",
       "      <td>Evening</td>\n",
       "      <td>0</td>\n",
       "      <td>Night</td>\n",
       "      <td>Mumbai</td>\n",
       "      <td>economy</td>\n",
       "      <td>2.17</td>\n",
       "      <td>1</td>\n",
       "      <td>5953</td>\n",
       "    </tr>\n",
       "  </tbody>\n",
       "</table>\n",
       "</div>"
      ],
      "text/plain": [
       "    airline source_city departure_time  stops arrival_time destination_city  \\\n",
       "0  SpiceJet       Delhi        Evening      0        Night           Mumbai   \n",
       "\n",
       "     class  duration  days_left  price  \n",
       "0  economy      2.17          1   5953  "
      ]
     },
     "execution_count": 50,
     "metadata": {},
     "output_type": "execute_result"
    }
   ],
   "source": [
    "#as we have seen that we are getting information from airline so we have no need for flight feature\n",
    "df1 = df.drop(\"flight\", axis = 1)\n",
    "df1.head(1)"
   ]
  },
  {
   "cell_type": "code",
   "execution_count": 51,
   "id": "68244368",
   "metadata": {},
   "outputs": [
    {
     "data": {
      "text/html": [
       "<div>\n",
       "<style scoped>\n",
       "    .dataframe tbody tr th:only-of-type {\n",
       "        vertical-align: middle;\n",
       "    }\n",
       "\n",
       "    .dataframe tbody tr th {\n",
       "        vertical-align: top;\n",
       "    }\n",
       "\n",
       "    .dataframe thead th {\n",
       "        text-align: right;\n",
       "    }\n",
       "</style>\n",
       "<table border=\"1\" class=\"dataframe\">\n",
       "  <thead>\n",
       "    <tr style=\"text-align: right;\">\n",
       "      <th></th>\n",
       "      <th>airline</th>\n",
       "      <th>source_city</th>\n",
       "      <th>departure_time</th>\n",
       "      <th>stops</th>\n",
       "      <th>arrival_time</th>\n",
       "      <th>destination_city</th>\n",
       "      <th>class</th>\n",
       "      <th>duration</th>\n",
       "      <th>days_left</th>\n",
       "      <th>price</th>\n",
       "    </tr>\n",
       "  </thead>\n",
       "  <tbody>\n",
       "    <tr>\n",
       "      <th>0</th>\n",
       "      <td>SpiceJet</td>\n",
       "      <td>Delhi</td>\n",
       "      <td>4</td>\n",
       "      <td>0</td>\n",
       "      <td>5</td>\n",
       "      <td>Mumbai</td>\n",
       "      <td>0</td>\n",
       "      <td>2.17</td>\n",
       "      <td>1</td>\n",
       "      <td>5953</td>\n",
       "    </tr>\n",
       "    <tr>\n",
       "      <th>1</th>\n",
       "      <td>SpiceJet</td>\n",
       "      <td>Delhi</td>\n",
       "      <td>1</td>\n",
       "      <td>0</td>\n",
       "      <td>2</td>\n",
       "      <td>Mumbai</td>\n",
       "      <td>0</td>\n",
       "      <td>2.33</td>\n",
       "      <td>1</td>\n",
       "      <td>5953</td>\n",
       "    </tr>\n",
       "    <tr>\n",
       "      <th>2</th>\n",
       "      <td>AirAsia</td>\n",
       "      <td>Delhi</td>\n",
       "      <td>1</td>\n",
       "      <td>0</td>\n",
       "      <td>1</td>\n",
       "      <td>Mumbai</td>\n",
       "      <td>0</td>\n",
       "      <td>2.17</td>\n",
       "      <td>1</td>\n",
       "      <td>5956</td>\n",
       "    </tr>\n",
       "  </tbody>\n",
       "</table>\n",
       "</div>"
      ],
      "text/plain": [
       "    airline source_city  departure_time  stops arrival_time destination_city  \\\n",
       "0  SpiceJet       Delhi               4      0            5           Mumbai   \n",
       "1  SpiceJet       Delhi               1      0            2           Mumbai   \n",
       "2   AirAsia       Delhi               1      0            1           Mumbai   \n",
       "\n",
       "   class  duration  days_left  price  \n",
       "0      0      2.17          1   5953  \n",
       "1      0      2.33          1   5953  \n",
       "2      0      2.17          1   5956  "
      ]
     },
     "execution_count": 51,
     "metadata": {},
     "output_type": "execute_result"
    }
   ],
   "source": [
    "# as we know we have ordinal data in the following featues so we directly replace them according to order\n",
    "df1[\"departure_time\"].replace({'Late Night':0,'Early Morning':1,'Morning':2,\n",
    "                               'Afternoon':3,'Evening':4,'Night':5},inplace=True)\n",
    "df1[\"arrival_time\"].replace({'Late Night':0,'Early Morning':1,'Morning':2,\n",
    "                             'Afternoon':3,'Evening':4,'Night':5},inplace=True)\n",
    "df1[\"class\"].replace({\"economy\":0,\"business\":1},inplace=True)\n",
    "df1.head(3)"
   ]
  },
  {
   "cell_type": "code",
   "execution_count": 52,
   "id": "7fd6e1b4",
   "metadata": {},
   "outputs": [
    {
     "data": {
      "text/html": [
       "<div>\n",
       "<style scoped>\n",
       "    .dataframe tbody tr th:only-of-type {\n",
       "        vertical-align: middle;\n",
       "    }\n",
       "\n",
       "    .dataframe tbody tr th {\n",
       "        vertical-align: top;\n",
       "    }\n",
       "\n",
       "    .dataframe thead th {\n",
       "        text-align: right;\n",
       "    }\n",
       "</style>\n",
       "<table border=\"1\" class=\"dataframe\">\n",
       "  <thead>\n",
       "    <tr style=\"text-align: right;\">\n",
       "      <th></th>\n",
       "      <th>departure_time</th>\n",
       "      <th>stops</th>\n",
       "      <th>arrival_time</th>\n",
       "      <th>class</th>\n",
       "      <th>duration</th>\n",
       "      <th>days_left</th>\n",
       "      <th>price</th>\n",
       "      <th>SpiceJet</th>\n",
       "      <th>AirAsia</th>\n",
       "      <th>Vistara</th>\n",
       "      <th>...</th>\n",
       "      <th>destination_city_Delhi</th>\n",
       "      <th>destination_city_Hyderabad</th>\n",
       "      <th>destination_city_Kolkata</th>\n",
       "      <th>destination_city_Mumbai</th>\n",
       "      <th>source_city_Bangalore</th>\n",
       "      <th>source_city_Chennai</th>\n",
       "      <th>source_city_Delhi</th>\n",
       "      <th>source_city_Hyderabad</th>\n",
       "      <th>source_city_Kolkata</th>\n",
       "      <th>source_city_Mumbai</th>\n",
       "    </tr>\n",
       "  </thead>\n",
       "  <tbody>\n",
       "    <tr>\n",
       "      <th>0</th>\n",
       "      <td>4</td>\n",
       "      <td>0</td>\n",
       "      <td>5</td>\n",
       "      <td>0</td>\n",
       "      <td>2.17</td>\n",
       "      <td>1</td>\n",
       "      <td>5953</td>\n",
       "      <td>0.0</td>\n",
       "      <td>0.0</td>\n",
       "      <td>0.0</td>\n",
       "      <td>...</td>\n",
       "      <td>0</td>\n",
       "      <td>0</td>\n",
       "      <td>0</td>\n",
       "      <td>1</td>\n",
       "      <td>0</td>\n",
       "      <td>0</td>\n",
       "      <td>1</td>\n",
       "      <td>0</td>\n",
       "      <td>0</td>\n",
       "      <td>0</td>\n",
       "    </tr>\n",
       "  </tbody>\n",
       "</table>\n",
       "<p>1 rows × 27 columns</p>\n",
       "</div>"
      ],
      "text/plain": [
       "   departure_time  stops arrival_time  class  duration  days_left  price  \\\n",
       "0               4      0            5      0      2.17          1   5953   \n",
       "\n",
       "   SpiceJet  AirAsia  Vistara  ...  destination_city_Delhi  \\\n",
       "0       0.0      0.0      0.0  ...                       0   \n",
       "\n",
       "   destination_city_Hyderabad  destination_city_Kolkata  \\\n",
       "0                           0                         0   \n",
       "\n",
       "   destination_city_Mumbai  source_city_Bangalore  source_city_Chennai  \\\n",
       "0                        1                      0                    0   \n",
       "\n",
       "   source_city_Delhi  source_city_Hyderabad  source_city_Kolkata  \\\n",
       "0                  1                      0                    0   \n",
       "\n",
       "   source_city_Mumbai  \n",
       "0                   0  \n",
       "\n",
       "[1 rows x 27 columns]"
      ]
     },
     "execution_count": 52,
     "metadata": {},
     "output_type": "execute_result"
    }
   ],
   "source": [
    "from sklearn.preprocessing import OneHotEncoder\n",
    "ohe = OneHotEncoder()\n",
    "df1[list(df1[\"airline\"].unique())] = ohe.fit_transform(df1[[\"airline\"]]).A # making sparse metrics to metrics\n",
    "df1 = pd.concat([df1,pd.get_dummies(df1[\"destination_city\"],prefix = \"destination_city\")], axis = 1)\n",
    "df1 = pd.concat([df1,pd.get_dummies(df1[\"source_city\"],prefix = \"source_city\")], axis = 1)\n",
    "df1.drop([\"airline\",\"source_city\",\"destination_city\"],axis = 1,inplace=True)\n",
    "df1.head(1)"
   ]
  },
  {
   "cell_type": "markdown",
   "id": "0886d8d5",
   "metadata": {},
   "source": [
    "# 5. Feature Selection"
   ]
  },
  {
   "cell_type": "code",
   "execution_count": 53,
   "id": "5f91d9d7",
   "metadata": {},
   "outputs": [],
   "source": [
    "# As we can see there is low dimentionality of the data no need for high feature selections\n",
    "# if we will drop some featuers so there is high chances that our model will be undercutted. \n",
    "# That's why we will see the model perfomance without feature selection first."
   ]
  },
  {
   "cell_type": "markdown",
   "id": "60cd335c",
   "metadata": {},
   "source": [
    "# 6. Model Selection and Training"
   ]
  },
  {
   "cell_type": "code",
   "execution_count": 54,
   "id": "76ae0e72",
   "metadata": {},
   "outputs": [
    {
     "data": {
      "text/plain": [
       "departure_time                   int64\n",
       "stops                            int64\n",
       "arrival_time                  category\n",
       "class                            int64\n",
       "duration                       float64\n",
       "days_left                        int64\n",
       "price                            int64\n",
       "SpiceJet                       float64\n",
       "AirAsia                        float64\n",
       "Vistara                        float64\n",
       "GO FIRST                       float64\n",
       "Indigo                         float64\n",
       "Air India                      float64\n",
       "Trujet                         float64\n",
       "StarAir                        float64\n",
       "destination_city_Bangalore       uint8\n",
       "destination_city_Chennai         uint8\n",
       "destination_city_Delhi           uint8\n",
       "destination_city_Hyderabad       uint8\n",
       "destination_city_Kolkata         uint8\n",
       "destination_city_Mumbai          uint8\n",
       "source_city_Bangalore            uint8\n",
       "source_city_Chennai              uint8\n",
       "source_city_Delhi                uint8\n",
       "source_city_Hyderabad            uint8\n",
       "source_city_Kolkata              uint8\n",
       "source_city_Mumbai               uint8\n",
       "dtype: object"
      ]
     },
     "execution_count": 54,
     "metadata": {},
     "output_type": "execute_result"
    }
   ],
   "source": [
    "df1.dtypes"
   ]
  },
  {
   "cell_type": "code",
   "execution_count": 55,
   "id": "90e79a14",
   "metadata": {},
   "outputs": [],
   "source": [
    "# seperating the dependent and independent variables\n",
    "X = df1.drop(\"price\", axis = 1)\n",
    "y = df1[\"price\"]"
   ]
  },
  {
   "cell_type": "code",
   "execution_count": 56,
   "id": "c19f6718",
   "metadata": {},
   "outputs": [
    {
     "data": {
      "text/plain": [
       "(300259, 26)"
      ]
     },
     "execution_count": 56,
     "metadata": {},
     "output_type": "execute_result"
    }
   ],
   "source": [
    "X.shape"
   ]
  },
  {
   "cell_type": "code",
   "execution_count": 57,
   "id": "6d571405",
   "metadata": {},
   "outputs": [
    {
     "data": {
      "text/plain": [
       "(300259,)"
      ]
     },
     "execution_count": 57,
     "metadata": {},
     "output_type": "execute_result"
    }
   ],
   "source": [
    "y.shape"
   ]
  },
  {
   "cell_type": "markdown",
   "id": "91562ef8",
   "metadata": {},
   "source": [
    "## Importing Decision Tree regression Model from SKLEARN for comparision"
   ]
  },
  {
   "cell_type": "code",
   "execution_count": 58,
   "id": "88823ca0",
   "metadata": {},
   "outputs": [],
   "source": [
    "from sklearn.model_selection import train_test_split\n"
   ]
  },
  {
   "cell_type": "code",
   "execution_count": 59,
   "id": "f975ab44",
   "metadata": {},
   "outputs": [],
   "source": [
    "\n",
    "X_train,X_test,Y_train,Y_test = train_test_split(X,y,test_size = 0.3,random_state=44)"
   ]
  },
  {
   "cell_type": "code",
   "execution_count": 60,
   "id": "0017129e",
   "metadata": {},
   "outputs": [
    {
     "data": {
      "text/plain": [
       "(210181, 26)"
      ]
     },
     "execution_count": 60,
     "metadata": {},
     "output_type": "execute_result"
    }
   ],
   "source": [
    "X_train.shape"
   ]
  },
  {
   "cell_type": "code",
   "execution_count": 61,
   "id": "fcd4a5fc",
   "metadata": {
    "scrolled": true
   },
   "outputs": [
    {
     "data": {
      "text/plain": [
       "(90078,)"
      ]
     },
     "execution_count": 61,
     "metadata": {},
     "output_type": "execute_result"
    }
   ],
   "source": [
    "Y_test.shape"
   ]
  },
  {
   "cell_type": "code",
   "execution_count": 62,
   "id": "6c4840c0",
   "metadata": {},
   "outputs": [
    {
     "data": {
      "text/plain": [
       "(210181,)"
      ]
     },
     "execution_count": 62,
     "metadata": {},
     "output_type": "execute_result"
    }
   ],
   "source": [
    "Y_train.shape"
   ]
  },
  {
   "cell_type": "code",
   "execution_count": 63,
   "id": "5e92e3b8",
   "metadata": {},
   "outputs": [
    {
     "data": {
      "text/plain": [
       "(90078, 26)"
      ]
     },
     "execution_count": 63,
     "metadata": {},
     "output_type": "execute_result"
    }
   ],
   "source": [
    "X_test.shape"
   ]
  },
  {
   "cell_type": "code",
   "execution_count": 64,
   "id": "2b4bd21e",
   "metadata": {},
   "outputs": [
    {
     "data": {
      "text/plain": [
       "DecisionTreeRegressor(random_state=0)"
      ]
     },
     "execution_count": 64,
     "metadata": {},
     "output_type": "execute_result"
    }
   ],
   "source": [
    "# create a regressor object\n",
    "from sklearn.tree import DecisionTreeRegressor\n",
    "regressor = DecisionTreeRegressor(random_state = 0) \n",
    "regressor.fit(X_train, Y_train)"
   ]
  },
  {
   "cell_type": "code",
   "execution_count": 65,
   "id": "646d3001",
   "metadata": {},
   "outputs": [
    {
     "data": {
      "text/plain": [
       "array([ 6173.,  5910.,  5276., ..., 13108., 61873.,  7084.])"
      ]
     },
     "execution_count": 65,
     "metadata": {},
     "output_type": "execute_result"
    }
   ],
   "source": [
    "pred = regressor.predict(X_test)\n",
    "pred"
   ]
  },
  {
   "cell_type": "code",
   "execution_count": 66,
   "id": "70feff40",
   "metadata": {},
   "outputs": [],
   "source": [
    "from sklearn import  metrics"
   ]
  },
  {
   "cell_type": "code",
   "execution_count": 67,
   "id": "9de556ab",
   "metadata": {},
   "outputs": [
    {
     "name": "stdout",
     "output_type": "stream",
     "text": [
      "MAE 1180.710197458499\n",
      "MSE 12389418.122010615\n",
      "RMSE 3519.8605259314772\n"
     ]
    }
   ],
   "source": [
    "print('MAE',metrics.mean_absolute_error(Y_test,pred))\n",
    "print('MSE',metrics.mean_squared_error(Y_test,pred))\n",
    "print('RMSE',np.sqrt(metrics.mean_squared_error(Y_test,pred)))"
   ]
  },
  {
   "cell_type": "code",
   "execution_count": 68,
   "id": "bfe24d8d",
   "metadata": {},
   "outputs": [
    {
     "data": {
      "text/plain": [
       "0.9759417043324521"
      ]
     },
     "execution_count": 68,
     "metadata": {},
     "output_type": "execute_result"
    }
   ],
   "source": [
    "metrics.explained_variance_score(Y_test,pred)"
   ]
  },
  {
   "cell_type": "markdown",
   "id": "bf9b7411",
   "metadata": {},
   "source": [
    "# Hyper Parameter tuning"
   ]
  },
  {
   "cell_type": "code",
   "execution_count": 69,
   "id": "73a2a99b",
   "metadata": {},
   "outputs": [],
   "source": [
    "# Hyper parameters range intialization for tuning \n",
    "\n",
    "parameters={'max_depth': [None, 1, 2, 3, 4], \n",
    "             'min_samples_split': [2, 3, 4, 5],\n",
    "             'min_samples_leaf': [1, 2, 3]}"
   ]
  },
  {
   "cell_type": "markdown",
   "id": "cd6f37c1",
   "metadata": {},
   "source": [
    "Above we intialized hyperparmeters random range using Gridsearch to find the best parameters for our decision tree model."
   ]
  },
  {
   "cell_type": "code",
   "execution_count": 70,
   "id": "3c6fa081",
   "metadata": {},
   "outputs": [],
   "source": [
    "# calculating different regression metrics\n",
    "\n",
    "from sklearn.model_selection import GridSearchCV"
   ]
  },
  {
   "cell_type": "code",
   "execution_count": 71,
   "id": "6a575fe1",
   "metadata": {},
   "outputs": [],
   "source": [
    "tuning_model=GridSearchCV(regressor,param_grid=parameters,scoring='neg_mean_squared_error',cv=3,verbose=3)"
   ]
  },
  {
   "cell_type": "code",
   "execution_count": 72,
   "id": "5260991b",
   "metadata": {},
   "outputs": [],
   "source": [
    "# function for calculating how much time take for hyperparameter tuning\n",
    "\n",
    "def timer(start_time=None):\n",
    "    if not start_time:\n",
    "        start_time=datetime.now()\n",
    "        return start_time\n",
    "    elif start_time:\n",
    "        thour,temp_sec=divmod((datetime.now()-start_time).total_seconds(),3600)\n",
    "        tmin,tsec=divmod(temp_sec,60)\n"
   ]
  },
  {
   "cell_type": "code",
   "execution_count": 73,
   "id": "927b0dc8",
   "metadata": {},
   "outputs": [],
   "source": [
    "%%capture\n",
    "from datetime import datetime\n",
    "\n",
    "start_time=timer(None)\n",
    "\n",
    "tuning_model.fit(X_train,Y_train)\n",
    "\n",
    "timer(start_time)"
   ]
  },
  {
   "cell_type": "code",
   "execution_count": 74,
   "id": "bfba1612",
   "metadata": {},
   "outputs": [
    {
     "data": {
      "text/plain": [
       "{'max_depth': None, 'min_samples_leaf': 3, 'min_samples_split': 2}"
      ]
     },
     "execution_count": 74,
     "metadata": {},
     "output_type": "execute_result"
    }
   ],
   "source": [
    "# best hyperparameters \n",
    "tuning_model.best_params_"
   ]
  },
  {
   "cell_type": "code",
   "execution_count": 75,
   "id": "bd50e243",
   "metadata": {},
   "outputs": [
    {
     "data": {
      "text/plain": [
       "-10113090.230260944"
      ]
     },
     "execution_count": 75,
     "metadata": {},
     "output_type": "execute_result"
    }
   ],
   "source": [
    "# best model score\n",
    "tuning_model.best_score_"
   ]
  },
  {
   "cell_type": "markdown",
   "id": "aa81e33c",
   "metadata": {},
   "source": [
    "# Training Decision Tree With Best Hyperparameter"
   ]
  },
  {
   "cell_type": "code",
   "execution_count": 76,
   "id": "4a0d88d3",
   "metadata": {},
   "outputs": [],
   "source": [
    "tuned_hyper_model= DecisionTreeRegressor(max_depth=None, min_samples_leaf=3, min_samples_split=2)"
   ]
  },
  {
   "cell_type": "code",
   "execution_count": 77,
   "id": "c05f8e62",
   "metadata": {},
   "outputs": [
    {
     "data": {
      "text/plain": [
       "DecisionTreeRegressor(min_samples_leaf=3)"
      ]
     },
     "execution_count": 77,
     "metadata": {},
     "output_type": "execute_result"
    }
   ],
   "source": [
    "# fitting model\n",
    "\n",
    "\n",
    "tuned_hyper_model.fit(X_train,Y_train)"
   ]
  },
  {
   "cell_type": "code",
   "execution_count": 78,
   "id": "d9d6f647",
   "metadata": {},
   "outputs": [],
   "source": [
    "# prediction \n",
    "\n",
    "tuned_pred=tuned_hyper_model.predict(X_test)"
   ]
  },
  {
   "cell_type": "code",
   "execution_count": 80,
   "id": "1f93853e",
   "metadata": {},
   "outputs": [
    {
     "name": "stdout",
     "output_type": "stream",
     "text": [
      "MAE: 1189.0534299638728\n",
      "MSE: 9388732.765522147\n",
      "RMSE: 3064.103909060877\n"
     ]
    }
   ],
   "source": [
    "# with hyperparameter tuning \n",
    "print('MAE:', metrics.mean_absolute_error(Y_test,tuned_pred))\n",
    "print('MSE:', metrics.mean_squared_error(Y_test, tuned_pred))\n",
    "print('RMSE:', np.sqrt(metrics.mean_squared_error(Y_test, tuned_pred)))"
   ]
  },
  {
   "cell_type": "code",
   "execution_count": 81,
   "id": "09d09ab4",
   "metadata": {},
   "outputs": [
    {
     "name": "stdout",
     "output_type": "stream",
     "text": [
      "MAE 1180.710197458499\n",
      "MSE 12389418.122010615\n",
      "RMSE 3519.8605259314772\n"
     ]
    }
   ],
   "source": [
    "# without hyperparameter tuning\n",
    "print('MAE',metrics.mean_absolute_error(Y_test,pred))\n",
    "print('MSE',metrics.mean_squared_error(Y_test,pred))\n",
    "print('RMSE',np.sqrt(metrics.mean_squared_error(Y_test,pred)))"
   ]
  },
  {
   "cell_type": "code",
   "execution_count": 82,
   "id": "ab595df8",
   "metadata": {},
   "outputs": [
    {
     "data": {
      "text/plain": [
       "0.9817665117581261"
      ]
     },
     "execution_count": 82,
     "metadata": {},
     "output_type": "execute_result"
    }
   ],
   "source": [
    "tuned_hyper_model.score(X_test,Y_test)# with hyper parameter tuning"
   ]
  },
  {
   "cell_type": "code",
   "execution_count": 83,
   "id": "848f47b1",
   "metadata": {},
   "outputs": [
    {
     "data": {
      "text/plain": [
       "0.9759389988731055"
      ]
     },
     "execution_count": 83,
     "metadata": {},
     "output_type": "execute_result"
    }
   ],
   "source": [
    "regressor.score(X_test,Y_test)# without hyper parameter tuning"
   ]
  },
  {
   "cell_type": "code",
   "execution_count": 84,
   "id": "27526b0c",
   "metadata": {},
   "outputs": [
    {
     "data": {
      "text/plain": [
       "0.981766913782292"
      ]
     },
     "execution_count": 84,
     "metadata": {},
     "output_type": "execute_result"
    }
   ],
   "source": [
    "metrics.explained_variance_score(Y_test,tuned_pred) # with hyper parameter tuning"
   ]
  },
  {
   "cell_type": "code",
   "execution_count": 85,
   "id": "bcfc1d7e",
   "metadata": {},
   "outputs": [
    {
     "data": {
      "text/plain": [
       "0.9759417043324521"
      ]
     },
     "execution_count": 85,
     "metadata": {},
     "output_type": "execute_result"
    }
   ],
   "source": [
    "metrics.explained_variance_score(Y_test,pred)# without hyper parameter tuning"
   ]
  },
  {
   "cell_type": "markdown",
   "id": "d7bcdcbc",
   "metadata": {},
   "source": [
    "# ID3 algorithm from scratch"
   ]
  },
  {
   "cell_type": "code",
   "execution_count": 86,
   "id": "b81b541e",
   "metadata": {},
   "outputs": [],
   "source": [
    "def train_test_split(Data, test_ratio):\n",
    "    \n",
    "    Data=Data.sample(frac=1,random_state=42)\n",
    "\n",
    "    samples=int(len(Data)*(1-test_ratio))\n",
    "\n",
    "    train_data=Data[:samples]\n",
    "    test_data=Data[samples:]\n",
    "\n",
    "    return train_data, test_data\n"
   ]
  },
  {
   "cell_type": "code",
   "execution_count": 87,
   "id": "424a49ac",
   "metadata": {},
   "outputs": [],
   "source": [
    "train_data, test_data = train_test_split(df1, 0.2)"
   ]
  },
  {
   "cell_type": "code",
   "execution_count": 88,
   "id": "1c1a7e6b",
   "metadata": {},
   "outputs": [],
   "source": [
    "X_train,Y_train=train_data.loc[:,train_data.columns != 'price'].values, train_data.loc[:,'price'].values.reshape(-1,1)\n",
    "X_test,Y_test=test_data.loc[:,test_data.columns != 'price'].values, test_data.loc[:,'price'].values.reshape(-1,1)"
   ]
  },
  {
   "cell_type": "code",
   "execution_count": 89,
   "id": "c919e699",
   "metadata": {},
   "outputs": [
    {
     "data": {
      "text/plain": [
       "(240207, 26)"
      ]
     },
     "execution_count": 89,
     "metadata": {},
     "output_type": "execute_result"
    }
   ],
   "source": [
    "X_train.shape"
   ]
  },
  {
   "cell_type": "code",
   "execution_count": 90,
   "id": "1798268a",
   "metadata": {},
   "outputs": [
    {
     "data": {
      "text/plain": [
       "(240207, 1)"
      ]
     },
     "execution_count": 90,
     "metadata": {},
     "output_type": "execute_result"
    }
   ],
   "source": [
    "Y_train.shape"
   ]
  },
  {
   "cell_type": "code",
   "execution_count": 91,
   "id": "69b1b063",
   "metadata": {},
   "outputs": [
    {
     "data": {
      "text/plain": [
       "(60052, 26)"
      ]
     },
     "execution_count": 91,
     "metadata": {},
     "output_type": "execute_result"
    }
   ],
   "source": [
    "X_test.shape"
   ]
  },
  {
   "cell_type": "code",
   "execution_count": 92,
   "id": "a83f8070",
   "metadata": {},
   "outputs": [
    {
     "data": {
      "text/plain": [
       "(60052, 1)"
      ]
     },
     "execution_count": 92,
     "metadata": {},
     "output_type": "execute_result"
    }
   ],
   "source": [
    "Y_test.shape"
   ]
  },
  {
   "cell_type": "code",
   "execution_count": 93,
   "id": "d85f8fae",
   "metadata": {},
   "outputs": [
    {
     "name": "stdout",
     "output_type": "stream",
     "text": [
      "Mean Squared Error: 983871912.5821302\n"
     ]
    }
   ],
   "source": [
    "\n",
    "# Define the ID3 decision tree regression algorithm\n",
    "class DecisionTreeRegressor:\n",
    "    def __init__(self, max_depth=5, min_samples_leaf=5):\n",
    "        self.max_depth = max_depth\n",
    "        self.min_samples_leaf = min_samples_leaf\n",
    "        self.left = None\n",
    "        self.right = None\n",
    "        self.feature_idx = None\n",
    "        self.threshold = None\n",
    "        self.value = None\n",
    "\n",
    "    def split(self, X, y):\n",
    "        best_mse = np.inf\n",
    "        best_feature_idx = None\n",
    "        best_threshold = None\n",
    "        for feature_idx in range(X.shape[1]):\n",
    "            feature_values = np.unique(X[:, feature_idx])\n",
    "            for threshold in feature_values:\n",
    "                left_indices = X[:, feature_idx] <= threshold\n",
    "                right_indices = X[:, feature_idx] > threshold\n",
    "                if len(y[left_indices]) < self.min_samples_leaf or len(y[right_indices]) < self.min_samples_leaf:\n",
    "                    continue\n",
    "                mse_left = np.var(y[left_indices])\n",
    "                mse_right = np.var(y[right_indices])\n",
    "                mse = mse_left + mse_right\n",
    "                if mse < best_mse:\n",
    "                    best_mse = mse\n",
    "                    best_feature_idx = feature_idx\n",
    "                    best_threshold = threshold\n",
    "        return best_feature_idx, best_threshold, best_mse\n",
    "\n",
    "    def fit(self, X, y, depth=0):\n",
    "        if depth == self.max_depth or len(y) < self.min_samples_leaf:\n",
    "            self.value = np.mean(y)\n",
    "            return\n",
    "        self.feature_idx, self.threshold, _ = self.split(X, y)\n",
    "        if self.feature_idx is None:\n",
    "            self.value = np.mean(y)\n",
    "            return\n",
    "        left_indices = X[:, self.feature_idx] <= self.threshold\n",
    "        right_indices = X[:, self.feature_idx] > self.threshold\n",
    "        self.left = DecisionTreeRegressor(max_depth=self.max_depth, min_samples_leaf=self.min_samples_leaf)\n",
    "        self.left.fit(X[left_indices], y[left_indices], depth+1)\n",
    "        self.right = DecisionTreeRegressor(max_depth=self.max_depth, min_samples_leaf=self.min_samples_leaf)\n",
    "        self.right.fit(X[right_indices], y[right_indices], depth+1)\n",
    "\n",
    "    def predict(self, X):\n",
    "        if self.value is not None:\n",
    "            return self.value\n",
    "        elif X[self.feature_idx] <= self.threshold:\n",
    "            return self.left.predict(X)\n",
    "        else:\n",
    "            return self.right.predict(X)\n",
    "\n",
    "# Train the decision tree regression model\n",
    "tree = DecisionTreeRegressor(max_depth=5, min_samples_leaf=5)\n",
    "tree.fit(X_train, Y_train)\n",
    "\n",
    "# Predict the target variable on the test set\n",
    "Y_pred = np.array([tree.predict(x) for x in X_test])\n",
    "\n",
    "# Calculate the mean squared error of the predictions\n",
    "mse = np.mean((Y_test - Y_pred) ** 2)\n",
    "print(\"Mean Squared Error:\", mse)"
   ]
  },
  {
   "cell_type": "code",
   "execution_count": 94,
   "id": "f62ad56b-d7ea-429d-a157-7ffe3df4819c",
   "metadata": {},
   "outputs": [
    {
     "data": {
      "text/plain": [
       "array([6613.84579719, 6613.84579719, 6613.84579719, ..., 6613.84579719,\n",
       "       6613.84579719, 6613.84579719])"
      ]
     },
     "execution_count": 94,
     "metadata": {},
     "output_type": "execute_result"
    }
   ],
   "source": [
    "Y_pred"
   ]
  },
  {
   "cell_type": "code",
   "execution_count": 95,
   "id": "afccd2f7-2774-484f-9e32-f30be7927f99",
   "metadata": {},
   "outputs": [],
   "source": [
    "pred_df = pd.DataFrame({'predprice':Y_pred})"
   ]
  },
  {
   "cell_type": "code",
   "execution_count": 96,
   "id": "2d4e2fa0-c916-48fc-a81c-ae1981101ef8",
   "metadata": {},
   "outputs": [
    {
     "data": {
      "text/html": [
       "<div>\n",
       "<style scoped>\n",
       "    .dataframe tbody tr th:only-of-type {\n",
       "        vertical-align: middle;\n",
       "    }\n",
       "\n",
       "    .dataframe tbody tr th {\n",
       "        vertical-align: top;\n",
       "    }\n",
       "\n",
       "    .dataframe thead th {\n",
       "        text-align: right;\n",
       "    }\n",
       "</style>\n",
       "<table border=\"1\" class=\"dataframe\">\n",
       "  <thead>\n",
       "    <tr style=\"text-align: right;\">\n",
       "      <th></th>\n",
       "      <th>predprice</th>\n",
       "    </tr>\n",
       "  </thead>\n",
       "  <tbody>\n",
       "    <tr>\n",
       "      <th>0</th>\n",
       "      <td>6613.845797</td>\n",
       "    </tr>\n",
       "    <tr>\n",
       "      <th>1</th>\n",
       "      <td>6613.845797</td>\n",
       "    </tr>\n",
       "    <tr>\n",
       "      <th>2</th>\n",
       "      <td>6613.845797</td>\n",
       "    </tr>\n",
       "    <tr>\n",
       "      <th>3</th>\n",
       "      <td>55017.685209</td>\n",
       "    </tr>\n",
       "    <tr>\n",
       "      <th>4</th>\n",
       "      <td>6613.845797</td>\n",
       "    </tr>\n",
       "  </tbody>\n",
       "</table>\n",
       "</div>"
      ],
      "text/plain": [
       "      predprice\n",
       "0   6613.845797\n",
       "1   6613.845797\n",
       "2   6613.845797\n",
       "3  55017.685209\n",
       "4   6613.845797"
      ]
     },
     "execution_count": 96,
     "metadata": {},
     "output_type": "execute_result"
    }
   ],
   "source": [
    "pred_df.head()"
   ]
  },
  {
   "cell_type": "code",
   "execution_count": 97,
   "id": "aed18a8e-34a3-43c5-bf53-7fc25332f3f5",
   "metadata": {},
   "outputs": [
    {
     "name": "stdout",
     "output_type": "stream",
     "text": [
      "Predicted values: [6613.84579719 6613.84579719 6613.84579719 ... 6613.84579719 6613.84579719\n",
      " 6613.84579719]\n",
      "Actual values: [[ 3393]\n",
      " [14658]\n",
      " [ 6375]\n",
      " ...\n",
      " [ 8440]\n",
      " [ 4367]\n",
      " [ 3999]]\n"
     ]
    }
   ],
   "source": [
    "print(\"Predicted values:\", Y_pred)\n",
    "print(\"Actual values:\", Y_test)"
   ]
  },
  {
   "cell_type": "code",
   "execution_count": null,
   "id": "bd320825-0e24-4faf-b99e-372d3ba7c0c9",
   "metadata": {},
   "outputs": [],
   "source": []
  },
  {
   "cell_type": "markdown",
   "id": "0d3895a9-c2c7-4110-98db-cfd796adf8b1",
   "metadata": {},
   "source": [
    "Max depth: This parameter defines the maximum depth of the tree,\n",
    "\n",
    "Min samples split: This parameter specifies the minimum number of samples required to split an internal node. If a node has fewer samples than this parameter, it won't be split, which can help prevent overfitting.\n",
    "\n",
    "Min samples leaf: This parameter defines the minimum number of samples required to be at a leaf node. If a leaf node has fewer samples than this parameter, it will be pruned, which can help prevent overfitting."
   ]
  },
  {
   "cell_type": "code",
   "execution_count": 98,
   "id": "dc7b771d-67a6-4657-a552-8d2797c5b722",
   "metadata": {},
   "outputs": [
    {
     "name": "stdout",
     "output_type": "stream",
     "text": [
      "Best hyperparameters:  (3, 2, 1)\n",
      "Mean squared error:  983871912.5821302\n"
     ]
    }
   ],
   "source": [
    "import itertools\n",
    "\n",
    "# Define the hyperparameter values to search \n",
    "max_depth = [3, 5, 7]\n",
    "min_samples_split = [2, 5, 10]\n",
    "min_samples_leaf = [1, 2, 4]\n",
    "param_values = [max_depth, min_samples_split, min_samples_leaf]\n",
    "\n",
    "# Create a decision tree regression object\n",
    "dt = DecisionTreeRegressor()\n",
    "\n",
    "# Initialize variables to hold the best hyperparameters and the corresponding mean squared error\n",
    "best_params = None\n",
    "best_mse = float('inf')\n",
    "\n",
    "# Loop through all combinations of hyperparameters\n",
    "for param_combination in itertools.product(*param_values):\n",
    "    # Set the hyperparameters for the decision tree\n",
    "    dt.max_depth = param_combination[0]\n",
    "    dt.min_samples_split = param_combination[1]\n",
    "    dt.min_samples_leaf = param_combination[2]\n",
    "    \n",
    "    \n",
    "    \n",
    "    # Make predictions on the testing data\n",
    "    y_pred = np.array([tree.predict(x) for x in X_test])\n",
    "    \n",
    "    # Calculate the mean squared error\n",
    "    mse = np.mean((Y_test - y_pred) ** 2)\n",
    "    \n",
    "    # If the current combination of hyperparameters gives a lower mean squared error than the best so far, update the best hyperparameters and the corresponding mean squared error\n",
    "    if mse < best_mse:\n",
    "        best_params = param_combination\n",
    "        best_mse = mse\n",
    "\n",
    "# Print the best hyperparameters and the corresponding mean squared error\n",
    "print(\"Best hyperparameters: \", best_params)\n",
    "print(\"Mean squared error: \", best_mse)\n"
   ]
  },
  {
   "cell_type": "markdown",
   "id": "352635d7",
   "metadata": {},
   "source": [
    "# From Scratch results"
   ]
  },
  {
   "cell_type": "code",
   "execution_count": 102,
   "id": "7f78bb89-2583-4e0f-be4f-ff2f31047de8",
   "metadata": {},
   "outputs": [
    {
     "name": "stdout",
     "output_type": "stream",
     "text": [
      "MAE: 4259.847693893963\n",
      "MSE: 42291172.00763455\n",
      "RMSE: 6503.166306318373\n"
     ]
    }
   ],
   "source": [
    "# with hyperparameter tuning \n",
    "print('MAE:', metrics.mean_absolute_error(Y_test,y_pred))\n",
    "print('MSE:', metrics.mean_squared_error(Y_test, y_pred))\n",
    "print('RMSE:', np.sqrt(metrics.mean_squared_error(Y_test, y_pred)))"
   ]
  },
  {
   "cell_type": "code",
   "execution_count": 103,
   "id": "bd89ce38",
   "metadata": {},
   "outputs": [
    {
     "name": "stdout",
     "output_type": "stream",
     "text": [
      "MAE: 4259.847693893963\n",
      "MSE: 42291172.00763455\n",
      "RMSE: 6503.166306318373\n"
     ]
    }
   ],
   "source": [
    "# without hyperparameter tuning \n",
    "print('MAE:', metrics.mean_absolute_error(Y_test,Y_pred))\n",
    "print('MSE:', metrics.mean_squared_error(Y_test, Y_pred))\n",
    "print('RMSE:', np.sqrt(metrics.mean_squared_error(Y_test, Y_pred)))"
   ]
  },
  {
   "cell_type": "markdown",
   "id": "e635df85",
   "metadata": {},
   "source": [
    "# Conclusion"
   ]
  },
  {
   "cell_type": "markdown",
   "id": "67571fec",
   "metadata": {},
   "source": [
    "In this notebook i predicted the ticket price of flight from Decision tree regression using ID3 algorithm from both sklearn model and from scratch as well and got good results"
   ]
  },
  {
   "cell_type": "code",
   "execution_count": null,
   "id": "36ee5c70",
   "metadata": {},
   "outputs": [],
   "source": []
  }
 ],
 "metadata": {
  "kernelspec": {
   "display_name": "Python 3 (ipykernel)",
   "language": "python",
   "name": "python3"
  },
  "language_info": {
   "codemirror_mode": {
    "name": "ipython",
    "version": 3
   },
   "file_extension": ".py",
   "mimetype": "text/x-python",
   "name": "python",
   "nbconvert_exporter": "python",
   "pygments_lexer": "ipython3",
   "version": "3.9.13"
  }
 },
 "nbformat": 4,
 "nbformat_minor": 5
}

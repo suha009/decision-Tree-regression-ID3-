{
 "cells": [
  {
   "cell_type": "markdown",
   "id": "f9c1ca7c",
   "metadata": {},
   "source": [
    "# Problem Statement"
   ]
  },
  {
   "cell_type": "markdown",
   "id": "2e8b9822",
   "metadata": {},
   "source": [
    "In this dataset we need to predict the price for the used cars based on the features given "
   ]
  },
  {
   "cell_type": "markdown",
   "id": "776667f1",
   "metadata": {},
   "source": [
    "# Import libraries"
   ]
  },
  {
   "cell_type": "code",
   "execution_count": 1,
   "id": "f864bcdf",
   "metadata": {},
   "outputs": [],
   "source": [
    "import numpy as np \n",
    "import pandas as pd\n",
    "import seaborn as sns\n",
    "import matplotlib.pyplot as plt\n",
    "\n",
    "import warnings\n",
    "warnings.filterwarnings('ignore')\n",
    "\n",
    "from itertools import product"
   ]
  },
  {
   "cell_type": "code",
   "execution_count": 2,
   "id": "6d24aefc",
   "metadata": {},
   "outputs": [],
   "source": [
    "df1= pd.read_excel('D2_file1.xlsx')\n",
    "df2= pd.read_excel('D2_file2.xlsx')\n",
    "df3= pd.read_excel('D2_file3.xlsx')\n",
    "df4= pd.read_excel('D2_target.xlsx')"
   ]
  },
  {
   "cell_type": "code",
   "execution_count": 3,
   "id": "b75a883b",
   "metadata": {},
   "outputs": [
    {
     "name": "stdout",
     "output_type": "stream",
     "text": [
      "Shape of the df1 : (2059, 10)\n",
      "Shape of the df2 : (2059, 4)\n",
      "Shape of the df3 : (2059, 8)\n",
      "Shape of the df4 : (2059, 2)\n"
     ]
    }
   ],
   "source": [
    "#printing the shape of each dataset \n",
    "print(\"Shape of the df1 :\",df1.shape)\n",
    "print(\"Shape of the df2 :\",df2.shape)\n",
    "print(\"Shape of the df3 :\",df3.shape)\n",
    "print(\"Shape of the df4 :\",df4.shape)\n"
   ]
  },
  {
   "cell_type": "code",
   "execution_count": 4,
   "id": "4558d8a1",
   "metadata": {},
   "outputs": [
    {
     "name": "stdout",
     "output_type": "stream",
     "text": [
      "--------------------Dataset for OLD CAR PRICE PREDICTION in India------------------------\n",
      "\n",
      "\n",
      "\t\t---------Data of D2_file1 ---------\n",
      "\n",
      "\n",
      "   id   Engine          Max Power              Max Torque Drivetrain  Length  \\\n",
      "0   1  1198 cc  87 bhp @ 6000 rpm       109 Nm @ 4500 rpm        FWD  3990.0   \n",
      "1   2  1248 cc  74 bhp @ 4000 rpm       190 Nm @ 2000 rpm        FWD  3995.0   \n",
      "2   3  1197 cc  79 bhp @ 6000 rpm  112.7619 Nm @ 4000 rpm        FWD  3585.0   \n",
      "\n",
      "    Width  Height  Seating Capacity  Fuel Tank Capacity  \n",
      "0  1680.0  1505.0               5.0                35.0  \n",
      "1  1695.0  1555.0               5.0                42.0  \n",
      "2  1595.0  1550.0               5.0                35.0  \n",
      "\n",
      "\n",
      "\t\t---------Data of D2_file2 ---------\n",
      "\n",
      "\n",
      "   id           Make                 Model  Year\n",
      "0   1          Honda   Amaze 1.2 VX i-VTEC  2017\n",
      "1   2  Maruti Suzuki       Swift DZire VDI  2014\n",
      "2   3        Hyundai  i10 Magna 1.2 Kappa2  2011\n",
      "\n",
      "\n",
      "\t\t---------Data of D2_file3---------\n",
      "\n",
      "\n",
      "   id  Kilometer Fuel Type Transmission  Location   Color   Owner Seller Type\n",
      "0   1      87150    Petrol       Manual      Pune    Grey   First   Corporate\n",
      "1   2      75000    Diesel       Manual  Ludhiana   White  Second  Individual\n",
      "2   3      67000    Petrol       Manual   Lucknow  Maroon   First  Individual\n",
      "\n",
      "\n",
      "\t\t---------Data of D2_target---------\n",
      "\n",
      "\n",
      "   id   Price\n",
      "0   1  505000\n",
      "1   2  450000\n",
      "2   3  220000\n",
      "\n",
      "\n",
      "--------------------End of Dataset for Air Quality in India------------------------\n"
     ]
    }
   ],
   "source": [
    "print(\"--------------------Dataset for OLD CAR PRICE PREDICTION in India------------------------\")\n",
    "print(\"\\n\")\n",
    "print(\"\\t\\t---------Data of D2_file1 ---------\")\n",
    "print(\"\\n\")\n",
    "print(df1.head(3))\n",
    "print(\"\\n\")\n",
    "print(\"\\t\\t---------Data of D2_file2 ---------\")\n",
    "print(\"\\n\")\n",
    "print(df2.head(3))\n",
    "print(\"\\n\")\n",
    "print(\"\\t\\t---------Data of D2_file3---------\")\n",
    "print(\"\\n\")\n",
    "print(df3.head(3))\n",
    "print(\"\\n\")\n",
    "print(\"\\t\\t---------Data of D2_target---------\")\n",
    "print(\"\\n\")\n",
    "print(df4.head(3))\n",
    "print(\"\\n\")\n",
    "print(\"--------------------End of Dataset for Air Quality in India------------------------\")"
   ]
  },
  {
   "cell_type": "code",
   "execution_count": 5,
   "id": "f81fac70",
   "metadata": {},
   "outputs": [
    {
     "name": "stdout",
     "output_type": "stream",
     "text": [
      "--------------------Information of Dataset for OLD CAR PRICE PREDICTION------------------------\n",
      "\n",
      "\n",
      "\t\t---------Info of D2_file1 Data---------\n",
      "\n",
      "\n",
      "<class 'pandas.core.frame.DataFrame'>\n",
      "RangeIndex: 2059 entries, 0 to 2058\n",
      "Data columns (total 10 columns):\n",
      " #   Column              Non-Null Count  Dtype  \n",
      "---  ------              --------------  -----  \n",
      " 0   id                  2059 non-null   int64  \n",
      " 1   Engine              1979 non-null   object \n",
      " 2   Max Power           1979 non-null   object \n",
      " 3   Max Torque          1979 non-null   object \n",
      " 4   Drivetrain          1923 non-null   object \n",
      " 5   Length              1995 non-null   float64\n",
      " 6   Width               1995 non-null   float64\n",
      " 7   Height              1995 non-null   float64\n",
      " 8   Seating Capacity    1995 non-null   float64\n",
      " 9   Fuel Tank Capacity  1946 non-null   float64\n",
      "dtypes: float64(5), int64(1), object(4)\n",
      "memory usage: 161.0+ KB\n",
      "None\n",
      "\n",
      "\n",
      "\t\t---------Info of D2_file2 Data---------\n",
      "\n",
      "\n",
      "<class 'pandas.core.frame.DataFrame'>\n",
      "RangeIndex: 2059 entries, 0 to 2058\n",
      "Data columns (total 4 columns):\n",
      " #   Column  Non-Null Count  Dtype \n",
      "---  ------  --------------  ----- \n",
      " 0   id      2059 non-null   int64 \n",
      " 1   Make    2059 non-null   object\n",
      " 2   Model   2059 non-null   object\n",
      " 3   Year    2059 non-null   int64 \n",
      "dtypes: int64(2), object(2)\n",
      "memory usage: 64.5+ KB\n",
      "None\n",
      "\n",
      "\n",
      "\t\t---------Info of D2_file3 Data---------\n",
      "\n",
      "\n",
      "<class 'pandas.core.frame.DataFrame'>\n",
      "RangeIndex: 2059 entries, 0 to 2058\n",
      "Data columns (total 8 columns):\n",
      " #   Column        Non-Null Count  Dtype \n",
      "---  ------        --------------  ----- \n",
      " 0   id            2059 non-null   int64 \n",
      " 1   Kilometer     2059 non-null   int64 \n",
      " 2   Fuel Type     2059 non-null   object\n",
      " 3   Transmission  2059 non-null   object\n",
      " 4   Location      2059 non-null   object\n",
      " 5   Color         2059 non-null   object\n",
      " 6   Owner         2059 non-null   object\n",
      " 7   Seller Type   2059 non-null   object\n",
      "dtypes: int64(2), object(6)\n",
      "memory usage: 128.8+ KB\n",
      "None\n",
      "\n",
      "\n",
      "\t\t---------Info of D2_target Data---------\n",
      "\n",
      "\n",
      "<class 'pandas.core.frame.DataFrame'>\n",
      "RangeIndex: 2059 entries, 0 to 2058\n",
      "Data columns (total 2 columns):\n",
      " #   Column  Non-Null Count  Dtype\n",
      "---  ------  --------------  -----\n",
      " 0   id      2059 non-null   int64\n",
      " 1   Price   2059 non-null   int64\n",
      "dtypes: int64(2)\n",
      "memory usage: 32.3 KB\n",
      "None\n",
      "\n",
      "\n",
      "--------------------End of Dataset for Air Quality in India------------------------\n"
     ]
    }
   ],
   "source": [
    "print(\"--------------------Information of Dataset for OLD CAR PRICE PREDICTION------------------------\")\n",
    "print(\"\\n\")\n",
    "print(\"\\t\\t---------Info of D2_file1 Data---------\")\n",
    "print(\"\\n\")\n",
    "print(df1.info())\n",
    "print(\"\\n\")\n",
    "print(\"\\t\\t---------Info of D2_file2 Data---------\")\n",
    "print(\"\\n\")\n",
    "print(df2.info())\n",
    "print(\"\\n\")\n",
    "print(\"\\t\\t---------Info of D2_file3 Data---------\")\n",
    "print(\"\\n\")\n",
    "print(df3.info())\n",
    "print(\"\\n\")\n",
    "print(\"\\t\\t---------Info of D2_target Data---------\")\n",
    "print(\"\\n\")\n",
    "print(df4.info())\n",
    "print(\"\\n\")\n",
    "print(\"--------------------End of Dataset for Air Quality in India------------------------\")"
   ]
  },
  {
   "cell_type": "markdown",
   "id": "3b116c9e",
   "metadata": {},
   "source": [
    "Here we can observe that in all the datasets we have (ID) column as common so based on that we will merge our datasets into single dataset "
   ]
  },
  {
   "cell_type": "code",
   "execution_count": 6,
   "id": "7160fcd4",
   "metadata": {},
   "outputs": [],
   "source": [
    "# merging the datasets to one single dataset\n",
    "df = pd.merge(df1,df2, on=['id']).merge(df3, on=['id']).merge(df4, on=['id'])"
   ]
  },
  {
   "cell_type": "code",
   "execution_count": 7,
   "id": "0e5b6c8d",
   "metadata": {},
   "outputs": [],
   "source": [
    "pd.set_option('display.max_columns', None)"
   ]
  },
  {
   "cell_type": "code",
   "execution_count": 8,
   "id": "00c3a837",
   "metadata": {},
   "outputs": [
    {
     "data": {
      "text/html": [
       "<div>\n",
       "<style scoped>\n",
       "    .dataframe tbody tr th:only-of-type {\n",
       "        vertical-align: middle;\n",
       "    }\n",
       "\n",
       "    .dataframe tbody tr th {\n",
       "        vertical-align: top;\n",
       "    }\n",
       "\n",
       "    .dataframe thead th {\n",
       "        text-align: right;\n",
       "    }\n",
       "</style>\n",
       "<table border=\"1\" class=\"dataframe\">\n",
       "  <thead>\n",
       "    <tr style=\"text-align: right;\">\n",
       "      <th></th>\n",
       "      <th>id</th>\n",
       "      <th>Engine</th>\n",
       "      <th>Max Power</th>\n",
       "      <th>Max Torque</th>\n",
       "      <th>Drivetrain</th>\n",
       "      <th>Length</th>\n",
       "      <th>Width</th>\n",
       "      <th>Height</th>\n",
       "      <th>Seating Capacity</th>\n",
       "      <th>Fuel Tank Capacity</th>\n",
       "      <th>Make</th>\n",
       "      <th>Model</th>\n",
       "      <th>Year</th>\n",
       "      <th>Kilometer</th>\n",
       "      <th>Fuel Type</th>\n",
       "      <th>Transmission</th>\n",
       "      <th>Location</th>\n",
       "      <th>Color</th>\n",
       "      <th>Owner</th>\n",
       "      <th>Seller Type</th>\n",
       "      <th>Price</th>\n",
       "    </tr>\n",
       "  </thead>\n",
       "  <tbody>\n",
       "    <tr>\n",
       "      <th>0</th>\n",
       "      <td>1</td>\n",
       "      <td>1198 cc</td>\n",
       "      <td>87 bhp @ 6000 rpm</td>\n",
       "      <td>109 Nm @ 4500 rpm</td>\n",
       "      <td>FWD</td>\n",
       "      <td>3990.0</td>\n",
       "      <td>1680.0</td>\n",
       "      <td>1505.0</td>\n",
       "      <td>5.0</td>\n",
       "      <td>35.0</td>\n",
       "      <td>Honda</td>\n",
       "      <td>Amaze 1.2 VX i-VTEC</td>\n",
       "      <td>2017</td>\n",
       "      <td>87150</td>\n",
       "      <td>Petrol</td>\n",
       "      <td>Manual</td>\n",
       "      <td>Pune</td>\n",
       "      <td>Grey</td>\n",
       "      <td>First</td>\n",
       "      <td>Corporate</td>\n",
       "      <td>505000</td>\n",
       "    </tr>\n",
       "    <tr>\n",
       "      <th>1</th>\n",
       "      <td>2</td>\n",
       "      <td>1248 cc</td>\n",
       "      <td>74 bhp @ 4000 rpm</td>\n",
       "      <td>190 Nm @ 2000 rpm</td>\n",
       "      <td>FWD</td>\n",
       "      <td>3995.0</td>\n",
       "      <td>1695.0</td>\n",
       "      <td>1555.0</td>\n",
       "      <td>5.0</td>\n",
       "      <td>42.0</td>\n",
       "      <td>Maruti Suzuki</td>\n",
       "      <td>Swift DZire VDI</td>\n",
       "      <td>2014</td>\n",
       "      <td>75000</td>\n",
       "      <td>Diesel</td>\n",
       "      <td>Manual</td>\n",
       "      <td>Ludhiana</td>\n",
       "      <td>White</td>\n",
       "      <td>Second</td>\n",
       "      <td>Individual</td>\n",
       "      <td>450000</td>\n",
       "    </tr>\n",
       "    <tr>\n",
       "      <th>2</th>\n",
       "      <td>3</td>\n",
       "      <td>1197 cc</td>\n",
       "      <td>79 bhp @ 6000 rpm</td>\n",
       "      <td>112.7619 Nm @ 4000 rpm</td>\n",
       "      <td>FWD</td>\n",
       "      <td>3585.0</td>\n",
       "      <td>1595.0</td>\n",
       "      <td>1550.0</td>\n",
       "      <td>5.0</td>\n",
       "      <td>35.0</td>\n",
       "      <td>Hyundai</td>\n",
       "      <td>i10 Magna 1.2 Kappa2</td>\n",
       "      <td>2011</td>\n",
       "      <td>67000</td>\n",
       "      <td>Petrol</td>\n",
       "      <td>Manual</td>\n",
       "      <td>Lucknow</td>\n",
       "      <td>Maroon</td>\n",
       "      <td>First</td>\n",
       "      <td>Individual</td>\n",
       "      <td>220000</td>\n",
       "    </tr>\n",
       "    <tr>\n",
       "      <th>3</th>\n",
       "      <td>4</td>\n",
       "      <td>1197 cc</td>\n",
       "      <td>82 bhp @ 6000 rpm</td>\n",
       "      <td>113 Nm @ 4200 rpm</td>\n",
       "      <td>FWD</td>\n",
       "      <td>3995.0</td>\n",
       "      <td>1745.0</td>\n",
       "      <td>1510.0</td>\n",
       "      <td>5.0</td>\n",
       "      <td>37.0</td>\n",
       "      <td>Toyota</td>\n",
       "      <td>Glanza G</td>\n",
       "      <td>2019</td>\n",
       "      <td>37500</td>\n",
       "      <td>Petrol</td>\n",
       "      <td>Manual</td>\n",
       "      <td>Mangalore</td>\n",
       "      <td>Red</td>\n",
       "      <td>First</td>\n",
       "      <td>Individual</td>\n",
       "      <td>799000</td>\n",
       "    </tr>\n",
       "    <tr>\n",
       "      <th>4</th>\n",
       "      <td>5</td>\n",
       "      <td>2393 cc</td>\n",
       "      <td>148 bhp @ 3400 rpm</td>\n",
       "      <td>343 Nm @ 1400 rpm</td>\n",
       "      <td>RWD</td>\n",
       "      <td>4735.0</td>\n",
       "      <td>1830.0</td>\n",
       "      <td>1795.0</td>\n",
       "      <td>7.0</td>\n",
       "      <td>55.0</td>\n",
       "      <td>Toyota</td>\n",
       "      <td>Innova 2.4 VX 7 STR [2016-2020]</td>\n",
       "      <td>2018</td>\n",
       "      <td>69000</td>\n",
       "      <td>Diesel</td>\n",
       "      <td>Manual</td>\n",
       "      <td>Mumbai</td>\n",
       "      <td>Grey</td>\n",
       "      <td>First</td>\n",
       "      <td>Individual</td>\n",
       "      <td>1950000</td>\n",
       "    </tr>\n",
       "    <tr>\n",
       "      <th>...</th>\n",
       "      <td>...</td>\n",
       "      <td>...</td>\n",
       "      <td>...</td>\n",
       "      <td>...</td>\n",
       "      <td>...</td>\n",
       "      <td>...</td>\n",
       "      <td>...</td>\n",
       "      <td>...</td>\n",
       "      <td>...</td>\n",
       "      <td>...</td>\n",
       "      <td>...</td>\n",
       "      <td>...</td>\n",
       "      <td>...</td>\n",
       "      <td>...</td>\n",
       "      <td>...</td>\n",
       "      <td>...</td>\n",
       "      <td>...</td>\n",
       "      <td>...</td>\n",
       "      <td>...</td>\n",
       "      <td>...</td>\n",
       "      <td>...</td>\n",
       "    </tr>\n",
       "    <tr>\n",
       "      <th>2054</th>\n",
       "      <td>2055</td>\n",
       "      <td>2179 cc</td>\n",
       "      <td>138 bhp @ 3750 rpm</td>\n",
       "      <td>330 Nm @ 1600 rpm</td>\n",
       "      <td>FWD</td>\n",
       "      <td>4585.0</td>\n",
       "      <td>1890.0</td>\n",
       "      <td>1785.0</td>\n",
       "      <td>7.0</td>\n",
       "      <td>70.0</td>\n",
       "      <td>Mahindra</td>\n",
       "      <td>XUV500 W8 [2015-2017]</td>\n",
       "      <td>2016</td>\n",
       "      <td>90300</td>\n",
       "      <td>Diesel</td>\n",
       "      <td>Manual</td>\n",
       "      <td>Surat</td>\n",
       "      <td>White</td>\n",
       "      <td>First</td>\n",
       "      <td>Individual</td>\n",
       "      <td>850000</td>\n",
       "    </tr>\n",
       "    <tr>\n",
       "      <th>2055</th>\n",
       "      <td>2056</td>\n",
       "      <td>814 cc</td>\n",
       "      <td>55 bhp @ 5500 rpm</td>\n",
       "      <td>75 Nm @ 4000 rpm</td>\n",
       "      <td>FWD</td>\n",
       "      <td>3495.0</td>\n",
       "      <td>1550.0</td>\n",
       "      <td>1500.0</td>\n",
       "      <td>5.0</td>\n",
       "      <td>32.0</td>\n",
       "      <td>Hyundai</td>\n",
       "      <td>Eon D-Lite +</td>\n",
       "      <td>2014</td>\n",
       "      <td>83000</td>\n",
       "      <td>Petrol</td>\n",
       "      <td>Manual</td>\n",
       "      <td>Ahmedabad</td>\n",
       "      <td>White</td>\n",
       "      <td>Second</td>\n",
       "      <td>Individual</td>\n",
       "      <td>275000</td>\n",
       "    </tr>\n",
       "    <tr>\n",
       "      <th>2056</th>\n",
       "      <td>2057</td>\n",
       "      <td>1196 cc</td>\n",
       "      <td>70 bhp @ 6250 rpm</td>\n",
       "      <td>102 Nm @ 4000 rpm</td>\n",
       "      <td>FWD</td>\n",
       "      <td>3795.0</td>\n",
       "      <td>1680.0</td>\n",
       "      <td>1427.0</td>\n",
       "      <td>5.0</td>\n",
       "      <td>45.0</td>\n",
       "      <td>Ford</td>\n",
       "      <td>Figo Duratec Petrol ZXI 1.2</td>\n",
       "      <td>2013</td>\n",
       "      <td>73000</td>\n",
       "      <td>Petrol</td>\n",
       "      <td>Manual</td>\n",
       "      <td>Thane</td>\n",
       "      <td>Silver</td>\n",
       "      <td>First</td>\n",
       "      <td>Individual</td>\n",
       "      <td>240000</td>\n",
       "    </tr>\n",
       "    <tr>\n",
       "      <th>2057</th>\n",
       "      <td>2058</td>\n",
       "      <td>1995 cc</td>\n",
       "      <td>188 bhp @ 4000 rpm</td>\n",
       "      <td>400 Nm @ 1750 rpm</td>\n",
       "      <td>RWD</td>\n",
       "      <td>4936.0</td>\n",
       "      <td>1868.0</td>\n",
       "      <td>1479.0</td>\n",
       "      <td>5.0</td>\n",
       "      <td>65.0</td>\n",
       "      <td>BMW</td>\n",
       "      <td>5-Series 520d Luxury Line [2017-2019]</td>\n",
       "      <td>2018</td>\n",
       "      <td>60474</td>\n",
       "      <td>Diesel</td>\n",
       "      <td>Automatic</td>\n",
       "      <td>Coimbatore</td>\n",
       "      <td>White</td>\n",
       "      <td>First</td>\n",
       "      <td>Individual</td>\n",
       "      <td>4290000</td>\n",
       "    </tr>\n",
       "    <tr>\n",
       "      <th>2058</th>\n",
       "      <td>2059</td>\n",
       "      <td>1493 cc</td>\n",
       "      <td>70 bhp @ 3600 rpm</td>\n",
       "      <td>195 Nm @ 1400 rpm</td>\n",
       "      <td>RWD</td>\n",
       "      <td>3995.0</td>\n",
       "      <td>1745.0</td>\n",
       "      <td>1880.0</td>\n",
       "      <td>7.0</td>\n",
       "      <td>NaN</td>\n",
       "      <td>Mahindra</td>\n",
       "      <td>Bolero Power Plus ZLX [2016-2019]</td>\n",
       "      <td>2017</td>\n",
       "      <td>72000</td>\n",
       "      <td>Diesel</td>\n",
       "      <td>Manual</td>\n",
       "      <td>Guwahati</td>\n",
       "      <td>White</td>\n",
       "      <td>First</td>\n",
       "      <td>Individual</td>\n",
       "      <td>670000</td>\n",
       "    </tr>\n",
       "  </tbody>\n",
       "</table>\n",
       "<p>2059 rows × 21 columns</p>\n",
       "</div>"
      ],
      "text/plain": [
       "        id   Engine           Max Power              Max Torque Drivetrain  \\\n",
       "0        1  1198 cc   87 bhp @ 6000 rpm       109 Nm @ 4500 rpm        FWD   \n",
       "1        2  1248 cc   74 bhp @ 4000 rpm       190 Nm @ 2000 rpm        FWD   \n",
       "2        3  1197 cc   79 bhp @ 6000 rpm  112.7619 Nm @ 4000 rpm        FWD   \n",
       "3        4  1197 cc   82 bhp @ 6000 rpm       113 Nm @ 4200 rpm        FWD   \n",
       "4        5  2393 cc  148 bhp @ 3400 rpm       343 Nm @ 1400 rpm        RWD   \n",
       "...    ...      ...                 ...                     ...        ...   \n",
       "2054  2055  2179 cc  138 bhp @ 3750 rpm       330 Nm @ 1600 rpm        FWD   \n",
       "2055  2056   814 cc   55 bhp @ 5500 rpm        75 Nm @ 4000 rpm        FWD   \n",
       "2056  2057  1196 cc   70 bhp @ 6250 rpm       102 Nm @ 4000 rpm        FWD   \n",
       "2057  2058  1995 cc  188 bhp @ 4000 rpm       400 Nm @ 1750 rpm        RWD   \n",
       "2058  2059  1493 cc   70 bhp @ 3600 rpm       195 Nm @ 1400 rpm        RWD   \n",
       "\n",
       "      Length   Width  Height  Seating Capacity  Fuel Tank Capacity  \\\n",
       "0     3990.0  1680.0  1505.0               5.0                35.0   \n",
       "1     3995.0  1695.0  1555.0               5.0                42.0   \n",
       "2     3585.0  1595.0  1550.0               5.0                35.0   \n",
       "3     3995.0  1745.0  1510.0               5.0                37.0   \n",
       "4     4735.0  1830.0  1795.0               7.0                55.0   \n",
       "...      ...     ...     ...               ...                 ...   \n",
       "2054  4585.0  1890.0  1785.0               7.0                70.0   \n",
       "2055  3495.0  1550.0  1500.0               5.0                32.0   \n",
       "2056  3795.0  1680.0  1427.0               5.0                45.0   \n",
       "2057  4936.0  1868.0  1479.0               5.0                65.0   \n",
       "2058  3995.0  1745.0  1880.0               7.0                 NaN   \n",
       "\n",
       "               Make                                  Model  Year  Kilometer  \\\n",
       "0             Honda                    Amaze 1.2 VX i-VTEC  2017      87150   \n",
       "1     Maruti Suzuki                        Swift DZire VDI  2014      75000   \n",
       "2           Hyundai                   i10 Magna 1.2 Kappa2  2011      67000   \n",
       "3            Toyota                               Glanza G  2019      37500   \n",
       "4            Toyota        Innova 2.4 VX 7 STR [2016-2020]  2018      69000   \n",
       "...             ...                                    ...   ...        ...   \n",
       "2054       Mahindra                  XUV500 W8 [2015-2017]  2016      90300   \n",
       "2055        Hyundai                           Eon D-Lite +  2014      83000   \n",
       "2056           Ford            Figo Duratec Petrol ZXI 1.2  2013      73000   \n",
       "2057            BMW  5-Series 520d Luxury Line [2017-2019]  2018      60474   \n",
       "2058       Mahindra      Bolero Power Plus ZLX [2016-2019]  2017      72000   \n",
       "\n",
       "     Fuel Type Transmission    Location   Color   Owner Seller Type    Price  \n",
       "0       Petrol       Manual        Pune    Grey   First   Corporate   505000  \n",
       "1       Diesel       Manual    Ludhiana   White  Second  Individual   450000  \n",
       "2       Petrol       Manual     Lucknow  Maroon   First  Individual   220000  \n",
       "3       Petrol       Manual   Mangalore     Red   First  Individual   799000  \n",
       "4       Diesel       Manual      Mumbai    Grey   First  Individual  1950000  \n",
       "...        ...          ...         ...     ...     ...         ...      ...  \n",
       "2054    Diesel       Manual       Surat   White   First  Individual   850000  \n",
       "2055    Petrol       Manual   Ahmedabad   White  Second  Individual   275000  \n",
       "2056    Petrol       Manual       Thane  Silver   First  Individual   240000  \n",
       "2057    Diesel    Automatic  Coimbatore   White   First  Individual  4290000  \n",
       "2058    Diesel       Manual    Guwahati   White   First  Individual   670000  \n",
       "\n",
       "[2059 rows x 21 columns]"
      ]
     },
     "execution_count": 8,
     "metadata": {},
     "output_type": "execute_result"
    }
   ],
   "source": [
    "df"
   ]
  },
  {
   "cell_type": "code",
   "execution_count": 9,
   "id": "e97954e4",
   "metadata": {},
   "outputs": [],
   "source": [
    "df = df.drop(['id','Year'],axis=1)"
   ]
  },
  {
   "cell_type": "code",
   "execution_count": 10,
   "id": "d1f45eb8",
   "metadata": {},
   "outputs": [
    {
     "data": {
      "text/plain": [
       "<AxesSubplot:>"
      ]
     },
     "execution_count": 10,
     "metadata": {},
     "output_type": "execute_result"
    },
    {
     "data": {
      "image/png": "[encoded data removed]",
      "text/plain": [
       "<Figure size 640x480 with 1 Axes>"
      ]
     },
     "metadata": {},
     "output_type": "display_data"
    }
   ],
   "source": [
    "df.isnull().sum().plot(kind ='bar')\n"
   ]
  },
  {
   "cell_type": "code",
   "execution_count": 11,
   "id": "4d468427",
   "metadata": {},
   "outputs": [
    {
     "name": "stdout",
     "output_type": "stream",
     "text": [
      "In Engine, mean of null value is: 3.885381253035454\n",
      "In Max Power, mean of null value is: 3.885381253035454\n",
      "In Max Torque, mean of null value is: 3.885381253035454\n",
      "In Drivetrain, mean of null value is: 6.605148130160273\n",
      "In Length, mean of null value is: 3.108305002428363\n",
      "In Width, mean of null value is: 3.108305002428363\n",
      "In Height, mean of null value is: 3.108305002428363\n",
      "In Seating Capacity, mean of null value is: 3.108305002428363\n",
      "In Fuel Tank Capacity, mean of null value is: 5.488101019912579\n",
      "In Make, mean of null value is: 0.0\n",
      "In Model, mean of null value is: 0.0\n",
      "In Kilometer, mean of null value is: 0.0\n",
      "In Fuel Type, mean of null value is: 0.0\n",
      "In Transmission, mean of null value is: 0.0\n",
      "In Location, mean of null value is: 0.0\n",
      "In Color, mean of null value is: 0.0\n",
      "In Owner, mean of null value is: 0.0\n",
      "In Seller Type, mean of null value is: 0.0\n",
      "In Price, mean of null value is: 0.0\n"
     ]
    }
   ],
   "source": [
    "for c in df.columns:\n",
    "    null_values = df[c].isna().sum()\n",
    "    percentage = (null_values / len(df)) * 100\n",
    "    print(\"In {}, mean of null value is: {}\".format(c, percentage))"
   ]
  },
  {
   "cell_type": "code",
   "execution_count": 12,
   "id": "1488efb8",
   "metadata": {},
   "outputs": [
    {
     "data": {
      "text/html": [
       "<div>\n",
       "<style scoped>\n",
       "    .dataframe tbody tr th:only-of-type {\n",
       "        vertical-align: middle;\n",
       "    }\n",
       "\n",
       "    .dataframe tbody tr th {\n",
       "        vertical-align: top;\n",
       "    }\n",
       "\n",
       "    .dataframe thead th {\n",
       "        text-align: right;\n",
       "    }\n",
       "</style>\n",
       "<table border=\"1\" class=\"dataframe\">\n",
       "  <thead>\n",
       "    <tr style=\"text-align: right;\">\n",
       "      <th></th>\n",
       "      <th>Length</th>\n",
       "      <th>Width</th>\n",
       "      <th>Height</th>\n",
       "      <th>Seating Capacity</th>\n",
       "      <th>Fuel Tank Capacity</th>\n",
       "      <th>Kilometer</th>\n",
       "      <th>Price</th>\n",
       "    </tr>\n",
       "  </thead>\n",
       "  <tbody>\n",
       "    <tr>\n",
       "      <th>count</th>\n",
       "      <td>1995.000000</td>\n",
       "      <td>1995.000000</td>\n",
       "      <td>1995.000000</td>\n",
       "      <td>1995.000000</td>\n",
       "      <td>1946.000000</td>\n",
       "      <td>2.059000e+03</td>\n",
       "      <td>2.059000e+03</td>\n",
       "    </tr>\n",
       "    <tr>\n",
       "      <th>mean</th>\n",
       "      <td>4280.860652</td>\n",
       "      <td>1767.991980</td>\n",
       "      <td>1591.735338</td>\n",
       "      <td>5.306266</td>\n",
       "      <td>52.002210</td>\n",
       "      <td>5.422471e+04</td>\n",
       "      <td>1.702992e+06</td>\n",
       "    </tr>\n",
       "    <tr>\n",
       "      <th>std</th>\n",
       "      <td>442.458507</td>\n",
       "      <td>135.265825</td>\n",
       "      <td>136.073956</td>\n",
       "      <td>0.822170</td>\n",
       "      <td>15.110198</td>\n",
       "      <td>5.736172e+04</td>\n",
       "      <td>2.419881e+06</td>\n",
       "    </tr>\n",
       "    <tr>\n",
       "      <th>min</th>\n",
       "      <td>3099.000000</td>\n",
       "      <td>1475.000000</td>\n",
       "      <td>1165.000000</td>\n",
       "      <td>2.000000</td>\n",
       "      <td>15.000000</td>\n",
       "      <td>0.000000e+00</td>\n",
       "      <td>4.900000e+04</td>\n",
       "    </tr>\n",
       "    <tr>\n",
       "      <th>25%</th>\n",
       "      <td>3985.000000</td>\n",
       "      <td>1695.000000</td>\n",
       "      <td>1485.000000</td>\n",
       "      <td>5.000000</td>\n",
       "      <td>41.250000</td>\n",
       "      <td>2.900000e+04</td>\n",
       "      <td>4.849990e+05</td>\n",
       "    </tr>\n",
       "    <tr>\n",
       "      <th>50%</th>\n",
       "      <td>4370.000000</td>\n",
       "      <td>1770.000000</td>\n",
       "      <td>1545.000000</td>\n",
       "      <td>5.000000</td>\n",
       "      <td>50.000000</td>\n",
       "      <td>5.000000e+04</td>\n",
       "      <td>8.250000e+05</td>\n",
       "    </tr>\n",
       "    <tr>\n",
       "      <th>75%</th>\n",
       "      <td>4629.000000</td>\n",
       "      <td>1831.500000</td>\n",
       "      <td>1675.000000</td>\n",
       "      <td>5.000000</td>\n",
       "      <td>60.000000</td>\n",
       "      <td>7.200000e+04</td>\n",
       "      <td>1.925000e+06</td>\n",
       "    </tr>\n",
       "    <tr>\n",
       "      <th>max</th>\n",
       "      <td>5569.000000</td>\n",
       "      <td>2220.000000</td>\n",
       "      <td>1995.000000</td>\n",
       "      <td>8.000000</td>\n",
       "      <td>105.000000</td>\n",
       "      <td>2.000000e+06</td>\n",
       "      <td>3.500000e+07</td>\n",
       "    </tr>\n",
       "  </tbody>\n",
       "</table>\n",
       "</div>"
      ],
      "text/plain": [
       "            Length        Width       Height  Seating Capacity  \\\n",
       "count  1995.000000  1995.000000  1995.000000       1995.000000   \n",
       "mean   4280.860652  1767.991980  1591.735338          5.306266   \n",
       "std     442.458507   135.265825   136.073956          0.822170   \n",
       "min    3099.000000  1475.000000  1165.000000          2.000000   \n",
       "25%    3985.000000  1695.000000  1485.000000          5.000000   \n",
       "50%    4370.000000  1770.000000  1545.000000          5.000000   \n",
       "75%    4629.000000  1831.500000  1675.000000          5.000000   \n",
       "max    5569.000000  2220.000000  1995.000000          8.000000   \n",
       "\n",
       "       Fuel Tank Capacity     Kilometer         Price  \n",
       "count         1946.000000  2.059000e+03  2.059000e+03  \n",
       "mean            52.002210  5.422471e+04  1.702992e+06  \n",
       "std             15.110198  5.736172e+04  2.419881e+06  \n",
       "min             15.000000  0.000000e+00  4.900000e+04  \n",
       "25%             41.250000  2.900000e+04  4.849990e+05  \n",
       "50%             50.000000  5.000000e+04  8.250000e+05  \n",
       "75%             60.000000  7.200000e+04  1.925000e+06  \n",
       "max            105.000000  2.000000e+06  3.500000e+07  "
      ]
     },
     "execution_count": 12,
     "metadata": {},
     "output_type": "execute_result"
    }
   ],
   "source": [
    "df.describe()"
   ]
  },
  {
   "cell_type": "code",
   "execution_count": 13,
   "id": "2c8ca5b3",
   "metadata": {},
   "outputs": [
    {
     "data": {
      "text/plain": [
       "Engine                 object\n",
       "Max Power              object\n",
       "Max Torque             object\n",
       "Drivetrain             object\n",
       "Length                float64\n",
       "Width                 float64\n",
       "Height                float64\n",
       "Seating Capacity      float64\n",
       "Fuel Tank Capacity    float64\n",
       "Make                   object\n",
       "Model                  object\n",
       "Kilometer               int64\n",
       "Fuel Type              object\n",
       "Transmission           object\n",
       "Location               object\n",
       "Color                  object\n",
       "Owner                  object\n",
       "Seller Type            object\n",
       "Price                   int64\n",
       "dtype: object"
      ]
     },
     "execution_count": 13,
     "metadata": {},
     "output_type": "execute_result"
    }
   ],
   "source": [
    "df.dtypes"
   ]
  },
  {
   "cell_type": "code",
   "execution_count": 14,
   "id": "868231a9",
   "metadata": {},
   "outputs": [],
   "source": [
    "''' filling null values with mean of each column '''\n",
    "for c in df.columns:\n",
    "    if df[c].isna().sum() > 0:\n",
    "        if df[c].dtype == 'float64':\n",
    "            df[c] = df[c].fillna(df[c].mean())\n",
    "        elif df[c].dtype == 'object':\n",
    "            df[c] = df[c].fillna(df[c].value_counts().index[0])"
   ]
  },
  {
   "cell_type": "markdown",
   "id": "22147029",
   "metadata": {},
   "source": [
    "Here im filling the null values in numerical columns with mean() & categorical columns with mode()"
   ]
  },
  {
   "cell_type": "code",
   "execution_count": 15,
   "id": "0d81b109",
   "metadata": {},
   "outputs": [
    {
     "data": {
      "text/plain": [
       "Engine                0\n",
       "Max Power             0\n",
       "Max Torque            0\n",
       "Drivetrain            0\n",
       "Length                0\n",
       "Width                 0\n",
       "Height                0\n",
       "Seating Capacity      0\n",
       "Fuel Tank Capacity    0\n",
       "Make                  0\n",
       "Model                 0\n",
       "Kilometer             0\n",
       "Fuel Type             0\n",
       "Transmission          0\n",
       "Location              0\n",
       "Color                 0\n",
       "Owner                 0\n",
       "Seller Type           0\n",
       "Price                 0\n",
       "dtype: int64"
      ]
     },
     "execution_count": 15,
     "metadata": {},
     "output_type": "execute_result"
    }
   ],
   "source": [
    "df.isna().sum()"
   ]
  },
  {
   "cell_type": "code",
   "execution_count": 16,
   "id": "964b6987",
   "metadata": {},
   "outputs": [
    {
     "data": {
      "text/plain": [
       "1197 cc    311\n",
       "1248 cc    122\n",
       "998 cc     121\n",
       "1497 cc     84\n",
       "1968 cc     82\n",
       "          ... \n",
       "1948 cc      1\n",
       "4806 cc      1\n",
       "3496 cc      1\n",
       "2609 cc      1\n",
       "995 cc       1\n",
       "Name: Engine, Length: 108, dtype: int64"
      ]
     },
     "execution_count": 16,
     "metadata": {},
     "output_type": "execute_result"
    }
   ],
   "source": [
    "df['Engine'].value_counts()"
   ]
  },
  {
   "cell_type": "code",
   "execution_count": 17,
   "id": "99e93e5e",
   "metadata": {},
   "outputs": [
    {
     "data": {
      "text/plain": [
       "89 bhp @ 4000 rpm     170\n",
       "82 bhp @ 6000 rpm      62\n",
       "83 bhp @ 6000 rpm      55\n",
       "126 bhp @ 4000 rpm     55\n",
       "74 bhp @ 4000 rpm      50\n",
       "                     ... \n",
       "204 bhp @ 3800 rpm      1\n",
       "157 bhp @ 6500 rpm      1\n",
       "255 bhp @ 3600 rpm      1\n",
       "76 bhp @ 6000 rpm       1\n",
       "329 bhp @ 5250 rpm      1\n",
       "Name: Max Power, Length: 335, dtype: int64"
      ]
     },
     "execution_count": 17,
     "metadata": {},
     "output_type": "execute_result"
    }
   ],
   "source": [
    "df['Max Power'].value_counts()"
   ]
  },
  {
   "cell_type": "code",
   "execution_count": 18,
   "id": "ae1cde3e",
   "metadata": {},
   "outputs": [
    {
     "data": {
      "text/plain": [
       "Engine                 108\n",
       "Max Power              335\n",
       "Max Torque             290\n",
       "Drivetrain               3\n",
       "Length                 249\n",
       "Width                  171\n",
       "Height                 197\n",
       "Seating Capacity         7\n",
       "Fuel Tank Capacity      56\n",
       "Make                    33\n",
       "Model                 1050\n",
       "Kilometer              847\n",
       "Fuel Type                9\n",
       "Transmission             2\n",
       "Location                77\n",
       "Color                   17\n",
       "Owner                    6\n",
       "Seller Type              3\n",
       "Price                  619\n",
       "dtype: int64"
      ]
     },
     "execution_count": 18,
     "metadata": {},
     "output_type": "execute_result"
    }
   ],
   "source": [
    "df.nunique()"
   ]
  },
  {
   "cell_type": "code",
   "execution_count": 19,
   "id": "71924f93",
   "metadata": {},
   "outputs": [],
   "source": [
    "df[['power', 'power_rpm']] = df['Max Power'].str.split('@', expand=True)\n",
    "df[['torque', 'torque_rpm']] = df['Max Torque'].str.split('@', expand=True)"
   ]
  },
  {
   "cell_type": "markdown",
   "id": "74a4c8e5",
   "metadata": {},
   "source": [
    "Here we are splitting the df['Max Power']& df['Max Torque'] columns  with @ symbol  "
   ]
  },
  {
   "cell_type": "code",
   "execution_count": 20,
   "id": "349e52b8",
   "metadata": {},
   "outputs": [],
   "source": [
    "df['power'] = df['power'].str.replace('bhp', '').astype(float)\n",
    "df['torque'] = df['torque'].str.replace('Nm', '').astype(float)"
   ]
  },
  {
   "cell_type": "code",
   "execution_count": 21,
   "id": "c5f5b82e",
   "metadata": {},
   "outputs": [],
   "source": [
    "df.drop(['Max Power', 'Max Torque'], axis=1, inplace=True)\n",
    "df.drop(['power_rpm', 'torque_rpm'], axis=1, inplace=True)"
   ]
  },
  {
   "cell_type": "code",
   "execution_count": 22,
   "id": "73f1e06f",
   "metadata": {},
   "outputs": [],
   "source": [
    "df['Engine'] = df['Engine'].str.replace('cc', '').astype(float)"
   ]
  },
  {
   "cell_type": "code",
   "execution_count": 23,
   "id": "cc8f6849",
   "metadata": {},
   "outputs": [
    {
     "data": {
      "text/plain": [
       "X1 sDrive20d xLine                 15\n",
       "Swift DZire VDI                    14\n",
       "City V                             13\n",
       "Fortuner 2.8 4x2 AT [2016-2020]    13\n",
       "Swift DZire VXI                    12\n",
       "                                   ..\n",
       "XF R 5.0 V8 Supercharged            1\n",
       "Pajero SFX 2.8                      1\n",
       "Etios G                             1\n",
       "Marazzo M6 Plus 8 STR               1\n",
       "Figo Duratec Petrol ZXI 1.2         1\n",
       "Name: Model, Length: 1050, dtype: int64"
      ]
     },
     "execution_count": 23,
     "metadata": {},
     "output_type": "execute_result"
    }
   ],
   "source": [
    "df['Model'].value_counts()"
   ]
  },
  {
   "cell_type": "code",
   "execution_count": 24,
   "id": "0fd08c0f",
   "metadata": {},
   "outputs": [],
   "source": [
    "df.drop('Model',axis=1, inplace=True)"
   ]
  },
  {
   "cell_type": "code",
   "execution_count": 25,
   "id": "80788d92",
   "metadata": {},
   "outputs": [
    {
     "data": {
      "text/html": [
       "<div>\n",
       "<style scoped>\n",
       "    .dataframe tbody tr th:only-of-type {\n",
       "        vertical-align: middle;\n",
       "    }\n",
       "\n",
       "    .dataframe tbody tr th {\n",
       "        vertical-align: top;\n",
       "    }\n",
       "\n",
       "    .dataframe thead th {\n",
       "        text-align: right;\n",
       "    }\n",
       "</style>\n",
       "<table border=\"1\" class=\"dataframe\">\n",
       "  <thead>\n",
       "    <tr style=\"text-align: right;\">\n",
       "      <th></th>\n",
       "      <th>Engine</th>\n",
       "      <th>Drivetrain</th>\n",
       "      <th>Length</th>\n",
       "      <th>Width</th>\n",
       "      <th>Height</th>\n",
       "      <th>Seating Capacity</th>\n",
       "      <th>Fuel Tank Capacity</th>\n",
       "      <th>Make</th>\n",
       "      <th>Kilometer</th>\n",
       "      <th>Fuel Type</th>\n",
       "      <th>Transmission</th>\n",
       "      <th>Location</th>\n",
       "      <th>Color</th>\n",
       "      <th>Owner</th>\n",
       "      <th>Seller Type</th>\n",
       "      <th>Price</th>\n",
       "      <th>power</th>\n",
       "      <th>torque</th>\n",
       "    </tr>\n",
       "  </thead>\n",
       "  <tbody>\n",
       "    <tr>\n",
       "      <th>878</th>\n",
       "      <td>1199.0</td>\n",
       "      <td>FWD</td>\n",
       "      <td>3955.0</td>\n",
       "      <td>1694.0</td>\n",
       "      <td>1544.0</td>\n",
       "      <td>5.0</td>\n",
       "      <td>40.0</td>\n",
       "      <td>Honda</td>\n",
       "      <td>80000</td>\n",
       "      <td>Petrol</td>\n",
       "      <td>Automatic</td>\n",
       "      <td>Delhi</td>\n",
       "      <td>Grey</td>\n",
       "      <td>First</td>\n",
       "      <td>Individual</td>\n",
       "      <td>595000</td>\n",
       "      <td>89.0</td>\n",
       "      <td>110.0</td>\n",
       "    </tr>\n",
       "    <tr>\n",
       "      <th>1456</th>\n",
       "      <td>2997.0</td>\n",
       "      <td>AWD</td>\n",
       "      <td>4804.0</td>\n",
       "      <td>2141.0</td>\n",
       "      <td>1796.0</td>\n",
       "      <td>5.0</td>\n",
       "      <td>70.0</td>\n",
       "      <td>Mercedes-Benz</td>\n",
       "      <td>60513</td>\n",
       "      <td>Diesel</td>\n",
       "      <td>Automatic</td>\n",
       "      <td>Mumbai</td>\n",
       "      <td>Silver</td>\n",
       "      <td>First</td>\n",
       "      <td>Corporate</td>\n",
       "      <td>3200000</td>\n",
       "      <td>254.0</td>\n",
       "      <td>619.0</td>\n",
       "    </tr>\n",
       "    <tr>\n",
       "      <th>1092</th>\n",
       "      <td>2487.0</td>\n",
       "      <td>FWD</td>\n",
       "      <td>4975.0</td>\n",
       "      <td>1865.0</td>\n",
       "      <td>1445.0</td>\n",
       "      <td>5.0</td>\n",
       "      <td>50.0</td>\n",
       "      <td>Lexus</td>\n",
       "      <td>27000</td>\n",
       "      <td>Hybrid</td>\n",
       "      <td>Automatic</td>\n",
       "      <td>Mumbai</td>\n",
       "      <td>Blue</td>\n",
       "      <td>First</td>\n",
       "      <td>Individual</td>\n",
       "      <td>4800000</td>\n",
       "      <td>176.0</td>\n",
       "      <td>221.0</td>\n",
       "    </tr>\n",
       "  </tbody>\n",
       "</table>\n",
       "</div>"
      ],
      "text/plain": [
       "      Engine Drivetrain  Length   Width  Height  Seating Capacity  \\\n",
       "878   1199.0        FWD  3955.0  1694.0  1544.0               5.0   \n",
       "1456  2997.0        AWD  4804.0  2141.0  1796.0               5.0   \n",
       "1092  2487.0        FWD  4975.0  1865.0  1445.0               5.0   \n",
       "\n",
       "      Fuel Tank Capacity           Make  Kilometer Fuel Type Transmission  \\\n",
       "878                 40.0          Honda      80000    Petrol    Automatic   \n",
       "1456                70.0  Mercedes-Benz      60513    Diesel    Automatic   \n",
       "1092                50.0          Lexus      27000    Hybrid    Automatic   \n",
       "\n",
       "     Location   Color  Owner Seller Type    Price  power  torque  \n",
       "878     Delhi    Grey  First  Individual   595000   89.0   110.0  \n",
       "1456   Mumbai  Silver  First   Corporate  3200000  254.0   619.0  \n",
       "1092   Mumbai    Blue  First  Individual  4800000  176.0   221.0  "
      ]
     },
     "execution_count": 25,
     "metadata": {},
     "output_type": "execute_result"
    }
   ],
   "source": [
    "df.sample(3)"
   ]
  },
  {
   "cell_type": "code",
   "execution_count": 26,
   "id": "d9509a3e",
   "metadata": {},
   "outputs": [
    {
     "data": {
      "text/plain": [
       "Engine                float64\n",
       "Drivetrain             object\n",
       "Length                float64\n",
       "Width                 float64\n",
       "Height                float64\n",
       "Seating Capacity      float64\n",
       "Fuel Tank Capacity    float64\n",
       "Make                   object\n",
       "Kilometer               int64\n",
       "Fuel Type              object\n",
       "Transmission           object\n",
       "Location               object\n",
       "Color                  object\n",
       "Owner                  object\n",
       "Seller Type            object\n",
       "Price                   int64\n",
       "power                 float64\n",
       "torque                float64\n",
       "dtype: object"
      ]
     },
     "execution_count": 26,
     "metadata": {},
     "output_type": "execute_result"
    }
   ],
   "source": [
    "df.dtypes"
   ]
  },
  {
   "cell_type": "code",
   "execution_count": 27,
   "id": "2e91af5d",
   "metadata": {},
   "outputs": [
    {
     "data": {
      "text/plain": [
       "Index(['Drivetrain', 'Make', 'Fuel Type', 'Transmission', 'Location', 'Color',\n",
       "       'Owner', 'Seller Type'],\n",
       "      dtype='object')"
      ]
     },
     "execution_count": 27,
     "metadata": {},
     "output_type": "execute_result"
    }
   ],
   "source": [
    "## for catagorical columns\n",
    "cat_cols=df.select_dtypes(include=['object']).columns\n",
    "cat_cols"
   ]
  },
  {
   "cell_type": "code",
   "execution_count": 28,
   "id": "3207f8a5",
   "metadata": {},
   "outputs": [
    {
     "data": {
      "text/plain": [
       "Index(['Engine', 'Length', 'Width', 'Height', 'Seating Capacity',\n",
       "       'Fuel Tank Capacity', 'Kilometer', 'Price', 'power', 'torque'],\n",
       "      dtype='object')"
      ]
     },
     "execution_count": 28,
     "metadata": {},
     "output_type": "execute_result"
    }
   ],
   "source": [
    "## for num_columns\n",
    "num_cols = df._get_numeric_data().columns\n",
    "num_cols"
   ]
  },
  {
   "cell_type": "code",
   "execution_count": 29,
   "id": "edaee62b",
   "metadata": {},
   "outputs": [
    {
     "name": "stdout",
     "output_type": "stream",
     "text": [
      "(2059, 8)\n",
      "(2059, 10)\n"
     ]
    }
   ],
   "source": [
    "cat = df[cat_cols]\n",
    "num = df[num_cols]\n",
    "print(cat.shape)\n",
    "print(num.shape)"
   ]
  },
  {
   "cell_type": "markdown",
   "id": "ce8e7105",
   "metadata": {},
   "source": [
    "### Converting categorical columns to numerical columns"
   ]
  },
  {
   "cell_type": "code",
   "execution_count": 30,
   "id": "6ef40529",
   "metadata": {},
   "outputs": [
    {
     "data": {
      "text/plain": [
       "array(['Petrol', 'Diesel', 'CNG', 'LPG', 'Electric', 'CNG + CNG',\n",
       "       'Hybrid', 'Petrol + CNG', 'Petrol + LPG'], dtype=object)"
      ]
     },
     "execution_count": 30,
     "metadata": {},
     "output_type": "execute_result"
    }
   ],
   "source": [
    "cat['Fuel Type'].unique()"
   ]
  },
  {
   "cell_type": "code",
   "execution_count": 31,
   "id": "ada7ff01",
   "metadata": {},
   "outputs": [],
   "source": [
    "cat.loc[cat['Fuel Type'] == 'CNG + CNG'] = 'CNG'\n",
    "cat.loc[cat['Fuel Type'] == 'Petrol + CNG'] = 'Hybrid'\n",
    "cat.loc[cat['Fuel Type'] == 'Petrol + LPG'] = 'Hybrid'"
   ]
  },
  {
   "cell_type": "code",
   "execution_count": 32,
   "id": "8eebbf15",
   "metadata": {},
   "outputs": [
    {
     "data": {
      "text/plain": [
       "Manual       1130\n",
       "Automatic     926\n",
       "Hybrid          2\n",
       "CNG             1\n",
       "Name: Transmission, dtype: int64"
      ]
     },
     "execution_count": 32,
     "metadata": {},
     "output_type": "execute_result"
    }
   ],
   "source": [
    "cat['Transmission'].value_counts()"
   ]
  },
  {
   "cell_type": "code",
   "execution_count": 33,
   "id": "387e582c",
   "metadata": {},
   "outputs": [],
   "source": [
    "cat.loc[cat['Transmission'] == 'CNG'] = 'Hybrid'"
   ]
  },
  {
   "cell_type": "code",
   "execution_count": 34,
   "id": "d5231dd8",
   "metadata": {},
   "outputs": [],
   "source": [
    "cat= pd.get_dummies(cat, columns=['Fuel Type'], drop_first=True)\n",
    "cat= pd.get_dummies(cat, columns=['Drivetrain'], drop_first=True)\n",
    "cat= pd.get_dummies(cat, columns=['Make'], drop_first=True)\n",
    "cat= pd.get_dummies(cat, columns=['Transmission'], drop_first=True)\n",
    "cat= pd.get_dummies(cat, columns=['Color'], drop_first=True)"
   ]
  },
  {
   "cell_type": "code",
   "execution_count": 35,
   "id": "3c28113a",
   "metadata": {},
   "outputs": [],
   "source": [
    "cat = cat.replace({'Owner':{'First':0,'Second':1,'Third':2,'Fourth':3,'Hybrid':4,'4 or More':5,'UnRegistered Car':6}})"
   ]
  },
  {
   "cell_type": "code",
   "execution_count": 36,
   "id": "8d4ed16e",
   "metadata": {},
   "outputs": [],
   "source": [
    "cat= pd.get_dummies(cat, columns=['Seller Type'], drop_first=True)"
   ]
  },
  {
   "cell_type": "code",
   "execution_count": 37,
   "id": "6f4147ab",
   "metadata": {},
   "outputs": [],
   "source": [
    "new = pd.concat([num,cat],axis=1)"
   ]
  },
  {
   "cell_type": "code",
   "execution_count": 38,
   "id": "b086b98f",
   "metadata": {},
   "outputs": [
    {
     "data": {
      "text/plain": [
       "Engine                    float64\n",
       "Length                    float64\n",
       "Width                     float64\n",
       "Height                    float64\n",
       "Seating Capacity          float64\n",
       "                           ...   \n",
       "Color_White                 uint8\n",
       "Color_Yellow                uint8\n",
       "Seller Type_Corporate       uint8\n",
       "Seller Type_Hybrid          uint8\n",
       "Seller Type_Individual      uint8\n",
       "Length: 75, dtype: object"
      ]
     },
     "execution_count": 38,
     "metadata": {},
     "output_type": "execute_result"
    }
   ],
   "source": [
    "new.dtypes"
   ]
  },
  {
   "cell_type": "code",
   "execution_count": 39,
   "id": "6fc80b06",
   "metadata": {},
   "outputs": [],
   "source": [
    "new.drop('Location',axis=1,inplace=True)"
   ]
  },
  {
   "cell_type": "code",
   "execution_count": 40,
   "id": "ca11178a",
   "metadata": {},
   "outputs": [
    {
     "data": {
      "text/plain": [
       "Engine                    0\n",
       "Length                    0\n",
       "Width                     0\n",
       "Height                    0\n",
       "Seating Capacity          0\n",
       "                         ..\n",
       "Color_White               0\n",
       "Color_Yellow              0\n",
       "Seller Type_Corporate     0\n",
       "Seller Type_Hybrid        0\n",
       "Seller Type_Individual    0\n",
       "Length: 74, dtype: int64"
      ]
     },
     "execution_count": 40,
     "metadata": {},
     "output_type": "execute_result"
    }
   ],
   "source": [
    "new.isna().sum()"
   ]
  },
  {
   "cell_type": "code",
   "execution_count": 41,
   "id": "a9b4bf32",
   "metadata": {},
   "outputs": [
    {
     "data": {
      "text/plain": [
       "(2059, 74)"
      ]
     },
     "execution_count": 41,
     "metadata": {},
     "output_type": "execute_result"
    }
   ],
   "source": [
    "new.shape"
   ]
  },
  {
   "cell_type": "markdown",
   "id": "d4d1bfdc",
   "metadata": {},
   "source": [
    "## Splitting the data into train and test split"
   ]
  },
  {
   "cell_type": "code",
   "execution_count": 42,
   "id": "b986fd63",
   "metadata": {},
   "outputs": [],
   "source": [
    "def train_test_split(Data, test_ratio):\n",
    "    \n",
    "    Data=Data.sample(frac=1,random_state=42)\n",
    "\n",
    "    samples=int(len(Data)*(1-test_ratio))\n",
    "\n",
    "    train_data=Data[:samples]\n",
    "    test_data=Data[samples:]\n",
    "\n",
    "    return train_data, test_data"
   ]
  },
  {
   "cell_type": "code",
   "execution_count": 44,
   "id": "5b473b56",
   "metadata": {},
   "outputs": [],
   "source": [
    "train_data, test_data = train_test_split(new, 0.3)"
   ]
  },
  {
   "cell_type": "code",
   "execution_count": 45,
   "id": "2851c774",
   "metadata": {},
   "outputs": [],
   "source": [
    "X_train,Y_train=train_data.loc[:,train_data.columns != 'Price'].values, train_data.loc[:,'Price'].values.reshape(-1,1)\n",
    "X_test,Y_test=test_data.loc[:,test_data.columns != 'Price'].values, test_data.loc[:,'Price'].values.reshape(-1,1)"
   ]
  },
  {
   "cell_type": "code",
   "execution_count": 46,
   "id": "2c2c68ba",
   "metadata": {},
   "outputs": [],
   "source": [
    "from sklearn.model_selection import train_test_split,GridSearchCV\n",
    "from sklearn.tree import DecisionTreeRegressor\n",
    "from sklearn.metrics import mean_squared_error,r2_score"
   ]
  },
  {
   "cell_type": "code",
   "execution_count": 47,
   "id": "6bc256c0",
   "metadata": {},
   "outputs": [
    {
     "data": {
      "text/plain": [
       "DecisionTreeRegressor()"
      ]
     },
     "execution_count": 47,
     "metadata": {},
     "output_type": "execute_result"
    }
   ],
   "source": [
    "reg= DecisionTreeRegressor()\n",
    "reg.fit(X_train,Y_train)"
   ]
  },
  {
   "cell_type": "code",
   "execution_count": 48,
   "id": "7c7d7ec2",
   "metadata": {},
   "outputs": [],
   "source": [
    "y_pred = reg.predict(X_test)"
   ]
  },
  {
   "cell_type": "code",
   "execution_count": 50,
   "id": "c21356a5",
   "metadata": {},
   "outputs": [
    {
     "data": {
      "text/plain": [
       "0.7400340724480012"
      ]
     },
     "execution_count": 50,
     "metadata": {},
     "output_type": "execute_result"
    }
   ],
   "source": [
    "r2_score(Y_test, y_pred)"
   ]
  },
  {
   "cell_type": "code",
   "execution_count": 52,
   "id": "659e2e73",
   "metadata": {},
   "outputs": [
    {
     "data": {
      "text/plain": [
       "0.9996986022497578"
      ]
     },
     "execution_count": 52,
     "metadata": {},
     "output_type": "execute_result"
    }
   ],
   "source": [
    "y_train_pred = reg.predict(X_train)\n",
    "r2_score(Y_train, y_train_pred)"
   ]
  },
  {
   "cell_type": "code",
   "execution_count": 53,
   "id": "26c81d17",
   "metadata": {},
   "outputs": [
    {
     "name": "stdout",
     "output_type": "stream",
     "text": [
      "MAE 497086.5760517799\n",
      "MSE 1514298089521.1458\n",
      "RMSE 1230568.1978342955\n"
     ]
    }
   ],
   "source": [
    "from sklearn import  metrics\n",
    "print('MAE',metrics.mean_absolute_error(Y_test,y_pred))\n",
    "print('MSE',metrics.mean_squared_error(Y_test,y_pred))\n",
    "print('RMSE',np.sqrt(metrics.mean_squared_error(Y_test,y_pred)))"
   ]
  },
  {
   "cell_type": "markdown",
   "id": "e32ffe68",
   "metadata": {},
   "source": [
    "# Hyper Parameter tuning"
   ]
  },
  {
   "cell_type": "code",
   "execution_count": 55,
   "id": "2fb35336",
   "metadata": {},
   "outputs": [],
   "source": [
    "# Hyper parameters range intialization for tuning \n",
    "\n",
    "parameters={'max_depth': [None, 1, 2, 3, 4,9,10,25,100], \n",
    "             'min_samples_split': [2, 3, 4, 5],\n",
    "             'min_samples_leaf': [1, 2, 3]}"
   ]
  },
  {
   "cell_type": "code",
   "execution_count": 56,
   "id": "438329ee",
   "metadata": {},
   "outputs": [],
   "source": [
    "# calculating different regression metrics\n",
    "\n",
    "from sklearn.model_selection import GridSearchCV"
   ]
  },
  {
   "cell_type": "code",
   "execution_count": 58,
   "id": "cd1009e9",
   "metadata": {},
   "outputs": [],
   "source": [
    "tuning_model=GridSearchCV(reg,param_grid=parameters,scoring='neg_mean_squared_error',cv=3)"
   ]
  },
  {
   "cell_type": "code",
   "execution_count": 59,
   "id": "e82a7b04",
   "metadata": {},
   "outputs": [
    {
     "data": {
      "text/plain": [
       "GridSearchCV(cv=3, estimator=DecisionTreeRegressor(),\n",
       "             param_grid={'max_depth': [None, 1, 2, 3, 4, 9, 10, 25, 100],\n",
       "                         'min_samples_leaf': [1, 2, 3],\n",
       "                         'min_samples_split': [2, 3, 4, 5]},\n",
       "             scoring='neg_mean_squared_error')"
      ]
     },
     "execution_count": 59,
     "metadata": {},
     "output_type": "execute_result"
    }
   ],
   "source": [
    "tuning_model.fit(X_train,Y_train)"
   ]
  },
  {
   "cell_type": "code",
   "execution_count": 60,
   "id": "375cc6f7",
   "metadata": {},
   "outputs": [
    {
     "data": {
      "text/plain": [
       "{'max_depth': 100, 'min_samples_leaf': 1, 'min_samples_split': 2}"
      ]
     },
     "execution_count": 60,
     "metadata": {},
     "output_type": "execute_result"
    }
   ],
   "source": [
    "# best hyperparameters \n",
    "tuning_model.best_params_"
   ]
  },
  {
   "cell_type": "code",
   "execution_count": 61,
   "id": "a67e3b8b",
   "metadata": {},
   "outputs": [
    {
     "data": {
      "text/plain": [
       "-1956335506278.5156"
      ]
     },
     "execution_count": 61,
     "metadata": {},
     "output_type": "execute_result"
    }
   ],
   "source": [
    "# best model score\n",
    "tuning_model.best_score_"
   ]
  },
  {
   "cell_type": "markdown",
   "id": "0582c1e6",
   "metadata": {},
   "source": [
    "# Training Decision Tree With Best Hyperparameter"
   ]
  },
  {
   "cell_type": "code",
   "execution_count": 63,
   "id": "5f3edb3e",
   "metadata": {},
   "outputs": [],
   "source": [
    "tuned_hyper_model= DecisionTreeRegressor(max_depth=100, min_samples_leaf=1, min_samples_split=2)"
   ]
  },
  {
   "cell_type": "code",
   "execution_count": 64,
   "id": "8a3a2128",
   "metadata": {},
   "outputs": [
    {
     "data": {
      "text/plain": [
       "DecisionTreeRegressor(max_depth=100)"
      ]
     },
     "execution_count": 64,
     "metadata": {},
     "output_type": "execute_result"
    }
   ],
   "source": [
    "# fitting model\n",
    "\n",
    "\n",
    "tuned_hyper_model.fit(X_train,Y_train)"
   ]
  },
  {
   "cell_type": "code",
   "execution_count": 65,
   "id": "a621a9d5",
   "metadata": {},
   "outputs": [],
   "source": [
    "# prediction \n",
    "\n",
    "tuned_pred=tuned_hyper_model.predict(X_test)"
   ]
  },
  {
   "cell_type": "code",
   "execution_count": 66,
   "id": "53b12c09",
   "metadata": {},
   "outputs": [
    {
     "name": "stdout",
     "output_type": "stream",
     "text": [
      "MAE: 501714.41747572814\n",
      "MSE: 1250112464035.712\n",
      "RMSE: 1118084.2830644352\n"
     ]
    }
   ],
   "source": [
    "# with hyperparameter tuning \n",
    "print('MAE:', metrics.mean_absolute_error(Y_test,tuned_pred))\n",
    "print('MSE:', metrics.mean_squared_error(Y_test, tuned_pred))\n",
    "print('RMSE:', np.sqrt(metrics.mean_squared_error(Y_test, tuned_pred)))"
   ]
  },
  {
   "cell_type": "code",
   "execution_count": 67,
   "id": "91a4ac4d",
   "metadata": {},
   "outputs": [
    {
     "name": "stdout",
     "output_type": "stream",
     "text": [
      "MAE 497086.5760517799\n",
      "MSE 1514298089521.1458\n",
      "RMSE 1230568.1978342955\n"
     ]
    }
   ],
   "source": [
    "# without Hyper parameter tuning\n",
    "print('MAE',metrics.mean_absolute_error(Y_test,y_pred))\n",
    "print('MSE',metrics.mean_squared_error(Y_test,y_pred))\n",
    "print('RMSE',np.sqrt(metrics.mean_squared_error(Y_test,y_pred)))"
   ]
  },
  {
   "cell_type": "code",
   "execution_count": 68,
   "id": "5a93fd8a",
   "metadata": {},
   "outputs": [
    {
     "data": {
      "text/plain": [
       "0.7400340724480012"
      ]
     },
     "execution_count": 68,
     "metadata": {},
     "output_type": "execute_result"
    }
   ],
   "source": [
    "r2_score(Y_test, y_pred)"
   ]
  },
  {
   "cell_type": "code",
   "execution_count": 69,
   "id": "1821b30f",
   "metadata": {},
   "outputs": [
    {
     "data": {
      "text/plain": [
       "0.7853879308794964"
      ]
     },
     "execution_count": 69,
     "metadata": {},
     "output_type": "execute_result"
    }
   ],
   "source": [
    "r2_score(Y_test, tuned_pred)"
   ]
  },
  {
   "cell_type": "code",
   "execution_count": null,
   "id": "073d12eb",
   "metadata": {},
   "outputs": [],
   "source": []
  }
 ],
 "metadata": {
  "kernelspec": {
   "display_name": "Python 3 (ipykernel)",
   "language": "python",
   "name": "python3"
  },
  "language_info": {
   "codemirror_mode": {
    "name": "ipython",
    "version": 3
   },
   "file_extension": ".py",
   "mimetype": "text/x-python",
   "name": "python",
   "nbconvert_exporter": "python",
   "pygments_lexer": "ipython3",
   "version": "3.9.13"
  }
 },
 "nbformat": 4,
 "nbformat_minor": 5
}

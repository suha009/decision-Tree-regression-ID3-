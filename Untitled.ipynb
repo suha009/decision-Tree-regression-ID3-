{
 "cells": [
  {
   "cell_type": "markdown",
   "id": "6d708dd8",
   "metadata": {},
   "source": [
    "# <p style=\"background-color:#4B0082;font-family:newtimeroman;color:#FFF9ED;font-size:150%;text-align:center;border-radius:10px 10px;\">🍷 wine_quality_machine_learning 🥂</p>\n",
    "\n",
    "\n",
    "These datasets can be viewed as classification or regression tasks. The classes are ordered and not balanced (e.g. there are many more normal wines than excellent or poor ones). Outlier detection algorithms could be used to detect the few excellent or poor wines. Also, we are not sure if all input variables are relevant. So it could be interesting to test feature selection methods.\n",
    "\n",
    "Attribute Information:\n",
    "\n",
    "Input variables (based on physicochemical tests):\n",
    "1 - fixed acidity\n",
    "\n",
    "2 - volatile acidity\n",
    "\n",
    "3 - citric acid\n",
    "\n",
    "4 - residual sugar\n",
    "\n",
    "5 - chlorides\n",
    "\n",
    "6 - free sulfur dioxide\n",
    "\n",
    "7 - total sulfur dioxide\n",
    "\n",
    "8 - density\n",
    "\n",
    "9 - pH\n",
    "\n",
    "10 - sulphates\n",
    "\n",
    "11 - alcohol\n",
    "\n",
    "Output variable (based on sensory data):\n",
    "\n",
    "12 - quality (score between 0 and 10)\n",
    "\n",
    "\n",
    "\n",
    "\n",
    "   <a id='top'></a>\n",
    "<div class=\"list-group\" id=\"list-tab\" role=\"tablist\">\n",
    "<p style=\"background-color:#4B0082;font-family:newtimeroman;color:#FFF9ED;font-size:150%;text-align:center;border-radius:10px 10px;\">TABLE OF CONTENTS</p>   \n",
    "    \n",
    "* [1. IMPORTING LIBRARIES](#1)\n",
    "    \n",
    "* [2. LOADING DATA](#2)\n",
    "    \n",
    "* [3. Data Overview](#3)\n",
    "\n",
    "* [4. EDA](#4)\n",
    "    \n",
    "* [5. Preprocessing Data](#5)   \n",
    "    \n",
    "* [6. SPLITING DATA](#6) \n",
    "\n",
    "* [7. Scaling](#7) \n",
    "   \n",
    "* [8. MODELS](#8)\n",
    "        \n",
    "* [9. END](#9)\n",
    "    "
   ]
  },
  {
   "cell_type": "markdown",
   "id": "f2a63d53",
   "metadata": {},
   "source": [
    "<a id=\"1\"></a>\n",
    "# <p style=\"background-color:#4B0082;font-family:newtimeroman;color:#FFF9ED;font-size:150%;text-align:center;border-radius:10px 10px;\">📚 IMPORTING LIBRARIES</p>"
   ]
  },
  {
   "cell_type": "code",
   "execution_count": 1,
   "id": "fb612092",
   "metadata": {},
   "outputs": [],
   "source": [
    "import numpy as np \n",
    "import pandas as pd \n",
    "import seaborn as sns\n",
    "import matplotlib.pyplot as plt\n",
    "\n",
    "\n",
    "# Set style of seaborn plots\n",
    "sns.set_style('darkgrid')\n",
    "\n",
    "# Palette\n",
    "palette = sns.color_palette('plasma')"
   ]
  },
  {
   "cell_type": "code",
   "execution_count": 33,
   "id": "08d2c348",
   "metadata": {},
   "outputs": [
    {
     "data": {
      "image/png": "[encoded data removed]",
      "text/plain": [
       "<Figure size 2304x144 with 1 Axes>"
      ]
     },
     "metadata": {},
     "output_type": "display_data"
    }
   ],
   "source": [
    "purple = ['#491D8B', '#6929C4', '#8A3FFC', '#A56EFF',\n",
    "          '#BE95FF', '#CA96EC', '#A163CF', '#29066B',\n",
    "          '#7D3AC1', '#AF4BCE', '#DB4CB2', '#EB548C',\n",
    "          '#EC96E0', '#A2128E', '#E8D9F3', '#641811']\n",
    "\n",
    "sns.palplot(purple, size = 2)"
   ]
  },
  {
   "cell_type": "markdown",
   "id": "b198fc3f",
   "metadata": {},
   "source": [
    "<a id=\"2\"></a>\n",
    "# <p style=\"background-color:#4B0082;font-family:newtimeroman;color:#FFF9ED;font-size:150%;text-align:center;border-radius:10px 10px;\">📖 LOADING DATA</p>"
   ]
  },
  {
   "cell_type": "code",
   "execution_count": 2,
   "id": "49d96f1e",
   "metadata": {},
   "outputs": [],
   "source": [
    "df=pd.read_csv(\"winequality-red.csv\")\n"
   ]
  },
  {
   "cell_type": "markdown",
   "id": "b284a264",
   "metadata": {},
   "source": [
    "<a id=\"3\"></a>\n",
    "# <p style=\"background-color:#4B0082;font-family:newtimeroman;color:#FFF9ED;font-size:150%;text-align:center;border-radius:10px 10px;\">🧐 Data Overview</p>"
   ]
  },
  {
   "cell_type": "code",
   "execution_count": 34,
   "id": "cd1787e8",
   "metadata": {},
   "outputs": [
    {
     "data": {
      "text/html": [
       "<style  type=\"text/css\" >\n",
       "#T_b05fc_row0_col0,#T_b05fc_row0_col2,#T_b05fc_row0_col3,#T_b05fc_row0_col5,#T_b05fc_row0_col6,#T_b05fc_row0_col9,#T_b05fc_row0_col10,#T_b05fc_row0_col11,#T_b05fc_row1_col2,#T_b05fc_row1_col7,#T_b05fc_row1_col11,#T_b05fc_row2_col11,#T_b05fc_row3_col1,#T_b05fc_row3_col3,#T_b05fc_row3_col4,#T_b05fc_row3_col8,#T_b05fc_row4_col0,#T_b05fc_row4_col2,#T_b05fc_row4_col3,#T_b05fc_row4_col5,#T_b05fc_row4_col6,#T_b05fc_row4_col9,#T_b05fc_row4_col10,#T_b05fc_row4_col11{\n",
       "            background-color:  #3f007d;\n",
       "            color:  #f1f1f1;\n",
       "        }#T_b05fc_row0_col1,#T_b05fc_row4_col1{\n",
       "            background-color:  #cecfe5;\n",
       "            color:  #000000;\n",
       "        }#T_b05fc_row0_col4,#T_b05fc_row4_col4{\n",
       "            background-color:  #460d83;\n",
       "            color:  #f1f1f1;\n",
       "        }#T_b05fc_row0_col7,#T_b05fc_row4_col7{\n",
       "            background-color:  #e8e7f2;\n",
       "            color:  #000000;\n",
       "        }#T_b05fc_row0_col8,#T_b05fc_row1_col1,#T_b05fc_row1_col3,#T_b05fc_row1_col4,#T_b05fc_row1_col5,#T_b05fc_row1_col6,#T_b05fc_row1_col9,#T_b05fc_row1_col10,#T_b05fc_row2_col10,#T_b05fc_row3_col0,#T_b05fc_row3_col2,#T_b05fc_row3_col7,#T_b05fc_row3_col10,#T_b05fc_row3_col11,#T_b05fc_row4_col8{\n",
       "            background-color:  #fcfbfd;\n",
       "            color:  #000000;\n",
       "        }#T_b05fc_row1_col0,#T_b05fc_row2_col0{\n",
       "            background-color:  #50208c;\n",
       "            color:  #f1f1f1;\n",
       "        }#T_b05fc_row1_col8{\n",
       "            background-color:  #52238d;\n",
       "            color:  #f1f1f1;\n",
       "        }#T_b05fc_row2_col1{\n",
       "            background-color:  #e2e2ef;\n",
       "            color:  #000000;\n",
       "        }#T_b05fc_row2_col2{\n",
       "            background-color:  #4b1687;\n",
       "            color:  #f1f1f1;\n",
       "        }#T_b05fc_row2_col3{\n",
       "            background-color:  #afaed4;\n",
       "            color:  #000000;\n",
       "        }#T_b05fc_row2_col4{\n",
       "            background-color:  #d8d8ea;\n",
       "            color:  #000000;\n",
       "        }#T_b05fc_row2_col5,#T_b05fc_row2_col8{\n",
       "            background-color:  #705eaa;\n",
       "            color:  #f1f1f1;\n",
       "        }#T_b05fc_row2_col6{\n",
       "            background-color:  #b8b8d9;\n",
       "            color:  #000000;\n",
       "        }#T_b05fc_row2_col7,#T_b05fc_row3_col9{\n",
       "            background-color:  #5b3495;\n",
       "            color:  #f1f1f1;\n",
       "        }#T_b05fc_row2_col9{\n",
       "            background-color:  #dadaeb;\n",
       "            color:  #000000;\n",
       "        }#T_b05fc_row3_col5{\n",
       "            background-color:  #8d89c0;\n",
       "            color:  #000000;\n",
       "        }#T_b05fc_row3_col6{\n",
       "            background-color:  #e0e0ee;\n",
       "            color:  #000000;\n",
       "        }</style><table id=\"T_b05fc_\" ><thead>    <tr>        <th class=\"blank level0\" ></th>        <th class=\"col_heading level0 col0\" >fixed acidity</th>        <th class=\"col_heading level0 col1\" >volatile acidity</th>        <th class=\"col_heading level0 col2\" >citric acid</th>        <th class=\"col_heading level0 col3\" >residual sugar</th>        <th class=\"col_heading level0 col4\" >chlorides</th>        <th class=\"col_heading level0 col5\" >free sulfur dioxide</th>        <th class=\"col_heading level0 col6\" >total sulfur dioxide</th>        <th class=\"col_heading level0 col7\" >density</th>        <th class=\"col_heading level0 col8\" >pH</th>        <th class=\"col_heading level0 col9\" >sulphates</th>        <th class=\"col_heading level0 col10\" >alcohol</th>        <th class=\"col_heading level0 col11\" >quality</th>    </tr></thead><tbody>\n",
       "                <tr>\n",
       "                        <th id=\"T_b05fc_level0_row0\" class=\"row_heading level0 row0\" >0</th>\n",
       "                        <td id=\"T_b05fc_row0_col0\" class=\"data row0 col0\" >7.400000</td>\n",
       "                        <td id=\"T_b05fc_row0_col1\" class=\"data row0 col1\" >0.700000</td>\n",
       "                        <td id=\"T_b05fc_row0_col2\" class=\"data row0 col2\" >0.000000</td>\n",
       "                        <td id=\"T_b05fc_row0_col3\" class=\"data row0 col3\" >1.900000</td>\n",
       "                        <td id=\"T_b05fc_row0_col4\" class=\"data row0 col4\" >0.076000</td>\n",
       "                        <td id=\"T_b05fc_row0_col5\" class=\"data row0 col5\" >11.000000</td>\n",
       "                        <td id=\"T_b05fc_row0_col6\" class=\"data row0 col6\" >34.000000</td>\n",
       "                        <td id=\"T_b05fc_row0_col7\" class=\"data row0 col7\" >0.997800</td>\n",
       "                        <td id=\"T_b05fc_row0_col8\" class=\"data row0 col8\" >3.510000</td>\n",
       "                        <td id=\"T_b05fc_row0_col9\" class=\"data row0 col9\" >0.560000</td>\n",
       "                        <td id=\"T_b05fc_row0_col10\" class=\"data row0 col10\" >9.400000</td>\n",
       "                        <td id=\"T_b05fc_row0_col11\" class=\"data row0 col11\" >5.000000</td>\n",
       "            </tr>\n",
       "            <tr>\n",
       "                        <th id=\"T_b05fc_level0_row1\" class=\"row_heading level0 row1\" >1</th>\n",
       "                        <td id=\"T_b05fc_row1_col0\" class=\"data row1 col0\" >7.800000</td>\n",
       "                        <td id=\"T_b05fc_row1_col1\" class=\"data row1 col1\" >0.880000</td>\n",
       "                        <td id=\"T_b05fc_row1_col2\" class=\"data row1 col2\" >0.000000</td>\n",
       "                        <td id=\"T_b05fc_row1_col3\" class=\"data row1 col3\" >2.600000</td>\n",
       "                        <td id=\"T_b05fc_row1_col4\" class=\"data row1 col4\" >0.098000</td>\n",
       "                        <td id=\"T_b05fc_row1_col5\" class=\"data row1 col5\" >25.000000</td>\n",
       "                        <td id=\"T_b05fc_row1_col6\" class=\"data row1 col6\" >67.000000</td>\n",
       "                        <td id=\"T_b05fc_row1_col7\" class=\"data row1 col7\" >0.996800</td>\n",
       "                        <td id=\"T_b05fc_row1_col8\" class=\"data row1 col8\" >3.200000</td>\n",
       "                        <td id=\"T_b05fc_row1_col9\" class=\"data row1 col9\" >0.680000</td>\n",
       "                        <td id=\"T_b05fc_row1_col10\" class=\"data row1 col10\" >9.800000</td>\n",
       "                        <td id=\"T_b05fc_row1_col11\" class=\"data row1 col11\" >5.000000</td>\n",
       "            </tr>\n",
       "            <tr>\n",
       "                        <th id=\"T_b05fc_level0_row2\" class=\"row_heading level0 row2\" >2</th>\n",
       "                        <td id=\"T_b05fc_row2_col0\" class=\"data row2 col0\" >7.800000</td>\n",
       "                        <td id=\"T_b05fc_row2_col1\" class=\"data row2 col1\" >0.760000</td>\n",
       "                        <td id=\"T_b05fc_row2_col2\" class=\"data row2 col2\" >0.040000</td>\n",
       "                        <td id=\"T_b05fc_row2_col3\" class=\"data row2 col3\" >2.300000</td>\n",
       "                        <td id=\"T_b05fc_row2_col4\" class=\"data row2 col4\" >0.092000</td>\n",
       "                        <td id=\"T_b05fc_row2_col5\" class=\"data row2 col5\" >15.000000</td>\n",
       "                        <td id=\"T_b05fc_row2_col6\" class=\"data row2 col6\" >54.000000</td>\n",
       "                        <td id=\"T_b05fc_row2_col7\" class=\"data row2 col7\" >0.997000</td>\n",
       "                        <td id=\"T_b05fc_row2_col8\" class=\"data row2 col8\" >3.260000</td>\n",
       "                        <td id=\"T_b05fc_row2_col9\" class=\"data row2 col9\" >0.650000</td>\n",
       "                        <td id=\"T_b05fc_row2_col10\" class=\"data row2 col10\" >9.800000</td>\n",
       "                        <td id=\"T_b05fc_row2_col11\" class=\"data row2 col11\" >5.000000</td>\n",
       "            </tr>\n",
       "            <tr>\n",
       "                        <th id=\"T_b05fc_level0_row3\" class=\"row_heading level0 row3\" >3</th>\n",
       "                        <td id=\"T_b05fc_row3_col0\" class=\"data row3 col0\" >11.200000</td>\n",
       "                        <td id=\"T_b05fc_row3_col1\" class=\"data row3 col1\" >0.280000</td>\n",
       "                        <td id=\"T_b05fc_row3_col2\" class=\"data row3 col2\" >0.560000</td>\n",
       "                        <td id=\"T_b05fc_row3_col3\" class=\"data row3 col3\" >1.900000</td>\n",
       "                        <td id=\"T_b05fc_row3_col4\" class=\"data row3 col4\" >0.075000</td>\n",
       "                        <td id=\"T_b05fc_row3_col5\" class=\"data row3 col5\" >17.000000</td>\n",
       "                        <td id=\"T_b05fc_row3_col6\" class=\"data row3 col6\" >60.000000</td>\n",
       "                        <td id=\"T_b05fc_row3_col7\" class=\"data row3 col7\" >0.998000</td>\n",
       "                        <td id=\"T_b05fc_row3_col8\" class=\"data row3 col8\" >3.160000</td>\n",
       "                        <td id=\"T_b05fc_row3_col9\" class=\"data row3 col9\" >0.580000</td>\n",
       "                        <td id=\"T_b05fc_row3_col10\" class=\"data row3 col10\" >9.800000</td>\n",
       "                        <td id=\"T_b05fc_row3_col11\" class=\"data row3 col11\" >6.000000</td>\n",
       "            </tr>\n",
       "            <tr>\n",
       "                        <th id=\"T_b05fc_level0_row4\" class=\"row_heading level0 row4\" >4</th>\n",
       "                        <td id=\"T_b05fc_row4_col0\" class=\"data row4 col0\" >7.400000</td>\n",
       "                        <td id=\"T_b05fc_row4_col1\" class=\"data row4 col1\" >0.700000</td>\n",
       "                        <td id=\"T_b05fc_row4_col2\" class=\"data row4 col2\" >0.000000</td>\n",
       "                        <td id=\"T_b05fc_row4_col3\" class=\"data row4 col3\" >1.900000</td>\n",
       "                        <td id=\"T_b05fc_row4_col4\" class=\"data row4 col4\" >0.076000</td>\n",
       "                        <td id=\"T_b05fc_row4_col5\" class=\"data row4 col5\" >11.000000</td>\n",
       "                        <td id=\"T_b05fc_row4_col6\" class=\"data row4 col6\" >34.000000</td>\n",
       "                        <td id=\"T_b05fc_row4_col7\" class=\"data row4 col7\" >0.997800</td>\n",
       "                        <td id=\"T_b05fc_row4_col8\" class=\"data row4 col8\" >3.510000</td>\n",
       "                        <td id=\"T_b05fc_row4_col9\" class=\"data row4 col9\" >0.560000</td>\n",
       "                        <td id=\"T_b05fc_row4_col10\" class=\"data row4 col10\" >9.400000</td>\n",
       "                        <td id=\"T_b05fc_row4_col11\" class=\"data row4 col11\" >5.000000</td>\n",
       "            </tr>\n",
       "    </tbody></table>"
      ],
      "text/plain": [
       "<pandas.io.formats.style.Styler at 0x16c3596ac70>"
      ]
     },
     "execution_count": 34,
     "metadata": {},
     "output_type": "execute_result"
    }
   ],
   "source": [
    "df.head().style.background_gradient(cmap = \"Purples_r\")"
   ]
  },
  {
   "cell_type": "code",
   "execution_count": 4,
   "id": "96ac9350",
   "metadata": {},
   "outputs": [
    {
     "name": "stdout",
     "output_type": "stream",
     "text": [
      "<class 'pandas.core.frame.DataFrame'>\n",
      "RangeIndex: 1599 entries, 0 to 1598\n",
      "Data columns (total 12 columns):\n",
      " #   Column                Non-Null Count  Dtype  \n",
      "---  ------                --------------  -----  \n",
      " 0   fixed acidity         1599 non-null   float64\n",
      " 1   volatile acidity      1599 non-null   float64\n",
      " 2   citric acid           1599 non-null   float64\n",
      " 3   residual sugar        1599 non-null   float64\n",
      " 4   chlorides             1599 non-null   float64\n",
      " 5   free sulfur dioxide   1599 non-null   float64\n",
      " 6   total sulfur dioxide  1599 non-null   float64\n",
      " 7   density               1599 non-null   float64\n",
      " 8   pH                    1599 non-null   float64\n",
      " 9   sulphates             1599 non-null   float64\n",
      " 10  alcohol               1599 non-null   float64\n",
      " 11  quality               1599 non-null   int64  \n",
      "dtypes: float64(11), int64(1)\n",
      "memory usage: 150.0 KB\n"
     ]
    }
   ],
   "source": [
    "df.info()"
   ]
  },
  {
   "cell_type": "markdown",
   "id": "a1b66e38",
   "metadata": {},
   "source": [
    "<div style=\"border-radius:10px;\n",
    "            border : black solid;\n",
    "            background-color: #E8D9F3;\n",
    "            font-size:110%;\n",
    "            text-align: left\">\n",
    "\n",
    "<h4 style='; border:0; border-radius: 10px; font-weight: bold; color:black'><center> Brief information</center></h4>\n",
    "It turns out that the dataset does not have <mark><b>null values.</b></mark> The dataset consists of <mark><b>1599 rows and 12 columns.</b></mark> The data type of all variables are <mark><b>numeric. </b></mark>"
   ]
  },
  {
   "cell_type": "code",
   "execution_count": 35,
   "id": "3304936e",
   "metadata": {
    "scrolled": true
   },
   "outputs": [
    {
     "data": {
      "text/html": [
       "<style  type=\"text/css\" >\n",
       "#T_d35e9_row0_col0,#T_d35e9_row1_col0,#T_d35e9_row2_col0,#T_d35e9_row2_col3,#T_d35e9_row2_col4,#T_d35e9_row3_col0,#T_d35e9_row4_col0,#T_d35e9_row4_col1,#T_d35e9_row4_col2,#T_d35e9_row4_col4,#T_d35e9_row4_col5,#T_d35e9_row4_col6,#T_d35e9_row4_col7,#T_d35e9_row5_col0,#T_d35e9_row6_col0,#T_d35e9_row7_col0,#T_d35e9_row7_col2,#T_d35e9_row8_col0,#T_d35e9_row9_col0,#T_d35e9_row10_col0,#T_d35e9_row11_col0{\n",
       "            background-color:  #000004;\n",
       "            color:  #f1f1f1;\n",
       "        }#T_d35e9_row0_col1{\n",
       "            background-color:  #38106c;\n",
       "            color:  #f1f1f1;\n",
       "        }#T_d35e9_row0_col2,#T_d35e9_row3_col5{\n",
       "            background-color:  #08071e;\n",
       "            color:  #f1f1f1;\n",
       "        }#T_d35e9_row0_col3{\n",
       "            background-color:  #ca3e72;\n",
       "            color:  #f1f1f1;\n",
       "        }#T_d35e9_row0_col4{\n",
       "            background-color:  #6d1d81;\n",
       "            color:  #f1f1f1;\n",
       "        }#T_d35e9_row0_col5{\n",
       "            background-color:  #3d0f71;\n",
       "            color:  #f1f1f1;\n",
       "        }#T_d35e9_row0_col6{\n",
       "            background-color:  #2a115c;\n",
       "            color:  #f1f1f1;\n",
       "        }#T_d35e9_row0_col7{\n",
       "            background-color:  #150e38;\n",
       "            color:  #f1f1f1;\n",
       "        }#T_d35e9_row1_col1,#T_d35e9_row1_col5,#T_d35e9_row1_col6,#T_d35e9_row7_col7,#T_d35e9_row9_col6{\n",
       "            background-color:  #010106;\n",
       "            color:  #f1f1f1;\n",
       "        }#T_d35e9_row1_col2,#T_d35e9_row1_col7,#T_d35e9_row2_col1,#T_d35e9_row2_col2,#T_d35e9_row2_col5,#T_d35e9_row2_col6,#T_d35e9_row2_col7,#T_d35e9_row4_col3,#T_d35e9_row8_col2,#T_d35e9_row9_col2,#T_d35e9_row9_col7{\n",
       "            background-color:  #010005;\n",
       "            color:  #f1f1f1;\n",
       "        }#T_d35e9_row1_col3,#T_d35e9_row1_col4,#T_d35e9_row9_col1,#T_d35e9_row9_col5{\n",
       "            background-color:  #010108;\n",
       "            color:  #f1f1f1;\n",
       "        }#T_d35e9_row3_col1{\n",
       "            background-color:  #07061c;\n",
       "            color:  #f1f1f1;\n",
       "        }#T_d35e9_row3_col2,#T_d35e9_row7_col6{\n",
       "            background-color:  #020109;\n",
       "            color:  #f1f1f1;\n",
       "        }#T_d35e9_row3_col3,#T_d35e9_row8_col4{\n",
       "            background-color:  #221150;\n",
       "            color:  #f1f1f1;\n",
       "        }#T_d35e9_row3_col4,#T_d35e9_row8_col5{\n",
       "            background-color:  #100b2d;\n",
       "            color:  #f1f1f1;\n",
       "        }#T_d35e9_row3_col6{\n",
       "            background-color:  #060518;\n",
       "            color:  #f1f1f1;\n",
       "        }#T_d35e9_row3_col7,#T_d35e9_row11_col2{\n",
       "            background-color:  #03030f;\n",
       "            color:  #f1f1f1;\n",
       "        }#T_d35e9_row5_col1{\n",
       "            background-color:  #7c2382;\n",
       "            color:  #f1f1f1;\n",
       "        }#T_d35e9_row5_col2,#T_d35e9_row5_col5{\n",
       "            background-color:  #7e2482;\n",
       "            color:  #f1f1f1;\n",
       "        }#T_d35e9_row5_col3,#T_d35e9_row7_col3{\n",
       "            background-color:  #1a1042;\n",
       "            color:  #f1f1f1;\n",
       "        }#T_d35e9_row5_col4{\n",
       "            background-color:  #6a1c81;\n",
       "            color:  #f1f1f1;\n",
       "        }#T_d35e9_row5_col6{\n",
       "            background-color:  #842681;\n",
       "            color:  #f1f1f1;\n",
       "        }#T_d35e9_row5_col7{\n",
       "            background-color:  #812581;\n",
       "            color:  #f1f1f1;\n",
       "        }#T_d35e9_row6_col1,#T_d35e9_row6_col2,#T_d35e9_row6_col4,#T_d35e9_row6_col5,#T_d35e9_row6_col6,#T_d35e9_row6_col7,#T_d35e9_row10_col3{\n",
       "            background-color:  #fcfdbf;\n",
       "            color:  #000000;\n",
       "        }#T_d35e9_row6_col3{\n",
       "            background-color:  #f8765c;\n",
       "            color:  #000000;\n",
       "        }#T_d35e9_row7_col1,#T_d35e9_row9_col4{\n",
       "            background-color:  #02020b;\n",
       "            color:  #f1f1f1;\n",
       "        }#T_d35e9_row7_col4,#T_d35e9_row9_col3,#T_d35e9_row10_col2{\n",
       "            background-color:  #050416;\n",
       "            color:  #f1f1f1;\n",
       "        }#T_d35e9_row7_col5{\n",
       "            background-color:  #02020d;\n",
       "            color:  #f1f1f1;\n",
       "        }#T_d35e9_row8_col1{\n",
       "            background-color:  #0d0a29;\n",
       "            color:  #f1f1f1;\n",
       "        }#T_d35e9_row8_col3{\n",
       "            background-color:  #782281;\n",
       "            color:  #f1f1f1;\n",
       "        }#T_d35e9_row8_col6,#T_d35e9_row11_col7{\n",
       "            background-color:  #090720;\n",
       "            color:  #f1f1f1;\n",
       "        }#T_d35e9_row8_col7{\n",
       "            background-color:  #030312;\n",
       "            color:  #f1f1f1;\n",
       "        }#T_d35e9_row10_col1{\n",
       "            background-color:  #4e117b;\n",
       "            color:  #f1f1f1;\n",
       "        }#T_d35e9_row10_col4{\n",
       "            background-color:  #992d80;\n",
       "            color:  #f1f1f1;\n",
       "        }#T_d35e9_row10_col5{\n",
       "            background-color:  #57157e;\n",
       "            color:  #f1f1f1;\n",
       "        }#T_d35e9_row10_col6{\n",
       "            background-color:  #390f6e;\n",
       "            color:  #f1f1f1;\n",
       "        }#T_d35e9_row10_col7{\n",
       "            background-color:  #19103f;\n",
       "            color:  #f1f1f1;\n",
       "        }#T_d35e9_row11_col1{\n",
       "            background-color:  #1e1149;\n",
       "            color:  #f1f1f1;\n",
       "        }#T_d35e9_row11_col3{\n",
       "            background-color:  #ab337c;\n",
       "            color:  #f1f1f1;\n",
       "        }#T_d35e9_row11_col4{\n",
       "            background-color:  #451077;\n",
       "            color:  #f1f1f1;\n",
       "        }#T_d35e9_row11_col5{\n",
       "            background-color:  #271258;\n",
       "            color:  #f1f1f1;\n",
       "        }#T_d35e9_row11_col6{\n",
       "            background-color:  #160f3b;\n",
       "            color:  #f1f1f1;\n",
       "        }</style><table id=\"T_d35e9_\" ><thead>    <tr>        <th class=\"blank level0\" ></th>        <th class=\"col_heading level0 col0\" >count</th>        <th class=\"col_heading level0 col1\" >mean</th>        <th class=\"col_heading level0 col2\" >std</th>        <th class=\"col_heading level0 col3\" >min</th>        <th class=\"col_heading level0 col4\" >25%</th>        <th class=\"col_heading level0 col5\" >50%</th>        <th class=\"col_heading level0 col6\" >75%</th>        <th class=\"col_heading level0 col7\" >max</th>    </tr></thead><tbody>\n",
       "                <tr>\n",
       "                        <th id=\"T_d35e9_level0_row0\" class=\"row_heading level0 row0\" >fixed acidity</th>\n",
       "                        <td id=\"T_d35e9_row0_col0\" class=\"data row0 col0\" >1599.000000</td>\n",
       "                        <td id=\"T_d35e9_row0_col1\" class=\"data row0 col1\" >8.097134</td>\n",
       "                        <td id=\"T_d35e9_row0_col2\" class=\"data row0 col2\" >1.394162</td>\n",
       "                        <td id=\"T_d35e9_row0_col3\" class=\"data row0 col3\" >4.600000</td>\n",
       "                        <td id=\"T_d35e9_row0_col4\" class=\"data row0 col4\" >7.100000</td>\n",
       "                        <td id=\"T_d35e9_row0_col5\" class=\"data row0 col5\" >7.900000</td>\n",
       "                        <td id=\"T_d35e9_row0_col6\" class=\"data row0 col6\" >8.900000</td>\n",
       "                        <td id=\"T_d35e9_row0_col7\" class=\"data row0 col7\" >11.800000</td>\n",
       "            </tr>\n",
       "            <tr>\n",
       "                        <th id=\"T_d35e9_level0_row1\" class=\"row_heading level0 row1\" >volatile acidity</th>\n",
       "                        <td id=\"T_d35e9_row1_col0\" class=\"data row1 col0\" >1599.000000</td>\n",
       "                        <td id=\"T_d35e9_row1_col1\" class=\"data row1 col1\" >0.519132</td>\n",
       "                        <td id=\"T_d35e9_row1_col2\" class=\"data row1 col2\" >0.163369</td>\n",
       "                        <td id=\"T_d35e9_row1_col3\" class=\"data row1 col3\" >0.120000</td>\n",
       "                        <td id=\"T_d35e9_row1_col4\" class=\"data row1 col4\" >0.390000</td>\n",
       "                        <td id=\"T_d35e9_row1_col5\" class=\"data row1 col5\" >0.520000</td>\n",
       "                        <td id=\"T_d35e9_row1_col6\" class=\"data row1 col6\" >0.630000</td>\n",
       "                        <td id=\"T_d35e9_row1_col7\" class=\"data row1 col7\" >0.980000</td>\n",
       "            </tr>\n",
       "            <tr>\n",
       "                        <th id=\"T_d35e9_level0_row2\" class=\"row_heading level0 row2\" >citric acid</th>\n",
       "                        <td id=\"T_d35e9_row2_col0\" class=\"data row2 col0\" >1599.000000</td>\n",
       "                        <td id=\"T_d35e9_row2_col1\" class=\"data row2 col1\" >0.270520</td>\n",
       "                        <td id=\"T_d35e9_row2_col2\" class=\"data row2 col2\" >0.193945</td>\n",
       "                        <td id=\"T_d35e9_row2_col3\" class=\"data row2 col3\" >0.000000</td>\n",
       "                        <td id=\"T_d35e9_row2_col4\" class=\"data row2 col4\" >0.090000</td>\n",
       "                        <td id=\"T_d35e9_row2_col5\" class=\"data row2 col5\" >0.260000</td>\n",
       "                        <td id=\"T_d35e9_row2_col6\" class=\"data row2 col6\" >0.420000</td>\n",
       "                        <td id=\"T_d35e9_row2_col7\" class=\"data row2 col7\" >0.790000</td>\n",
       "            </tr>\n",
       "            <tr>\n",
       "                        <th id=\"T_d35e9_level0_row3\" class=\"row_heading level0 row3\" >residual sugar</th>\n",
       "                        <td id=\"T_d35e9_row3_col0\" class=\"data row3 col0\" >1599.000000</td>\n",
       "                        <td id=\"T_d35e9_row3_col1\" class=\"data row3 col1\" >2.206851</td>\n",
       "                        <td id=\"T_d35e9_row3_col2\" class=\"data row3 col2\" >0.422207</td>\n",
       "                        <td id=\"T_d35e9_row3_col3\" class=\"data row3 col3\" >1.200000</td>\n",
       "                        <td id=\"T_d35e9_row3_col4\" class=\"data row3 col4\" >1.900000</td>\n",
       "                        <td id=\"T_d35e9_row3_col5\" class=\"data row3 col5\" >2.200000</td>\n",
       "                        <td id=\"T_d35e9_row3_col6\" class=\"data row3 col6\" >2.538806</td>\n",
       "                        <td id=\"T_d35e9_row3_col7\" class=\"data row3 col7\" >3.450000</td>\n",
       "            </tr>\n",
       "            <tr>\n",
       "                        <th id=\"T_d35e9_level0_row4\" class=\"row_heading level0 row4\" >chlorides</th>\n",
       "                        <td id=\"T_d35e9_row4_col0\" class=\"data row4 col0\" >1599.000000</td>\n",
       "                        <td id=\"T_d35e9_row4_col1\" class=\"data row4 col1\" >0.078798</td>\n",
       "                        <td id=\"T_d35e9_row4_col2\" class=\"data row4 col2\" >0.013232</td>\n",
       "                        <td id=\"T_d35e9_row4_col3\" class=\"data row4 col3\" >0.044000</td>\n",
       "                        <td id=\"T_d35e9_row4_col4\" class=\"data row4 col4\" >0.071000</td>\n",
       "                        <td id=\"T_d35e9_row4_col5\" class=\"data row4 col5\" >0.079366</td>\n",
       "                        <td id=\"T_d35e9_row4_col6\" class=\"data row4 col6\" >0.087467</td>\n",
       "                        <td id=\"T_d35e9_row4_col7\" class=\"data row4 col7\" >0.113000</td>\n",
       "            </tr>\n",
       "            <tr>\n",
       "                        <th id=\"T_d35e9_level0_row5\" class=\"row_heading level0 row5\" >free sulfur dioxide</th>\n",
       "                        <td id=\"T_d35e9_row5_col0\" class=\"data row5 col0\" >1599.000000</td>\n",
       "                        <td id=\"T_d35e9_row5_col1\" class=\"data row5 col1\" >15.199029</td>\n",
       "                        <td id=\"T_d35e9_row5_col2\" class=\"data row5 col2\" >9.140046</td>\n",
       "                        <td id=\"T_d35e9_row5_col3\" class=\"data row5 col3\" >1.000000</td>\n",
       "                        <td id=\"T_d35e9_row5_col4\" class=\"data row5 col4\" >7.000000</td>\n",
       "                        <td id=\"T_d35e9_row5_col5\" class=\"data row5 col5\" >14.000000</td>\n",
       "                        <td id=\"T_d35e9_row5_col6\" class=\"data row5 col6\" >21.000000</td>\n",
       "                        <td id=\"T_d35e9_row5_col7\" class=\"data row5 col7\" >42.000000</td>\n",
       "            </tr>\n",
       "            <tr>\n",
       "                        <th id=\"T_d35e9_level0_row6\" class=\"row_heading level0 row6\" >total sulfur dioxide</th>\n",
       "                        <td id=\"T_d35e9_row6_col0\" class=\"data row6 col0\" >1599.000000</td>\n",
       "                        <td id=\"T_d35e9_row6_col1\" class=\"data row6 col1\" >41.946622</td>\n",
       "                        <td id=\"T_d35e9_row6_col2\" class=\"data row6 col2\" >25.027832</td>\n",
       "                        <td id=\"T_d35e9_row6_col3\" class=\"data row6 col3\" >6.000000</td>\n",
       "                        <td id=\"T_d35e9_row6_col4\" class=\"data row6 col4\" >22.000000</td>\n",
       "                        <td id=\"T_d35e9_row6_col5\" class=\"data row6 col5\" >38.000000</td>\n",
       "                        <td id=\"T_d35e9_row6_col6\" class=\"data row6 col6\" >55.000000</td>\n",
       "                        <td id=\"T_d35e9_row6_col7\" class=\"data row6 col7\" >112.000000</td>\n",
       "            </tr>\n",
       "            <tr>\n",
       "                        <th id=\"T_d35e9_level0_row7\" class=\"row_heading level0 row7\" >density</th>\n",
       "                        <td id=\"T_d35e9_row7_col0\" class=\"data row7 col0\" >1599.000000</td>\n",
       "                        <td id=\"T_d35e9_row7_col1\" class=\"data row7 col1\" >0.996738</td>\n",
       "                        <td id=\"T_d35e9_row7_col2\" class=\"data row7 col2\" >0.001596</td>\n",
       "                        <td id=\"T_d35e9_row7_col3\" class=\"data row7 col3\" >0.992520</td>\n",
       "                        <td id=\"T_d35e9_row7_col4\" class=\"data row7 col4\" >0.995700</td>\n",
       "                        <td id=\"T_d35e9_row7_col5\" class=\"data row7 col5\" >0.996747</td>\n",
       "                        <td id=\"T_d35e9_row7_col6\" class=\"data row7 col6\" >0.997795</td>\n",
       "                        <td id=\"T_d35e9_row7_col7\" class=\"data row7 col7\" >1.000800</td>\n",
       "            </tr>\n",
       "            <tr>\n",
       "                        <th id=\"T_d35e9_level0_row8\" class=\"row_heading level0 row8\" >pH</th>\n",
       "                        <td id=\"T_d35e9_row8_col0\" class=\"data row8 col0\" >1599.000000</td>\n",
       "                        <td id=\"T_d35e9_row8_col1\" class=\"data row8 col1\" >3.308824</td>\n",
       "                        <td id=\"T_d35e9_row8_col2\" class=\"data row8 col2\" >0.138952</td>\n",
       "                        <td id=\"T_d35e9_row8_col3\" class=\"data row8 col3\" >2.930000</td>\n",
       "                        <td id=\"T_d35e9_row8_col4\" class=\"data row8 col4\" >3.210000</td>\n",
       "                        <td id=\"T_d35e9_row8_col5\" class=\"data row8 col5\" >3.310000</td>\n",
       "                        <td id=\"T_d35e9_row8_col6\" class=\"data row8 col6\" >3.400000</td>\n",
       "                        <td id=\"T_d35e9_row8_col7\" class=\"data row8 col7\" >3.680000</td>\n",
       "            </tr>\n",
       "            <tr>\n",
       "                        <th id=\"T_d35e9_level0_row9\" class=\"row_heading level0 row9\" >sulphates</th>\n",
       "                        <td id=\"T_d35e9_row9_col0\" class=\"data row9 col0\" >1599.000000</td>\n",
       "                        <td id=\"T_d35e9_row9_col1\" class=\"data row9 col1\" >0.633881</td>\n",
       "                        <td id=\"T_d35e9_row9_col2\" class=\"data row9 col2\" >0.113943</td>\n",
       "                        <td id=\"T_d35e9_row9_col3\" class=\"data row9 col3\" >0.330000</td>\n",
       "                        <td id=\"T_d35e9_row9_col4\" class=\"data row9 col4\" >0.550000</td>\n",
       "                        <td id=\"T_d35e9_row9_col5\" class=\"data row9 col5\" >0.620000</td>\n",
       "                        <td id=\"T_d35e9_row9_col6\" class=\"data row9 col6\" >0.700000</td>\n",
       "                        <td id=\"T_d35e9_row9_col7\" class=\"data row9 col7\" >0.940000</td>\n",
       "            </tr>\n",
       "            <tr>\n",
       "                        <th id=\"T_d35e9_level0_row10\" class=\"row_heading level0 row10\" >alcohol</th>\n",
       "                        <td id=\"T_d35e9_row10_col0\" class=\"data row10 col0\" >1599.000000</td>\n",
       "                        <td id=\"T_d35e9_row10_col1\" class=\"data row10 col1\" >10.381579</td>\n",
       "                        <td id=\"T_d35e9_row10_col2\" class=\"data row10 col2\" >0.997894</td>\n",
       "                        <td id=\"T_d35e9_row10_col3\" class=\"data row10 col3\" >8.400000</td>\n",
       "                        <td id=\"T_d35e9_row10_col4\" class=\"data row10 col4\" >9.500000</td>\n",
       "                        <td id=\"T_d35e9_row10_col5\" class=\"data row10 col5\" >10.200000</td>\n",
       "                        <td id=\"T_d35e9_row10_col6\" class=\"data row10 col6\" >11.000000</td>\n",
       "                        <td id=\"T_d35e9_row10_col7\" class=\"data row10 col7\" >13.200000</td>\n",
       "            </tr>\n",
       "            <tr>\n",
       "                        <th id=\"T_d35e9_level0_row11\" class=\"row_heading level0 row11\" >quality</th>\n",
       "                        <td id=\"T_d35e9_row11_col0\" class=\"data row11 col0\" >1599.000000</td>\n",
       "                        <td id=\"T_d35e9_row11_col1\" class=\"data row11 col1\" >5.625897</td>\n",
       "                        <td id=\"T_d35e9_row11_col2\" class=\"data row11 col2\" >0.738671</td>\n",
       "                        <td id=\"T_d35e9_row11_col3\" class=\"data row11 col3\" >4.000000</td>\n",
       "                        <td id=\"T_d35e9_row11_col4\" class=\"data row11 col4\" >5.000000</td>\n",
       "                        <td id=\"T_d35e9_row11_col5\" class=\"data row11 col5\" >6.000000</td>\n",
       "                        <td id=\"T_d35e9_row11_col6\" class=\"data row11 col6\" >6.000000</td>\n",
       "                        <td id=\"T_d35e9_row11_col7\" class=\"data row11 col7\" >7.000000</td>\n",
       "            </tr>\n",
       "    </tbody></table>"
      ],
      "text/plain": [
       "<pandas.io.formats.style.Styler at 0x16c34e3edc0>"
      ]
     },
     "execution_count": 35,
     "metadata": {},
     "output_type": "execute_result"
    }
   ],
   "source": [
    "df.describe().T.style.background_gradient(cmap = \"magma\")"
   ]
  },
  {
   "cell_type": "markdown",
   "id": "c8eec1ef",
   "metadata": {},
   "source": [
    "<div style=\"border-radius:10px;\n",
    "            border : black solid;\n",
    "            background-color: #E8D9F3;\n",
    "            font-size:110%;\n",
    "            text-align: left\">\n",
    "\n",
    "<h4 style='; border:0; border-radius: 15px; font-weight: bold; color:black'><center>What can we see from this statistic?</center></h4>  \n",
    "    \n",
    "    \n",
    "- The average value of fixed acidity is <mark><b>8.31</b></mark>, the highest value is <mark><b>15.9</b></mark>\n",
    "- The average value of volatile acidity is <mark><b>0.52</b></mark>, the highest value is <mark><b>1.58</b></mark>\n",
    "- The average value of citric acid is <mark><b>0.27</b></mark>, the highest value is <mark><b>1</b></mark>\n",
    "- The average value of residual sugar is <mark><b>2.53,</b></mark> the highest value is <mark><b>15.5</b></mark>\n",
    "- The average value of chlorides is <mark><b>0.08</b></mark>, the highest value is <mark><b>0.61</b></mark>\n",
    "- The average value of free sulfur dioxide is <mark><b>15.87</b></mark>, the highest value is <mark><b>72</b></mark>\n",
    "- The average value of total sulfur dioxide is <mark><b>46.46</b></mark>, the highest value is <mark><b>289</b></mark>\n",
    "- The average value of density is <mark><b>0.99</b></mark>, the highest value is <mark><b>1</b></mark>\n",
    "- The average value of pH is <mark><b>3.31</b></mark>, the highest value is <mark><b>4.01</b></mark>\n",
    "- The average value of sulphates is <mark><b>0.65</b></mark>, the highest value is <mark><b>2</b></mark>\n",
    "- The average value of alcohol is <mark><b>10.42</b></mark>, the highest value is <mark><b>14.90</b></mark>\n",
    "- The average value of quality is <mark><b>5.63</b></mark>, the highest value is <mark><b>8</b></mark>"
   ]
  },
  {
   "cell_type": "code",
   "execution_count": 6,
   "id": "27e60b7d",
   "metadata": {},
   "outputs": [
    {
     "data": {
      "text/plain": [
       "fixed acidity           False\n",
       "volatile acidity        False\n",
       "citric acid             False\n",
       "residual sugar          False\n",
       "chlorides               False\n",
       "free sulfur dioxide     False\n",
       "total sulfur dioxide    False\n",
       "density                 False\n",
       "pH                      False\n",
       "sulphates               False\n",
       "alcohol                 False\n",
       "quality                 False\n",
       "dtype: bool"
      ]
     },
     "execution_count": 6,
     "metadata": {},
     "output_type": "execute_result"
    }
   ],
   "source": [
    "df.isnull().any()"
   ]
  },
  {
   "cell_type": "markdown",
   "id": "3acbb05e",
   "metadata": {},
   "source": [
    "<div style=\"border-radius:10px;\n",
    "            border : black solid;\n",
    "            background-color: #E8D9F3;\n",
    "            font-size:110%;\n",
    "            text-align: left\">\n",
    "\n",
    "<h4 style='; border:0; border-radius: 15px; font-weight: bold; color:black'><center>Total null values</center></h4>  \n",
    "    \n",
    "There are <mark><b>not any null values</b></mark> in the dataset. <mark><b>Total \"null\" values</b></mark> in the dataset is <mark><b>zero</b></mark>"
   ]
  },
  {
   "cell_type": "code",
   "execution_count": 7,
   "id": "b3fd48f7",
   "metadata": {},
   "outputs": [
    {
     "name": "stdout",
     "output_type": "stream",
     "text": [
      "Index(['fixed acidity', 'volatile acidity', 'citric acid', 'residual sugar',\n",
      "       'chlorides', 'free sulfur dioxide', 'total sulfur dioxide', 'density',\n",
      "       'pH', 'sulphates', 'alcohol', 'quality'],\n",
      "      dtype='object')\n"
     ]
    }
   ],
   "source": [
    "print(df.columns)"
   ]
  },
  {
   "cell_type": "code",
   "execution_count": 8,
   "id": "c1f3a7cf",
   "metadata": {},
   "outputs": [
    {
     "data": {
      "text/plain": [
       "Index(['fixed acidity', 'volatile acidity', 'citric acid', 'residual sugar',\n",
       "       'chlorides', 'free sulfur dioxide', 'total sulfur dioxide', 'density',\n",
       "       'pH', 'sulphates', 'alcohol', 'quality'],\n",
       "      dtype='object')"
      ]
     },
     "execution_count": 8,
     "metadata": {},
     "output_type": "execute_result"
    }
   ],
   "source": [
    "## for num_columns\n",
    "df._get_numeric_data().columns\n"
   ]
  },
  {
   "cell_type": "markdown",
   "id": "a7f1d8cb",
   "metadata": {},
   "source": [
    "<a id=\"4\"></a>\n",
    "# <p style=\"background-color:#4B0082;font-family:newtimeroman;color:#FFF9ED;font-size:150%;text-align:center;border-radius:10px 10px;\">📊 EDA</p>"
   ]
  },
  {
   "cell_type": "code",
   "execution_count": 9,
   "id": "3e813711",
   "metadata": {},
   "outputs": [
    {
     "data": {
      "image/png": "[encoded data removed]",
      "text/plain": [
       "<Figure size 432x288 with 1 Axes>"
      ]
     },
     "metadata": {},
     "output_type": "display_data"
    }
   ],
   "source": [
    "sns.countplot(data=df , x='quality' , palette=palette);"
   ]
  },
  {
   "cell_type": "code",
   "execution_count": 10,
   "id": "a16a6e04",
   "metadata": {},
   "outputs": [
    {
     "data": {
      "image/png": "[encoded data removed]",
      "text/plain": [
       "<Figure size 1296x576 with 1 Axes>"
      ]
     },
     "metadata": {},
     "output_type": "display_data"
    }
   ],
   "source": [
    "target_count = df['quality'].value_counts()\n",
    "\n",
    "fig, ax = plt.subplots(1 , figsize=(18, 8))\n",
    "\n",
    "plt.pie(target_count , labels=target_count.index , startangle=45 , colors=palette , pctdistance=0.3,\n",
    "       textprops={'fontsize': 20}, wedgeprops={'alpha': 0.8, 'edgecolor': 'black', 'linewidth': 1} )\n",
    "\n",
    "plt.axis('equal')  # Ensure the pie is drawn as a circle\n",
    "\n",
    "# Add the legend with target values and percentage\n",
    "legend_entries = [f'{label} ({count/len(df)*100:.2f}%)' for label, count in target_count.items()]\n",
    "plt.legend(legend_entries, bbox_to_anchor=(1.05, 1), loc='best', fontsize=16)\n",
    "\n",
    "\n",
    "# Draw circle\n",
    "centre_circle = plt.Circle((0, 0), 0.5, fc='white', edgecolor='black')\n",
    "fig = plt.gcf()\n",
    "\n",
    "# Adding circle in Pie chart\n",
    "fig.gca().add_artist(centre_circle)\n",
    "\n",
    "\n",
    "# Tighten the layout and show the figure\n",
    "plt.tight_layout(pad=2)\n",
    "plt.show()\n"
   ]
  },
  {
   "cell_type": "code",
   "execution_count": 11,
   "id": "755e96f9",
   "metadata": {},
   "outputs": [
    {
     "data": {
      "text/plain": [
       "volatile acidity       -0.390558\n",
       "total sulfur dioxide   -0.185100\n",
       "density                -0.174919\n",
       "chlorides              -0.128907\n",
       "pH                     -0.057731\n",
       "free sulfur dioxide    -0.050656\n",
       "residual sugar          0.013732\n",
       "fixed acidity           0.124052\n",
       "citric acid             0.226373\n",
       "sulphates               0.251397\n",
       "alcohol                 0.476166\n",
       "quality                 1.000000\n",
       "Name: quality, dtype: float64"
      ]
     },
     "execution_count": 11,
     "metadata": {},
     "output_type": "execute_result"
    }
   ],
   "source": [
    "# correlation\n",
    "df.corr()['quality'].sort_values()"
   ]
  },
  {
   "cell_type": "code",
   "execution_count": 12,
   "id": "b832f7ad",
   "metadata": {},
   "outputs": [
    {
     "data": {
      "image/png": "[encoded data removed]",
      "text/plain": [
       "<Figure size 1008x864 with 2 Axes>"
      ]
     },
     "metadata": {},
     "output_type": "display_data"
    }
   ],
   "source": [
    "correlation = df.corr()\n",
    "top_k = 10\n",
    "cols = correlation.nlargest(top_k, 'quality').index\n",
    "\n",
    "# Compute the correlation matrix between the selected columns\n",
    "corr_matrix = np.corrcoef(df[cols].to_numpy().T)\n",
    "mask = np.triu(np.ones_like(corr_matrix, dtype=bool))\n",
    "\n",
    "# Create a heatmap of the correlation matrix\n",
    "fig, ax = plt.subplots(figsize=(14, 12))\n",
    "sns.heatmap(corr_matrix, mask=mask, vmax=.8, linewidths=0.5, square=True, annot=True,\n",
    "            cmap='plasma', annot_kws={'size': 12}, xticklabels=cols, yticklabels=cols)\n",
    "\n",
    "# Add title to the plot\n",
    "plt.title(f'Correlation matrix of top {top_k} features with quality', fontsize=20, pad=20)\n",
    "\n",
    "# Increase the size of axes values\n",
    "ax.xaxis.label.set_size(18)\n",
    "ax.yaxis.label.set_size(18)\n",
    "\n",
    "plt.show()\n"
   ]
  },
  {
   "cell_type": "markdown",
   "id": "24e3703b",
   "metadata": {},
   "source": [
    " 📌 Alcohol and sulfate have the greatest effect on the quality of wine ."
   ]
  },
  {
   "cell_type": "code",
   "execution_count": 13,
   "id": "55cd390b",
   "metadata": {},
   "outputs": [],
   "source": [
    "## Outliers replace using Mean\n",
    "data=df\n",
    "for col in data.columns:\n",
    "    if data[col].dtypes !='object':\n",
    "        q1,q3=data[col].quantile(0.25),data[col].quantile(0.75)\n",
    "        iqr = q3 - q1\n",
    "        ll = q1-1.5*iqr\n",
    "        ul = q3 + 1.5*iqr\n",
    "        data[col] = np.where(data[col]>ul,data[col].mean(),np.where(data[col]<ll,data[col].mean(),data[col]))\n",
    "       "
   ]
  },
  {
   "cell_type": "code",
   "execution_count": 14,
   "id": "3efa23a9",
   "metadata": {},
   "outputs": [
    {
     "name": "stdout",
     "output_type": "stream",
     "text": [
      "outlier counter of the all features\n"
     ]
    },
    {
     "data": {
      "text/plain": [
       "fixed acidity           29\n",
       "volatile acidity         5\n",
       "citric acid              0\n",
       "residual sugar          13\n",
       "chlorides               41\n",
       "free sulfur dioxide      0\n",
       "total sulfur dioxide    25\n",
       "density                 13\n",
       "pH                       0\n",
       "sulphates               16\n",
       "alcohol                  7\n",
       "quality                  0\n",
       "dtype: int64"
      ]
     },
     "execution_count": 14,
     "metadata": {},
     "output_type": "execute_result"
    }
   ],
   "source": [
    "# Detect outlier\n",
    "# Outlier Detection using Tnter Quantile Range \n",
    "Q1=data.quantile(0.25)\n",
    "Q3=data.quantile(0.75)\n",
    "IQR=Q3-Q1\n",
    "IQR\n",
    "print(\"outlier counter of the all features\")\n",
    "((data<(Q1-1.5*IQR))|(data>(Q3+1.5*IQR))).sum()"
   ]
  },
  {
   "cell_type": "code",
   "execution_count": 53,
   "id": "ec5428f6",
   "metadata": {},
   "outputs": [],
   "source": [
    "## Outliers replace using Mean\n",
    "for col in data.columns:\n",
    "    if data[col].dtypes !='object':\n",
    "        q1,q3=data[col].quantile(0.25),data[col].quantile(0.75)\n",
    "        iqr = q3 - q1\n",
    "        ll = q1-1.5*iqr\n",
    "        ul = q3 + 1.5*iqr\n",
    "        data[col] = np.where(data[col]>ul,data[col].mean(),np.where(data[col]<ll,data[col].mean(),data[col]))\n",
    "       "
   ]
  },
  {
   "cell_type": "code",
   "execution_count": 54,
   "id": "7bdae2bf",
   "metadata": {},
   "outputs": [
    {
     "name": "stdout",
     "output_type": "stream",
     "text": [
      "outlier counter of the all features\n"
     ]
    },
    {
     "data": {
      "text/plain": [
       "fixed acidity           0\n",
       "volatile acidity        0\n",
       "citric acid             0\n",
       "residual sugar          0\n",
       "chlorides               0\n",
       "free sulfur dioxide     0\n",
       "total sulfur dioxide    0\n",
       "density                 0\n",
       "pH                      0\n",
       "sulphates               0\n",
       "alcohol                 0\n",
       "quality                 0\n",
       "dtype: int64"
      ]
     },
     "execution_count": 54,
     "metadata": {},
     "output_type": "execute_result"
    }
   ],
   "source": [
    "# Detect outlier\n",
    "# Outlier Detection using Tnter Quantile Range \n",
    "Q1=data.quantile(0.25)\n",
    "Q3=data.quantile(0.75)\n",
    "IQR=Q3-Q1\n",
    "IQR\n",
    "print(\"outlier counter of the all features\")\n",
    "((data<(Q1-1.5*IQR))|(data>(Q3+1.5*IQR))).sum()"
   ]
  },
  {
   "cell_type": "markdown",
   "id": "474825c5",
   "metadata": {},
   "source": [
    "<a id=\"6\"></a>\n",
    "# <p style=\"background-color:#4B0082;font-family:newtimeroman;color:#FFF9ED;font-size:150%;text-align:center;border-radius:10px 10px;\">✂️ SPLITING DATA</p>"
   ]
  },
  {
   "cell_type": "code",
   "execution_count": 17,
   "id": "036bd19e",
   "metadata": {},
   "outputs": [],
   "source": [
    "# Create the feature matrix X and response vector y\n",
    "X = df.drop(columns=['quality']) # we choose here y as arbitrary output / dependent variable\n",
    "\n",
    "y = df['quality']    # we choose here x as arbitrary input / independent variable\n",
    "\n",
    "# Here we choose predicted variable is quality"
   ]
  },
  {
   "cell_type": "code",
   "execution_count": 18,
   "id": "d0b6b72a",
   "metadata": {},
   "outputs": [
    {
     "data": {
      "text/plain": [
       "(1599, 11)"
      ]
     },
     "execution_count": 18,
     "metadata": {},
     "output_type": "execute_result"
    }
   ],
   "source": [
    "X.shape"
   ]
  },
  {
   "cell_type": "code",
   "execution_count": 19,
   "id": "46410ee7",
   "metadata": {},
   "outputs": [
    {
     "data": {
      "text/plain": [
       "(1599,)"
      ]
     },
     "execution_count": 19,
     "metadata": {},
     "output_type": "execute_result"
    }
   ],
   "source": [
    "y.shape"
   ]
  },
  {
   "cell_type": "markdown",
   "id": "a6349a1b",
   "metadata": {},
   "source": [
    "<a id=\"8\"></a>\n",
    "# <p style=\"background-color:#800080;font-family:newtimeroman;color:#FFF9ED;font-size:150%;text-align:center;border-radius:10px 10px;\">💡 MODEL BUILDING</p>\n"
   ]
  },
  {
   "cell_type": "code",
   "execution_count": 20,
   "id": "2d55dac1",
   "metadata": {},
   "outputs": [],
   "source": [
    "\n",
    "import math \n",
    "import operator\n",
    "\n",
    "\n",
    "eps = np.finfo(float).eps\n",
    "\n",
    "def rmse_score(y_true, y_pred):\n",
    "\n",
    "    \"\"\" rmse score = sqrt((sum[i=0 to n](y_true - y_pred)) / len(y_true)) \"\"\"\n",
    "\n",
    "    return np.sqrt((np.subtract(y_pred, y_true) ** 2).sum()/len(y_true))\n",
    "\n",
    "def train_test_split(x, y, test_size = 0.25, random_state = None):\n",
    "\n",
    "    \"\"\" partioning the data into train and test sets \"\"\"\n",
    "\n",
    "    x_test = x.sample(frac = test_size, random_state = random_state)\n",
    "    y_test = y[x_test.index]\n",
    "\n",
    "    x_train = x.drop(x_test.index)\n",
    "    y_train = y.drop(y_test.index)\n",
    "\n",
    "    return x_train, x_test, y_train, y_test\n",
    "\n",
    "\n",
    "\n",
    "\n",
    "class ID3DecisionTreeRegressor: #class is used to create user-defined structure\n",
    "\n",
    "    def __init__(self, max_depth = None, min_sample_leaf = 3,min_sample_split=2):\n",
    "\n",
    "        self.depth = 0 #Depth of the tree\n",
    "        self.max_depth = max_depth\t#Maximum depth of the tree\n",
    "        self.min_sample_leaf = min_sample_leaf\t#Minimum number of samples for each node\n",
    "        self.min_sample_split =min_sample_split\n",
    "        self.coefficient_of_variation = 10 \t#Stopping Criterion\n",
    "\n",
    "        self.features = list\n",
    "        self.X_train = np.array\n",
    "        self.y_train = np.array\n",
    "        self.num_feats = int \n",
    "        self.train_size = int \n",
    "\n",
    "    def fit(self, X, y):\n",
    "\n",
    "        self.X_train = X \n",
    "        self.y_train = y\n",
    "        self.features = list(X.columns)\n",
    "        self.train_size = X.shape[0]\n",
    "        self.num_feats = X.shape[1]\n",
    "\n",
    "        df = X.copy()\n",
    "        df['target'] = y.copy()\n",
    "\n",
    "        #Builds Decision Tree\n",
    "        self.tree = self._build_tree(df)\n",
    "\n",
    "        print(\"\\nDecision Tree(depth = {}) : \\n {}\".format(self.depth, self.tree))\n",
    "\n",
    "    def _build_tree(self, df, tree = None):\n",
    "\n",
    "        \"\"\"\n",
    "            Args:\n",
    "                df: current number of rows available for splitting(decision making)\n",
    "        \"\"\"\n",
    "\n",
    "        #Get feature with minimum score\n",
    "        feature, cutoff = self._find_best_split(df)\n",
    "\n",
    "        if cutoff is None:\n",
    "            return tree\n",
    "\n",
    "        #Initialization of tree\n",
    "        if tree is None:\n",
    "            tree = {}\n",
    "            tree[feature] = {}\n",
    "\n",
    "        #Left Child\n",
    "        new_df = self._split_rows(df, feature, cutoff, operator.le)\n",
    "\n",
    "        target_coef_of_var = self._coef_ov(new_df['target'])\n",
    "\n",
    "        self.depth += 1\n",
    "\n",
    "        if(target_coef_of_var < self.coefficient_of_variation or len(new_df) <= self.min_sample_leaf): #pure group\n",
    "            tree[feature]['<=' + str(cutoff)] = new_df['target'].mean()\n",
    "        else:\n",
    "            if self.max_depth is not None and self.depth >= self.max_depth:\n",
    "                tree[feature]['<=' + str(cutoff)] = new_df['target'].mean()\n",
    "            else:\n",
    "                tree[feature]['<=' + str(cutoff)] = self._build_tree(new_df)\n",
    "\n",
    "\n",
    "        #Right Child\n",
    "        new_df = self._split_rows(df, feature, cutoff, operator.gt)\n",
    "\n",
    "        target_coef_of_var = self._coef_ov(new_df['target'])\n",
    "\n",
    "        if(target_coef_of_var < self.coefficient_of_variation or len(new_df) <= self.min_sample_leaf): #pure group\n",
    "            tree[feature]['>' + str(cutoff)] = new_df['target'].mean()\n",
    "        else:\n",
    "            if self.max_depth is not None and self.depth >= self.max_depth:\n",
    "                tree[feature]['>' + str(cutoff)] = new_df['target'].mean()\n",
    "            else:\n",
    "                tree[feature]['>' + str(cutoff)] = self._build_tree(new_df)\n",
    "\n",
    "        return tree\n",
    "\n",
    "    def _coef_ov(self, y):\n",
    "\n",
    "        \"\"\" calculates coefficient of variation:\n",
    "            COV = (Mean of y / Standard Deviation of y) * 100\n",
    "        \"\"\"\n",
    "        if(y.std() == 0):\n",
    "            return 0\n",
    "        coef_of_var = (y.mean()/y.std()) * 100\n",
    "\n",
    "        return coef_of_var\n",
    "\n",
    "    def _split_rows(self, df, feature, feat_val, operation ):\n",
    "\n",
    "        \"\"\" split rows based on given criterion \"\"\"\n",
    "\n",
    "        return df[operation(df[feature], feat_val)].reset_index(drop = True)\n",
    "\n",
    "    def _find_best_split(self, df):\n",
    "\n",
    "        \"\"\"\n",
    "            Finds the column to split on first.\n",
    "        \"\"\"\n",
    "\n",
    "        best_feature = str\n",
    "        cutoff = None\n",
    "        best_score = float('inf')\n",
    "\n",
    "\n",
    "        for feature in list(df.columns[:-1]):\n",
    "\n",
    "            score, threshold = self._find_feature_split(feature, df)\n",
    "\n",
    "            if score < best_score:\n",
    "                best_feature = feature\n",
    "                best_score = score\n",
    "                cutoff = threshold\n",
    "        \n",
    "        return best_feature, cutoff \n",
    "\n",
    "    def _find_feature_split(self, feature, df):\n",
    "\n",
    "        best_score = float('inf')\n",
    "        cutoff = float\n",
    "\n",
    "        for val in df[feature]:\n",
    "            left_child = df[feature][df[feature] <= val] \n",
    "            right_child = df[feature][df[feature] > val]\n",
    "\n",
    "            if(len(left_child) > 0 and len(right_child) > 0):\n",
    "                score = self._find_score(df, left_child, right_child)\n",
    "\n",
    "                if score < best_score:\n",
    "                    best_score = score\n",
    "                    cutoff = val\n",
    "\n",
    "        return best_score, cutoff\n",
    "\n",
    "\n",
    "    def _find_score(self, df, lhs, rhs):\n",
    "\n",
    "        y = df['target']\n",
    "\n",
    "        lhs_std = y.iloc[lhs.index].std()\n",
    "        rhs_std = y.iloc[rhs.index].std()\n",
    "\n",
    "        if(np.isnan(lhs_std)):\n",
    "            lhs_std = 0\n",
    "        if(np.isnan(rhs_std)):\n",
    "            rhs_std = 0\n",
    "\n",
    "        return lhs_std * lhs.sum() + rhs_std * rhs.sum()\n",
    "\n",
    "    def _predict_target(self, feature_lookup, x, tree):\n",
    "\n",
    "        for node in tree.keys():\n",
    "            val = x[node]\n",
    "            if type(val) == str:\n",
    "                tree = tree[node][val]\n",
    "            else:\n",
    "                cutoff = str(list(tree[node].keys())[0]).split('<=')[1]\n",
    "\n",
    "                if(val <= float(cutoff)):   #Left Child\n",
    "                    tree = tree[node]['<='+cutoff]\n",
    "                else:                       #Right Child\n",
    "                    tree = tree[node]['>'+cutoff]\n",
    "\n",
    "            prediction = str\n",
    "\n",
    "            if type(tree) is dict:\n",
    "                prediction = self._predict_target(feature_lookup, x, tree)\n",
    "            else:\n",
    "                predicton = tree \n",
    "                return predicton\n",
    "\n",
    "        return prediction   \n",
    "\n",
    "\n",
    "    def predict(self, X):\n",
    "\n",
    "        results= []\n",
    "        feature_lookup = {key: i for i, key in enumerate(list(X.columns))}\n",
    "\n",
    "        for index in range(len(X)):\n",
    "\n",
    "            results.append(self._predict_target(feature_lookup, X.iloc[index], self.tree))\n",
    "\n",
    "        return np.array(results)\n",
    "    def _score(self, X, y):\n",
    "        y_pred = self.estimator.predict(X)\n",
    "        return np.mean((y_pred - y) ** 2)\n",
    "        \n"
   ]
  },
  {
   "cell_type": "code",
   "execution_count": 21,
   "id": "42a9598e",
   "metadata": {},
   "outputs": [
    {
     "name": "stdout",
     "output_type": "stream",
     "text": [
      "\n",
      "Decision Tree(depth = 667) : \n",
      " {'chlorides': {'<=0.075': {'chlorides': {'<=0.066': {'chlorides': {'<=0.061': {'chlorides': {'<=0.044': {'citric acid': {'<=0.03': 6.5453408380237645, '>0.03': 6.0}}, '>0.044': {'chlorides': {'<=0.045': {'citric acid': {'<=0.04': 4.0, '>0.04': 5.5453408380237645}}, '>0.045': {'chlorides': {'<=0.046': {'volatile acidity': {'<=0.4': 6.0, '>0.4': 7.0}}, '>0.046': {'chlorides': {'<=0.0579999999999999': {'chlorides': {'<=0.055': {'chlorides': {'<=0.047': {'volatile acidity': {'<=0.36': 6.0, '>0.36': 5.0}}, '>0.047': {'chlorides': {'<=0.048': {'citric acid': {'<=0.28': {'citric acid': {'<=0.11': {'citric acid': {'<=0.1': {'citric acid': {'<=0.0': 7.0, '>0.0': 5.666666666666667}}, '>0.1': 7.0}}, '>0.11': 5.0}}, '>0.28': 7.0}}, '>0.048': {'chlorides': {'<=0.049': {'sulphates': {'<=0.57': 6.0, '>0.57': 5.0}}, '>0.049': {'chlorides': {'<=0.052': {'chlorides': {'<=0.05': {'citric acid': {'<=0.46': {'citric acid': {'<=0.4': {'citric acid': {'<=0.34': {'citric acid': {'<=0.24': {'density': {'<=0.9962': 5.0, '>0.9962': 6.0}}, '>0.24': 6.5}}, '>0.34': 4.0}}, '>0.4': 6.0}}, '>0.46': 7.0}}, '>0.05': {'chlorides': {'<=0.051': 6.0, '>0.051': {'citric acid': {'<=0.45': {'citric acid': {'<=0.4': {'citric acid': {'<=0.26': {'citric acid': {'<=0.0': 6.0, '>0.0': 6.0}}, '>0.26': 7.0}}, '>0.4': 6.0}}, '>0.45': 7.0}}}}}}, '>0.052': {'chlorides': {'<=0.053': {'citric acid': {'<=0.3': 5.0, '>0.3': 6.0}}, '>0.053': {'chlorides': {'<=0.054': {'citric acid': {'<=0.39': {'citric acid': {'<=0.35': {'citric acid': {'<=0.32': {'citric acid': {'<=0.29': {'citric acid': {'<=0.15': {'citric acid': {'<=0.09': {'residual sugar': {'<=1.7': 7.0, '>1.7': 6.0}}, '>0.09': 4.0}}, '>0.15': 7.0}}, '>0.29': 4.0}}, '>0.32': 7.0}}, '>0.35': 5.0}}, '>0.39': 7.0}}, '>0.054': {'citric acid': {'<=0.27': {'citric acid': {'<=0.0': 5.666666666666667, '>0.0': 5.0}}, '>0.27': 7.0}}}}}}}}}}}}}}, '>0.055': {'chlorides': {'<=0.0559999999999999': {'citric acid': {'<=0.41': {'citric acid': {'<=0.36': {'citric acid': {'<=0.31': {'citric acid': {'<=0.08': 5.0, '>0.08': 5.878674171357098}}, '>0.31': 5.0}}, '>0.36': 6.0}}, '>0.41': 7.0}}, '>0.0559999999999999': {'chlorides': {'<=0.057': {'citric acid': {'<=0.42': {'citric acid': {'<=0.37': {'citric acid': {'<=0.0': {'volatile acidity': {'<=0.5': 5.0, '>0.5': 4.0}}, '>0.0': {'citric acid': {'<=0.01': 6.0, '>0.01': 5.0}}}}, '>0.37': 6.0}}, '>0.42': 7.0}}, '>0.057': {'citric acid': {'<=0.07': {'total sulfur dioxide': {'<=9.0': 4.0, '>9.0': 6.0}}, '>0.07': {'citric acid': {'<=0.41': {'citric acid': {'<=0.4': {'citric acid': {'<=0.38': {'citric acid': {'<=0.17': 6.0, '>0.17': {'citric acid': {'<=0.2': 5.0, '>0.2': {'volatile acidity': {'<=0.35': 7.0, '>0.35': 5.666666666666667}}}}}}, '>0.38': 7.0}}, '>0.4': 6.0}}, '>0.41': 5.0}}}}}}}}}}, '>0.0579999999999999': {'chlorides': {'<=0.059': {'citric acid': {'<=0.49': {'citric acid': {'<=0.46': {'citric acid': {'<=0.23': {'citric acid': {'<=0.08': {'volatile acidity': {'<=0.75': 6.0, '>0.75': 7.0}}, '>0.08': 5.0}}, '>0.23': {'volatile acidity': {'<=0.63': 6.0, '>0.63': 5.0}}}}, '>0.46': 7.0}}, '>0.49': 6.0}}, '>0.059': {'chlorides': {'<=0.06': {'citric acid': {'<=0.49': {'citric acid': {'<=0.06': {'citric acid': {'<=0.0': 4.0, '>0.0': {'citric acid': {'<=0.01': 6.0, '>0.01': 6.0}}}}, '>0.06': {'citric acid': {'<=0.4': {'citric acid': {'<=0.26': 5.318011257035647, '>0.26': {'residual sugar': {'<=1.8': 7.0, '>1.8': 6.0}}}}, '>0.4': 5.0}}}}, '>0.49': 7.0}}, '>0.06': {'citric acid': {'<=0.44': {'citric acid': {'<=0.39': {'citric acid': {'<=0.35': {'citric acid': {'<=0.33': {'citric acid': {'<=0.32': {'citric acid': {'<=0.06': {'citric acid': {'<=0.05': 5.878674171357098, '>0.05': 4.0}}, '>0.06': 7.0}}, '>0.32': 5.818011257035647}}, '>0.33': 7.0}}, '>0.35': 5.0}}, '>0.39': 7.0}}, '>0.44': 6.0}}}}}}}}}}}}}}, '>0.061': {'chlorides': {'<=0.062': {'citric acid': {'<=0.47': {'citric acid': {'<=0.26': {'citric acid': {'<=0.1': {'citric acid': {'<=0.09': {'citric acid': {'<=0.02': {'free sulfur dioxide': {'<=21.0': 6.0, '>21.0': 7.0}}, '>0.02': 5.0}}, '>0.09': 6.0}}, '>0.1': 5.0}}, '>0.26': {'volatile acidity': {'<=0.36': {'volatile acidity': {'<=0.18': 5.0, '>0.18': {'density': {'<=0.9952': 7.0, '>0.9952': 6.0}}}}, '>0.36': 7.0}}}}, '>0.47': 5.0}}, '>0.062': {'chlorides': {'<=0.065': {'chlorides': {'<=0.064': {'chlorides': {'<=0.063': {'citric acid': {'<=0.43': {'citric acid': {'<=0.4': {'citric acid': {'<=0.38': {'citric acid': {'<=0.26': {'total sulfur dioxide': {'<=52.0': 6.0, '>52.0': 5.0}}, '>0.26': 7.0}}, '>0.38': 5.0}}, '>0.4': 7.0}}, '>0.43': {'volatile acidity': {'<=0.53': 6.0, '>0.53': 5.0}}}}, '>0.063': {'citric acid': {'<=0.36': {'citric acid': {'<=0.32': {'citric acid': {'<=0.22': {'citric acid': {'<=0.15': {'citric acid': {'<=0.14': {'citric acid': {'<=0.08': {'citric acid': {'<=0.0': 6.0, '>0.0': {'total sulfur dioxide': {'<=34.0': 5.0, '>34.0': 6.0}}}}, '>0.08': 6.5}}, '>0.14': 6.0}}, '>0.15': 5.0}}, '>0.22': 6.0}}, '>0.32': 7.0}}, '>0.36': {'total sulfur dioxide': {'<=19.0': 6.0, '>19.0': 5.0}}}}}}, '>0.064': {'citric acid': {'<=0.36': {'citric acid': {'<=0.0': {'residual sugar': {'<=1.2': 7.0, '>1.2': 5.0}}, '>0.0': {'citric acid': {'<=0.32': {'citric acid': {'<=0.3': {'citric acid': {'<=0.17': {'citric acid': {'<=0.12': {'free sulfur dioxide': {'<=14.0': 6.0, '>14.0': 5.6360225140712945}}, '>0.12': 7.0}}, '>0.17': 6.0}}, '>0.3': 5.0}}, '>0.32': 7.0}}}}, '>0.36': 6.0}}}}, '>0.065': {'citric acid': {'<=0.24': {'citric acid': {'<=0.11': {'citric acid': {'<=0.1': {'citric acid': {'<=0.09': {'citric acid': {'<=0.08': {'citric acid': {'<=0.02': {'volatile acidity': {'<=0.65': 6.0, '>0.65': 5.0}}, '>0.02': 5.0}}, '>0.08': 7.0}}, '>0.09': 5.0}}, '>0.1': 6.0}}, '>0.11': 5.0}}, '>0.24': {'volatile acidity': {'<=0.52': {'volatile acidity': {'<=0.45': {'volatile acidity': {'<=0.38': {'volatile acidity': {'<=0.37': {'volatile acidity': {'<=0.21': 6.0, '>0.21': {'volatile acidity': {'<=0.24': 7.0, '>0.24': {'volatile acidity': {'<=0.31': 6.0, '>0.31': {'free sulfur dioxide': {'<=7.0': 7.0, '>7.0': 6.0}}}}}}}}, '>0.37': 7.0}}, '>0.38': 6.0}}, '>0.45': 7.0}}, '>0.52': 6.0}}}}}}}}}}, '>0.066': {'chlorides': {'<=0.07': {'chlorides': {'<=0.069': {'chlorides': {'<=0.067': {'citric acid': {'<=0.24': {'citric acid': {'<=0.14': {'citric acid': {'<=0.09': {'citric acid': {'<=0.08': {'citric acid': {'<=0.02': {'citric acid': {'<=0.0': 4.5, '>0.0': 5.333333333333333}}, '>0.02': 4.5}}, '>0.08': 6.0}}, '>0.09': 5.0}}, '>0.14': 4.0}}, '>0.24': {'volatile acidity': {'<=0.36': {'volatile acidity': {'<=0.34': {'volatile acidity': {'<=0.21': 7.0, '>0.21': {'volatile acidity': {'<=0.33': {'volatile acidity': {'<=0.31': {'volatile acidity': {'<=0.29': {'volatile acidity': {'<=0.28': 6.333333333333333, '>0.28': 5.666666666666667}}, '>0.29': 6.0}}, '>0.31': 7.0}}, '>0.33': 6.0}}}}, '>0.34': 7.0}}, '>0.36': 5.0}}}}, '>0.067': {'chlorides': {'<=0.068': {'citric acid': {'<=0.43': {'citric acid': {'<=0.3': {'citric acid': {'<=0.27': {'citric acid': {'<=0.1': {'citric acid': {'<=0.08': {'density': {'<=0.99651': 6.0, '>0.99651': 5.0}}, '>0.08': 4.666666666666667}}, '>0.1': 6.0}}, '>0.27': 5.0}}, '>0.3': {'volatile acidity': {'<=0.38': {'citric acid': {'<=0.33': 6.0, '>0.33': 7.0}}, '>0.38': {'volatile acidity': {'<=0.39': 5.0, '>0.39': {'residual sugar': {'<=1.8': 5.6360225140712945, '>1.8': 6.0}}}}}}}}, '>0.43': 6.0}}, '>0.068': {'citric acid': {'<=0.41': {'citric acid': {'<=0.39': {'citric acid': {'<=0.21': {'citric acid': {'<=0.2': {'citric acid': {'<=0.18': {'citric acid': {'<=0.16': {'citric acid': {'<=0.06': {'citric acid': {'<=0.04': {'citric acid': {'<=0.02': {'citric acid': {'<=0.0': 5.0, '>0.0': 5.5}}, '>0.02': 6.0}}, '>0.04': 5.0}}, '>0.06': 7.0}}, '>0.16': 6.0}}, '>0.18': 5.0}}, '>0.2': 6.0}}, '>0.21': {'density': {'<=0.9958': 6.0, '>0.9958': 5.0}}}}, '>0.39': 7.0}}, '>0.41': 6.0}}}}}}, '>0.069': {'citric acid': {'<=0.53': {'citric acid': {'<=0.49': {'citric acid': {'<=0.08': {'citric acid': {'<=0.07': {'citric acid': {'<=0.05': {'citric acid': {'<=0.03': {'citric acid': {'<=0.01': {'volatile acidity': {'<=0.55': 6.0, '>0.55': 4.0}}, '>0.01': 5.0}}, '>0.03': 6.0}}, '>0.05': 5.0}}, '>0.07': 7.0}}, '>0.08': {'citric acid': {'<=0.14': 5.0, '>0.14': {'citric acid': {'<=0.18': 5.666666666666667, '>0.18': {'citric acid': {'<=0.29': 5.0, '>0.29': {'volatile acidity': {'<=0.39': 6.333333333333333, '>0.39': {'citric acid': {'<=0.42': {'citric acid': {'<=0.32': 6.0, '>0.32': 5.0}}, '>0.42': 4.0}}}}}}}}}}}}, '>0.49': 5.6360225140712945}}, '>0.53': 5.0}}}}, '>0.07': {'chlorides': {'<=0.073': {'chlorides': {'<=0.072': {'chlorides': {'<=0.071': {'citric acid': {'<=0.58': {'citric acid': {'<=0.5': {'citric acid': {'<=0.02': 6.0, '>0.02': {'citric acid': {'<=0.03': 6.0, '>0.03': {'citric acid': {'<=0.07': 6.0, '>0.07': {'citric acid': {'<=0.45': {'citric acid': {'<=0.43': {'citric acid': {'<=0.42': {'citric acid': {'<=0.08': {'residual sugar': {'<=1.8': 5.0, '>1.8': 6.0}}, '>0.08': {'citric acid': {'<=0.1': 5.0, '>0.1': {'citric acid': {'<=0.18': 6.0, '>0.18': {'citric acid': {'<=0.19': 5.0, '>0.19': {'citric acid': {'<=0.2': 6.0, '>0.2': {'citric acid': {'<=0.21': 5.0, '>0.21': {'citric acid': {'<=0.25': {'volatile acidity': {'<=0.34': 5.0, '>0.34': 6.0}}, '>0.25': {'volatile acidity': {'<=0.49': {'volatile acidity': {'<=0.44': {'sulphates': {'<=0.75': 5.333333333333333, '>0.75': 7.0}}, '>0.44': 6.0}}, '>0.49': 5.0}}}}}}}}}}}}}}}}, '>0.42': 7.0}}, '>0.43': {'volatile acidity': {'<=0.41': 6.5, '>0.41': 5.0}}}}, '>0.45': 4.818011257035647}}}}}}}}, '>0.5': {'volatile acidity': {'<=0.37': 6.333333333333333, '>0.37': 6.0}}}}, '>0.58': 5.0}}, '>0.071': {'citric acid': {'<=0.22': {'citric acid': {'<=0.12': {'citric acid': {'<=0.03': {'citric acid': {'<=0.02': {'citric acid': {'<=0.0': 5.666666666666667, '>0.0': {'sulphates': {'<=0.6581488430268921': 4.5, '>0.6581488430268921': 6.333333333333333}}}}, '>0.02': 4.0}}, '>0.03': 6.0}}, '>0.12': 5.0}}, '>0.22': {'volatile acidity': {'<=0.53': {'volatile acidity': {'<=0.49': {'volatile acidity': {'<=0.42': {'volatile acidity': {'<=0.41': {'volatile acidity': {'<=0.34': 5.878674171357098, '>0.34': 7.0}}, '>0.41': 6.0}}, '>0.42': 7.0}}, '>0.49': 6.0}}, '>0.53': 5.0}}}}}}, '>0.072': {'citric acid': {'<=0.49': {'citric acid': {'<=0.45': {'citric acid': {'<=0.26': {'citric acid': {'<=0.02': 6.0, '>0.02': {'citric acid': {'<=0.25': {'citric acid': {'<=0.23': {'citric acid': {'<=0.17': {'citric acid': {'<=0.05': 5.0, '>0.05': {'citric acid': {'<=0.1': 6.0, '>0.1': {'citric acid': {'<=0.11': 5.0, '>0.11': {'alcohol': {'<=9.4': 6.0, '>9.4': 5.0}}}}}}}}, '>0.17': 5.0}}, '>0.23': 6.0}}, '>0.25': 5.0}}}}, '>0.26': {'volatile acidity': {'<=0.33': {'volatile acidity': {'<=0.32': 6.212007504690431, '>0.32': 7.0}}, '>0.33': 6.0}}}}, '>0.45': 4.666666666666667}}, '>0.49': {'volatile acidity': {'<=0.45': 6.0, '>0.45': 7.0}}}}}}, '>0.073': {'chlorides': {'<=0.074': {'citric acid': {'<=0.37': {'citric acid': {'<=0.31': {'citric acid': {'<=0.3': {'citric acid': {'<=0.25': {'citric acid': {'<=0.21': {'citric acid': {'<=0.07': {'citric acid': {'<=0.01': {'volatile acidity': {'<=0.6': 6.0, '>0.6': 5.0}}, '>0.01': 6.0}}, '>0.07': {'residual sugar': {'<=2.1': 5.0, '>2.1': 6.0}}}}, '>0.21': 6.0}}, '>0.25': {'volatile acidity': {'<=0.36': 5.6360225140712945, '>0.36': 5.0}}}}, '>0.3': 6.0}}, '>0.31': 5.0}}, '>0.37': {'volatile acidity': {'<=0.44': {'volatile acidity': {'<=0.32': {'volatile acidity': {'<=0.31': {'volatile acidity': {'<=0.24': 6.0, '>0.24': {'citric acid': {'<=0.53': 7.0, '>0.53': 6.0}}}}, '>0.31': 5.0}}, '>0.32': {'free sulfur dioxide': {'<=9.0': 6.0, '>9.0': 7.0}}}}, '>0.44': 5.318011257035647}}}}, '>0.074': {'citric acid': {'<=0.49': {'citric acid': {'<=0.46': {'citric acid': {'<=0.37': {'citric acid': {'<=0.35': {'citric acid': {'<=0.3': {'citric acid': {'<=0.12': {'citric acid': {'<=0.1': {'citric acid': {'<=0.07': {'citric acid': {'<=0.05': {'citric acid': {'<=0.03': {'volatile acidity': {'<=0.64': 6.0, '>0.64': 5.0}}, '>0.03': 4.5}}, '>0.05': 5.0}}, '>0.07': 6.0}}, '>0.1': 5.0}}, '>0.12': {'density': {'<=0.99688': 6.0, '>0.99688': 5.0}}}}, '>0.3': 7.0}}, '>0.35': 5.0}}, '>0.37': {'volatile acidity': {'<=0.32': 7.0, '>0.32': 6.0}}}}, '>0.46': {'pH': {'<=3.14': 5.0, '>3.14': 6.0}}}}, '>0.49': 6.0}}}}}}}}}}, '>0.075': {'chlorides': {'<=0.111': {'chlorides': {'<=0.11': {'chlorides': {'<=0.076': {'citric acid': {'<=0.3': {'citric acid': {'<=0.23': {'citric acid': {'<=0.2': {'citric acid': {'<=0.15': {'citric acid': {'<=0.1': {'citric acid': {'<=0.08': {'citric acid': {'<=0.01': {'free sulfur dioxide': {'<=11.0': 5.0, '>11.0': 6.0}}, '>0.01': {'citric acid': {'<=0.03': 5.0, '>0.03': {'citric acid': {'<=0.04': {'volatile acidity': {'<=0.53': 6.0, '>0.53': 5.0}}, '>0.04': {'free sulfur dioxide': {'<=8.0': 5.0, '>8.0': 6.0}}}}}}}}, '>0.08': 6.0}}, '>0.1': {'alcohol': {'<=10.7': 5.0, '>10.7': 6.0}}}}, '>0.15': 5.0}}, '>0.2': 6.0}}, '>0.23': 5.0}}, '>0.3': {'volatile acidity': {'<=0.54': {'volatile acidity': {'<=0.5278205128205131': 6.0, '>0.5278205128205131': 5.6360225140712945}}, '>0.54': 5.0}}}}, '>0.076': {'chlorides': {'<=0.108': {'chlorides': {'<=0.095': {'chlorides': {'<=0.09': {'chlorides': {'<=0.08746654158849257': {'chlorides': {'<=0.07936601166848695': {'chlorides': {'<=0.077': {'citric acid': {'<=0.49': {'citric acid': {'<=0.48': {'citric acid': {'<=0.23': {'citric acid': {'<=0.22': {'citric acid': {'<=0.04': {'sulphates': {'<=0.59': 5.0, '>0.59': 6.0}}, '>0.04': {'citric acid': {'<=0.07': 5.0, '>0.07': {'citric acid': {'<=0.11': 6.0, '>0.11': {'citric acid': {'<=0.14': 5.0, '>0.14': {'citric acid': {'<=0.15': 6.0, '>0.15': {'citric acid': {'<=0.17': 5.0, '>0.17': {'citric acid': {'<=0.18': 6.0, '>0.18': {'citric acid': {'<=0.19': 5.0, '>0.19': {'alcohol': {'<=9.9': 5.0, '>9.9': 6.0}}}}}}}}}}}}}}}}}}, '>0.22': 5.0}}, '>0.23': {'volatile acidity': {'<=0.54': {'citric acid': {'<=0.28': 6.0, '>0.28': {'volatile acidity': {'<=0.44': {'volatile acidity': {'<=0.42': {'volatile acidity': {'<=0.33': 6.333333333333333, '>0.33': 5.0}}, '>0.42': 6.0}}, '>0.44': 5.0}}}}, '>0.54': 5.0}}}}, '>0.48': 7.0}}, '>0.49': 5.0}}, '>0.077': {'chlorides': {'<=0.078': {'citric acid': {'<=0.49': {'citric acid': {'<=0.33': {'citric acid': {'<=0.29': {'citric acid': {'<=0.04': {'citric acid': {'<=0.02': {'citric acid': {'<=0.01': 6.333333333333333, '>0.01': {'sulphates': {'<=0.63': 5.878674171357098, '>0.63': 5.0}}}}, '>0.02': {'volatile acidity': {'<=0.66': 5.0, '>0.66': 4.0}}}}, '>0.04': {'citric acid': {'<=0.28': {'citric acid': {'<=0.27': {'citric acid': {'<=0.25': {'citric acid': {'<=0.24': {'citric acid': {'<=0.14': {'citric acid': {'<=0.13': {'volatile acidity': {'<=0.52': 6.0, '>0.52': 5.0}}, '>0.13': 5.0}}, '>0.14': {'citric acid': {'<=0.16': 6.0, '>0.16': {'citric acid': {'<=0.18': 5.333333333333333, '>0.18': {'citric acid': {'<=0.22': 6.0, '>0.22': {'pH': {'<=3.29': 5.0, '>3.29': 6.0}}}}}}}}}}, '>0.24': 5.0}}, '>0.25': 6.0}}, '>0.27': 5.0}}, '>0.28': 6.0}}}}, '>0.29': 5.0}}, '>0.33': {'volatile acidity': {'<=0.41': {'volatile acidity': {'<=0.31': 7.0, '>0.31': 6.212007504690431}}, '>0.41': 5.0}}}}, '>0.49': 6.0}}, '>0.078': {'chlorides': {'<=0.079': {'citric acid': {'<=0.5': {'citric acid': {'<=0.49': {'citric acid': {'<=0.44': {'citric acid': {'<=0.4': {'citric acid': {'<=0.03': {'citric acid': {'<=0.01': 6.0, '>0.01': 4.5}}, '>0.03': {'citric acid': {'<=0.11': {'citric acid': {'<=0.1': {'citric acid': {'<=0.09': {'total sulfur dioxide': {'<=35.0': 5.0, '>35.0': 6.0}}, '>0.09': 6.0}}, '>0.1': 5.0}}, '>0.11': {'citric acid': {'<=0.15': 6.0, '>0.15': {'citric acid': {'<=0.36': {'citric acid': {'<=0.34': {'citric acid': {'<=0.32': {'citric acid': {'<=0.3': {'citric acid': {'<=0.24': {'citric acid': {'<=0.22': {'pH': {'<=3.34': 5.0, '>3.34': 6.0}}, '>0.22': 6.0}}, '>0.24': 5.0}}, '>0.3': 6.0}}, '>0.32': 5.0}}, '>0.34': 7.0}}, '>0.36': 5.333333333333333}}}}}}}}, '>0.4': 5.0}}, '>0.44': 6.0}}, '>0.49': 5.0}}, '>0.5': 6.0}}, '>0.079': {'citric acid': {'<=0.66': {'citric acid': {'<=0.56': {'citric acid': {'<=0.54': {'citric acid': {'<=0.49': {'citric acid': {'<=0.44': {'citric acid': {'<=0.39': {'citric acid': {'<=0.36': {'citric acid': {'<=0.18': {'citric acid': {'<=0.15': {'citric acid': {'<=0.14': {'citric acid': {'<=0.12': {'citric acid': {'<=0.1': {'citric acid': {'<=0.09': {'citric acid': {'<=0.02': {'citric acid': {'<=0.0': {'residual sugar': {'<=1.9': 6.0, '>1.9': 5.0}}, '>0.0': 5.0}}, '>0.02': {'volatile acidity': {'<=0.5': 5.0, '>0.5': 6.0}}}}, '>0.09': 7.0}}, '>0.1': 6.0}}, '>0.12': 5.0}}, '>0.14': 6.0}}, '>0.15': 7.0}}, '>0.18': 5.0}}, '>0.36': 7.0}}, '>0.39': 5.0}}, '>0.44': {'density': {'<=0.9968': 5.0, '>0.9968': 6.0}}}}, '>0.49': 4.0}}, '>0.54': 5.0}}, '>0.56': 7.0}}, '>0.66': 6.0}}}}}}}}, '>0.07936601166848695': {'chlorides': {'<=0.081': {'chlorides': {'<=0.08': {'citric acid': {'<=0.35': {'citric acid': {'<=0.2': {'citric acid': {'<=0.18': {'citric acid': {'<=0.16': {'citric acid': {'<=0.1': {'citric acid': {'<=0.06': {'citric acid': {'<=0.03': {'citric acid': {'<=0.0': {'volatile acidity': {'<=0.645': 6.0, '>0.645': 5.0}}, '>0.0': {'citric acid': {'<=0.01': {'residual sugar': {'<=1.9': 5.0, '>1.9': 6.0}}, '>0.01': {'citric acid': {'<=0.02': 5.5, '>0.02': {'volatile acidity': {'<=0.62': 4.5, '>0.62': 6.0}}}}}}}}, '>0.03': 5.0}}, '>0.06': 7.0}}, '>0.1': 5.0}}, '>0.16': 6.0}}, '>0.18': 4.0}}, '>0.2': {'citric acid': {'<=0.26': 5.0, '>0.26': {'citric acid': {'<=0.27': 4.0, '>0.27': {'citric acid': {'<=0.34': {'total sulfur dioxide': {'<=70.0': 5.0, '>70.0': 6.0}}, '>0.34': 5.0}}}}}}}}, '>0.35': {'volatile acidity': {'<=0.36': {'citric acid': {'<=0.51': 6.0, '>0.51': 5.6360225140712945}}, '>0.36': {'volatile acidity': {'<=0.37': 5.0, '>0.37': {'residual sugar': {'<=2.5388055034396517': 6.0, '>2.5388055034396517': 5.0}}}}}}}}, '>0.08': {'citric acid': {'<=0.6': {'citric acid': {'<=0.55': {'citric acid': {'<=0.0': {'density': {'<=0.9975': 5.0, '>0.9975': 4.0}}, '>0.0': {'citric acid': {'<=0.02': 6.0, '>0.02': {'citric acid': {'<=0.29': {'citric acid': {'<=0.25': {'citric acid': {'<=0.09': {'volatile acidity': {'<=0.57': 6.0, '>0.57': 5.0}}, '>0.09': {'density': {'<=0.9983': 5.0, '>0.9983': 6.0}}}}, '>0.25': 5.0}}, '>0.29': {'volatile acidity': {'<=0.45': {'volatile acidity': {'<=0.41': {'volatile acidity': {'<=0.38': {'volatile acidity': {'<=0.36': {'volatile acidity': {'<=0.28': 5.0, '>0.28': {'volatile acidity': {'<=0.32': 7.0, '>0.32': 6.0}}}}, '>0.36': 5.0}}, '>0.38': 6.0}}, '>0.41': 5.0}}, '>0.45': 6.0}}}}}}}}, '>0.55': 5.0}}, '>0.6': 6.0}}}}, '>0.081': {'chlorides': {'<=0.085': {'chlorides': {'<=0.084': {'chlorides': {'<=0.083': {'chlorides': {'<=0.0819999999999999': {'citric acid': {'<=0.32': {'citric acid': {'<=0.12': {'citric acid': {'<=0.08': {'citric acid': {'<=0.05': {'citric acid': {'<=0.04': {'volatile acidity': {'<=0.56': 5.0, '>0.56': 6.0}}, '>0.04': 5.6360225140712945}}, '>0.05': 5.0}}, '>0.08': 6.0}}, '>0.12': {'citric acid': {'<=0.31': {'citric acid': {'<=0.19': 5.0, '>0.19': {'citric acid': {'<=0.2': 4.0, '>0.2': {'total sulfur dioxide': {'<=24.0': 6.0, '>24.0': 5.0}}}}}}, '>0.31': 5.0}}}}, '>0.32': {'volatile acidity': {'<=0.31': {'citric acid': {'<=0.54': 7.0, '>0.54': 6.0}}, '>0.31': {'volatile acidity': {'<=0.45': {'citric acid': {'<=0.45': {'volatile acidity': {'<=0.43': 6.0, '>0.43': 5.0}}, '>0.45': 5.0}}, '>0.45': 6.0}}}}}}, '>0.0819999999999999': {'citric acid': {'<=0.55': {'citric acid': {'<=0.39': {'citric acid': {'<=0.35': {'citric acid': {'<=0.12': {'citric acid': {'<=0.06': 4.666666666666667, '>0.06': 6.0}}, '>0.12': {'citric acid': {'<=0.27': {'density': {'<=0.9959': 5.0, '>0.9959': 6.0}}, '>0.27': {'citric acid': {'<=0.31': 5.0, '>0.31': 6.0}}}}}}, '>0.35': 7.0}}, '>0.39': {'sulphates': {'<=0.6': 5.0, '>0.6': 5.878674171357098}}}}, '>0.55': 7.0}}}}, '>0.083': {'citric acid': {'<=0.55': {'citric acid': {'<=0.49': {'citric acid': {'<=0.27': {'citric acid': {'<=0.26': {'citric acid': {'<=0.25': {'citric acid': {'<=0.05': {'citric acid': {'<=0.0': {'sulphates': {'<=0.5': {'residual sugar': {'<=1.9': 4.0, '>1.9': 5.0}}, '>0.5': 6.0}}, '>0.0': {'citric acid': {'<=0.04': {'citric acid': {'<=0.03': {'residual sugar': {'<=1.7': 6.0, '>1.7': 5.6360225140712945}}, '>0.03': 5.0}}, '>0.04': 6.0}}}}, '>0.05': {'citric acid': {'<=0.24': {'citric acid': {'<=0.22': {'citric acid': {'<=0.09': 5.333333333333333, '>0.09': {'free sulfur dioxide': {'<=4.0': 6.0, '>4.0': 5.0}}}}, '>0.22': 6.0}}, '>0.24': 5.0}}}}, '>0.25': 4.0}}, '>0.26': 5.0}}, '>0.27': {'sulphates': {'<=0.62': {'volatile acidity': {'<=0.5': 5.0, '>0.5': 6.0}}, '>0.62': 6.0}}}}, '>0.49': 6.0}}, '>0.55': 7.0}}}}, '>0.084': {'citric acid': {'<=0.47': {'citric acid': {'<=0.44': {'citric acid': {'<=0.34': {'citric acid': {'<=0.1': {'citric acid': {'<=0.02': 6.0, '>0.02': 5.0}}, '>0.1': {'citric acid': {'<=0.3': {'residual sugar': {'<=1.9': 7.0, '>1.9': 6.0}}, '>0.3': 7.0}}}}, '>0.34': 5.0}}, '>0.44': 7.0}}, '>0.47': {'sulphates': {'<=0.61': {'volatile acidity': {'<=0.47': 5.0, '>0.47': 6.0}}, '>0.61': 6.0}}}}}}, '>0.085': {'chlorides': {'<=0.086': {'citric acid': {'<=0.12': {'citric acid': {'<=0.07': {'citric acid': {'<=0.06': {'citric acid': {'<=0.05': {'citric acid': {'<=0.0': 5.5, '>0.0': 5.0}}, '>0.05': 6.0}}, '>0.06': 5.0}}, '>0.07': 4.333333333333333}}, '>0.12': {'citric acid': {'<=0.49': {'citric acid': {'<=0.42': {'citric acid': {'<=0.41': {'citric acid': {'<=0.31': {'citric acid': {'<=0.28': {'pH': {'<=3.36': 5.0, '>3.36': 6.0}}, '>0.28': 6.0}}, '>0.31': 5.0}}, '>0.41': 6.0}}, '>0.42': 5.0}}, '>0.49': 5.6360225140712945}}}}, '>0.086': {'chlorides': {'<=0.087': {'citric acid': {'<=0.57': {'citric acid': {'<=0.47': {'citric acid': {'<=0.04': {'citric acid': {'<=0.02': {'volatile acidity': {'<=0.66': 7.0, '>0.66': 5.0}}, '>0.02': 4.0}}, '>0.04': {'citric acid': {'<=0.42': {'citric acid': {'<=0.29': {'citric acid': {'<=0.14': 6.0, '>0.14': 5.0}}, '>0.29': {'citric acid': {'<=0.32': 7.0, '>0.32': 5.5}}}}, '>0.42': 5.0}}}}, '>0.47': 7.0}}, '>0.57': 6.0}}, '>0.087': {'citric acid': {'<=0.45': {'citric acid': {'<=0.44': {'citric acid': {'<=0.28': {'citric acid': {'<=0.12': {'citric acid': {'<=0.09': {'citric acid': {'<=0.04': {'citric acid': {'<=0.02': {'citric acid': {'<=0.0': {'volatile acidity': {'<=0.64': {'volatile acidity': {'<=0.5278205128205131': 5.6360225140712945, '>0.5278205128205131': 6.0}}, '>0.64': {'residual sugar': {'<=1.2': 5.6360225140712945, '>1.2': 5.0}}}}, '>0.0': 5.333333333333333}}, '>0.02': 5.0}}, '>0.04': 4.333333333333333}}, '>0.09': {'volatile acidity': {'<=0.67': {'volatile acidity': {'<=0.57': 6.0, '>0.57': 5.0}}, '>0.67': 7.0}}}}, '>0.12': {'citric acid': {'<=0.2709756097560964': {'citric acid': {'<=0.26': {'citric acid': {'<=0.24': {'citric acid': {'<=0.16': 6.0, '>0.16': {'citric acid': {'<=0.19': {'citric acid': {'<=0.18': {'residual sugar': {'<=2.4': 6.0, '>2.4': 5.0}}, '>0.18': 5.0}}, '>0.19': {'volatile acidity': {'<=0.7': 6.0, '>0.7': 5.0}}}}}}, '>0.24': 5.0}}, '>0.26': 4.0}}, '>0.2709756097560964': 6.333333333333333}}}}, '>0.28': {'citric acid': {'<=0.33': {'volatile acidity': {'<=0.4': 6.0, '>0.4': 5.0}}, '>0.33': {'volatile acidity': {'<=0.37': 7.0, '>0.37': {'citric acid': {'<=0.36': 6.0, '>0.36': {'citric acid': {'<=0.43': {'citric acid': {'<=0.38': {'residual sugar': {'<=1.7': 5.0, '>1.7': 6.0}}, '>0.38': 5.878674171357098}}, '>0.43': 5.0}}}}}}}}}}, '>0.44': 7.0}}, '>0.45': {'volatile acidity': {'<=0.76': {'volatile acidity': {'<=0.72': {'volatile acidity': {'<=0.695': {'volatile acidity': {'<=0.655': {'volatile acidity': {'<=0.61': {'volatile acidity': {'<=0.27': 6.0, '>0.27': {'volatile acidity': {'<=0.32': 6.0, '>0.32': {'volatile acidity': {'<=0.5': {'volatile acidity': {'<=0.4': {'volatile acidity': {'<=0.38': {'volatile acidity': {'<=0.36': {'density': {'<=0.998': 6.0, '>0.998': 5.0}}, '>0.36': {'pH': {'<=3.24': 6.0, '>3.24': 5.0}}}}, '>0.38': 6.0}}, '>0.4': {'volatile acidity': {'<=0.46': 5.0, '>0.46': {'free sulfur dioxide': {'<=14.0': 6.0, '>14.0': 5.0}}}}}}, '>0.5': {'volatile acidity': {'<=0.54': {'citric acid': {'<=0.71': {'residual sugar': {'<=2.0': 6.0, '>2.0': 7.0}}, '>0.71': 5.0}}, '>0.54': {'citric acid': {'<=0.56': {'citric acid': {'<=0.49': 5.318011257035647, '>0.49': 6.0}}, '>0.56': 5.0}}}}}}}}}}, '>0.61': 5.0}}, '>0.655': 7.0}}, '>0.695': 5.0}}, '>0.72': 6.0}}, '>0.76': 5.0}}}}}}}}}}}}}}, '>0.08746654158849257': {'chlorides': {'<=0.089': {'chlorides': {'<=0.088': {'citric acid': {'<=0.49': {'citric acid': {'<=0.01': {'volatile acidity': {'<=0.58': 7.0, '>0.58': 5.0}}, '>0.01': {'citric acid': {'<=0.3': {'citric acid': {'<=0.26': {'volatile acidity': {'<=0.54': 6.0, '>0.54': 5.0}}, '>0.26': 4.666666666666667}}, '>0.3': {'volatile acidity': {'<=0.32': 6.0, '>0.32': {'residual sugar': {'<=2.5': 5.0, '>2.5': 6.0}}}}}}}}, '>0.49': 6.0}}, '>0.088': {'citric acid': {'<=0.49': {'citric acid': {'<=0.44': {'citric acid': {'<=0.36': {'citric acid': {'<=0.07': {'citric acid': {'<=0.05': 4.666666666666667, '>0.05': 6.0}}, '>0.07': {'citric acid': {'<=0.09': 6.0, '>0.09': {'citric acid': {'<=0.26': 5.0, '>0.26': {'volatile acidity': {'<=0.56': 6.333333333333333, '>0.56': 4.0}}}}}}}}, '>0.36': 6.0}}, '>0.44': 5.0}}, '>0.49': 6.0}}}}, '>0.089': {'citric acid': {'<=0.52': {'citric acid': {'<=0.49': {'citric acid': {'<=0.48': {'citric acid': {'<=0.42': {'citric acid': {'<=0.32': {'citric acid': {'<=0.31': {'citric acid': {'<=0.26': {'citric acid': {'<=0.07': 5.333333333333333, '>0.07': {'volatile acidity': {'<=0.49': 6.0, '>0.49': 5.0}}}}, '>0.26': 6.0}}, '>0.31': 5.0}}, '>0.32': 6.0}}, '>0.42': 5.0}}, '>0.48': 7.0}}, '>0.49': 5.0}}, '>0.52': 6.0}}}}}}, '>0.09': {'chlorides': {'<=0.093': {'chlorides': {'<=0.092': {'chlorides': {'<=0.091': {'citric acid': {'<=0.53': {'citric acid': {'<=0.09': {'volatile acidity': {'<=0.59': 7.0, '>0.59': 6.0}}, '>0.09': {'citric acid': {'<=0.41': {'citric acid': {'<=0.4': {'citric acid': {'<=0.37': {'citric acid': {'<=0.24': {'sulphates': {'<=0.51': 5.0, '>0.51': 6.0}}, '>0.24': 5.0}}, '>0.37': 6.0}}, '>0.4': 5.0}}, '>0.41': 6.0}}}}, '>0.53': 5.0}}, '>0.091': {'citric acid': {'<=0.52': {'citric acid': {'<=0.49': {'citric acid': {'<=0.45': {'citric acid': {'<=0.41': {'citric acid': {'<=0.23': {'citric acid': {'<=0.12': {'citric acid': {'<=0.04': {'citric acid': {'<=0.0': 6.0, '>0.0': 5.0}}, '>0.04': {'density': {'<=0.99745': 6.0, '>0.99745': 5.0}}}}, '>0.12': 5.0}}, '>0.23': {'residual sugar': {'<=2.6': 7.0, '>2.6': 6.0}}}}, '>0.41': 5.0}}, '>0.45': 6.0}}, '>0.49': 5.0}}, '>0.52': 7.0}}}}, '>0.092': {'citric acid': {'<=0.66': {'citric acid': {'<=0.65': {'citric acid': {'<=0.57': {'citric acid': {'<=0.34': {'citric acid': {'<=0.31': {'citric acid': {'<=0.19': {'citric acid': {'<=0.14': {'citric acid': {'<=0.11': {'citric acid': {'<=0.08': {'citric acid': {'<=0.01': {'citric acid': {'<=0.0': {'total sulfur dioxide': {'<=58.0': 6.0, '>58.0': 5.0}}, '>0.0': 7.0}}, '>0.01': 5.0}}, '>0.08': 6.0}}, '>0.11': 5.0}}, '>0.14': 4.0}}, '>0.19': 6.0}}, '>0.31': 5.0}}, '>0.34': {'pH': {'<=3.14': 6.0, '>3.14': 7.0}}}}, '>0.57': 5.0}}, '>0.65': 7.0}}, '>0.66': 6.0}}}}, '>0.093': {'chlorides': {'<=0.094': {'citric acid': {'<=0.52': {'citric acid': {'<=0.49': {'citric acid': {'<=0.08': 5.0, '>0.08': {'citric acid': {'<=0.19': 6.0, '>0.19': {'volatile acidity': {'<=0.5': {'volatile acidity': {'<=0.395': 7.0, '>0.395': {'citric acid': {'<=0.38': {'volatile acidity': {'<=0.48': 5.666666666666667, '>0.48': 7.0}}, '>0.38': 5.0}}}}, '>0.5': 5.0}}}}}}, '>0.49': 6.0}}, '>0.52': 5.0}}, '>0.094': {'citric acid': {'<=0.69': {'citric acid': {'<=0.54': {'citric acid': {'<=0.49': {'citric acid': {'<=0.46': {'citric acid': {'<=0.39': {'citric acid': {'<=0.27': {'citric acid': {'<=0.23': {'citric acid': {'<=0.0': 5.666666666666667, '>0.0': 5.0}}, '>0.23': 6.0}}, '>0.27': 5.0}}, '>0.39': 6.0}}, '>0.46': 5.0}}, '>0.49': 6.333333333333333}}, '>0.54': 6.0}}, '>0.69': 7.0}}}}}}}}, '>0.095': {'chlorides': {'<=0.107': {'chlorides': {'<=0.099': {'chlorides': {'<=0.098': {'chlorides': {'<=0.0969999999999999': {'chlorides': {'<=0.096': {'citric acid': {'<=0.49': {'citric acid': {'<=0.02': {'citric acid': {'<=0.0': {'sulphates': {'<=0.72': 4.333333333333333, '>0.72': 6.0}}, '>0.0': 5.0}}, '>0.02': {'sulphates': {'<=0.53': 5.0, '>0.53': {'total sulfur dioxide': {'<=49.0': 7.0, '>49.0': 6.0}}}}}}, '>0.49': 5.0}}, '>0.096': {'citric acid': {'<=0.49': {'citric acid': {'<=0.48': {'citric acid': {'<=0.26': {'citric acid': {'<=0.21': {'citric acid': {'<=0.08': {'citric acid': {'<=0.0': {'volatile acidity': {'<=0.5278205128205131': 5.6360225140712945, '>0.5278205128205131': 6.0}}, '>0.0': 5.5}}, '>0.08': 5.0}}, '>0.21': 6.0}}, '>0.26': 5.0}}, '>0.48': 6.0}}, '>0.49': 7.0}}}}, '>0.0969999999999999': {'density': {'<=0.9964': 6.0, '>0.9964': 5.0}}}}, '>0.098': 5.0}}, '>0.099': {'chlorides': {'<=0.104': {'chlorides': {'<=0.1': {'citric acid': {'<=0.74': {'citric acid': {'<=0.49': {'citric acid': {'<=0.48': {'citric acid': {'<=0.39': {'citric acid': {'<=0.28': {'citric acid': {'<=0.22': {'residual sugar': {'<=1.9': 5.0, '>1.9': 6.0}}, '>0.22': 5.0}}, '>0.28': 6.0}}, '>0.39': 5.0}}, '>0.48': 6.0}}, '>0.49': 5.0}}, '>0.74': 7.0}}, '>0.1': {'chlorides': {'<=0.1009999999999999': {'volatile acidity': {'<=0.48': 7.0, '>0.48': 5.0}}, '>0.1009999999999999': {'chlorides': {'<=0.102': {'citric acid': {'<=0.0': 5.0, '>0.0': {'citric acid': {'<=0.07': 5.0, '>0.07': {'citric acid': {'<=0.13': 6.0, '>0.13': {'citric acid': {'<=0.23': 5.0, '>0.23': 5.0}}}}}}}}, '>0.102': {'chlorides': {'<=0.103': {'citric acid': {'<=0.41': {'citric acid': {'<=0.32': {'citric acid': {'<=0.24': 5.0, '>0.24': 5.0}}, '>0.32': 7.0}}, '>0.41': 6.0}}, '>0.103': {'volatile acidity': {'<=0.38': {'volatile acidity': {'<=0.28': {'volatile acidity': {'<=0.18': 6.0, '>0.18': 5.0}}, '>0.28': 7.0}}, '>0.38': {'citric acid': {'<=0.0': 6.0, '>0.0': 5.0}}}}}}}}}}}}, '>0.104': {'chlorides': {'<=0.106': {'chlorides': {'<=0.105': {'citric acid': {'<=0.22': 5.0, '>0.22': 5.0}}, '>0.105': {'volatile acidity': {'<=0.38': 6.0, '>0.38': 5.0}}}}, '>0.106': {'citric acid': {'<=0.5': {'residual sugar': {'<=2.5388055034396517': 5.0, '>2.5388055034396517': 6.0}}, '>0.5': 7.0}}}}}}}}, '>0.107': 5.0}}}}, '>0.108': {'chlorides': {'<=0.109': 6.333333333333333, '>0.109': {'citric acid': {'<=0.4': {'citric acid': {'<=0.37': {'alcohol': {'<=9.8': 5.0, '>9.8': 6.0}}, '>0.37': 7.0}}, '>0.4': 5.0}}}}}}}}, '>0.11': {'free sulfur dioxide': {'<=6.0': 6.0, '>6.0': 5.0}}}}, '>0.111': 5.0}}}}\n",
      "\n",
      "Train RMSE : 0.22524093225933617\n",
      "\n",
      "Test RMSE: 0.21482371281931625\n"
     ]
    }
   ],
   "source": [
    "\n",
    "if __name__ == '__main__':\n",
    "\n",
    "\n",
    "    #Split Features and target\n",
    "    X, y = data.drop([data.columns[0], data.columns[-1]], axis = 1), data[data.columns[-1]]\n",
    "\n",
    "    #Split data into Training and Testing Sets\n",
    "    X_train, X_test, y_train, y_test = train_test_split(X, y, test_size = 0.25, random_state = 0)\n",
    "\n",
    "    dt_reg = ID3DecisionTreeRegressor()\n",
    "    dt_reg.fit(X, y)\n",
    "    \n",
    "    print(\"\\nTrain RMSE : {}\".format(rmse_score(y_train, dt_reg.predict(X_train))))\n",
    "    print(\"\\nTest RMSE: {}\".format(rmse_score(y_test, dt_reg.predict(X_test))))\n",
    "\n"
   ]
  },
  {
   "cell_type": "code",
   "execution_count": null,
   "id": "5018adfd",
   "metadata": {},
   "outputs": [],
   "source": []
  },
  {
   "cell_type": "code",
   "execution_count": null,
   "id": "0a4bc7b9",
   "metadata": {},
   "outputs": [],
   "source": []
  },
  {
   "cell_type": "code",
   "execution_count": null,
   "id": "c887b5f3",
   "metadata": {},
   "outputs": [],
   "source": []
  },
  {
   "cell_type": "code",
   "execution_count": null,
   "id": "1ad20beb",
   "metadata": {},
   "outputs": [],
   "source": []
  },
  {
   "cell_type": "markdown",
   "id": "591fa11c",
   "metadata": {},
   "source": [
    "## Importing Decision Tree regression Model from SKLEARN for comparision"
   ]
  },
  {
   "cell_type": "code",
   "execution_count": 55,
   "id": "45ff49b4",
   "metadata": {},
   "outputs": [],
   "source": [
    "from sklearn.tree import DecisionTreeRegressor"
   ]
  },
  {
   "cell_type": "code",
   "execution_count": 56,
   "id": "eaec189d",
   "metadata": {},
   "outputs": [
    {
     "data": {
      "text/plain": [
       "DecisionTreeRegressor(random_state=0)"
      ]
     },
     "execution_count": 56,
     "metadata": {},
     "output_type": "execute_result"
    }
   ],
   "source": [
    "# create a regressor object\n",
    "regressor = DecisionTreeRegressor(random_state = 0) \n",
    "regressor.fit(X_train, y_train)"
   ]
  },
  {
   "cell_type": "code",
   "execution_count": 57,
   "id": "bf3d7b44",
   "metadata": {},
   "outputs": [
    {
     "data": {
      "text/plain": [
       "array([5.        , 5.        , 7.        , 5.        , 5.        ,\n",
       "       6.        , 5.        , 6.        , 5.        , 5.        ,\n",
       "       5.        , 5.        , 6.        , 5.        , 5.        ,\n",
       "       6.        , 7.        , 5.        , 5.        , 5.        ,\n",
       "       6.        , 5.        , 6.        , 6.        , 6.        ,\n",
       "       5.        , 6.        , 7.        , 5.        , 6.        ,\n",
       "       7.        , 5.        , 5.        , 6.        , 7.        ,\n",
       "       7.        , 5.        , 5.        , 5.63602251, 7.        ,\n",
       "       5.        , 6.        , 7.        , 7.        , 6.        ,\n",
       "       6.        , 5.        , 6.        , 6.        , 6.        ,\n",
       "       5.        , 5.        , 6.        , 6.        , 6.        ,\n",
       "       5.        , 5.        , 5.        , 7.        , 6.        ,\n",
       "       5.        , 6.        , 6.        , 6.        , 5.        ,\n",
       "       7.        , 5.        , 5.        , 7.        , 6.        ,\n",
       "       6.        , 5.        , 6.        , 5.        , 5.        ,\n",
       "       6.        , 5.        , 5.        , 5.        , 7.        ,\n",
       "       6.        , 5.        , 4.        , 6.        , 6.        ,\n",
       "       6.        , 6.        , 5.        , 5.        , 5.        ,\n",
       "       6.        , 6.        , 6.        , 6.        , 5.        ,\n",
       "       6.        , 6.        , 5.        , 5.        , 6.        ,\n",
       "       7.        , 7.        , 5.        , 5.63602251, 4.        ,\n",
       "       5.        , 4.        , 5.        , 6.        , 5.        ,\n",
       "       6.        , 5.        , 5.63602251, 5.        , 6.        ,\n",
       "       5.63602251, 6.        , 7.        , 6.        , 6.        ,\n",
       "       6.        , 5.        , 5.        , 5.        , 6.        ,\n",
       "       7.        , 6.        , 6.        , 6.        , 6.        ,\n",
       "       5.        , 5.        , 6.        , 5.63602251, 6.        ,\n",
       "       5.        , 6.        , 5.        , 6.        , 5.        ,\n",
       "       6.        , 6.        , 5.        , 6.        , 5.        ,\n",
       "       6.        , 5.63602251, 6.        , 5.        , 5.        ,\n",
       "       6.        , 5.        , 5.        , 5.        , 6.        ,\n",
       "       6.        , 6.        , 6.        , 6.        , 5.        ,\n",
       "       6.        , 5.        , 7.        , 5.        , 5.        ,\n",
       "       5.        , 6.        , 7.        , 6.        , 6.        ,\n",
       "       5.        , 5.        , 4.        , 7.        , 6.        ,\n",
       "       6.        , 6.        , 5.        , 7.        , 5.        ,\n",
       "       6.        , 7.        , 6.        , 6.        , 5.        ,\n",
       "       5.        , 5.        , 5.        , 5.        , 5.        ,\n",
       "       6.        , 5.        , 6.        , 6.        , 5.        ,\n",
       "       5.        , 5.        , 6.        , 7.        , 5.        ,\n",
       "       5.        , 6.        , 6.        , 6.        , 5.        ,\n",
       "       5.        , 4.        , 6.        , 7.        , 6.        ,\n",
       "       6.        , 6.        , 5.        , 5.63602251, 5.        ,\n",
       "       6.        , 6.        , 6.        , 6.        , 5.        ,\n",
       "       5.        , 7.        , 5.63602251, 5.63602251, 6.        ,\n",
       "       6.        , 5.63602251, 4.        , 5.        , 6.        ,\n",
       "       5.        , 6.        , 6.        , 5.        , 7.        ,\n",
       "       6.        , 5.        , 6.        , 7.        , 6.        ,\n",
       "       5.        , 5.        , 4.        , 5.        , 5.        ,\n",
       "       5.        , 5.        , 5.        , 5.        , 6.        ,\n",
       "       5.        , 5.        , 5.        , 6.        , 5.        ,\n",
       "       5.63602251, 5.        , 5.        , 5.        , 7.        ,\n",
       "       6.        , 6.        , 6.        , 6.        , 6.        ,\n",
       "       5.        , 5.        , 5.        , 6.        , 6.        ,\n",
       "       6.        , 6.        , 7.        , 6.        , 6.        ,\n",
       "       6.        , 6.        , 6.        , 6.        , 6.        ,\n",
       "       5.        , 7.        , 6.        , 6.        , 6.        ,\n",
       "       5.        , 5.        , 6.        , 7.        , 6.        ,\n",
       "       5.        , 4.        , 6.        , 6.        , 5.        ,\n",
       "       6.        , 5.        , 6.        , 6.        , 5.        ,\n",
       "       6.        , 5.        , 6.        , 6.        , 6.        ,\n",
       "       6.        , 5.        , 5.        , 5.        , 5.        ,\n",
       "       6.        , 6.        , 5.        , 5.        , 4.        ,\n",
       "       6.        , 7.        , 6.        , 5.        , 7.        ,\n",
       "       5.        , 6.        , 6.        , 7.        , 6.        ,\n",
       "       6.        , 7.        , 6.        , 5.        , 5.        ,\n",
       "       7.        , 4.        , 5.        , 5.        , 5.        ,\n",
       "       6.        , 7.        , 5.        , 5.        , 7.        ,\n",
       "       5.        , 6.        , 5.        , 7.        , 6.        ,\n",
       "       6.        , 5.        , 6.        , 5.        , 6.        ,\n",
       "       5.        , 7.        , 5.        , 5.        , 7.        ,\n",
       "       4.        , 6.        , 6.        , 6.        , 7.        ,\n",
       "       5.        , 6.        , 5.        , 7.        , 6.        ,\n",
       "       6.        , 5.        , 7.        , 6.        , 6.        ,\n",
       "       6.        , 5.        , 5.        , 6.        , 5.        ,\n",
       "       5.        , 5.        , 6.        , 6.        , 6.        ,\n",
       "       6.        , 6.        , 5.        , 7.        , 5.        ,\n",
       "       6.        , 5.        , 6.        , 6.        , 5.        ,\n",
       "       7.        , 6.        , 5.        , 7.        , 4.        ,\n",
       "       5.        , 4.        , 6.        , 6.        , 5.        ])"
      ]
     },
     "execution_count": 57,
     "metadata": {},
     "output_type": "execute_result"
    }
   ],
   "source": [
    "pred = regressor.predict(X_test)\n",
    "pred"
   ]
  },
  {
   "cell_type": "code",
   "execution_count": 58,
   "id": "7f2debd6",
   "metadata": {},
   "outputs": [
    {
     "data": {
      "text/plain": [
       "1.0"
      ]
     },
     "execution_count": 58,
     "metadata": {},
     "output_type": "execute_result"
    }
   ],
   "source": [
    "regressor.score(X_train,y_train)"
   ]
  },
  {
   "cell_type": "code",
   "execution_count": 60,
   "id": "8ca635dc",
   "metadata": {},
   "outputs": [
    {
     "data": {
      "text/plain": [
       "-0.070591855526833"
      ]
     },
     "execution_count": 60,
     "metadata": {},
     "output_type": "execute_result"
    }
   ],
   "source": [
    "regressor.score(X_test,y_test)"
   ]
  },
  {
   "cell_type": "code",
   "execution_count": 61,
   "id": "945d79d3",
   "metadata": {},
   "outputs": [],
   "source": [
    "from sklearn import  metrics"
   ]
  },
  {
   "cell_type": "code",
   "execution_count": 62,
   "id": "de907645",
   "metadata": {},
   "outputs": [
    {
     "name": "stdout",
     "output_type": "stream",
     "text": [
      "MAE 0.44091932457786115\n",
      "MSE 0.5414212447507647\n",
      "RMSE 0.7358133219443398\n"
     ]
    }
   ],
   "source": [
    "print('MAE',metrics.mean_absolute_error(y_test,pred))\n",
    "print('MSE',metrics.mean_squared_error(y_test,pred))\n",
    "print('RMSE',np.sqrt(metrics.mean_squared_error(y_test,pred)))"
   ]
  },
  {
   "cell_type": "code",
   "execution_count": 63,
   "id": "b8da5497",
   "metadata": {},
   "outputs": [
    {
     "data": {
      "text/plain": [
       "-0.06720922603907686"
      ]
     },
     "execution_count": 63,
     "metadata": {},
     "output_type": "execute_result"
    }
   ],
   "source": [
    "metrics.explained_variance_score(y_test,pred)"
   ]
  },
  {
   "cell_type": "markdown",
   "id": "b18367a6",
   "metadata": {},
   "source": [
    "# Hyper Parameter tuning"
   ]
  },
  {
   "cell_type": "code",
   "execution_count": 67,
   "id": "836c05ea",
   "metadata": {},
   "outputs": [],
   "source": [
    "# Hyper parameters range intialization for tuning \n",
    "\n",
    "parameters={'max_depth': [None, 1, 2, 3, 4], \n",
    "             'min_samples_split': [2, 3, 4, 5],\n",
    "             'min_samples_leaf': [1, 2, 3]}"
   ]
  },
  {
   "cell_type": "markdown",
   "id": "a3f9ea54",
   "metadata": {},
   "source": [
    "Above we intialized hyperparmeters random range using Gridsearch to find the best parameters for our decision tree model."
   ]
  },
  {
   "cell_type": "code",
   "execution_count": 68,
   "id": "aae655b8",
   "metadata": {},
   "outputs": [],
   "source": [
    "# calculating different regression metrics\n",
    "\n",
    "from sklearn.model_selection import GridSearchCV"
   ]
  },
  {
   "cell_type": "code",
   "execution_count": 76,
   "id": "3c4e028d",
   "metadata": {},
   "outputs": [],
   "source": [
    "tuning_model=GridSearchCV(regressor,param_grid=parameters,scoring='neg_mean_squared_error',cv=3,verbose=3)"
   ]
  },
  {
   "cell_type": "code",
   "execution_count": 77,
   "id": "4c660593",
   "metadata": {},
   "outputs": [],
   "source": [
    "# function for calculating how much time take for hyperparameter tuning\n",
    "\n",
    "def timer(start_time=None):\n",
    "    if not start_time:\n",
    "        start_time=datetime.now()\n",
    "        return start_time\n",
    "    elif start_time:\n",
    "        thour,temp_sec=divmod((datetime.now()-start_time).total_seconds(),3600)\n",
    "        tmin,tsec=divmod(temp_sec,60)\n"
   ]
  },
  {
   "cell_type": "code",
   "execution_count": 81,
   "id": "6b91b0a1",
   "metadata": {},
   "outputs": [],
   "source": [
    "%%capture\n",
    "from datetime import datetime\n",
    "\n",
    "start_time=timer(None)\n",
    "\n",
    "tuning_model.fit(X_train,y_train)\n",
    "\n",
    "timer(start_time)"
   ]
  },
  {
   "cell_type": "code",
   "execution_count": 82,
   "id": "81af781c",
   "metadata": {},
   "outputs": [
    {
     "data": {
      "text/plain": [
       "{'max_depth': 3, 'min_samples_leaf': 1, 'min_samples_split': 2}"
      ]
     },
     "execution_count": 82,
     "metadata": {},
     "output_type": "execute_result"
    }
   ],
   "source": [
    "# best hyperparameters \n",
    "tuning_model.best_params_"
   ]
  },
  {
   "cell_type": "code",
   "execution_count": 83,
   "id": "e9c0fb8b",
   "metadata": {},
   "outputs": [
    {
     "data": {
      "text/plain": [
       "-0.4436132691457793"
      ]
     },
     "execution_count": 83,
     "metadata": {},
     "output_type": "execute_result"
    }
   ],
   "source": [
    "# best model score\n",
    "tuning_model.best_score_"
   ]
  },
  {
   "cell_type": "markdown",
   "id": "b3552d62",
   "metadata": {},
   "source": [
    "# Training Decision Tree With Best Hyperparameter"
   ]
  },
  {
   "cell_type": "code",
   "execution_count": 85,
   "id": "468ccda2",
   "metadata": {},
   "outputs": [],
   "source": [
    "tuned_hyper_model= DecisionTreeRegressor(max_depth=3, min_samples_leaf=1, min_samples_split=2)"
   ]
  },
  {
   "cell_type": "code",
   "execution_count": 86,
   "id": "d401037f",
   "metadata": {},
   "outputs": [
    {
     "data": {
      "text/plain": [
       "DecisionTreeRegressor(max_depth=3)"
      ]
     },
     "execution_count": 86,
     "metadata": {},
     "output_type": "execute_result"
    }
   ],
   "source": [
    "# fitting model\n",
    "\n",
    "\n",
    "tuned_hyper_model.fit(X_train,y_train)"
   ]
  },
  {
   "cell_type": "code",
   "execution_count": 87,
   "id": "7c311148",
   "metadata": {},
   "outputs": [],
   "source": [
    "# prediction \n",
    "\n",
    "tuned_pred=tuned_hyper_model.predict(X_test)"
   ]
  },
  {
   "cell_type": "code",
   "execution_count": 89,
   "id": "ad860c43",
   "metadata": {},
   "outputs": [
    {
     "data": {
      "text/plain": [
       "<matplotlib.collections.PathCollection at 0x16c35e53d60>"
      ]
     },
     "execution_count": 89,
     "metadata": {},
     "output_type": "execute_result"
    },
    {
     "data": {
      "image/png": "[encoded data removed]",
      "text/plain": [
       "<Figure size 432x288 with 1 Axes>"
      ]
     },
     "metadata": {},
     "output_type": "display_data"
    }
   ],
   "source": [
    "plt.scatter(y_test,tuned_pred)"
   ]
  },
  {
   "cell_type": "code",
   "execution_count": 91,
   "id": "d25ede1d",
   "metadata": {},
   "outputs": [
    {
     "name": "stdout",
     "output_type": "stream",
     "text": [
      "MAE: 0.4994172686865808\n",
      "MSE: 0.39845968462788744\n",
      "RMSE: 0.6312366312468625\n"
     ]
    }
   ],
   "source": [
    "print('MAE:', metrics.mean_absolute_error(y_test,tuned_pred))\n",
    "print('MSE:', metrics.mean_squared_error(y_test, tuned_pred))\n",
    "print('RMSE:', np.sqrt(metrics.mean_squared_error(y_test, tuned_pred)))"
   ]
  },
  {
   "cell_type": "code",
   "execution_count": 92,
   "id": "47e0af89",
   "metadata": {},
   "outputs": [
    {
     "name": "stdout",
     "output_type": "stream",
     "text": [
      "MAE 0.44091932457786115\n",
      "MSE 0.5414212447507647\n",
      "RMSE 0.7358133219443398\n"
     ]
    }
   ],
   "source": [
    "print('MAE',metrics.mean_absolute_error(y_test,pred))\n",
    "print('MSE',metrics.mean_squared_error(y_test,pred))\n",
    "print('RMSE',np.sqrt(metrics.mean_squared_error(y_test,pred)))"
   ]
  },
  {
   "cell_type": "code",
   "execution_count": 94,
   "id": "5a9e90fc",
   "metadata": {},
   "outputs": [
    {
     "data": {
      "text/plain": [
       "0.2120965010991025"
      ]
     },
     "execution_count": 94,
     "metadata": {},
     "output_type": "execute_result"
    }
   ],
   "source": [
    "tuned_hyper_model.score(X_test,y_test)# with hyper parameter tuning"
   ]
  },
  {
   "cell_type": "code",
   "execution_count": 98,
   "id": "e90df333",
   "metadata": {},
   "outputs": [
    {
     "data": {
      "text/plain": [
       "-0.070591855526833"
      ]
     },
     "execution_count": 98,
     "metadata": {},
     "output_type": "execute_result"
    }
   ],
   "source": [
    "regressor.score(X_test,y_test)# without hyper parameter tuning"
   ]
  },
  {
   "cell_type": "code",
   "execution_count": 96,
   "id": "e0e7dc67",
   "metadata": {},
   "outputs": [
    {
     "data": {
      "text/plain": [
       "0.2204898093971137"
      ]
     },
     "execution_count": 96,
     "metadata": {},
     "output_type": "execute_result"
    }
   ],
   "source": [
    "metrics.explained_variance_score(y_test,tuned_pred) # with hyper parameter tuning"
   ]
  },
  {
   "cell_type": "code",
   "execution_count": 97,
   "id": "74442ec3",
   "metadata": {},
   "outputs": [
    {
     "data": {
      "text/plain": [
       "-0.06720922603907686"
      ]
     },
     "execution_count": 97,
     "metadata": {},
     "output_type": "execute_result"
    }
   ],
   "source": [
    "metrics.explained_variance_score(y_test,pred)# without hyper parameter tuning"
   ]
  },
  {
   "cell_type": "code",
   "execution_count": null,
   "id": "1da8de0e",
   "metadata": {},
   "outputs": [],
   "source": []
  },
  {
   "cell_type": "markdown",
   "id": "9cb7fc35",
   "metadata": {},
   "source": [
    "## Implementing this best parameter in our model which we build from scratch"
   ]
  },
  {
   "cell_type": "code",
   "execution_count": 101,
   "id": "9cc6e6d4",
   "metadata": {},
   "outputs": [
    {
     "name": "stdout",
     "output_type": "stream",
     "text": [
      "\n",
      "Decision Tree(depth = 3) : \n",
      " {'chlorides': {'<=0.075': {'chlorides': {'<=0.066': {'chlorides': {'<=0.061': 5.841610912480679, '>0.061': 6.005256384413813}}, '>0.066': 5.667988025431256}}, '>0.075': 5.532268292682928}}\n",
      "\n",
      "Train RMSE : 0.7351735857683132\n",
      "\n",
      "Test RMSE: 0.6887389432707641\n"
     ]
    }
   ],
   "source": [
    "\n",
    "dt_new_reg = ID3DecisionTreeRegressor(max_depth=3, min_sample_leaf=1, min_sample_split=2)\n",
    "dt_new_reg.fit(X, y)\n",
    "    \n",
    "print(\"\\nTrain RMSE : {}\".format(rmse_score(y_train, dt_new_reg.predict(X_train))))\n",
    "print(\"\\nTest RMSE: {}\".format(rmse_score(y_test, dt_new_reg.predict(X_test))))"
   ]
  },
  {
   "cell_type": "markdown",
   "id": "bf7396d7",
   "metadata": {},
   "source": [
    "**By tuning the model I got RMSE value of:**\n",
    "\n",
    "                                        1)Train= 0.735\n",
    "                                        \n",
    "                                        \n",
    "                                        2) Test= 0.688\n",
    "                                       \n",
    "****Without Hyper parameter tuning I got RMSE value of:****\n",
    "\n",
    "                                        1)Train=0.225\n",
    "                                                  \n",
    "                                        2)Test= 0.214\n",
    "                                                  \n",
    "                                        3) Depth = 667\n",
    "                                        \n",
    "                                        \n"
   ]
  },
  {
   "cell_type": "markdown",
   "id": "2507f619",
   "metadata": {},
   "source": [
    "# Hyper parameter tuning From Scratch code"
   ]
  },
  {
   "cell_type": "code",
   "execution_count": 102,
   "id": "aae77834",
   "metadata": {},
   "outputs": [],
   "source": [
    "from collections import Counter\n",
    "\n",
    "class GridSearchCV:\n",
    "    def __init__(self, estimator, param_grid, cv=5):\n",
    "        self.estimator = estimator\n",
    "        self.param_grid = param_grid\n",
    "        self.cv = cv\n",
    "\n",
    "    def fit(self, data, labels):\n",
    "        best_score = float('inf')\n",
    "        for params in self._get_param_combinations():\n",
    "            scores = []\n",
    "            for i in range(self.cv):\n",
    "                train_data, train_labels, val_data, val_labels = self._get_fold(data, labels, i)\n",
    "                model = self.estimator(**params)\n",
    "                model.fit(train_data, train_labels)\n",
    "                score = self._score(model, val_data, val_labels)\n",
    "                scores.append(score)\n",
    "            mean_score = np.mean(scores)\n",
    "            if mean_score > best_score:\n",
    "                best_score = mean_score\n",
    "                self.best_params = params\n",
    "                self.best_estimator = self.estimator(**params)\n",
    "        self.best_estimator.fit(data, labels)\n",
    "\n",
    "    def predict(self, data):\n",
    "        return self.best_estimator.predict(data)\n",
    "\n",
    "    def _score(self, model, data, labels):\n",
    "        preds = model.predict(data)\n",
    "        return -np.mean((labels - preds)**2)\n",
    "\n",
    "    def _get_fold(self, data, labels, i):\n",
    "        n_samples = data.shape[0]\n",
    "        fold_size = n_samples // self.cv\n",
    "        start = i * fold_size\n",
    "        end = (i + 1) * fold_size\n",
    "        val_data = data[start:end]\n",
    "        val_labels = labels[start:end]\n",
    "        train_data = np.concatenate([data[:start], data[end:]], axis=0)\n",
    "        train_labels = np.concatenate([labels[:start], labels[end:]], axis=0)\n",
    "        return train_data, train_labels, val_data, val_labels\n",
    "\n",
    "    def _get_param_combinations(self):\n",
    "        param_combinations = []\n",
    "        for key in self.param_grid:\n",
    "            values = self.param_grid[key]\n",
    "            param_combinations = [dict(zip(self.param_grid.keys(), v)) for v in itertools.product(values, repeat=len(self.param_grid))]\n",
    "        return param_combinations\n"
   ]
  },
  {
   "cell_type": "markdown",
   "id": "4bb7e8e6",
   "metadata": {},
   "source": [
    "This is the code for implementing Hyperparameter tuning for regression from scratch in python"
   ]
  },
  {
   "cell_type": "code",
   "execution_count": null,
   "id": "0ba04960",
   "metadata": {},
   "outputs": [],
   "source": [
    "grid_search = GridSearchCV(estimator=ID3DecisionTreeRegressor, param_grid=param_grid)\n",
    "grid_search.fit(X_train, y_train)\n",
    "print(\"Best parameters:\", grid_search.best_params_)\n",
    "print(\"Best score:\", grid_search.best_score_)"
   ]
  },
  {
   "cell_type": "markdown",
   "id": "4d6e9547",
   "metadata": {},
   "source": [
    "# Conclusion"
   ]
  },
  {
   "cell_type": "markdown",
   "id": "7bb7f381",
   "metadata": {},
   "source": [
    "In this notebook I took wine quality prediction by Decision Tree Regression using ID3 algorithm from Scratch and comparing my model with Sklearn Decision tree regression and also provided Hyper parameter tuning for model .  "
   ]
  },
  {
   "cell_type": "code",
   "execution_count": null,
   "id": "d1dee260",
   "metadata": {},
   "outputs": [],
   "source": []
  }
 ],
 "metadata": {
  "kernelspec": {
   "display_name": "Python 3",
   "language": "python",
   "name": "python3"
  },
  "language_info": {
   "codemirror_mode": {
    "name": "ipython",
    "version": 3
   },
   "file_extension": ".py",
   "mimetype": "text/x-python",
   "name": "python",
   "nbconvert_exporter": "python",
   "pygments_lexer": "ipython3",
   "version": "3.8.8"
  }
 },
 "nbformat": 4,
 "nbformat_minor": 5
}

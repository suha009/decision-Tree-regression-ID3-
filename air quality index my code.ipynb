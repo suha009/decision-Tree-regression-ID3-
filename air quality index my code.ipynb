{
 "cells": [
  {
   "cell_type": "code",
   "execution_count": 1,
   "id": "1799417f",
   "metadata": {},
   "outputs": [],
   "source": [
    "import numpy as np \n",
    "import pandas as pd\n",
    "import seaborn as sns\n",
    "import matplotlib.pyplot as plt\n",
    "import datetime\n",
    "\n",
    "import warnings\n",
    "warnings.filterwarnings('ignore')\n",
    "\n",
    "from itertools import product"
   ]
  },
  {
   "cell_type": "code",
   "execution_count": 2,
   "id": "ae7e346a",
   "metadata": {},
   "outputs": [],
   "source": [
    "df1 = pd.read_csv('city_day.csv')\n",
    "df2 = pd.read_csv('city_hour.csv')\n",
    "df3 = pd.read_csv('station_day.csv')\n",
    "df4 = pd.read_csv('station_hour.csv')\n",
    "df5 = pd.read_csv('stations.csv')"
   ]
  },
  {
   "cell_type": "code",
   "execution_count": 3,
   "id": "adc75ede",
   "metadata": {},
   "outputs": [
    {
     "name": "stdout",
     "output_type": "stream",
     "text": [
      "Shape of the city_day : (29531, 16)\n",
      "Shape of the city_hour : (707875, 16)\n",
      "Shape of the station_day : (108035, 16)\n",
      "Shape of the station_hour : (2589083, 16)\n",
      "Shape of the stations : (230, 5)\n"
     ]
    }
   ],
   "source": [
    "#printing the shape of each dataset \n",
    "print(\"Shape of the city_day :\",df1.shape)\n",
    "print(\"Shape of the city_hour :\",df2.shape)\n",
    "print(\"Shape of the station_day :\",df3.shape)\n",
    "print(\"Shape of the station_hour :\",df4.shape)\n",
    "print(\"Shape of the stations :\",df5.shape)"
   ]
  },
  {
   "cell_type": "code",
   "execution_count": 4,
   "id": "62d68391",
   "metadata": {},
   "outputs": [
    {
     "name": "stdout",
     "output_type": "stream",
     "text": [
      "Index(['City', 'Date', 'PM2.5', 'PM10', 'NO', 'NO2', 'NOx', 'NH3', 'CO', 'SO2',\n",
      "       'O3', 'Benzene', 'Toluene', 'Xylene', 'AQI', 'AQI_Bucket'],\n",
      "      dtype='object')\n",
      "Index(['City', 'Datetime', 'PM2.5', 'PM10', 'NO', 'NO2', 'NOx', 'NH3', 'CO',\n",
      "       'SO2', 'O3', 'Benzene', 'Toluene', 'Xylene', 'AQI', 'AQI_Bucket'],\n",
      "      dtype='object')\n",
      "Index(['StationId', 'Date', 'PM2.5', 'PM10', 'NO', 'NO2', 'NOx', 'NH3', 'CO',\n",
      "       'SO2', 'O3', 'Benzene', 'Toluene', 'Xylene', 'AQI', 'AQI_Bucket'],\n",
      "      dtype='object')\n",
      "Index(['StationId', 'Datetime', 'PM2.5', 'PM10', 'NO', 'NO2', 'NOx', 'NH3',\n",
      "       'CO', 'SO2', 'O3', 'Benzene', 'Toluene', 'Xylene', 'AQI', 'AQI_Bucket'],\n",
      "      dtype='object')\n",
      "Index(['StationId', 'StationName', 'City', 'State', 'Status'], dtype='object')\n"
     ]
    }
   ],
   "source": [
    "print(df1.columns)\n",
    "print(df2.columns)\n",
    "print(df3.columns)\n",
    "print(df4.columns)\n",
    "print(df5.columns)\n"
   ]
  },
  {
   "cell_type": "code",
   "execution_count": 5,
   "id": "17d551fb",
   "metadata": {},
   "outputs": [
    {
     "name": "stdout",
     "output_type": "stream",
     "text": [
      "<class 'pandas.core.frame.DataFrame'>\n",
      "RangeIndex: 29531 entries, 0 to 29530\n",
      "Data columns (total 16 columns):\n",
      " #   Column      Non-Null Count  Dtype  \n",
      "---  ------      --------------  -----  \n",
      " 0   City        29531 non-null  object \n",
      " 1   Date        29531 non-null  object \n",
      " 2   PM2.5       24933 non-null  float64\n",
      " 3   PM10        18391 non-null  float64\n",
      " 4   NO          25949 non-null  float64\n",
      " 5   NO2         25946 non-null  float64\n",
      " 6   NOx         25346 non-null  float64\n",
      " 7   NH3         19203 non-null  float64\n",
      " 8   CO          27472 non-null  float64\n",
      " 9   SO2         25677 non-null  float64\n",
      " 10  O3          25509 non-null  float64\n",
      " 11  Benzene     23908 non-null  float64\n",
      " 12  Toluene     21490 non-null  float64\n",
      " 13  Xylene      11422 non-null  float64\n",
      " 14  AQI         24850 non-null  float64\n",
      " 15  AQI_Bucket  24850 non-null  object \n",
      "dtypes: float64(13), object(3)\n",
      "memory usage: 3.6+ MB\n"
     ]
    }
   ],
   "source": [
    "df1.info()"
   ]
  },
  {
   "cell_type": "code",
   "execution_count": 6,
   "id": "23232787",
   "metadata": {},
   "outputs": [
    {
     "name": "stdout",
     "output_type": "stream",
     "text": [
      "<class 'pandas.core.frame.DataFrame'>\n",
      "RangeIndex: 707875 entries, 0 to 707874\n",
      "Data columns (total 16 columns):\n",
      " #   Column      Non-Null Count   Dtype  \n",
      "---  ------      --------------   -----  \n",
      " 0   City        707875 non-null  object \n",
      " 1   Datetime    707875 non-null  object \n",
      " 2   PM2.5       562787 non-null  float64\n",
      " 3   PM10        411138 non-null  float64\n",
      " 4   NO          591243 non-null  float64\n",
      " 5   NO2         590753 non-null  float64\n",
      " 6   NOx         584651 non-null  float64\n",
      " 7   NH3         435333 non-null  float64\n",
      " 8   CO          621358 non-null  float64\n",
      " 9   SO2         577502 non-null  float64\n",
      " 10  O3          578667 non-null  float64\n",
      " 11  Benzene     544229 non-null  float64\n",
      " 12  Toluene     487268 non-null  float64\n",
      " 13  Xylene      252046 non-null  float64\n",
      " 14  AQI         578795 non-null  float64\n",
      " 15  AQI_Bucket  578795 non-null  object \n",
      "dtypes: float64(13), object(3)\n",
      "memory usage: 86.4+ MB\n"
     ]
    }
   ],
   "source": [
    "df2.info()"
   ]
  },
  {
   "cell_type": "markdown",
   "id": "3c0a56a8",
   "metadata": {},
   "source": [
    "Here both city_day & city_hour have same data and features but the difference is city_day is given in daily basis and city_hour is given hourly basis, So i will be using city_day dataset and i will be visualising and predicting my model"
   ]
  },
  {
   "cell_type": "code",
   "execution_count": 7,
   "id": "82091e69",
   "metadata": {},
   "outputs": [],
   "source": [
    "city_day=df1"
   ]
  },
  {
   "cell_type": "code",
   "execution_count": 8,
   "id": "10bed4f2",
   "metadata": {},
   "outputs": [
    {
     "data": {
      "text/plain": [
       "<AxesSubplot:>"
      ]
     },
     "execution_count": 8,
     "metadata": {},
     "output_type": "execute_result"
    },
    {
     "data": {
      "image/png": "[encoded data removed]",
      "text/plain": [
       "<Figure size 640x480 with 1 Axes>"
      ]
     },
     "metadata": {},
     "output_type": "display_data"
    }
   ],
   "source": [
    "city_day.isna().sum().plot(kind ='bar')\n"
   ]
  },
  {
   "cell_type": "code",
   "execution_count": 9,
   "id": "f3e13b03",
   "metadata": {},
   "outputs": [
    {
     "name": "stdout",
     "output_type": "stream",
     "text": [
      "In City, mean of null value is: 0.0\n",
      "In Date, mean of null value is: 0.0\n",
      "In PM2.5, mean of null value is: 15.570078900138837\n",
      "In PM10, mean of null value is: 37.72307067149775\n",
      "In NO, mean of null value is: 12.129626494192543\n",
      "In NO2, mean of null value is: 12.139785310351833\n",
      "In NOx, mean of null value is: 14.17154854220988\n",
      "In NH3, mean of null value is: 34.97341776438319\n",
      "In CO, mean of null value is: 6.9723341573262\n",
      "In SO2, mean of null value is: 13.050692492634857\n",
      "In O3, mean of null value is: 13.619586197555112\n",
      "In Benzene, mean of null value is: 19.041007754563\n",
      "In Toluene, mean of null value is: 27.229013578950934\n",
      "In Xylene, mean of null value is: 61.32200060952897\n",
      "In AQI, mean of null value is: 15.851139480545868\n",
      "In AQI_Bucket, mean of null value is: 15.851139480545868\n"
     ]
    }
   ],
   "source": [
    "for c in city_day.columns:\n",
    "    null_values = city_day[c].isna().sum()\n",
    "    percentage = (null_values / len(city_day)) * 100\n",
    "    print(\"In {}, mean of null value is: {}\".format(c, percentage))"
   ]
  },
  {
   "cell_type": "code",
   "execution_count": 10,
   "id": "b3da1428",
   "metadata": {},
   "outputs": [],
   "source": [
    "''' filling null values with mean of each column '''\n",
    "for c in city_day.columns:\n",
    "    if city_day[c].isna().sum() > 0:\n",
    "        if city_day[c].dtype == 'float64':\n",
    "            city_day[c] = city_day[c].fillna(city_day[c].mean())\n",
    "        elif city_day[c].dtype == 'object':\n",
    "            city_day[c] = city_day[c].fillna(city_day[c].value_counts().index[0])"
   ]
  },
  {
   "cell_type": "code",
   "execution_count": 11,
   "id": "31ce7282",
   "metadata": {},
   "outputs": [
    {
     "data": {
      "text/plain": [
       "<AxesSubplot:>"
      ]
     },
     "execution_count": 11,
     "metadata": {},
     "output_type": "execute_result"
    },
    {
     "data": {
      "image/png": "[encoded data removed]",
      "text/plain": [
       "<Figure size 640x480 with 1 Axes>"
      ]
     },
     "metadata": {},
     "output_type": "display_data"
    }
   ],
   "source": [
    "city_day.isna().sum().plot(kind ='bar')"
   ]
  },
  {
   "cell_type": "code",
   "execution_count": 12,
   "id": "7d1224b6",
   "metadata": {},
   "outputs": [
    {
     "name": "stdout",
     "output_type": "stream",
     "text": [
      "<class 'pandas.core.frame.DataFrame'>\n",
      "RangeIndex: 29531 entries, 0 to 29530\n",
      "Data columns (total 16 columns):\n",
      " #   Column      Non-Null Count  Dtype  \n",
      "---  ------      --------------  -----  \n",
      " 0   City        29531 non-null  object \n",
      " 1   Date        29531 non-null  object \n",
      " 2   PM2.5       29531 non-null  float64\n",
      " 3   PM10        29531 non-null  float64\n",
      " 4   NO          29531 non-null  float64\n",
      " 5   NO2         29531 non-null  float64\n",
      " 6   NOx         29531 non-null  float64\n",
      " 7   NH3         29531 non-null  float64\n",
      " 8   CO          29531 non-null  float64\n",
      " 9   SO2         29531 non-null  float64\n",
      " 10  O3          29531 non-null  float64\n",
      " 11  Benzene     29531 non-null  float64\n",
      " 12  Toluene     29531 non-null  float64\n",
      " 13  Xylene      29531 non-null  float64\n",
      " 14  AQI         29531 non-null  float64\n",
      " 15  AQI_Bucket  29531 non-null  object \n",
      "dtypes: float64(13), object(3)\n",
      "memory usage: 3.6+ MB\n"
     ]
    }
   ],
   "source": [
    "city_day.info()"
   ]
  },
  {
   "cell_type": "code",
   "execution_count": 13,
   "id": "966e354e",
   "metadata": {},
   "outputs": [
    {
     "name": "stdout",
     "output_type": "stream",
     "text": [
      "['City', 'Date', 'PM2.5', 'PM10', 'NO', 'NO2', 'NOx', 'NH3', 'CO', 'SO2', 'O3', 'Benzene', 'Toluene', 'Xylene', 'AQI', 'AQI_Bucket']\n"
     ]
    }
   ],
   "source": [
    "print(list(city_day.columns))"
   ]
  },
  {
   "cell_type": "code",
   "execution_count": 14,
   "id": "fe967969",
   "metadata": {},
   "outputs": [],
   "source": [
    "city_day['Date'] = pd.to_datetime(city_day['Date']).dt.date\n",
    "city_day.drop(columns = ['Date'],axis=1, inplace=True)"
   ]
  },
  {
   "cell_type": "code",
   "execution_count": 15,
   "id": "528bc344",
   "metadata": {},
   "outputs": [
    {
     "data": {
      "text/html": [
       "<div>\n",
       "<style scoped>\n",
       "    .dataframe tbody tr th:only-of-type {\n",
       "        vertical-align: middle;\n",
       "    }\n",
       "\n",
       "    .dataframe tbody tr th {\n",
       "        vertical-align: top;\n",
       "    }\n",
       "\n",
       "    .dataframe thead th {\n",
       "        text-align: right;\n",
       "    }\n",
       "</style>\n",
       "<table border=\"1\" class=\"dataframe\">\n",
       "  <thead>\n",
       "    <tr style=\"text-align: right;\">\n",
       "      <th></th>\n",
       "      <th>City</th>\n",
       "      <th>PM2.5</th>\n",
       "      <th>PM10</th>\n",
       "      <th>NO</th>\n",
       "      <th>NO2</th>\n",
       "      <th>NOx</th>\n",
       "      <th>NH3</th>\n",
       "      <th>CO</th>\n",
       "      <th>SO2</th>\n",
       "      <th>O3</th>\n",
       "      <th>Benzene</th>\n",
       "      <th>Toluene</th>\n",
       "      <th>Xylene</th>\n",
       "      <th>AQI</th>\n",
       "      <th>AQI_Bucket</th>\n",
       "    </tr>\n",
       "  </thead>\n",
       "  <tbody>\n",
       "    <tr>\n",
       "      <th>0</th>\n",
       "      <td>Ahmedabad</td>\n",
       "      <td>67.450578</td>\n",
       "      <td>118.127103</td>\n",
       "      <td>0.92</td>\n",
       "      <td>18.22</td>\n",
       "      <td>17.15</td>\n",
       "      <td>23.483476</td>\n",
       "      <td>0.92</td>\n",
       "      <td>27.64</td>\n",
       "      <td>133.36</td>\n",
       "      <td>0.00000</td>\n",
       "      <td>0.020000</td>\n",
       "      <td>0.000000</td>\n",
       "      <td>166.463581</td>\n",
       "      <td>Moderate</td>\n",
       "    </tr>\n",
       "    <tr>\n",
       "      <th>1</th>\n",
       "      <td>Ahmedabad</td>\n",
       "      <td>67.450578</td>\n",
       "      <td>118.127103</td>\n",
       "      <td>0.97</td>\n",
       "      <td>15.69</td>\n",
       "      <td>16.46</td>\n",
       "      <td>23.483476</td>\n",
       "      <td>0.97</td>\n",
       "      <td>24.55</td>\n",
       "      <td>34.06</td>\n",
       "      <td>3.68000</td>\n",
       "      <td>5.500000</td>\n",
       "      <td>3.770000</td>\n",
       "      <td>166.463581</td>\n",
       "      <td>Moderate</td>\n",
       "    </tr>\n",
       "    <tr>\n",
       "      <th>2</th>\n",
       "      <td>Ahmedabad</td>\n",
       "      <td>67.450578</td>\n",
       "      <td>118.127103</td>\n",
       "      <td>17.40</td>\n",
       "      <td>19.30</td>\n",
       "      <td>29.70</td>\n",
       "      <td>23.483476</td>\n",
       "      <td>17.40</td>\n",
       "      <td>29.07</td>\n",
       "      <td>30.70</td>\n",
       "      <td>6.80000</td>\n",
       "      <td>16.400000</td>\n",
       "      <td>2.250000</td>\n",
       "      <td>166.463581</td>\n",
       "      <td>Moderate</td>\n",
       "    </tr>\n",
       "    <tr>\n",
       "      <th>3</th>\n",
       "      <td>Ahmedabad</td>\n",
       "      <td>67.450578</td>\n",
       "      <td>118.127103</td>\n",
       "      <td>1.70</td>\n",
       "      <td>18.48</td>\n",
       "      <td>17.97</td>\n",
       "      <td>23.483476</td>\n",
       "      <td>1.70</td>\n",
       "      <td>18.59</td>\n",
       "      <td>36.08</td>\n",
       "      <td>4.43000</td>\n",
       "      <td>10.140000</td>\n",
       "      <td>1.000000</td>\n",
       "      <td>166.463581</td>\n",
       "      <td>Moderate</td>\n",
       "    </tr>\n",
       "    <tr>\n",
       "      <th>4</th>\n",
       "      <td>Ahmedabad</td>\n",
       "      <td>67.450578</td>\n",
       "      <td>118.127103</td>\n",
       "      <td>22.10</td>\n",
       "      <td>21.42</td>\n",
       "      <td>37.76</td>\n",
       "      <td>23.483476</td>\n",
       "      <td>22.10</td>\n",
       "      <td>39.33</td>\n",
       "      <td>39.31</td>\n",
       "      <td>7.01000</td>\n",
       "      <td>18.890000</td>\n",
       "      <td>2.780000</td>\n",
       "      <td>166.463581</td>\n",
       "      <td>Moderate</td>\n",
       "    </tr>\n",
       "    <tr>\n",
       "      <th>...</th>\n",
       "      <td>...</td>\n",
       "      <td>...</td>\n",
       "      <td>...</td>\n",
       "      <td>...</td>\n",
       "      <td>...</td>\n",
       "      <td>...</td>\n",
       "      <td>...</td>\n",
       "      <td>...</td>\n",
       "      <td>...</td>\n",
       "      <td>...</td>\n",
       "      <td>...</td>\n",
       "      <td>...</td>\n",
       "      <td>...</td>\n",
       "      <td>...</td>\n",
       "      <td>...</td>\n",
       "    </tr>\n",
       "    <tr>\n",
       "      <th>29526</th>\n",
       "      <td>Visakhapatnam</td>\n",
       "      <td>15.020000</td>\n",
       "      <td>50.940000</td>\n",
       "      <td>7.68</td>\n",
       "      <td>25.06</td>\n",
       "      <td>19.54</td>\n",
       "      <td>12.470000</td>\n",
       "      <td>0.47</td>\n",
       "      <td>8.55</td>\n",
       "      <td>23.30</td>\n",
       "      <td>2.24000</td>\n",
       "      <td>12.070000</td>\n",
       "      <td>0.730000</td>\n",
       "      <td>41.000000</td>\n",
       "      <td>Good</td>\n",
       "    </tr>\n",
       "    <tr>\n",
       "      <th>29527</th>\n",
       "      <td>Visakhapatnam</td>\n",
       "      <td>24.380000</td>\n",
       "      <td>74.090000</td>\n",
       "      <td>3.42</td>\n",
       "      <td>26.06</td>\n",
       "      <td>16.53</td>\n",
       "      <td>11.990000</td>\n",
       "      <td>0.52</td>\n",
       "      <td>12.72</td>\n",
       "      <td>30.14</td>\n",
       "      <td>0.74000</td>\n",
       "      <td>2.210000</td>\n",
       "      <td>0.380000</td>\n",
       "      <td>70.000000</td>\n",
       "      <td>Satisfactory</td>\n",
       "    </tr>\n",
       "    <tr>\n",
       "      <th>29528</th>\n",
       "      <td>Visakhapatnam</td>\n",
       "      <td>22.910000</td>\n",
       "      <td>65.730000</td>\n",
       "      <td>3.45</td>\n",
       "      <td>29.53</td>\n",
       "      <td>18.33</td>\n",
       "      <td>10.710000</td>\n",
       "      <td>0.48</td>\n",
       "      <td>8.42</td>\n",
       "      <td>30.96</td>\n",
       "      <td>0.01000</td>\n",
       "      <td>0.010000</td>\n",
       "      <td>0.000000</td>\n",
       "      <td>68.000000</td>\n",
       "      <td>Satisfactory</td>\n",
       "    </tr>\n",
       "    <tr>\n",
       "      <th>29529</th>\n",
       "      <td>Visakhapatnam</td>\n",
       "      <td>16.640000</td>\n",
       "      <td>49.970000</td>\n",
       "      <td>4.05</td>\n",
       "      <td>29.26</td>\n",
       "      <td>18.80</td>\n",
       "      <td>10.030000</td>\n",
       "      <td>0.52</td>\n",
       "      <td>9.84</td>\n",
       "      <td>28.30</td>\n",
       "      <td>0.00000</td>\n",
       "      <td>0.000000</td>\n",
       "      <td>0.000000</td>\n",
       "      <td>54.000000</td>\n",
       "      <td>Satisfactory</td>\n",
       "    </tr>\n",
       "    <tr>\n",
       "      <th>29530</th>\n",
       "      <td>Visakhapatnam</td>\n",
       "      <td>15.000000</td>\n",
       "      <td>66.000000</td>\n",
       "      <td>0.40</td>\n",
       "      <td>26.85</td>\n",
       "      <td>14.05</td>\n",
       "      <td>5.200000</td>\n",
       "      <td>0.59</td>\n",
       "      <td>2.10</td>\n",
       "      <td>17.05</td>\n",
       "      <td>3.28084</td>\n",
       "      <td>8.700972</td>\n",
       "      <td>3.070128</td>\n",
       "      <td>50.000000</td>\n",
       "      <td>Good</td>\n",
       "    </tr>\n",
       "  </tbody>\n",
       "</table>\n",
       "<p>29531 rows × 15 columns</p>\n",
       "</div>"
      ],
      "text/plain": [
       "                City      PM2.5        PM10     NO    NO2    NOx        NH3  \\\n",
       "0          Ahmedabad  67.450578  118.127103   0.92  18.22  17.15  23.483476   \n",
       "1          Ahmedabad  67.450578  118.127103   0.97  15.69  16.46  23.483476   \n",
       "2          Ahmedabad  67.450578  118.127103  17.40  19.30  29.70  23.483476   \n",
       "3          Ahmedabad  67.450578  118.127103   1.70  18.48  17.97  23.483476   \n",
       "4          Ahmedabad  67.450578  118.127103  22.10  21.42  37.76  23.483476   \n",
       "...              ...        ...         ...    ...    ...    ...        ...   \n",
       "29526  Visakhapatnam  15.020000   50.940000   7.68  25.06  19.54  12.470000   \n",
       "29527  Visakhapatnam  24.380000   74.090000   3.42  26.06  16.53  11.990000   \n",
       "29528  Visakhapatnam  22.910000   65.730000   3.45  29.53  18.33  10.710000   \n",
       "29529  Visakhapatnam  16.640000   49.970000   4.05  29.26  18.80  10.030000   \n",
       "29530  Visakhapatnam  15.000000   66.000000   0.40  26.85  14.05   5.200000   \n",
       "\n",
       "          CO    SO2      O3  Benzene    Toluene    Xylene         AQI  \\\n",
       "0       0.92  27.64  133.36  0.00000   0.020000  0.000000  166.463581   \n",
       "1       0.97  24.55   34.06  3.68000   5.500000  3.770000  166.463581   \n",
       "2      17.40  29.07   30.70  6.80000  16.400000  2.250000  166.463581   \n",
       "3       1.70  18.59   36.08  4.43000  10.140000  1.000000  166.463581   \n",
       "4      22.10  39.33   39.31  7.01000  18.890000  2.780000  166.463581   \n",
       "...      ...    ...     ...      ...        ...       ...         ...   \n",
       "29526   0.47   8.55   23.30  2.24000  12.070000  0.730000   41.000000   \n",
       "29527   0.52  12.72   30.14  0.74000   2.210000  0.380000   70.000000   \n",
       "29528   0.48   8.42   30.96  0.01000   0.010000  0.000000   68.000000   \n",
       "29529   0.52   9.84   28.30  0.00000   0.000000  0.000000   54.000000   \n",
       "29530   0.59   2.10   17.05  3.28084   8.700972  3.070128   50.000000   \n",
       "\n",
       "         AQI_Bucket  \n",
       "0          Moderate  \n",
       "1          Moderate  \n",
       "2          Moderate  \n",
       "3          Moderate  \n",
       "4          Moderate  \n",
       "...             ...  \n",
       "29526          Good  \n",
       "29527  Satisfactory  \n",
       "29528  Satisfactory  \n",
       "29529  Satisfactory  \n",
       "29530          Good  \n",
       "\n",
       "[29531 rows x 15 columns]"
      ]
     },
     "execution_count": 15,
     "metadata": {},
     "output_type": "execute_result"
    }
   ],
   "source": [
    "city_day"
   ]
  },
  {
   "cell_type": "code",
   "execution_count": 16,
   "id": "6c9ca085",
   "metadata": {},
   "outputs": [
    {
     "data": {
      "text/html": [
       "<div>\n",
       "<style scoped>\n",
       "    .dataframe tbody tr th:only-of-type {\n",
       "        vertical-align: middle;\n",
       "    }\n",
       "\n",
       "    .dataframe tbody tr th {\n",
       "        vertical-align: top;\n",
       "    }\n",
       "\n",
       "    .dataframe thead th {\n",
       "        text-align: right;\n",
       "    }\n",
       "</style>\n",
       "<table border=\"1\" class=\"dataframe\">\n",
       "  <thead>\n",
       "    <tr style=\"text-align: right;\">\n",
       "      <th></th>\n",
       "      <th>PM2.5</th>\n",
       "      <th>PM10</th>\n",
       "      <th>NO</th>\n",
       "      <th>NO2</th>\n",
       "      <th>NOx</th>\n",
       "      <th>NH3</th>\n",
       "      <th>CO</th>\n",
       "      <th>SO2</th>\n",
       "      <th>O3</th>\n",
       "      <th>Benzene</th>\n",
       "      <th>Toluene</th>\n",
       "      <th>Xylene</th>\n",
       "      <th>AQI</th>\n",
       "    </tr>\n",
       "  </thead>\n",
       "  <tbody>\n",
       "    <tr>\n",
       "      <th>count</th>\n",
       "      <td>29531.000000</td>\n",
       "      <td>29531.000000</td>\n",
       "      <td>29531.00000</td>\n",
       "      <td>29531.000000</td>\n",
       "      <td>29531.000000</td>\n",
       "      <td>29531.000000</td>\n",
       "      <td>29531.000000</td>\n",
       "      <td>29531.000000</td>\n",
       "      <td>29531.000000</td>\n",
       "      <td>29531.000000</td>\n",
       "      <td>29531.000000</td>\n",
       "      <td>29531.000000</td>\n",
       "      <td>29531.000000</td>\n",
       "    </tr>\n",
       "    <tr>\n",
       "      <th>mean</th>\n",
       "      <td>67.450578</td>\n",
       "      <td>118.127103</td>\n",
       "      <td>17.57473</td>\n",
       "      <td>28.560659</td>\n",
       "      <td>32.309123</td>\n",
       "      <td>23.483476</td>\n",
       "      <td>2.248598</td>\n",
       "      <td>14.531977</td>\n",
       "      <td>34.491430</td>\n",
       "      <td>3.280840</td>\n",
       "      <td>8.700972</td>\n",
       "      <td>3.070128</td>\n",
       "      <td>166.463581</td>\n",
       "    </tr>\n",
       "    <tr>\n",
       "      <th>std</th>\n",
       "      <td>59.414476</td>\n",
       "      <td>71.500953</td>\n",
       "      <td>21.35922</td>\n",
       "      <td>22.941051</td>\n",
       "      <td>29.317936</td>\n",
       "      <td>20.711370</td>\n",
       "      <td>6.715753</td>\n",
       "      <td>16.909088</td>\n",
       "      <td>20.163443</td>\n",
       "      <td>14.226364</td>\n",
       "      <td>17.034769</td>\n",
       "      <td>3.932426</td>\n",
       "      <td>129.064348</td>\n",
       "    </tr>\n",
       "    <tr>\n",
       "      <th>min</th>\n",
       "      <td>0.040000</td>\n",
       "      <td>0.010000</td>\n",
       "      <td>0.02000</td>\n",
       "      <td>0.010000</td>\n",
       "      <td>0.000000</td>\n",
       "      <td>0.010000</td>\n",
       "      <td>0.000000</td>\n",
       "      <td>0.010000</td>\n",
       "      <td>0.010000</td>\n",
       "      <td>0.000000</td>\n",
       "      <td>0.000000</td>\n",
       "      <td>0.000000</td>\n",
       "      <td>13.000000</td>\n",
       "    </tr>\n",
       "    <tr>\n",
       "      <th>25%</th>\n",
       "      <td>32.150000</td>\n",
       "      <td>79.315000</td>\n",
       "      <td>6.21000</td>\n",
       "      <td>12.980000</td>\n",
       "      <td>14.670000</td>\n",
       "      <td>12.040000</td>\n",
       "      <td>0.540000</td>\n",
       "      <td>6.090000</td>\n",
       "      <td>20.740000</td>\n",
       "      <td>0.240000</td>\n",
       "      <td>1.280000</td>\n",
       "      <td>2.000000</td>\n",
       "      <td>88.000000</td>\n",
       "    </tr>\n",
       "    <tr>\n",
       "      <th>50%</th>\n",
       "      <td>58.030000</td>\n",
       "      <td>118.127103</td>\n",
       "      <td>11.53000</td>\n",
       "      <td>25.240000</td>\n",
       "      <td>27.550000</td>\n",
       "      <td>23.483476</td>\n",
       "      <td>0.950000</td>\n",
       "      <td>10.480000</td>\n",
       "      <td>34.491430</td>\n",
       "      <td>1.840000</td>\n",
       "      <td>6.930000</td>\n",
       "      <td>3.070128</td>\n",
       "      <td>138.000000</td>\n",
       "    </tr>\n",
       "    <tr>\n",
       "      <th>75%</th>\n",
       "      <td>72.450000</td>\n",
       "      <td>118.127103</td>\n",
       "      <td>17.57473</td>\n",
       "      <td>34.665000</td>\n",
       "      <td>36.015000</td>\n",
       "      <td>23.483476</td>\n",
       "      <td>1.710000</td>\n",
       "      <td>14.531977</td>\n",
       "      <td>42.730000</td>\n",
       "      <td>3.280840</td>\n",
       "      <td>8.700972</td>\n",
       "      <td>3.070128</td>\n",
       "      <td>179.000000</td>\n",
       "    </tr>\n",
       "    <tr>\n",
       "      <th>max</th>\n",
       "      <td>949.990000</td>\n",
       "      <td>1000.000000</td>\n",
       "      <td>390.68000</td>\n",
       "      <td>362.210000</td>\n",
       "      <td>467.630000</td>\n",
       "      <td>352.890000</td>\n",
       "      <td>175.810000</td>\n",
       "      <td>193.860000</td>\n",
       "      <td>257.730000</td>\n",
       "      <td>455.030000</td>\n",
       "      <td>454.850000</td>\n",
       "      <td>170.370000</td>\n",
       "      <td>2049.000000</td>\n",
       "    </tr>\n",
       "  </tbody>\n",
       "</table>\n",
       "</div>"
      ],
      "text/plain": [
       "              PM2.5          PM10           NO           NO2           NOx  \\\n",
       "count  29531.000000  29531.000000  29531.00000  29531.000000  29531.000000   \n",
       "mean      67.450578    118.127103     17.57473     28.560659     32.309123   \n",
       "std       59.414476     71.500953     21.35922     22.941051     29.317936   \n",
       "min        0.040000      0.010000      0.02000      0.010000      0.000000   \n",
       "25%       32.150000     79.315000      6.21000     12.980000     14.670000   \n",
       "50%       58.030000    118.127103     11.53000     25.240000     27.550000   \n",
       "75%       72.450000    118.127103     17.57473     34.665000     36.015000   \n",
       "max      949.990000   1000.000000    390.68000    362.210000    467.630000   \n",
       "\n",
       "                NH3            CO           SO2            O3       Benzene  \\\n",
       "count  29531.000000  29531.000000  29531.000000  29531.000000  29531.000000   \n",
       "mean      23.483476      2.248598     14.531977     34.491430      3.280840   \n",
       "std       20.711370      6.715753     16.909088     20.163443     14.226364   \n",
       "min        0.010000      0.000000      0.010000      0.010000      0.000000   \n",
       "25%       12.040000      0.540000      6.090000     20.740000      0.240000   \n",
       "50%       23.483476      0.950000     10.480000     34.491430      1.840000   \n",
       "75%       23.483476      1.710000     14.531977     42.730000      3.280840   \n",
       "max      352.890000    175.810000    193.860000    257.730000    455.030000   \n",
       "\n",
       "            Toluene        Xylene           AQI  \n",
       "count  29531.000000  29531.000000  29531.000000  \n",
       "mean       8.700972      3.070128    166.463581  \n",
       "std       17.034769      3.932426    129.064348  \n",
       "min        0.000000      0.000000     13.000000  \n",
       "25%        1.280000      2.000000     88.000000  \n",
       "50%        6.930000      3.070128    138.000000  \n",
       "75%        8.700972      3.070128    179.000000  \n",
       "max      454.850000    170.370000   2049.000000  "
      ]
     },
     "execution_count": 16,
     "metadata": {},
     "output_type": "execute_result"
    }
   ],
   "source": [
    "city_day.describe()"
   ]
  },
  {
   "cell_type": "code",
   "execution_count": 17,
   "id": "7281687e",
   "metadata": {},
   "outputs": [
    {
     "name": "stdout",
     "output_type": "stream",
     "text": [
      "outlier counter of the all features\n"
     ]
    },
    {
     "data": {
      "text/plain": [
       "AQI           3192\n",
       "AQI_Bucket       0\n",
       "Benzene       1585\n",
       "CO            2026\n",
       "City             0\n",
       "NH3           2807\n",
       "NO            3196\n",
       "NO2           1743\n",
       "NOx           2629\n",
       "O3            1181\n",
       "PM10          3776\n",
       "PM2.5         2736\n",
       "SO2           2882\n",
       "Toluene       2711\n",
       "Xylene        6148\n",
       "dtype: int64"
      ]
     },
     "execution_count": 17,
     "metadata": {},
     "output_type": "execute_result"
    }
   ],
   "source": [
    "# Detect outlier\n",
    "# Outlier Detection using Tnter Quantile Range \n",
    "Q1=city_day.quantile(0.25)\n",
    "Q3=city_day.quantile(0.75)\n",
    "IQR=Q3-Q1\n",
    "IQR\n",
    "print(\"outlier counter of the all features\")\n",
    "((city_day<(Q1-1.5*IQR))|(city_day>(Q3+1.5*IQR))).sum()"
   ]
  },
  {
   "cell_type": "code",
   "execution_count": 44,
   "id": "f7fc113b",
   "metadata": {},
   "outputs": [],
   "source": [
    "## Outliers replace using Mean\n",
    "for col in city_day.columns:\n",
    "    if city_day[col].dtypes !='object':\n",
    "        q1,q3=city_day[col].quantile(0.25),city_day[col].quantile(0.75)\n",
    "        iqr = q3 - q1\n",
    "        ll = q1-1.5*iqr\n",
    "        ul = q3 + 1.5*iqr\n",
    "        city_day[col] = np.where(city_day[col]>ul,city_day[col].mean(),np.where(city_day[col]<ll,city_day[col].mean(),city_day[col]))"
   ]
  },
  {
   "cell_type": "code",
   "execution_count": 45,
   "id": "bfbace07",
   "metadata": {},
   "outputs": [
    {
     "name": "stdout",
     "output_type": "stream",
     "text": [
      "outlier counter of the all features\n"
     ]
    },
    {
     "data": {
      "text/plain": [
       "AQI              0\n",
       "AQI_Bucket       0\n",
       "Benzene          0\n",
       "CO               0\n",
       "City             0\n",
       "NH3              0\n",
       "NO               0\n",
       "NO2              0\n",
       "NOx              0\n",
       "O3               0\n",
       "PM10             0\n",
       "PM2.5            0\n",
       "SO2              0\n",
       "Toluene          0\n",
       "Xylene        5274\n",
       "dtype: int64"
      ]
     },
     "execution_count": 45,
     "metadata": {},
     "output_type": "execute_result"
    }
   ],
   "source": [
    "# Detect outlier\n",
    "# Outlier Detection using Tnter Quantile Range \n",
    "Q1=city_day.quantile(0.25)\n",
    "Q3=city_day.quantile(0.75)\n",
    "IQR=Q3-Q1\n",
    "IQR\n",
    "print(\"outlier counter of the all features\")\n",
    "((city_day<(Q1-1.5*IQR))|(city_day>(Q3+1.5*IQR))).sum()"
   ]
  },
  {
   "cell_type": "code",
   "execution_count": 46,
   "id": "0214d415",
   "metadata": {},
   "outputs": [],
   "source": [
    "city_day=city_day.drop(columns=['Xylene'],axis=1)"
   ]
  },
  {
   "cell_type": "code",
   "execution_count": 47,
   "id": "58e8e9e7",
   "metadata": {},
   "outputs": [
    {
     "data": {
      "text/html": [
       "<div>\n",
       "<style scoped>\n",
       "    .dataframe tbody tr th:only-of-type {\n",
       "        vertical-align: middle;\n",
       "    }\n",
       "\n",
       "    .dataframe tbody tr th {\n",
       "        vertical-align: top;\n",
       "    }\n",
       "\n",
       "    .dataframe thead th {\n",
       "        text-align: right;\n",
       "    }\n",
       "</style>\n",
       "<table border=\"1\" class=\"dataframe\">\n",
       "  <thead>\n",
       "    <tr style=\"text-align: right;\">\n",
       "      <th></th>\n",
       "      <th>PM2.5</th>\n",
       "      <th>PM10</th>\n",
       "      <th>NO</th>\n",
       "      <th>NO2</th>\n",
       "      <th>NOx</th>\n",
       "      <th>NH3</th>\n",
       "      <th>CO</th>\n",
       "      <th>SO2</th>\n",
       "      <th>O3</th>\n",
       "      <th>Benzene</th>\n",
       "      <th>Toluene</th>\n",
       "      <th>AQI</th>\n",
       "    </tr>\n",
       "  </thead>\n",
       "  <tbody>\n",
       "    <tr>\n",
       "      <th>count</th>\n",
       "      <td>29531.000000</td>\n",
       "      <td>29531.000000</td>\n",
       "      <td>29531.000000</td>\n",
       "      <td>29531.000000</td>\n",
       "      <td>29531.000000</td>\n",
       "      <td>29531.000000</td>\n",
       "      <td>29531.000000</td>\n",
       "      <td>29531.000000</td>\n",
       "      <td>29531.000000</td>\n",
       "      <td>29531.000000</td>\n",
       "      <td>29531.000000</td>\n",
       "      <td>29531.000000</td>\n",
       "    </tr>\n",
       "    <tr>\n",
       "      <th>mean</th>\n",
       "      <td>52.882470</td>\n",
       "      <td>113.454102</td>\n",
       "      <td>12.388832</td>\n",
       "      <td>22.741194</td>\n",
       "      <td>24.686008</td>\n",
       "      <td>19.220063</td>\n",
       "      <td>1.123040</td>\n",
       "      <td>10.654863</td>\n",
       "      <td>29.220236</td>\n",
       "      <td>2.005608</td>\n",
       "      <td>5.694935</td>\n",
       "      <td>131.882906</td>\n",
       "    </tr>\n",
       "    <tr>\n",
       "      <th>std</th>\n",
       "      <td>24.633069</td>\n",
       "      <td>6.283705</td>\n",
       "      <td>7.447480</td>\n",
       "      <td>11.408685</td>\n",
       "      <td>13.007959</td>\n",
       "      <td>8.513774</td>\n",
       "      <td>0.777519</td>\n",
       "      <td>5.372107</td>\n",
       "      <td>11.854204</td>\n",
       "      <td>1.759115</td>\n",
       "      <td>4.312269</td>\n",
       "      <td>53.050811</td>\n",
       "    </tr>\n",
       "    <tr>\n",
       "      <th>min</th>\n",
       "      <td>0.040000</td>\n",
       "      <td>96.290000</td>\n",
       "      <td>0.020000</td>\n",
       "      <td>0.010000</td>\n",
       "      <td>0.000000</td>\n",
       "      <td>0.010000</td>\n",
       "      <td>0.000000</td>\n",
       "      <td>0.010000</td>\n",
       "      <td>0.280000</td>\n",
       "      <td>0.000000</td>\n",
       "      <td>0.000000</td>\n",
       "      <td>13.000000</td>\n",
       "    </tr>\n",
       "    <tr>\n",
       "      <th>25%</th>\n",
       "      <td>32.150000</td>\n",
       "      <td>109.385726</td>\n",
       "      <td>6.210000</td>\n",
       "      <td>12.980000</td>\n",
       "      <td>14.670000</td>\n",
       "      <td>12.040000</td>\n",
       "      <td>0.540000</td>\n",
       "      <td>6.090000</td>\n",
       "      <td>20.805000</td>\n",
       "      <td>0.240000</td>\n",
       "      <td>1.280000</td>\n",
       "      <td>88.000000</td>\n",
       "    </tr>\n",
       "    <tr>\n",
       "      <th>50%</th>\n",
       "      <td>55.990000</td>\n",
       "      <td>118.127103</td>\n",
       "      <td>11.530000</td>\n",
       "      <td>24.410000</td>\n",
       "      <td>26.010000</td>\n",
       "      <td>23.483476</td>\n",
       "      <td>0.950000</td>\n",
       "      <td>10.480000</td>\n",
       "      <td>31.273454</td>\n",
       "      <td>1.840000</td>\n",
       "      <td>6.930000</td>\n",
       "      <td>136.619917</td>\n",
       "    </tr>\n",
       "    <tr>\n",
       "      <th>75%</th>\n",
       "      <td>67.450578</td>\n",
       "      <td>118.127103</td>\n",
       "      <td>17.574730</td>\n",
       "      <td>28.560659</td>\n",
       "      <td>32.309123</td>\n",
       "      <td>23.483476</td>\n",
       "      <td>1.710000</td>\n",
       "      <td>14.531977</td>\n",
       "      <td>34.491430</td>\n",
       "      <td>3.280840</td>\n",
       "      <td>8.700972</td>\n",
       "      <td>166.463581</td>\n",
       "    </tr>\n",
       "    <tr>\n",
       "      <th>max</th>\n",
       "      <td>120.380000</td>\n",
       "      <td>131.210000</td>\n",
       "      <td>34.620000</td>\n",
       "      <td>51.930000</td>\n",
       "      <td>58.760000</td>\n",
       "      <td>40.640000</td>\n",
       "      <td>3.460000</td>\n",
       "      <td>27.190000</td>\n",
       "      <td>55.020000</td>\n",
       "      <td>7.840000</td>\n",
       "      <td>19.830000</td>\n",
       "      <td>284.000000</td>\n",
       "    </tr>\n",
       "  </tbody>\n",
       "</table>\n",
       "</div>"
      ],
      "text/plain": [
       "              PM2.5          PM10            NO           NO2           NOx  \\\n",
       "count  29531.000000  29531.000000  29531.000000  29531.000000  29531.000000   \n",
       "mean      52.882470    113.454102     12.388832     22.741194     24.686008   \n",
       "std       24.633069      6.283705      7.447480     11.408685     13.007959   \n",
       "min        0.040000     96.290000      0.020000      0.010000      0.000000   \n",
       "25%       32.150000    109.385726      6.210000     12.980000     14.670000   \n",
       "50%       55.990000    118.127103     11.530000     24.410000     26.010000   \n",
       "75%       67.450578    118.127103     17.574730     28.560659     32.309123   \n",
       "max      120.380000    131.210000     34.620000     51.930000     58.760000   \n",
       "\n",
       "                NH3            CO           SO2            O3       Benzene  \\\n",
       "count  29531.000000  29531.000000  29531.000000  29531.000000  29531.000000   \n",
       "mean      19.220063      1.123040     10.654863     29.220236      2.005608   \n",
       "std        8.513774      0.777519      5.372107     11.854204      1.759115   \n",
       "min        0.010000      0.000000      0.010000      0.280000      0.000000   \n",
       "25%       12.040000      0.540000      6.090000     20.805000      0.240000   \n",
       "50%       23.483476      0.950000     10.480000     31.273454      1.840000   \n",
       "75%       23.483476      1.710000     14.531977     34.491430      3.280840   \n",
       "max       40.640000      3.460000     27.190000     55.020000      7.840000   \n",
       "\n",
       "            Toluene           AQI  \n",
       "count  29531.000000  29531.000000  \n",
       "mean       5.694935    131.882906  \n",
       "std        4.312269     53.050811  \n",
       "min        0.000000     13.000000  \n",
       "25%        1.280000     88.000000  \n",
       "50%        6.930000    136.619917  \n",
       "75%        8.700972    166.463581  \n",
       "max       19.830000    284.000000  "
      ]
     },
     "execution_count": 47,
     "metadata": {},
     "output_type": "execute_result"
    }
   ],
   "source": [
    "city_day.describe()"
   ]
  },
  {
   "cell_type": "code",
   "execution_count": 48,
   "id": "86a940f8",
   "metadata": {},
   "outputs": [
    {
     "data": {
      "text/html": [
       "<div>\n",
       "<style scoped>\n",
       "    .dataframe tbody tr th:only-of-type {\n",
       "        vertical-align: middle;\n",
       "    }\n",
       "\n",
       "    .dataframe tbody tr th {\n",
       "        vertical-align: top;\n",
       "    }\n",
       "\n",
       "    .dataframe thead th {\n",
       "        text-align: right;\n",
       "    }\n",
       "</style>\n",
       "<table border=\"1\" class=\"dataframe\">\n",
       "  <thead>\n",
       "    <tr style=\"text-align: right;\">\n",
       "      <th></th>\n",
       "      <th>AQI</th>\n",
       "      <th>PM10</th>\n",
       "      <th>CO</th>\n",
       "    </tr>\n",
       "    <tr>\n",
       "      <th>City</th>\n",
       "      <th></th>\n",
       "      <th></th>\n",
       "      <th></th>\n",
       "    </tr>\n",
       "  </thead>\n",
       "  <tbody>\n",
       "    <tr>\n",
       "      <th>Ahmedabad</th>\n",
       "      <td>169.820193</td>\n",
       "      <td>116.785875</td>\n",
       "      <td>2.169341</td>\n",
       "    </tr>\n",
       "    <tr>\n",
       "      <th>Delhi</th>\n",
       "      <td>168.146260</td>\n",
       "      <td>115.251027</td>\n",
       "      <td>1.364691</td>\n",
       "    </tr>\n",
       "    <tr>\n",
       "      <th>Patna</th>\n",
       "      <td>158.892868</td>\n",
       "      <td>117.439314</td>\n",
       "      <td>1.545389</td>\n",
       "    </tr>\n",
       "    <tr>\n",
       "      <th>Gurugram</th>\n",
       "      <td>157.134003</td>\n",
       "      <td>116.368333</td>\n",
       "      <td>1.024242</td>\n",
       "    </tr>\n",
       "    <tr>\n",
       "      <th>Lucknow</th>\n",
       "      <td>152.860305</td>\n",
       "      <td>118.127103</td>\n",
       "      <td>1.517009</td>\n",
       "    </tr>\n",
       "    <tr>\n",
       "      <th>Jorapokhar</th>\n",
       "      <td>149.627762</td>\n",
       "      <td>113.509117</td>\n",
       "      <td>1.356474</td>\n",
       "    </tr>\n",
       "    <tr>\n",
       "      <th>Brajrajnagar</th>\n",
       "      <td>144.485295</td>\n",
       "      <td>112.341324</td>\n",
       "      <td>1.712509</td>\n",
       "    </tr>\n",
       "    <tr>\n",
       "      <th>Mumbai</th>\n",
       "      <td>142.723394</td>\n",
       "      <td>114.824295</td>\n",
       "      <td>0.586610</td>\n",
       "    </tr>\n",
       "    <tr>\n",
       "      <th>Talcher</th>\n",
       "      <td>142.531793</td>\n",
       "      <td>113.873741</td>\n",
       "      <td>1.862258</td>\n",
       "    </tr>\n",
       "    <tr>\n",
       "      <th>Jaipur</th>\n",
       "      <td>131.625759</td>\n",
       "      <td>111.578254</td>\n",
       "      <td>0.809991</td>\n",
       "    </tr>\n",
       "    <tr>\n",
       "      <th>Bhopal</th>\n",
       "      <td>130.105325</td>\n",
       "      <td>111.367771</td>\n",
       "      <td>0.923001</td>\n",
       "    </tr>\n",
       "    <tr>\n",
       "      <th>Visakhapatnam</th>\n",
       "      <td>123.779607</td>\n",
       "      <td>111.633793</td>\n",
       "      <td>0.777069</td>\n",
       "    </tr>\n",
       "    <tr>\n",
       "      <th>Kolkata</th>\n",
       "      <td>119.891019</td>\n",
       "      <td>110.370885</td>\n",
       "      <td>0.799251</td>\n",
       "    </tr>\n",
       "    <tr>\n",
       "      <th>Chennai</th>\n",
       "      <td>115.574115</td>\n",
       "      <td>116.581929</td>\n",
       "      <td>0.930136</td>\n",
       "    </tr>\n",
       "    <tr>\n",
       "      <th>Amritsar</th>\n",
       "      <td>113.535501</td>\n",
       "      <td>111.031781</td>\n",
       "      <td>0.654423</td>\n",
       "    </tr>\n",
       "    <tr>\n",
       "      <th>Guwahati</th>\n",
       "      <td>112.358464</td>\n",
       "      <td>110.173967</td>\n",
       "      <td>0.735293</td>\n",
       "    </tr>\n",
       "    <tr>\n",
       "      <th>Hyderabad</th>\n",
       "      <td>110.424726</td>\n",
       "      <td>110.882568</td>\n",
       "      <td>0.577833</td>\n",
       "    </tr>\n",
       "    <tr>\n",
       "      <th>Kochi</th>\n",
       "      <td>105.820088</td>\n",
       "      <td>108.221740</td>\n",
       "      <td>1.296667</td>\n",
       "    </tr>\n",
       "    <tr>\n",
       "      <th>Amaravati</th>\n",
       "      <td>101.785692</td>\n",
       "      <td>108.988816</td>\n",
       "      <td>0.793211</td>\n",
       "    </tr>\n",
       "    <tr>\n",
       "      <th>Bengaluru</th>\n",
       "      <td>97.438788</td>\n",
       "      <td>110.810615</td>\n",
       "      <td>1.072202</td>\n",
       "    </tr>\n",
       "    <tr>\n",
       "      <th>Ernakulam</th>\n",
       "      <td>96.476372</td>\n",
       "      <td>107.496682</td>\n",
       "      <td>1.643175</td>\n",
       "    </tr>\n",
       "    <tr>\n",
       "      <th>Chandigarh</th>\n",
       "      <td>95.495016</td>\n",
       "      <td>109.170220</td>\n",
       "      <td>0.631349</td>\n",
       "    </tr>\n",
       "    <tr>\n",
       "      <th>Shillong</th>\n",
       "      <td>91.957020</td>\n",
       "      <td>112.058123</td>\n",
       "      <td>0.453528</td>\n",
       "    </tr>\n",
       "    <tr>\n",
       "      <th>Coimbatore</th>\n",
       "      <td>83.190338</td>\n",
       "      <td>106.550029</td>\n",
       "      <td>0.959419</td>\n",
       "    </tr>\n",
       "    <tr>\n",
       "      <th>Thiruvananthapuram</th>\n",
       "      <td>80.766021</td>\n",
       "      <td>107.229721</td>\n",
       "      <td>0.954602</td>\n",
       "    </tr>\n",
       "    <tr>\n",
       "      <th>Aizawl</th>\n",
       "      <td>37.096701</td>\n",
       "      <td>112.424396</td>\n",
       "      <td>0.283628</td>\n",
       "    </tr>\n",
       "  </tbody>\n",
       "</table>\n",
       "</div>"
      ],
      "text/plain": [
       "                           AQI        PM10        CO\n",
       "City                                                \n",
       "Ahmedabad           169.820193  116.785875  2.169341\n",
       "Delhi               168.146260  115.251027  1.364691\n",
       "Patna               158.892868  117.439314  1.545389\n",
       "Gurugram            157.134003  116.368333  1.024242\n",
       "Lucknow             152.860305  118.127103  1.517009\n",
       "Jorapokhar          149.627762  113.509117  1.356474\n",
       "Brajrajnagar        144.485295  112.341324  1.712509\n",
       "Mumbai              142.723394  114.824295  0.586610\n",
       "Talcher             142.531793  113.873741  1.862258\n",
       "Jaipur              131.625759  111.578254  0.809991\n",
       "Bhopal              130.105325  111.367771  0.923001\n",
       "Visakhapatnam       123.779607  111.633793  0.777069\n",
       "Kolkata             119.891019  110.370885  0.799251\n",
       "Chennai             115.574115  116.581929  0.930136\n",
       "Amritsar            113.535501  111.031781  0.654423\n",
       "Guwahati            112.358464  110.173967  0.735293\n",
       "Hyderabad           110.424726  110.882568  0.577833\n",
       "Kochi               105.820088  108.221740  1.296667\n",
       "Amaravati           101.785692  108.988816  0.793211\n",
       "Bengaluru            97.438788  110.810615  1.072202\n",
       "Ernakulam            96.476372  107.496682  1.643175\n",
       "Chandigarh           95.495016  109.170220  0.631349\n",
       "Shillong             91.957020  112.058123  0.453528\n",
       "Coimbatore           83.190338  106.550029  0.959419\n",
       "Thiruvananthapuram   80.766021  107.229721  0.954602\n",
       "Aizawl               37.096701  112.424396  0.283628"
      ]
     },
     "execution_count": 48,
     "metadata": {},
     "output_type": "execute_result"
    }
   ],
   "source": [
    "most_polluted = city_day[['City', 'AQI', 'PM10', 'CO']].groupby(['City']).mean().sort_values(by = 'AQI', ascending = False)\n",
    "most_polluted"
   ]
  },
  {
   "cell_type": "code",
   "execution_count": 49,
   "id": "cc06c17d",
   "metadata": {},
   "outputs": [
    {
     "data": {
      "image/png": "[encoded data removed]",
      "text/plain": [
       "<Figure size 1000x600 with 2 Axes>"
      ]
     },
     "metadata": {},
     "output_type": "display_data"
    }
   ],
   "source": [
    "# make figure a bit bigger\n",
    "plt.figure(figsize=(10,6))\n",
    "\n",
    "# correlation heatmap\n",
    "sns.heatmap(city_day.corr(), annot=True, vmin=0, vmax=1, cmap=\"rocket_r\")\n",
    "plt.show()"
   ]
  },
  {
   "cell_type": "code",
   "execution_count": 50,
   "id": "3e7f0f09",
   "metadata": {},
   "outputs": [],
   "source": [
    "city_day=city_day.drop(columns=['NO','NO2','NOx'],axis=1)"
   ]
  },
  {
   "cell_type": "code",
   "execution_count": 51,
   "id": "e086d66f",
   "metadata": {},
   "outputs": [
    {
     "data": {
      "text/plain": [
       "Moderate        13510\n",
       "Satisfactory     8224\n",
       "Poor             2781\n",
       "Very Poor        2337\n",
       "Good             1341\n",
       "Severe           1338\n",
       "Name: AQI_Bucket, dtype: int64"
      ]
     },
     "execution_count": 51,
     "metadata": {},
     "output_type": "execute_result"
    }
   ],
   "source": [
    "city_day['AQI_Bucket'].value_counts()"
   ]
  },
  {
   "cell_type": "code",
   "execution_count": 52,
   "id": "d77b11a1",
   "metadata": {},
   "outputs": [],
   "source": [
    "city_day = city_day.replace({'AQI_Bucket':{'Satisfactory':0,'Good':1,'Moderate':2,'Poor':3,'Very Poor':4,'Severe':5}})"
   ]
  },
  {
   "cell_type": "code",
   "execution_count": 53,
   "id": "b070fe99",
   "metadata": {},
   "outputs": [
    {
     "data": {
      "text/plain": [
       "City           object\n",
       "PM2.5         float64\n",
       "PM10          float64\n",
       "NH3           float64\n",
       "CO            float64\n",
       "SO2           float64\n",
       "O3            float64\n",
       "Benzene       float64\n",
       "Toluene       float64\n",
       "AQI           float64\n",
       "AQI_Bucket      int64\n",
       "dtype: object"
      ]
     },
     "execution_count": 53,
     "metadata": {},
     "output_type": "execute_result"
    }
   ],
   "source": [
    "city_day.dtypes"
   ]
  },
  {
   "cell_type": "code",
   "execution_count": 54,
   "id": "3f06fa32",
   "metadata": {},
   "outputs": [],
   "source": [
    "city_day= pd.get_dummies(city_day, columns=['City'], drop_first=True)"
   ]
  },
  {
   "cell_type": "code",
   "execution_count": 55,
   "id": "0dc9d9c9",
   "metadata": {},
   "outputs": [
    {
     "data": {
      "text/html": [
       "<div>\n",
       "<style scoped>\n",
       "    .dataframe tbody tr th:only-of-type {\n",
       "        vertical-align: middle;\n",
       "    }\n",
       "\n",
       "    .dataframe tbody tr th {\n",
       "        vertical-align: top;\n",
       "    }\n",
       "\n",
       "    .dataframe thead th {\n",
       "        text-align: right;\n",
       "    }\n",
       "</style>\n",
       "<table border=\"1\" class=\"dataframe\">\n",
       "  <thead>\n",
       "    <tr style=\"text-align: right;\">\n",
       "      <th></th>\n",
       "      <th>PM2.5</th>\n",
       "      <th>PM10</th>\n",
       "      <th>NH3</th>\n",
       "      <th>CO</th>\n",
       "      <th>SO2</th>\n",
       "      <th>O3</th>\n",
       "      <th>Benzene</th>\n",
       "      <th>Toluene</th>\n",
       "      <th>AQI</th>\n",
       "      <th>AQI_Bucket</th>\n",
       "      <th>...</th>\n",
       "      <th>City_Jorapokhar</th>\n",
       "      <th>City_Kochi</th>\n",
       "      <th>City_Kolkata</th>\n",
       "      <th>City_Lucknow</th>\n",
       "      <th>City_Mumbai</th>\n",
       "      <th>City_Patna</th>\n",
       "      <th>City_Shillong</th>\n",
       "      <th>City_Talcher</th>\n",
       "      <th>City_Thiruvananthapuram</th>\n",
       "      <th>City_Visakhapatnam</th>\n",
       "    </tr>\n",
       "  </thead>\n",
       "  <tbody>\n",
       "    <tr>\n",
       "      <th>0</th>\n",
       "      <td>67.450578</td>\n",
       "      <td>118.127103</td>\n",
       "      <td>23.483476</td>\n",
       "      <td>0.920000</td>\n",
       "      <td>14.531977</td>\n",
       "      <td>34.49143</td>\n",
       "      <td>0.00000</td>\n",
       "      <td>0.020000</td>\n",
       "      <td>166.463581</td>\n",
       "      <td>2</td>\n",
       "      <td>...</td>\n",
       "      <td>0</td>\n",
       "      <td>0</td>\n",
       "      <td>0</td>\n",
       "      <td>0</td>\n",
       "      <td>0</td>\n",
       "      <td>0</td>\n",
       "      <td>0</td>\n",
       "      <td>0</td>\n",
       "      <td>0</td>\n",
       "      <td>0</td>\n",
       "    </tr>\n",
       "    <tr>\n",
       "      <th>1</th>\n",
       "      <td>67.450578</td>\n",
       "      <td>118.127103</td>\n",
       "      <td>23.483476</td>\n",
       "      <td>0.970000</td>\n",
       "      <td>24.550000</td>\n",
       "      <td>34.06000</td>\n",
       "      <td>3.68000</td>\n",
       "      <td>5.500000</td>\n",
       "      <td>166.463581</td>\n",
       "      <td>2</td>\n",
       "      <td>...</td>\n",
       "      <td>0</td>\n",
       "      <td>0</td>\n",
       "      <td>0</td>\n",
       "      <td>0</td>\n",
       "      <td>0</td>\n",
       "      <td>0</td>\n",
       "      <td>0</td>\n",
       "      <td>0</td>\n",
       "      <td>0</td>\n",
       "      <td>0</td>\n",
       "    </tr>\n",
       "    <tr>\n",
       "      <th>2</th>\n",
       "      <td>67.450578</td>\n",
       "      <td>118.127103</td>\n",
       "      <td>23.483476</td>\n",
       "      <td>2.248598</td>\n",
       "      <td>14.531977</td>\n",
       "      <td>30.70000</td>\n",
       "      <td>6.80000</td>\n",
       "      <td>16.400000</td>\n",
       "      <td>166.463581</td>\n",
       "      <td>2</td>\n",
       "      <td>...</td>\n",
       "      <td>0</td>\n",
       "      <td>0</td>\n",
       "      <td>0</td>\n",
       "      <td>0</td>\n",
       "      <td>0</td>\n",
       "      <td>0</td>\n",
       "      <td>0</td>\n",
       "      <td>0</td>\n",
       "      <td>0</td>\n",
       "      <td>0</td>\n",
       "    </tr>\n",
       "    <tr>\n",
       "      <th>3</th>\n",
       "      <td>67.450578</td>\n",
       "      <td>118.127103</td>\n",
       "      <td>23.483476</td>\n",
       "      <td>1.700000</td>\n",
       "      <td>18.590000</td>\n",
       "      <td>36.08000</td>\n",
       "      <td>4.43000</td>\n",
       "      <td>10.140000</td>\n",
       "      <td>166.463581</td>\n",
       "      <td>2</td>\n",
       "      <td>...</td>\n",
       "      <td>0</td>\n",
       "      <td>0</td>\n",
       "      <td>0</td>\n",
       "      <td>0</td>\n",
       "      <td>0</td>\n",
       "      <td>0</td>\n",
       "      <td>0</td>\n",
       "      <td>0</td>\n",
       "      <td>0</td>\n",
       "      <td>0</td>\n",
       "    </tr>\n",
       "    <tr>\n",
       "      <th>4</th>\n",
       "      <td>67.450578</td>\n",
       "      <td>118.127103</td>\n",
       "      <td>23.483476</td>\n",
       "      <td>2.248598</td>\n",
       "      <td>14.531977</td>\n",
       "      <td>39.31000</td>\n",
       "      <td>7.01000</td>\n",
       "      <td>18.890000</td>\n",
       "      <td>166.463581</td>\n",
       "      <td>2</td>\n",
       "      <td>...</td>\n",
       "      <td>0</td>\n",
       "      <td>0</td>\n",
       "      <td>0</td>\n",
       "      <td>0</td>\n",
       "      <td>0</td>\n",
       "      <td>0</td>\n",
       "      <td>0</td>\n",
       "      <td>0</td>\n",
       "      <td>0</td>\n",
       "      <td>0</td>\n",
       "    </tr>\n",
       "    <tr>\n",
       "      <th>...</th>\n",
       "      <td>...</td>\n",
       "      <td>...</td>\n",
       "      <td>...</td>\n",
       "      <td>...</td>\n",
       "      <td>...</td>\n",
       "      <td>...</td>\n",
       "      <td>...</td>\n",
       "      <td>...</td>\n",
       "      <td>...</td>\n",
       "      <td>...</td>\n",
       "      <td>...</td>\n",
       "      <td>...</td>\n",
       "      <td>...</td>\n",
       "      <td>...</td>\n",
       "      <td>...</td>\n",
       "      <td>...</td>\n",
       "      <td>...</td>\n",
       "      <td>...</td>\n",
       "      <td>...</td>\n",
       "      <td>...</td>\n",
       "      <td>...</td>\n",
       "    </tr>\n",
       "    <tr>\n",
       "      <th>29526</th>\n",
       "      <td>15.020000</td>\n",
       "      <td>104.609012</td>\n",
       "      <td>12.470000</td>\n",
       "      <td>0.470000</td>\n",
       "      <td>8.550000</td>\n",
       "      <td>23.30000</td>\n",
       "      <td>2.24000</td>\n",
       "      <td>12.070000</td>\n",
       "      <td>41.000000</td>\n",
       "      <td>1</td>\n",
       "      <td>...</td>\n",
       "      <td>0</td>\n",
       "      <td>0</td>\n",
       "      <td>0</td>\n",
       "      <td>0</td>\n",
       "      <td>0</td>\n",
       "      <td>0</td>\n",
       "      <td>0</td>\n",
       "      <td>0</td>\n",
       "      <td>0</td>\n",
       "      <td>1</td>\n",
       "    </tr>\n",
       "    <tr>\n",
       "      <th>29527</th>\n",
       "      <td>24.380000</td>\n",
       "      <td>109.385726</td>\n",
       "      <td>11.990000</td>\n",
       "      <td>0.520000</td>\n",
       "      <td>12.720000</td>\n",
       "      <td>30.14000</td>\n",
       "      <td>0.74000</td>\n",
       "      <td>2.210000</td>\n",
       "      <td>70.000000</td>\n",
       "      <td>0</td>\n",
       "      <td>...</td>\n",
       "      <td>0</td>\n",
       "      <td>0</td>\n",
       "      <td>0</td>\n",
       "      <td>0</td>\n",
       "      <td>0</td>\n",
       "      <td>0</td>\n",
       "      <td>0</td>\n",
       "      <td>0</td>\n",
       "      <td>0</td>\n",
       "      <td>1</td>\n",
       "    </tr>\n",
       "    <tr>\n",
       "      <th>29528</th>\n",
       "      <td>22.910000</td>\n",
       "      <td>109.385726</td>\n",
       "      <td>10.710000</td>\n",
       "      <td>0.480000</td>\n",
       "      <td>8.420000</td>\n",
       "      <td>30.96000</td>\n",
       "      <td>0.01000</td>\n",
       "      <td>0.010000</td>\n",
       "      <td>68.000000</td>\n",
       "      <td>0</td>\n",
       "      <td>...</td>\n",
       "      <td>0</td>\n",
       "      <td>0</td>\n",
       "      <td>0</td>\n",
       "      <td>0</td>\n",
       "      <td>0</td>\n",
       "      <td>0</td>\n",
       "      <td>0</td>\n",
       "      <td>0</td>\n",
       "      <td>0</td>\n",
       "      <td>1</td>\n",
       "    </tr>\n",
       "    <tr>\n",
       "      <th>29529</th>\n",
       "      <td>16.640000</td>\n",
       "      <td>104.609012</td>\n",
       "      <td>10.030000</td>\n",
       "      <td>0.520000</td>\n",
       "      <td>9.840000</td>\n",
       "      <td>28.30000</td>\n",
       "      <td>0.00000</td>\n",
       "      <td>0.000000</td>\n",
       "      <td>54.000000</td>\n",
       "      <td>0</td>\n",
       "      <td>...</td>\n",
       "      <td>0</td>\n",
       "      <td>0</td>\n",
       "      <td>0</td>\n",
       "      <td>0</td>\n",
       "      <td>0</td>\n",
       "      <td>0</td>\n",
       "      <td>0</td>\n",
       "      <td>0</td>\n",
       "      <td>0</td>\n",
       "      <td>1</td>\n",
       "    </tr>\n",
       "    <tr>\n",
       "      <th>29530</th>\n",
       "      <td>15.000000</td>\n",
       "      <td>109.385726</td>\n",
       "      <td>5.200000</td>\n",
       "      <td>0.590000</td>\n",
       "      <td>2.100000</td>\n",
       "      <td>17.05000</td>\n",
       "      <td>3.28084</td>\n",
       "      <td>8.700972</td>\n",
       "      <td>50.000000</td>\n",
       "      <td>1</td>\n",
       "      <td>...</td>\n",
       "      <td>0</td>\n",
       "      <td>0</td>\n",
       "      <td>0</td>\n",
       "      <td>0</td>\n",
       "      <td>0</td>\n",
       "      <td>0</td>\n",
       "      <td>0</td>\n",
       "      <td>0</td>\n",
       "      <td>0</td>\n",
       "      <td>1</td>\n",
       "    </tr>\n",
       "  </tbody>\n",
       "</table>\n",
       "<p>29531 rows × 35 columns</p>\n",
       "</div>"
      ],
      "text/plain": [
       "           PM2.5        PM10        NH3        CO        SO2        O3  \\\n",
       "0      67.450578  118.127103  23.483476  0.920000  14.531977  34.49143   \n",
       "1      67.450578  118.127103  23.483476  0.970000  24.550000  34.06000   \n",
       "2      67.450578  118.127103  23.483476  2.248598  14.531977  30.70000   \n",
       "3      67.450578  118.127103  23.483476  1.700000  18.590000  36.08000   \n",
       "4      67.450578  118.127103  23.483476  2.248598  14.531977  39.31000   \n",
       "...          ...         ...        ...       ...        ...       ...   \n",
       "29526  15.020000  104.609012  12.470000  0.470000   8.550000  23.30000   \n",
       "29527  24.380000  109.385726  11.990000  0.520000  12.720000  30.14000   \n",
       "29528  22.910000  109.385726  10.710000  0.480000   8.420000  30.96000   \n",
       "29529  16.640000  104.609012  10.030000  0.520000   9.840000  28.30000   \n",
       "29530  15.000000  109.385726   5.200000  0.590000   2.100000  17.05000   \n",
       "\n",
       "       Benzene    Toluene         AQI  AQI_Bucket  ...  City_Jorapokhar  \\\n",
       "0      0.00000   0.020000  166.463581           2  ...                0   \n",
       "1      3.68000   5.500000  166.463581           2  ...                0   \n",
       "2      6.80000  16.400000  166.463581           2  ...                0   \n",
       "3      4.43000  10.140000  166.463581           2  ...                0   \n",
       "4      7.01000  18.890000  166.463581           2  ...                0   \n",
       "...        ...        ...         ...         ...  ...              ...   \n",
       "29526  2.24000  12.070000   41.000000           1  ...                0   \n",
       "29527  0.74000   2.210000   70.000000           0  ...                0   \n",
       "29528  0.01000   0.010000   68.000000           0  ...                0   \n",
       "29529  0.00000   0.000000   54.000000           0  ...                0   \n",
       "29530  3.28084   8.700972   50.000000           1  ...                0   \n",
       "\n",
       "       City_Kochi  City_Kolkata  City_Lucknow  City_Mumbai  City_Patna  \\\n",
       "0               0             0             0            0           0   \n",
       "1               0             0             0            0           0   \n",
       "2               0             0             0            0           0   \n",
       "3               0             0             0            0           0   \n",
       "4               0             0             0            0           0   \n",
       "...           ...           ...           ...          ...         ...   \n",
       "29526           0             0             0            0           0   \n",
       "29527           0             0             0            0           0   \n",
       "29528           0             0             0            0           0   \n",
       "29529           0             0             0            0           0   \n",
       "29530           0             0             0            0           0   \n",
       "\n",
       "       City_Shillong  City_Talcher  City_Thiruvananthapuram  \\\n",
       "0                  0             0                        0   \n",
       "1                  0             0                        0   \n",
       "2                  0             0                        0   \n",
       "3                  0             0                        0   \n",
       "4                  0             0                        0   \n",
       "...              ...           ...                      ...   \n",
       "29526              0             0                        0   \n",
       "29527              0             0                        0   \n",
       "29528              0             0                        0   \n",
       "29529              0             0                        0   \n",
       "29530              0             0                        0   \n",
       "\n",
       "       City_Visakhapatnam  \n",
       "0                       0  \n",
       "1                       0  \n",
       "2                       0  \n",
       "3                       0  \n",
       "4                       0  \n",
       "...                   ...  \n",
       "29526                   1  \n",
       "29527                   1  \n",
       "29528                   1  \n",
       "29529                   1  \n",
       "29530                   1  \n",
       "\n",
       "[29531 rows x 35 columns]"
      ]
     },
     "execution_count": 55,
     "metadata": {},
     "output_type": "execute_result"
    }
   ],
   "source": [
    "city_day"
   ]
  },
  {
   "cell_type": "markdown",
   "id": "c4a0dc62",
   "metadata": {},
   "source": [
    "### Split the data into Train, Test set"
   ]
  },
  {
   "cell_type": "code",
   "execution_count": 56,
   "id": "3f0fe6df",
   "metadata": {},
   "outputs": [],
   "source": [
    "def train_test_split(Data, test_ratio):\n",
    "    \n",
    "    Data=Data.sample(frac=1,random_state=42)\n",
    "\n",
    "    samples=int(len(Data)*(1-test_ratio))\n",
    "\n",
    "    train_data=Data[:samples]\n",
    "    test_data=Data[samples:]\n",
    "\n",
    "    return train_data, test_data"
   ]
  },
  {
   "cell_type": "code",
   "execution_count": 57,
   "id": "d257d6d3",
   "metadata": {},
   "outputs": [],
   "source": [
    "train_data, test_data = train_test_split(city_day, 0.3)"
   ]
  },
  {
   "cell_type": "code",
   "execution_count": 58,
   "id": "8930e33b",
   "metadata": {},
   "outputs": [],
   "source": [
    "X_train,Y_train=train_data.loc[:,train_data.columns != 'AQI'].values, train_data.loc[:,'AQI']\n",
    "X_test,Y_test=test_data.loc[:,test_data.columns != 'AQI'].values, test_data.loc[:,'AQI']"
   ]
  },
  {
   "cell_type": "code",
   "execution_count": 59,
   "id": "9f221e0d",
   "metadata": {},
   "outputs": [
    {
     "data": {
      "text/plain": [
       "(20671, 34)"
      ]
     },
     "execution_count": 59,
     "metadata": {},
     "output_type": "execute_result"
    }
   ],
   "source": [
    "X_train.shape"
   ]
  },
  {
   "cell_type": "code",
   "execution_count": 60,
   "id": "9750f848",
   "metadata": {},
   "outputs": [
    {
     "data": {
      "text/plain": [
       "(20671,)"
      ]
     },
     "execution_count": 60,
     "metadata": {},
     "output_type": "execute_result"
    }
   ],
   "source": [
    "Y_train.shape"
   ]
  },
  {
   "cell_type": "code",
   "execution_count": 61,
   "id": "1452e76e",
   "metadata": {},
   "outputs": [
    {
     "data": {
      "text/plain": [
       "(8860, 34)"
      ]
     },
     "execution_count": 61,
     "metadata": {},
     "output_type": "execute_result"
    }
   ],
   "source": [
    "X_test.shape"
   ]
  },
  {
   "cell_type": "code",
   "execution_count": 62,
   "id": "42a17ab2",
   "metadata": {},
   "outputs": [
    {
     "data": {
      "text/plain": [
       "(8860,)"
      ]
     },
     "execution_count": 62,
     "metadata": {},
     "output_type": "execute_result"
    }
   ],
   "source": [
    "Y_test.shape"
   ]
  },
  {
   "cell_type": "code",
   "execution_count": 63,
   "id": "f62e644d",
   "metadata": {},
   "outputs": [
    {
     "data": {
      "text/plain": [
       "DecisionTreeRegressor(random_state=0)"
      ]
     },
     "execution_count": 63,
     "metadata": {},
     "output_type": "execute_result"
    }
   ],
   "source": [
    "# create a regressor object\n",
    "from sklearn.tree import DecisionTreeRegressor\n",
    "regressor = DecisionTreeRegressor(random_state = 0) \n",
    "regressor.fit(X_train, Y_train)"
   ]
  },
  {
   "cell_type": "code",
   "execution_count": 64,
   "id": "4488d5d8",
   "metadata": {},
   "outputs": [
    {
     "data": {
      "text/plain": [
       "array([166.46358149, 161.        , 156.        , ..., 166.36494957,\n",
       "       103.        , 135.        ])"
      ]
     },
     "execution_count": 64,
     "metadata": {},
     "output_type": "execute_result"
    }
   ],
   "source": [
    "pred = regressor.predict(X_test)\n",
    "pred"
   ]
  },
  {
   "cell_type": "code",
   "execution_count": 65,
   "id": "567329ce",
   "metadata": {},
   "outputs": [],
   "source": [
    "from sklearn.metrics import mean_squared_error,r2_score"
   ]
  },
  {
   "cell_type": "code",
   "execution_count": 66,
   "id": "7a02b8e9",
   "metadata": {},
   "outputs": [
    {
     "data": {
      "text/plain": [
       "663.9000518581221"
      ]
     },
     "execution_count": 66,
     "metadata": {},
     "output_type": "execute_result"
    }
   ],
   "source": [
    "mean_squared_error(Y_test,pred)"
   ]
  },
  {
   "cell_type": "code",
   "execution_count": 67,
   "id": "a2808857",
   "metadata": {},
   "outputs": [
    {
     "data": {
      "text/plain": [
       "0.7639813711253582"
      ]
     },
     "execution_count": 67,
     "metadata": {},
     "output_type": "execute_result"
    }
   ],
   "source": [
    "r2_score(Y_test, pred)"
   ]
  },
  {
   "cell_type": "code",
   "execution_count": 68,
   "id": "d7af9632",
   "metadata": {},
   "outputs": [
    {
     "data": {
      "text/plain": [
       "0.999733858453505"
      ]
     },
     "execution_count": 68,
     "metadata": {},
     "output_type": "execute_result"
    }
   ],
   "source": [
    "Y_train_pred = regressor.predict(X_train)\n",
    "r2_score(Y_train, Y_train_pred)"
   ]
  },
  {
   "cell_type": "code",
   "execution_count": 69,
   "id": "660483d8",
   "metadata": {},
   "outputs": [
    {
     "name": "stdout",
     "output_type": "stream",
     "text": [
      "MAE 14.592169298221286\n",
      "MSE 663.9000518581221\n",
      "RMSE 25.766258010392626\n"
     ]
    }
   ],
   "source": [
    "from sklearn import  metrics\n",
    "print('MAE',metrics.mean_absolute_error(Y_test,pred))\n",
    "print('MSE',metrics.mean_squared_error(Y_test,pred))\n",
    "print('RMSE',np.sqrt(metrics.mean_squared_error(Y_test,pred)))"
   ]
  },
  {
   "cell_type": "markdown",
   "id": "72023543",
   "metadata": {},
   "source": [
    "## Comparison between Actual and Predicted"
   ]
  },
  {
   "cell_type": "code",
   "execution_count": 70,
   "id": "1e0d745b",
   "metadata": {},
   "outputs": [
    {
     "data": {
      "text/html": [
       "<div>\n",
       "<style scoped>\n",
       "    .dataframe tbody tr th:only-of-type {\n",
       "        vertical-align: middle;\n",
       "    }\n",
       "\n",
       "    .dataframe tbody tr th {\n",
       "        vertical-align: top;\n",
       "    }\n",
       "\n",
       "    .dataframe thead th {\n",
       "        text-align: right;\n",
       "    }\n",
       "</style>\n",
       "<table border=\"1\" class=\"dataframe\">\n",
       "  <thead>\n",
       "    <tr style=\"text-align: right;\">\n",
       "      <th></th>\n",
       "      <th>Actual</th>\n",
       "      <th>Predicted</th>\n",
       "      <th>difference</th>\n",
       "    </tr>\n",
       "  </thead>\n",
       "  <tbody>\n",
       "    <tr>\n",
       "      <th>14621</th>\n",
       "      <td>166.0</td>\n",
       "      <td>166.0</td>\n",
       "      <td>0.0</td>\n",
       "    </tr>\n",
       "    <tr>\n",
       "      <th>15332</th>\n",
       "      <td>151.0</td>\n",
       "      <td>161.0</td>\n",
       "      <td>10.0</td>\n",
       "    </tr>\n",
       "    <tr>\n",
       "      <th>7329</th>\n",
       "      <td>118.0</td>\n",
       "      <td>156.0</td>\n",
       "      <td>38.0</td>\n",
       "    </tr>\n",
       "    <tr>\n",
       "      <th>10200</th>\n",
       "      <td>52.0</td>\n",
       "      <td>64.0</td>\n",
       "      <td>12.0</td>\n",
       "    </tr>\n",
       "    <tr>\n",
       "      <th>19838</th>\n",
       "      <td>52.0</td>\n",
       "      <td>56.0</td>\n",
       "      <td>4.0</td>\n",
       "    </tr>\n",
       "    <tr>\n",
       "      <th>3895</th>\n",
       "      <td>123.0</td>\n",
       "      <td>121.0</td>\n",
       "      <td>-2.0</td>\n",
       "    </tr>\n",
       "    <tr>\n",
       "      <th>29435</th>\n",
       "      <td>90.0</td>\n",
       "      <td>72.0</td>\n",
       "      <td>-18.0</td>\n",
       "    </tr>\n",
       "    <tr>\n",
       "      <th>22622</th>\n",
       "      <td>166.0</td>\n",
       "      <td>166.0</td>\n",
       "      <td>0.0</td>\n",
       "    </tr>\n",
       "    <tr>\n",
       "      <th>28369</th>\n",
       "      <td>166.0</td>\n",
       "      <td>166.0</td>\n",
       "      <td>0.0</td>\n",
       "    </tr>\n",
       "    <tr>\n",
       "      <th>20747</th>\n",
       "      <td>166.0</td>\n",
       "      <td>166.0</td>\n",
       "      <td>0.0</td>\n",
       "    </tr>\n",
       "  </tbody>\n",
       "</table>\n",
       "</div>"
      ],
      "text/plain": [
       "       Actual  Predicted  difference\n",
       "14621   166.0      166.0         0.0\n",
       "15332   151.0      161.0        10.0\n",
       "7329    118.0      156.0        38.0\n",
       "10200    52.0       64.0        12.0\n",
       "19838    52.0       56.0         4.0\n",
       "3895    123.0      121.0        -2.0\n",
       "29435    90.0       72.0       -18.0\n",
       "22622   166.0      166.0         0.0\n",
       "28369   166.0      166.0         0.0\n",
       "20747   166.0      166.0         0.0"
      ]
     },
     "execution_count": 70,
     "metadata": {},
     "output_type": "execute_result"
    }
   ],
   "source": [
    "\n",
    "df1= pd.DataFrame({'Actual': np.round(Y_test), \n",
    "                   'Predicted': np.round(pred),\n",
    "                 })\n",
    "df1['difference']=df1.apply(lambda x: x.Predicted-x.Actual,axis=1)\n",
    "df1.head(10)"
   ]
  },
  {
   "cell_type": "markdown",
   "id": "78866114",
   "metadata": {},
   "source": [
    "# Hyper Parameter tuning"
   ]
  },
  {
   "cell_type": "code",
   "execution_count": 71,
   "id": "ecac05b9",
   "metadata": {},
   "outputs": [],
   "source": [
    "# Hyper parameters range intialization for tuning \n",
    "\n",
    "parameters={'max_depth': [None, 1, 2, 3, 4,9,10,25,100], \n",
    "             'min_samples_split': [2, 3, 4, 5],\n",
    "             'min_samples_leaf': [1, 2, 3]}"
   ]
  },
  {
   "cell_type": "code",
   "execution_count": 72,
   "id": "16150139",
   "metadata": {},
   "outputs": [],
   "source": [
    "# calculating different regression metrics\n",
    "\n",
    "from sklearn.model_selection import GridSearchCV"
   ]
  },
  {
   "cell_type": "code",
   "execution_count": 73,
   "id": "4cc8dda3",
   "metadata": {},
   "outputs": [],
   "source": [
    "tuning_model=GridSearchCV(regressor,param_grid=parameters,scoring='neg_mean_squared_error',cv=3)"
   ]
  },
  {
   "cell_type": "code",
   "execution_count": 74,
   "id": "81687fff",
   "metadata": {},
   "outputs": [
    {
     "data": {
      "text/plain": [
       "GridSearchCV(cv=3, estimator=DecisionTreeRegressor(random_state=0),\n",
       "             param_grid={'max_depth': [None, 1, 2, 3, 4, 9, 10, 25, 100],\n",
       "                         'min_samples_leaf': [1, 2, 3],\n",
       "                         'min_samples_split': [2, 3, 4, 5]},\n",
       "             scoring='neg_mean_squared_error')"
      ]
     },
     "execution_count": 74,
     "metadata": {},
     "output_type": "execute_result"
    }
   ],
   "source": [
    "tuning_model.fit(X_train,Y_train)"
   ]
  },
  {
   "cell_type": "code",
   "execution_count": 75,
   "id": "5ae447ec",
   "metadata": {},
   "outputs": [
    {
     "data": {
      "text/plain": [
       "{'max_depth': 4, 'min_samples_leaf': 1, 'min_samples_split': 2}"
      ]
     },
     "execution_count": 75,
     "metadata": {},
     "output_type": "execute_result"
    }
   ],
   "source": [
    "# best hyperparameters \n",
    "tuning_model.best_params_"
   ]
  },
  {
   "cell_type": "code",
   "execution_count": 76,
   "id": "83a71353",
   "metadata": {},
   "outputs": [
    {
     "data": {
      "text/plain": [
       "-406.77483559094406"
      ]
     },
     "execution_count": 76,
     "metadata": {},
     "output_type": "execute_result"
    }
   ],
   "source": [
    "# best model score\n",
    "tuning_model.best_score_"
   ]
  },
  {
   "cell_type": "markdown",
   "id": "09a52d3b",
   "metadata": {},
   "source": [
    "# Training Decision Tree With Best Hyperparameter"
   ]
  },
  {
   "cell_type": "code",
   "execution_count": 77,
   "id": "26183e0c",
   "metadata": {},
   "outputs": [],
   "source": [
    "tuned_hyper_model= DecisionTreeRegressor(max_depth=4, min_samples_leaf=1, min_samples_split=2)"
   ]
  },
  {
   "cell_type": "code",
   "execution_count": 78,
   "id": "ee9c5b46",
   "metadata": {},
   "outputs": [
    {
     "data": {
      "text/plain": [
       "DecisionTreeRegressor(max_depth=4)"
      ]
     },
     "execution_count": 78,
     "metadata": {},
     "output_type": "execute_result"
    }
   ],
   "source": [
    "# fitting model\n",
    "\n",
    "\n",
    "tuned_hyper_model.fit(X_train,Y_train)"
   ]
  },
  {
   "cell_type": "code",
   "execution_count": 79,
   "id": "fd3ba09d",
   "metadata": {},
   "outputs": [],
   "source": [
    "# prediction \n",
    "\n",
    "tuned_pred=tuned_hyper_model.predict(X_test)"
   ]
  },
  {
   "cell_type": "code",
   "execution_count": 80,
   "id": "e92f8edd",
   "metadata": {},
   "outputs": [
    {
     "name": "stdout",
     "output_type": "stream",
     "text": [
      "MAE: 13.594616946115673\n",
      "MSE: 407.5019595675132\n",
      "RMSE: 20.186677774401442\n"
     ]
    }
   ],
   "source": [
    "# with hyperparameter tuning \n",
    "print('MAE:', metrics.mean_absolute_error(Y_test,tuned_pred))\n",
    "print('MSE:', metrics.mean_squared_error(Y_test, tuned_pred))\n",
    "print('RMSE:', np.sqrt(metrics.mean_squared_error(Y_test, tuned_pred)))"
   ]
  },
  {
   "cell_type": "code",
   "execution_count": 81,
   "id": "ad585082",
   "metadata": {},
   "outputs": [
    {
     "name": "stdout",
     "output_type": "stream",
     "text": [
      "MAE 14.592169298221286\n",
      "MSE 663.9000518581221\n",
      "RMSE 25.766258010392626\n"
     ]
    }
   ],
   "source": [
    "# without Hyper parameter tuning\n",
    "print('MAE',metrics.mean_absolute_error(Y_test,pred))\n",
    "print('MSE',metrics.mean_squared_error(Y_test,pred))\n",
    "print('RMSE',np.sqrt(metrics.mean_squared_error(Y_test,pred)))"
   ]
  },
  {
   "cell_type": "code",
   "execution_count": 82,
   "id": "6bd2de6a",
   "metadata": {},
   "outputs": [
    {
     "data": {
      "text/plain": [
       "0.7639813711253582"
      ]
     },
     "execution_count": 82,
     "metadata": {},
     "output_type": "execute_result"
    }
   ],
   "source": [
    "r2_score(Y_test, pred)"
   ]
  },
  {
   "cell_type": "code",
   "execution_count": 83,
   "id": "9340bbcd",
   "metadata": {},
   "outputs": [
    {
     "data": {
      "text/plain": [
       "0.8551317272958915"
      ]
     },
     "execution_count": 83,
     "metadata": {},
     "output_type": "execute_result"
    }
   ],
   "source": [
    "r2_score(Y_test, tuned_pred)"
   ]
  },
  {
   "cell_type": "markdown",
   "id": "2d44ad89",
   "metadata": {},
   "source": [
    "# ID3 algorithm from scratch"
   ]
  },
  {
   "cell_type": "code",
   "execution_count": 84,
   "id": "833457ec",
   "metadata": {},
   "outputs": [],
   "source": [
    "import math \n",
    "import operator\n",
    "\n",
    "\n",
    "eps = np.finfo(float).eps\n",
    "\n",
    "def rmse_score(y_true, y_pred):\n",
    "\n",
    "    \"\"\" rmse score = sqrt((sum[i=0 to n](y_true - y_pred)) / len(y_true)) \"\"\"\n",
    "\n",
    "    return np.sqrt((np.subtract(y_pred, y_true) ** 2).sum()/len(y_true))\n",
    "\n",
    "def train_test_split(x, y, test_size = 0.25, random_state = None):\n",
    "\n",
    "    \"\"\" partioning the data into train and test sets \"\"\"\n",
    "\n",
    "    x_test = x.sample(frac = test_size, random_state = random_state)\n",
    "    y_test = y[x_test.index]\n",
    "\n",
    "    x_train = x.drop(x_test.index)\n",
    "    y_train = y.drop(y_test.index)\n",
    "\n",
    "    return x_train, x_test, y_train, y_test\n",
    "\n",
    "\n",
    "\n",
    "\n",
    "class ID3DecisionTreeRegressor: #class is used to create user-defined structure\n",
    "\n",
    "    def __init__(self, max_depth = None, min_sample_leaf = 3):\n",
    "\n",
    "        self.depth = 0 #Depth of the tree\n",
    "        self.max_depth = max_depth\t#Maximum depth of the tree\n",
    "        self.min_sample_leaf = min_sample_leaf\t#Minimum number of samples for each node\n",
    "        self.coefficient_of_variation = 10 \t#Stopping Criterion\n",
    "\n",
    "        self.features = list\n",
    "        self.X_train = np.array\n",
    "        self.y_train = np.array\n",
    "        self.num_feats = int \n",
    "        self.train_size = int \n",
    "\n",
    "    def fit(self, X, y):\n",
    "\n",
    "        self.X_train = X \n",
    "        self.y_train = y\n",
    "        self.features = list(X.columns)\n",
    "        self.train_size = X.shape[0]\n",
    "        self.num_feats = X.shape[1]\n",
    "\n",
    "        df = X.copy()\n",
    "        df['target'] = y.copy()\n",
    "\n",
    "        #Builds Decision Tree\n",
    "        self.tree = self._build_tree(df)\n",
    "\n",
    "        print(\"\\nDecision Tree(depth = {}) : \\n {}\".format(self.depth, self.tree))\n",
    "\n",
    "    def _build_tree(self, df, tree = None):\n",
    "\n",
    "        \"\"\"\n",
    "            Args:\n",
    "                df: current number of rows available for splitting(decision making)\n",
    "        \"\"\"\n",
    "\n",
    "        #Get feature with minimum score\n",
    "        feature, cutoff = self._find_best_split(df)\n",
    "\n",
    "        if cutoff is None:\n",
    "            return tree\n",
    "\n",
    "        #Initialization of tree\n",
    "        if tree is None:\n",
    "            tree = {}\n",
    "            tree[feature] = {}\n",
    "\n",
    "        #Left Child\n",
    "        new_df = self._split_rows(df, feature, cutoff, operator.le)\n",
    "\n",
    "        target_coef_of_var = self._coef_ov(new_df['target'])\n",
    "\n",
    "        self.depth += 1\n",
    "\n",
    "        if(target_coef_of_var < self.coefficient_of_variation or len(new_df) <= self.min_sample_leaf): #pure group\n",
    "            tree[feature]['<=' + str(cutoff)] = new_df['target'].mean()\n",
    "        else:\n",
    "            if self.max_depth is not None and self.depth >= self.max_depth:\n",
    "                tree[feature]['<=' + str(cutoff)] = new_df['target'].mean()\n",
    "            else:\n",
    "                tree[feature]['<=' + str(cutoff)] = self._build_tree(new_df)\n",
    "\n",
    "\n",
    "        #Right Child\n",
    "        new_df = self._split_rows(df, feature, cutoff, operator.gt)\n",
    "\n",
    "        target_coef_of_var = self._coef_ov(new_df['target'])\n",
    "\n",
    "        if(target_coef_of_var < self.coefficient_of_variation or len(new_df) <= self.min_sample_leaf): #pure group\n",
    "            tree[feature]['>' + str(cutoff)] = new_df['target'].mean()\n",
    "        else:\n",
    "            if self.max_depth is not None and self.depth >= self.max_depth:\n",
    "                tree[feature]['>' + str(cutoff)] = new_df['target'].mean()\n",
    "            else:\n",
    "                tree[feature]['>' + str(cutoff)] = self._build_tree(new_df)\n",
    "\n",
    "        return tree\n",
    "\n",
    "    def _coef_ov(self, y):\n",
    "\n",
    "        \"\"\" calculates coefficient of variation:\n",
    "            COV = (Mean of y / Standard Deviation of y) * 100\n",
    "        \"\"\"\n",
    "        if(y.std() == 0):\n",
    "            return 0\n",
    "        coef_of_var = (y.mean()/y.std()) * 100\n",
    "\n",
    "        return coef_of_var\n",
    "\n",
    "    def _split_rows(self, df, feature, feat_val, operation ):\n",
    "\n",
    "        \"\"\" split rows based on given criterion \"\"\"\n",
    "\n",
    "        return df[operation(df[feature], feat_val)].reset_index(drop = True)\n",
    "\n",
    "    def _find_best_split(self, df):\n",
    "\n",
    "        \"\"\"\n",
    "            Finds the column to split on first.\n",
    "        \"\"\"\n",
    "\n",
    "        best_feature = str\n",
    "        cutoff = None\n",
    "        best_score = float('inf')\n",
    "\n",
    "\n",
    "        for feature in list(df.columns[:-1]):\n",
    "\n",
    "            score, threshold = self._find_feature_split(feature, df)\n",
    "\n",
    "            if score < best_score:\n",
    "                best_feature = feature\n",
    "                best_score = score\n",
    "                cutoff = threshold\n",
    "        \n",
    "        return best_feature, cutoff \n",
    "\n",
    "    def _find_feature_split(self, feature, df):\n",
    "\n",
    "        best_score = float('inf')\n",
    "        cutoff = float\n",
    "\n",
    "        for val in df[feature]:\n",
    "            left_child = df[feature][df[feature] <= val] \n",
    "            right_child = df[feature][df[feature] > val]\n",
    "\n",
    "            if(len(left_child) > 0 and len(right_child) > 0):\n",
    "                score = self._find_score(df, left_child, right_child)\n",
    "\n",
    "                if score < best_score:\n",
    "                    best_score = score\n",
    "                    cutoff = val\n",
    "\n",
    "        return best_score, cutoff\n",
    "\n",
    "\n",
    "    def _find_score(self, df, lhs, rhs):\n",
    "\n",
    "        y = df['target']\n",
    "\n",
    "        lhs_std = y.iloc[lhs.index].std()\n",
    "        rhs_std = y.iloc[rhs.index].std()\n",
    "\n",
    "        if(np.isnan(lhs_std)):\n",
    "            lhs_std = 0\n",
    "        if(np.isnan(rhs_std)):\n",
    "            rhs_std = 0\n",
    "\n",
    "        return lhs_std * lhs.sum() + rhs_std * rhs.sum()\n",
    "\n",
    "    def _predict_target(self, feature_lookup, x, tree):\n",
    "\n",
    "        for node in tree.keys():\n",
    "            val = x[node]\n",
    "            if type(val) == str:\n",
    "                tree = tree[node][val]\n",
    "            else:\n",
    "                cutoff = str(list(tree[node].keys())[0]).split('<=')[1]\n",
    "\n",
    "                if(val <= float(cutoff)):   #Left Child\n",
    "                    tree = tree[node]['<='+cutoff]\n",
    "                else:                       #Right Child\n",
    "                    tree = tree[node]['>'+cutoff]\n",
    "\n",
    "            prediction = str\n",
    "\n",
    "            if type(tree) is dict:\n",
    "                prediction = self._predict_target(feature_lookup, x, tree)\n",
    "            else:\n",
    "                predicton = tree \n",
    "                return predicton\n",
    "\n",
    "        return prediction   \n",
    "\n",
    "\n",
    "    def predict(self, X):\n",
    "\n",
    "        results= []\n",
    "        feature_lookup = {key: i for i, key in enumerate(list(X.columns))}\n",
    "\n",
    "        for index in range(len(X)):\n",
    "\n",
    "            results.append(self._predict_target(feature_lookup, X.iloc[index], self.tree))\n",
    "\n",
    "        return np.array(results)\n",
    "    "
   ]
  },
  {
   "cell_type": "code",
   "execution_count": 85,
   "id": "a741cf8b",
   "metadata": {},
   "outputs": [
    {
     "name": "stdout",
     "output_type": "stream",
     "text": [
      "\n",
      "Decision Tree(depth = 3) : \n",
      " {'City_Aizawl': {'<=0': {'City_Amaravati': {'<=0': {'City_Amritsar': {'<=0': 0.053659252734346324, '>0': 0.0}}, '>0': 0.0}}, '>0': 0.0}}\n"
     ]
    }
   ],
   "source": [
    "if __name__ == '__main__':\n",
    "\n",
    "\n",
    "    #Split Features and target\n",
    "    X, y = city_day.drop([city_day.columns[0], city_day.columns[-1]], axis = 1), city_day[city_day.columns[-1]]\n",
    "\n",
    "    #Split data into Training and Testing Sets\n",
    "    X_train, X_test, y_train, y_test = train_test_split(X, y, test_size = 0.25, random_state = 0)\n",
    "\n",
    "    dt_reg = ID3DecisionTreeRegressor(max_depth=3)\n",
    "    dt_reg.fit(X, y)\n",
    "    \n",
    "    #print(\"\\nTrain RMSE : {}\".format(rmse_score(y_train, dt_reg.predict(X_train))))\n",
    "    #print(\"\\nTest RMSE: {}\".format(rmse_score(y_test, dt_reg.predict(X_test))))"
   ]
  },
  {
   "cell_type": "code",
   "execution_count": 87,
   "id": "aeacb073",
   "metadata": {},
   "outputs": [
    {
     "name": "stdout",
     "output_type": "stream",
     "text": [
      "\n",
      "Test RMSE: 0.21660929436040735\n"
     ]
    }
   ],
   "source": [
    "print(\"\\nTest RMSE: {}\".format(rmse_score(y_test, dt_reg.predict(X_test))))"
   ]
  },
  {
   "cell_type": "code",
   "execution_count": 88,
   "id": "ab81cbc1",
   "metadata": {},
   "outputs": [
    {
     "name": "stdout",
     "output_type": "stream",
     "text": [
      "\n",
      "Train RMSE : 0.21639739818043002\n"
     ]
    }
   ],
   "source": [
    "print(\"\\nTrain RMSE : {}\".format(rmse_score(y_train, dt_reg.predict(X_train))))"
   ]
  },
  {
   "cell_type": "code",
   "execution_count": null,
   "id": "a065bb29",
   "metadata": {},
   "outputs": [],
   "source": []
  }
 ],
 "metadata": {
  "kernelspec": {
   "display_name": "Python 3 (ipykernel)",
   "language": "python",
   "name": "python3"
  },
  "language_info": {
   "codemirror_mode": {
    "name": "ipython",
    "version": 3
   },
   "file_extension": ".py",
   "mimetype": "text/x-python",
   "name": "python",
   "nbconvert_exporter": "python",
   "pygments_lexer": "ipython3",
   "version": "3.9.13"
  }
 },
 "nbformat": 4,
 "nbformat_minor": 5
}
